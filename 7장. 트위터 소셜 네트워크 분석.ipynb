{
 "cells": [
  {
   "cell_type": "code",
   "execution_count": 1,
   "metadata": {},
   "outputs": [
    {
     "name": "stdout",
     "output_type": "stream",
     "text": [
      "Requirement already satisfied: tweepy in c:\\users\\hp\\anaconda3\\lib\\site-packages (3.8.0)\n",
      "Requirement already satisfied: requests>=2.11.1 in c:\\users\\hp\\anaconda3\\lib\\site-packages (from tweepy) (2.21.0)\n",
      "Requirement already satisfied: six>=1.10.0 in c:\\users\\hp\\anaconda3\\lib\\site-packages (from tweepy) (1.12.0)\n",
      "Requirement already satisfied: requests-oauthlib>=0.7.0 in c:\\users\\hp\\anaconda3\\lib\\site-packages (from tweepy) (1.3.0)\n",
      "Requirement already satisfied: PySocks>=1.5.7 in c:\\users\\hp\\anaconda3\\lib\\site-packages (from tweepy) (1.6.8)\n",
      "Requirement already satisfied: chardet<3.1.0,>=3.0.2 in c:\\users\\hp\\anaconda3\\lib\\site-packages (from requests>=2.11.1->tweepy) (3.0.4)\n",
      "Requirement already satisfied: certifi>=2017.4.17 in c:\\users\\hp\\anaconda3\\lib\\site-packages (from requests>=2.11.1->tweepy) (2019.3.9)\n",
      "Requirement already satisfied: idna<2.9,>=2.5 in c:\\users\\hp\\anaconda3\\lib\\site-packages (from requests>=2.11.1->tweepy) (2.8)\n",
      "Requirement already satisfied: urllib3<1.25,>=1.21.1 in c:\\users\\hp\\anaconda3\\lib\\site-packages (from requests>=2.11.1->tweepy) (1.24.1)\n",
      "Requirement already satisfied: oauthlib>=3.0.0 in c:\\users\\hp\\anaconda3\\lib\\site-packages (from requests-oauthlib>=0.7.0->tweepy) (3.1.0)\n",
      "Note: you may need to restart the kernel to use updated packages.\n"
     ]
    }
   ],
   "source": [
    "pip install tweepy"
   ]
  },
  {
   "cell_type": "code",
   "execution_count": 1,
   "metadata": {},
   "outputs": [],
   "source": [
    "import tweepy\n",
    "from collections import Counter\n",
    "from konlpy.tag import Twitter\n",
    "from konlpy.tag import Kkma\n",
    "import matplotlib.pyplot as plt\n",
    "import re\n",
    "from matplotlib import font_manager, rc #한글 깨짐 현상"
   ]
  },
  {
   "cell_type": "code",
   "execution_count": 2,
   "metadata": {},
   "outputs": [
    {
     "name": "stdout",
     "output_type": "stream",
     "text": [
      "showing info https://raw.githubusercontent.com/nltk/nltk_data/gh-pages/index.xml\n"
     ]
    }
   ],
   "source": [
    "import nltk\n",
    "nltk.download()\n",
    "from nltk.corpus import stopwords"
   ]
  },
  {
   "cell_type": "code",
   "execution_count": 3,
   "metadata": {},
   "outputs": [],
   "source": [
    "api_key = \"ylylXf2ehm9dz3b3m9oIzrE4q\"\n",
    "api_secret = \"9YSr1xGBhaVj99XUcHkHZ47xnqi4n5tIMkhCIUQom32urHbQAH\""
   ]
  },
  {
   "cell_type": "code",
   "execution_count": 4,
   "metadata": {},
   "outputs": [],
   "source": [
    "auth = tweepy.OAuthHandler(api_key, api_secret)\n",
    "\n",
    "access_token = \"1171579869047607296-JT7dgVK9ORIzkPA5Mx0uPy87AC1106\"\n",
    "access_token_secret = \"RFT9IzxyBZrO2ghj1VE2AhP8NOLUGMjnVIm6Opim0UvWk\""
   ]
  },
  {
   "cell_type": "code",
   "execution_count": 5,
   "metadata": {},
   "outputs": [],
   "source": [
    "auth.set_access_token(access_token, access_token_secret)"
   ]
  },
  {
   "cell_type": "code",
   "execution_count": 6,
   "metadata": {},
   "outputs": [],
   "source": [
    "api = tweepy.API(auth)"
   ]
  },
  {
   "cell_type": "markdown",
   "metadata": {},
   "source": [
    "# 예제 7.7"
   ]
  },
  {
   "cell_type": "code",
   "execution_count": 128,
   "metadata": {},
   "outputs": [],
   "source": [
    "keyword = \"Mers\";     # 자신이 검색하고 싶은 키워드 입력 \n",
    "search = [] # 크롤링 결과 저장할 변수   "
   ]
  },
  {
   "cell_type": "code",
   "execution_count": 129,
   "metadata": {},
   "outputs": [],
   "source": [
    "cnt = 1\n",
    "while(cnt <= 10):   # 10page 대상으로 크롤링\n",
    "    tweets = api.search(keyword)\n",
    "    for tweet in tweets:\n",
    "        search.append(tweet)\n",
    "    cnt += 1"
   ]
  },
  {
   "cell_type": "code",
   "execution_count": 130,
   "metadata": {},
   "outputs": [
    {
     "name": "stdout",
     "output_type": "stream",
     "text": [
      "150\n"
     ]
    }
   ],
   "source": [
    "print(len(search)) # 문서 길이 "
   ]
  },
  {
   "cell_type": "code",
   "execution_count": 131,
   "metadata": {},
   "outputs": [
    {
     "name": "stdout",
     "output_type": "stream",
     "text": [
      "0  :  {'text': 'RT @JacobCanfield: Will This Be A Severe Pandemic?\\n\\nSeverity is based on having both a HIGH mortality rate and a HIGH R0\\n\\nSARS and MERS had…'}\n",
      "1  :  {'text': 'RT @nog_ak: データでみる限りMERSと新型は結構違うようなので、ドラマで描いた死亡症例が新型においても同様に発生しうるかどうかはわかりません。今回のコロナウィルス流行を機にアンナチュラルを視聴する方はご留意ください。'}\n",
      "2  :  {'text': 'RT @BBCLBicker: Dr Kim Yeonjae: “In the past, with our experience with MERS, we would find the patient then quarantine the patient and loca…'}\n",
      "3  :  {'text': 'The mutation could not be found in Sars, Mers or Bat-CoVRaTG13, @SCMPNews #CoronaVirus #COVID19… https://t.co/m5QkjgAc5O'}\n",
      "4  :  {'text': 'Just look at the names Ebola and MERS (Middle-East Respiratory Syndrome). It has left real and tangible damage to t… https://t.co/yXFNcTkGeW'}\n",
      "5  :  {'text': 'guys ye ladki h schi me true suported... mers pass videos fif rakhne ki jageh ni h phn me.. pr sine haters k mooh p… https://t.co/VMWflgDLXL'}\n",
      "6  :  {'text': \"@zerowondering People out here being babies. I was in South Korea during MERS, and I didn't get sick even though pe… https://t.co/ht5ORcnx2n\"}\n",
      "7  :  {'text': 'RT @hayesluk: Probably not in a very suitable timing but we found some serological evidence for other camels in Dubai possibly being #MERS…'}\n",
      "8  :  {'text': 'RT @nazzizah: 8. Kenapa sih harus santuy? Pertama, angka kematian #COVID19  itu cuma 2 persen. Lebih banyak org meninggal karena TBC, DBD,…'}\n",
      "9  :  {'text': '@MattMorgan1995 @Stefan_2251 @savZK @Inspektical @KEEMSTAR Google\\n\\nhttps://t.co/TqrRmNJ6KN'}\n",
      "10  :  {'text': 'RT @drauziovarella: 3# O vírus é uma novidade? \\n\\nNão. Conhecemos os coronavírus desde os anos 60. Diferentes mutações foram responsáveis pe…'}\n",
      "11  :  {'text': 'RT @Vilavaite: Building a database of #COVID19 cases with chest X-ray or CT images\\n\\nContribute your cases of\\n#COVID_19\\nMERS\\nSARS\\nARDS\\nto de…'}\n",
      "12  :  {'text': 'RT @healthmap: Did you know? The common cold, SARS, MERS and COVID-19 are all types of coronaviruses, which get their name from the crown-l…'}\n",
      "13  :  {'text': 'RT @megxnrhianna: What Coronavirus said to Norovirus, Bird Flu, Swine Flu, SARS and MERS at the start of 2020'}\n",
      "14  :  {'text': 'RT @Athenaa_RM: All of above are important factors and why we need to prepare for pandemic spike 📈\\n\\n But in general , Covid19 has better pr…'}\n",
      "15  :  {'text': 'RT @JacobCanfield: Will This Be A Severe Pandemic?\\n\\nSeverity is based on having both a HIGH mortality rate and a HIGH R0\\n\\nSARS and MERS had…'}\n",
      "16  :  {'text': 'RT @nog_ak: データでみる限りMERSと新型は結構違うようなので、ドラマで描いた死亡症例が新型においても同様に発生しうるかどうかはわかりません。今回のコロナウィルス流行を機にアンナチュラルを視聴する方はご留意ください。'}\n",
      "17  :  {'text': 'RT @BBCLBicker: Dr Kim Yeonjae: “In the past, with our experience with MERS, we would find the patient then quarantine the patient and loca…'}\n",
      "18  :  {'text': 'The mutation could not be found in Sars, Mers or Bat-CoVRaTG13, @SCMPNews #CoronaVirus #COVID19… https://t.co/m5QkjgAc5O'}\n",
      "19  :  {'text': 'Just look at the names Ebola and MERS (Middle-East Respiratory Syndrome). It has left real and tangible damage to t… https://t.co/yXFNcTkGeW'}\n",
      "20  :  {'text': 'guys ye ladki h schi me true suported... mers pass videos fif rakhne ki jageh ni h phn me.. pr sine haters k mooh p… https://t.co/VMWflgDLXL'}\n",
      "21  :  {'text': \"@zerowondering People out here being babies. I was in South Korea during MERS, and I didn't get sick even though pe… https://t.co/ht5ORcnx2n\"}\n",
      "22  :  {'text': 'RT @hayesluk: Probably not in a very suitable timing but we found some serological evidence for other camels in Dubai possibly being #MERS…'}\n",
      "23  :  {'text': 'RT @nazzizah: 8. Kenapa sih harus santuy? Pertama, angka kematian #COVID19  itu cuma 2 persen. Lebih banyak org meninggal karena TBC, DBD,…'}\n",
      "24  :  {'text': '@MattMorgan1995 @Stefan_2251 @savZK @Inspektical @KEEMSTAR Google\\n\\nhttps://t.co/TqrRmNJ6KN'}\n",
      "25  :  {'text': 'RT @drauziovarella: 3# O vírus é uma novidade? \\n\\nNão. Conhecemos os coronavírus desde os anos 60. Diferentes mutações foram responsáveis pe…'}\n",
      "26  :  {'text': 'RT @Vilavaite: Building a database of #COVID19 cases with chest X-ray or CT images\\n\\nContribute your cases of\\n#COVID_19\\nMERS\\nSARS\\nARDS\\nto de…'}\n",
      "27  :  {'text': 'RT @healthmap: Did you know? The common cold, SARS, MERS and COVID-19 are all types of coronaviruses, which get their name from the crown-l…'}\n",
      "28  :  {'text': 'RT @megxnrhianna: What Coronavirus said to Norovirus, Bird Flu, Swine Flu, SARS and MERS at the start of 2020'}\n",
      "29  :  {'text': 'RT @Athenaa_RM: All of above are important factors and why we need to prepare for pandemic spike 📈\\n\\n But in general , Covid19 has better pr…'}\n",
      "30  :  {'text': 'RT @JacobCanfield: Will This Be A Severe Pandemic?\\n\\nSeverity is based on having both a HIGH mortality rate and a HIGH R0\\n\\nSARS and MERS had…'}\n",
      "31  :  {'text': 'RT @nog_ak: データでみる限りMERSと新型は結構違うようなので、ドラマで描いた死亡症例が新型においても同様に発生しうるかどうかはわかりません。今回のコロナウィルス流行を機にアンナチュラルを視聴する方はご留意ください。'}\n",
      "32  :  {'text': 'RT @BBCLBicker: Dr Kim Yeonjae: “In the past, with our experience with MERS, we would find the patient then quarantine the patient and loca…'}\n",
      "33  :  {'text': 'The mutation could not be found in Sars, Mers or Bat-CoVRaTG13, @SCMPNews #CoronaVirus #COVID19… https://t.co/m5QkjgAc5O'}\n",
      "34  :  {'text': 'Just look at the names Ebola and MERS (Middle-East Respiratory Syndrome). It has left real and tangible damage to t… https://t.co/yXFNcTkGeW'}\n",
      "35  :  {'text': 'guys ye ladki h schi me true suported... mers pass videos fif rakhne ki jageh ni h phn me.. pr sine haters k mooh p… https://t.co/VMWflgDLXL'}\n",
      "36  :  {'text': \"@zerowondering People out here being babies. I was in South Korea during MERS, and I didn't get sick even though pe… https://t.co/ht5ORcnx2n\"}\n",
      "37  :  {'text': 'RT @hayesluk: Probably not in a very suitable timing but we found some serological evidence for other camels in Dubai possibly being #MERS…'}\n",
      "38  :  {'text': 'RT @nazzizah: 8. Kenapa sih harus santuy? Pertama, angka kematian #COVID19  itu cuma 2 persen. Lebih banyak org meninggal karena TBC, DBD,…'}\n",
      "39  :  {'text': '@MattMorgan1995 @Stefan_2251 @savZK @Inspektical @KEEMSTAR Google\\n\\nhttps://t.co/TqrRmNJ6KN'}\n",
      "40  :  {'text': 'RT @drauziovarella: 3# O vírus é uma novidade? \\n\\nNão. Conhecemos os coronavírus desde os anos 60. Diferentes mutações foram responsáveis pe…'}\n",
      "41  :  {'text': 'RT @Vilavaite: Building a database of #COVID19 cases with chest X-ray or CT images\\n\\nContribute your cases of\\n#COVID_19\\nMERS\\nSARS\\nARDS\\nto de…'}\n",
      "42  :  {'text': 'RT @healthmap: Did you know? The common cold, SARS, MERS and COVID-19 are all types of coronaviruses, which get their name from the crown-l…'}\n",
      "43  :  {'text': 'RT @megxnrhianna: What Coronavirus said to Norovirus, Bird Flu, Swine Flu, SARS and MERS at the start of 2020'}\n",
      "44  :  {'text': 'RT @Athenaa_RM: All of above are important factors and why we need to prepare for pandemic spike 📈\\n\\n But in general , Covid19 has better pr…'}\n",
      "45  :  {'text': 'RT @JacobCanfield: Will This Be A Severe Pandemic?\\n\\nSeverity is based on having both a HIGH mortality rate and a HIGH R0\\n\\nSARS and MERS had…'}\n",
      "46  :  {'text': 'RT @nog_ak: データでみる限りMERSと新型は結構違うようなので、ドラマで描いた死亡症例が新型においても同様に発生しうるかどうかはわかりません。今回のコロナウィルス流行を機にアンナチュラルを視聴する方はご留意ください。'}\n",
      "47  :  {'text': 'RT @BBCLBicker: Dr Kim Yeonjae: “In the past, with our experience with MERS, we would find the patient then quarantine the patient and loca…'}\n",
      "48  :  {'text': 'The mutation could not be found in Sars, Mers or Bat-CoVRaTG13, @SCMPNews #CoronaVirus #COVID19… https://t.co/m5QkjgAc5O'}\n",
      "49  :  {'text': 'Just look at the names Ebola and MERS (Middle-East Respiratory Syndrome). It has left real and tangible damage to t… https://t.co/yXFNcTkGeW'}\n",
      "50  :  {'text': 'guys ye ladki h schi me true suported... mers pass videos fif rakhne ki jageh ni h phn me.. pr sine haters k mooh p… https://t.co/VMWflgDLXL'}\n",
      "51  :  {'text': \"@zerowondering People out here being babies. I was in South Korea during MERS, and I didn't get sick even though pe… https://t.co/ht5ORcnx2n\"}\n",
      "52  :  {'text': 'RT @hayesluk: Probably not in a very suitable timing but we found some serological evidence for other camels in Dubai possibly being #MERS…'}\n",
      "53  :  {'text': 'RT @nazzizah: 8. Kenapa sih harus santuy? Pertama, angka kematian #COVID19  itu cuma 2 persen. Lebih banyak org meninggal karena TBC, DBD,…'}\n",
      "54  :  {'text': '@MattMorgan1995 @Stefan_2251 @savZK @Inspektical @KEEMSTAR Google\\n\\nhttps://t.co/TqrRmNJ6KN'}\n",
      "55  :  {'text': 'RT @drauziovarella: 3# O vírus é uma novidade? \\n\\nNão. Conhecemos os coronavírus desde os anos 60. Diferentes mutações foram responsáveis pe…'}\n",
      "56  :  {'text': 'RT @Vilavaite: Building a database of #COVID19 cases with chest X-ray or CT images\\n\\nContribute your cases of\\n#COVID_19\\nMERS\\nSARS\\nARDS\\nto de…'}\n",
      "57  :  {'text': 'RT @healthmap: Did you know? The common cold, SARS, MERS and COVID-19 are all types of coronaviruses, which get their name from the crown-l…'}\n",
      "58  :  {'text': 'RT @megxnrhianna: What Coronavirus said to Norovirus, Bird Flu, Swine Flu, SARS and MERS at the start of 2020'}\n",
      "59  :  {'text': 'RT @Athenaa_RM: All of above are important factors and why we need to prepare for pandemic spike 📈\\n\\n But in general , Covid19 has better pr…'}\n",
      "60  :  {'text': 'RT @JacobCanfield: Will This Be A Severe Pandemic?\\n\\nSeverity is based on having both a HIGH mortality rate and a HIGH R0\\n\\nSARS and MERS had…'}\n",
      "61  :  {'text': 'RT @nog_ak: データでみる限りMERSと新型は結構違うようなので、ドラマで描いた死亡症例が新型においても同様に発生しうるかどうかはわかりません。今回のコロナウィルス流行を機にアンナチュラルを視聴する方はご留意ください。'}\n",
      "62  :  {'text': 'RT @BBCLBicker: Dr Kim Yeonjae: “In the past, with our experience with MERS, we would find the patient then quarantine the patient and loca…'}\n",
      "63  :  {'text': 'The mutation could not be found in Sars, Mers or Bat-CoVRaTG13, @SCMPNews #CoronaVirus #COVID19… https://t.co/m5QkjgAc5O'}\n",
      "64  :  {'text': 'Just look at the names Ebola and MERS (Middle-East Respiratory Syndrome). It has left real and tangible damage to t… https://t.co/yXFNcTkGeW'}\n",
      "65  :  {'text': 'guys ye ladki h schi me true suported... mers pass videos fif rakhne ki jageh ni h phn me.. pr sine haters k mooh p… https://t.co/VMWflgDLXL'}\n",
      "66  :  {'text': \"@zerowondering People out here being babies. I was in South Korea during MERS, and I didn't get sick even though pe… https://t.co/ht5ORcnx2n\"}\n",
      "67  :  {'text': 'RT @hayesluk: Probably not in a very suitable timing but we found some serological evidence for other camels in Dubai possibly being #MERS…'}\n",
      "68  :  {'text': 'RT @nazzizah: 8. Kenapa sih harus santuy? Pertama, angka kematian #COVID19  itu cuma 2 persen. Lebih banyak org meninggal karena TBC, DBD,…'}\n",
      "69  :  {'text': '@MattMorgan1995 @Stefan_2251 @savZK @Inspektical @KEEMSTAR Google\\n\\nhttps://t.co/TqrRmNJ6KN'}\n",
      "70  :  {'text': 'RT @drauziovarella: 3# O vírus é uma novidade? \\n\\nNão. Conhecemos os coronavírus desde os anos 60. Diferentes mutações foram responsáveis pe…'}\n",
      "71  :  {'text': 'RT @Vilavaite: Building a database of #COVID19 cases with chest X-ray or CT images\\n\\nContribute your cases of\\n#COVID_19\\nMERS\\nSARS\\nARDS\\nto de…'}\n",
      "72  :  {'text': 'RT @healthmap: Did you know? The common cold, SARS, MERS and COVID-19 are all types of coronaviruses, which get their name from the crown-l…'}\n",
      "73  :  {'text': 'RT @megxnrhianna: What Coronavirus said to Norovirus, Bird Flu, Swine Flu, SARS and MERS at the start of 2020'}\n",
      "74  :  {'text': 'RT @Athenaa_RM: All of above are important factors and why we need to prepare for pandemic spike 📈\\n\\n But in general , Covid19 has better pr…'}\n",
      "75  :  {'text': 'RT @JacobCanfield: Will This Be A Severe Pandemic?\\n\\nSeverity is based on having both a HIGH mortality rate and a HIGH R0\\n\\nSARS and MERS had…'}\n",
      "76  :  {'text': 'RT @nog_ak: データでみる限りMERSと新型は結構違うようなので、ドラマで描いた死亡症例が新型においても同様に発生しうるかどうかはわかりません。今回のコロナウィルス流行を機にアンナチュラルを視聴する方はご留意ください。'}\n",
      "77  :  {'text': 'RT @BBCLBicker: Dr Kim Yeonjae: “In the past, with our experience with MERS, we would find the patient then quarantine the patient and loca…'}\n",
      "78  :  {'text': 'The mutation could not be found in Sars, Mers or Bat-CoVRaTG13, @SCMPNews #CoronaVirus #COVID19… https://t.co/m5QkjgAc5O'}\n",
      "79  :  {'text': 'Just look at the names Ebola and MERS (Middle-East Respiratory Syndrome). It has left real and tangible damage to t… https://t.co/yXFNcTkGeW'}\n",
      "80  :  {'text': 'guys ye ladki h schi me true suported... mers pass videos fif rakhne ki jageh ni h phn me.. pr sine haters k mooh p… https://t.co/VMWflgDLXL'}\n",
      "81  :  {'text': \"@zerowondering People out here being babies. I was in South Korea during MERS, and I didn't get sick even though pe… https://t.co/ht5ORcnx2n\"}\n",
      "82  :  {'text': 'RT @hayesluk: Probably not in a very suitable timing but we found some serological evidence for other camels in Dubai possibly being #MERS…'}\n",
      "83  :  {'text': 'RT @nazzizah: 8. Kenapa sih harus santuy? Pertama, angka kematian #COVID19  itu cuma 2 persen. Lebih banyak org meninggal karena TBC, DBD,…'}\n",
      "84  :  {'text': '@MattMorgan1995 @Stefan_2251 @savZK @Inspektical @KEEMSTAR Google\\n\\nhttps://t.co/TqrRmNJ6KN'}\n",
      "85  :  {'text': 'RT @drauziovarella: 3# O vírus é uma novidade? \\n\\nNão. Conhecemos os coronavírus desde os anos 60. Diferentes mutações foram responsáveis pe…'}\n",
      "86  :  {'text': 'RT @Vilavaite: Building a database of #COVID19 cases with chest X-ray or CT images\\n\\nContribute your cases of\\n#COVID_19\\nMERS\\nSARS\\nARDS\\nto de…'}\n",
      "87  :  {'text': 'RT @healthmap: Did you know? The common cold, SARS, MERS and COVID-19 are all types of coronaviruses, which get their name from the crown-l…'}\n",
      "88  :  {'text': 'RT @megxnrhianna: What Coronavirus said to Norovirus, Bird Flu, Swine Flu, SARS and MERS at the start of 2020'}\n",
      "89  :  {'text': 'RT @Athenaa_RM: All of above are important factors and why we need to prepare for pandemic spike 📈\\n\\n But in general , Covid19 has better pr…'}\n",
      "90  :  {'text': 'RT @JacobCanfield: Will This Be A Severe Pandemic?\\n\\nSeverity is based on having both a HIGH mortality rate and a HIGH R0\\n\\nSARS and MERS had…'}\n",
      "91  :  {'text': 'RT @nog_ak: データでみる限りMERSと新型は結構違うようなので、ドラマで描いた死亡症例が新型においても同様に発生しうるかどうかはわかりません。今回のコロナウィルス流行を機にアンナチュラルを視聴する方はご留意ください。'}\n",
      "92  :  {'text': 'RT @BBCLBicker: Dr Kim Yeonjae: “In the past, with our experience with MERS, we would find the patient then quarantine the patient and loca…'}\n",
      "93  :  {'text': 'The mutation could not be found in Sars, Mers or Bat-CoVRaTG13, @SCMPNews #CoronaVirus #COVID19… https://t.co/m5QkjgAc5O'}\n",
      "94  :  {'text': 'Just look at the names Ebola and MERS (Middle-East Respiratory Syndrome). It has left real and tangible damage to t… https://t.co/yXFNcTkGeW'}\n",
      "95  :  {'text': 'guys ye ladki h schi me true suported... mers pass videos fif rakhne ki jageh ni h phn me.. pr sine haters k mooh p… https://t.co/VMWflgDLXL'}\n",
      "96  :  {'text': \"@zerowondering People out here being babies. I was in South Korea during MERS, and I didn't get sick even though pe… https://t.co/ht5ORcnx2n\"}\n",
      "97  :  {'text': 'RT @hayesluk: Probably not in a very suitable timing but we found some serological evidence for other camels in Dubai possibly being #MERS…'}\n",
      "98  :  {'text': 'RT @nazzizah: 8. Kenapa sih harus santuy? Pertama, angka kematian #COVID19  itu cuma 2 persen. Lebih banyak org meninggal karena TBC, DBD,…'}\n",
      "99  :  {'text': '@MattMorgan1995 @Stefan_2251 @savZK @Inspektical @KEEMSTAR Google\\n\\nhttps://t.co/TqrRmNJ6KN'}\n",
      "100  :  {'text': 'RT @drauziovarella: 3# O vírus é uma novidade? \\n\\nNão. Conhecemos os coronavírus desde os anos 60. Diferentes mutações foram responsáveis pe…'}\n",
      "101  :  {'text': 'RT @Vilavaite: Building a database of #COVID19 cases with chest X-ray or CT images\\n\\nContribute your cases of\\n#COVID_19\\nMERS\\nSARS\\nARDS\\nto de…'}\n",
      "102  :  {'text': 'RT @healthmap: Did you know? The common cold, SARS, MERS and COVID-19 are all types of coronaviruses, which get their name from the crown-l…'}\n",
      "103  :  {'text': 'RT @megxnrhianna: What Coronavirus said to Norovirus, Bird Flu, Swine Flu, SARS and MERS at the start of 2020'}\n",
      "104  :  {'text': 'RT @Athenaa_RM: All of above are important factors and why we need to prepare for pandemic spike 📈\\n\\n But in general , Covid19 has better pr…'}\n",
      "105  :  {'text': 'RT @JacobCanfield: Will This Be A Severe Pandemic?\\n\\nSeverity is based on having both a HIGH mortality rate and a HIGH R0\\n\\nSARS and MERS had…'}\n",
      "106  :  {'text': 'RT @nog_ak: データでみる限りMERSと新型は結構違うようなので、ドラマで描いた死亡症例が新型においても同様に発生しうるかどうかはわかりません。今回のコロナウィルス流行を機にアンナチュラルを視聴する方はご留意ください。'}\n",
      "107  :  {'text': 'RT @BBCLBicker: Dr Kim Yeonjae: “In the past, with our experience with MERS, we would find the patient then quarantine the patient and loca…'}\n",
      "108  :  {'text': 'The mutation could not be found in Sars, Mers or Bat-CoVRaTG13, @SCMPNews #CoronaVirus #COVID19… https://t.co/m5QkjgAc5O'}\n",
      "109  :  {'text': 'Just look at the names Ebola and MERS (Middle-East Respiratory Syndrome). It has left real and tangible damage to t… https://t.co/yXFNcTkGeW'}\n",
      "110  :  {'text': 'guys ye ladki h schi me true suported... mers pass videos fif rakhne ki jageh ni h phn me.. pr sine haters k mooh p… https://t.co/VMWflgDLXL'}\n",
      "111  :  {'text': \"@zerowondering People out here being babies. I was in South Korea during MERS, and I didn't get sick even though pe… https://t.co/ht5ORcnx2n\"}\n",
      "112  :  {'text': 'RT @hayesluk: Probably not in a very suitable timing but we found some serological evidence for other camels in Dubai possibly being #MERS…'}\n",
      "113  :  {'text': 'RT @nazzizah: 8. Kenapa sih harus santuy? Pertama, angka kematian #COVID19  itu cuma 2 persen. Lebih banyak org meninggal karena TBC, DBD,…'}\n",
      "114  :  {'text': '@MattMorgan1995 @Stefan_2251 @savZK @Inspektical @KEEMSTAR Google\\n\\nhttps://t.co/TqrRmNJ6KN'}\n",
      "115  :  {'text': 'RT @drauziovarella: 3# O vírus é uma novidade? \\n\\nNão. Conhecemos os coronavírus desde os anos 60. Diferentes mutações foram responsáveis pe…'}\n",
      "116  :  {'text': 'RT @Vilavaite: Building a database of #COVID19 cases with chest X-ray or CT images\\n\\nContribute your cases of\\n#COVID_19\\nMERS\\nSARS\\nARDS\\nto de…'}\n",
      "117  :  {'text': 'RT @healthmap: Did you know? The common cold, SARS, MERS and COVID-19 are all types of coronaviruses, which get their name from the crown-l…'}\n",
      "118  :  {'text': 'RT @megxnrhianna: What Coronavirus said to Norovirus, Bird Flu, Swine Flu, SARS and MERS at the start of 2020'}\n",
      "119  :  {'text': 'RT @Athenaa_RM: All of above are important factors and why we need to prepare for pandemic spike 📈\\n\\n But in general , Covid19 has better pr…'}\n",
      "120  :  {'text': 'RT @JacobCanfield: Will This Be A Severe Pandemic?\\n\\nSeverity is based on having both a HIGH mortality rate and a HIGH R0\\n\\nSARS and MERS had…'}\n",
      "121  :  {'text': 'RT @nog_ak: データでみる限りMERSと新型は結構違うようなので、ドラマで描いた死亡症例が新型においても同様に発生しうるかどうかはわかりません。今回のコロナウィルス流行を機にアンナチュラルを視聴する方はご留意ください。'}\n",
      "122  :  {'text': 'RT @BBCLBicker: Dr Kim Yeonjae: “In the past, with our experience with MERS, we would find the patient then quarantine the patient and loca…'}\n",
      "123  :  {'text': 'The mutation could not be found in Sars, Mers or Bat-CoVRaTG13, @SCMPNews #CoronaVirus #COVID19… https://t.co/m5QkjgAc5O'}\n",
      "124  :  {'text': 'Just look at the names Ebola and MERS (Middle-East Respiratory Syndrome). It has left real and tangible damage to t… https://t.co/yXFNcTkGeW'}\n",
      "125  :  {'text': 'guys ye ladki h schi me true suported... mers pass videos fif rakhne ki jageh ni h phn me.. pr sine haters k mooh p… https://t.co/VMWflgDLXL'}\n",
      "126  :  {'text': \"@zerowondering People out here being babies. I was in South Korea during MERS, and I didn't get sick even though pe… https://t.co/ht5ORcnx2n\"}\n",
      "127  :  {'text': 'RT @hayesluk: Probably not in a very suitable timing but we found some serological evidence for other camels in Dubai possibly being #MERS…'}\n",
      "128  :  {'text': 'RT @nazzizah: 8. Kenapa sih harus santuy? Pertama, angka kematian #COVID19  itu cuma 2 persen. Lebih banyak org meninggal karena TBC, DBD,…'}\n",
      "129  :  {'text': '@MattMorgan1995 @Stefan_2251 @savZK @Inspektical @KEEMSTAR Google\\n\\nhttps://t.co/TqrRmNJ6KN'}\n",
      "130  :  {'text': 'RT @drauziovarella: 3# O vírus é uma novidade? \\n\\nNão. Conhecemos os coronavírus desde os anos 60. Diferentes mutações foram responsáveis pe…'}\n",
      "131  :  {'text': 'RT @Vilavaite: Building a database of #COVID19 cases with chest X-ray or CT images\\n\\nContribute your cases of\\n#COVID_19\\nMERS\\nSARS\\nARDS\\nto de…'}\n",
      "132  :  {'text': 'RT @healthmap: Did you know? The common cold, SARS, MERS and COVID-19 are all types of coronaviruses, which get their name from the crown-l…'}\n",
      "133  :  {'text': 'RT @megxnrhianna: What Coronavirus said to Norovirus, Bird Flu, Swine Flu, SARS and MERS at the start of 2020'}\n",
      "134  :  {'text': 'RT @Athenaa_RM: All of above are important factors and why we need to prepare for pandemic spike 📈\\n\\n But in general , Covid19 has better pr…'}\n",
      "135  :  {'text': 'RT @JacobCanfield: Will This Be A Severe Pandemic?\\n\\nSeverity is based on having both a HIGH mortality rate and a HIGH R0\\n\\nSARS and MERS had…'}\n",
      "136  :  {'text': 'RT @nog_ak: データでみる限りMERSと新型は結構違うようなので、ドラマで描いた死亡症例が新型においても同様に発生しうるかどうかはわかりません。今回のコロナウィルス流行を機にアンナチュラルを視聴する方はご留意ください。'}\n",
      "137  :  {'text': 'RT @BBCLBicker: Dr Kim Yeonjae: “In the past, with our experience with MERS, we would find the patient then quarantine the patient and loca…'}\n",
      "138  :  {'text': 'The mutation could not be found in Sars, Mers or Bat-CoVRaTG13, @SCMPNews #CoronaVirus #COVID19… https://t.co/m5QkjgAc5O'}\n",
      "139  :  {'text': 'Just look at the names Ebola and MERS (Middle-East Respiratory Syndrome). It has left real and tangible damage to t… https://t.co/yXFNcTkGeW'}\n",
      "140  :  {'text': 'guys ye ladki h schi me true suported... mers pass videos fif rakhne ki jageh ni h phn me.. pr sine haters k mooh p… https://t.co/VMWflgDLXL'}\n",
      "141  :  {'text': \"@zerowondering People out here being babies. I was in South Korea during MERS, and I didn't get sick even though pe… https://t.co/ht5ORcnx2n\"}\n",
      "142  :  {'text': 'RT @hayesluk: Probably not in a very suitable timing but we found some serological evidence for other camels in Dubai possibly being #MERS…'}\n",
      "143  :  {'text': 'RT @nazzizah: 8. Kenapa sih harus santuy? Pertama, angka kematian #COVID19  itu cuma 2 persen. Lebih banyak org meninggal karena TBC, DBD,…'}\n",
      "144  :  {'text': '@MattMorgan1995 @Stefan_2251 @savZK @Inspektical @KEEMSTAR Google\\n\\nhttps://t.co/TqrRmNJ6KN'}\n",
      "145  :  {'text': 'RT @drauziovarella: 3# O vírus é uma novidade? \\n\\nNão. Conhecemos os coronavírus desde os anos 60. Diferentes mutações foram responsáveis pe…'}\n",
      "146  :  {'text': 'RT @Vilavaite: Building a database of #COVID19 cases with chest X-ray or CT images\\n\\nContribute your cases of\\n#COVID_19\\nMERS\\nSARS\\nARDS\\nto de…'}\n",
      "147  :  {'text': 'RT @healthmap: Did you know? The common cold, SARS, MERS and COVID-19 are all types of coronaviruses, which get their name from the crown-l…'}\n",
      "148  :  {'text': 'RT @megxnrhianna: What Coronavirus said to Norovirus, Bird Flu, Swine Flu, SARS and MERS at the start of 2020'}\n",
      "149  :  {'text': 'RT @Athenaa_RM: All of above are important factors and why we need to prepare for pandemic spike 📈\\n\\n But in general , Covid19 has better pr…'}\n"
     ]
    }
   ],
   "source": [
    "#전체 문서 보기\n",
    "\n",
    "data = {}   # 전체 문서 추가\n",
    "i = 0       # 문서 번호\n",
    "for tweet in search:\n",
    "    data['text'] = tweet.text   # text키에 text문서 저장\n",
    "    print(i, \" : \", data)   # 문서번호 : 문서내용\n",
    "    i += 1"
   ]
  },
  {
   "cell_type": "code",
   "execution_count": 132,
   "metadata": {},
   "outputs": [],
   "source": [
    "# 전체 문서를 파일 저장\n",
    "\n",
    "import os\n",
    "    \n",
    "wfile = open(os.getcwd()+\"/MersData.txt\", mode='w', encoding=\"utf-8\")   # 쓰기 모드\n",
    "data = {}   # 전체 문서 추가\n",
    "i = 0       # 문서 번호"
   ]
  },
  {
   "cell_type": "code",
   "execution_count": 133,
   "metadata": {},
   "outputs": [],
   "source": [
    "for tweet in search:\n",
    "    data['text'] = tweet.text   # text키에 text문서 저장\n",
    "    wfile.write(data['text']+'\\n')  # 파일 출력\n",
    "    i += 1\n",
    "\n",
    "wfile.close()"
   ]
  },
  {
   "cell_type": "code",
   "execution_count": 134,
   "metadata": {},
   "outputs": [],
   "source": [
    "file = open(os.getcwd()+'/MersData.txt', mode='r', encoding='utf-8')"
   ]
  },
  {
   "cell_type": "code",
   "execution_count": 135,
   "metadata": {},
   "outputs": [],
   "source": [
    "Mers = file.readlines()"
   ]
  },
  {
   "cell_type": "code",
   "execution_count": 136,
   "metadata": {},
   "outputs": [],
   "source": [
    "sentence = []\n",
    "for line in Mers:\n",
    "    sentence.append(line)\n",
    "file.close()"
   ]
  },
  {
   "cell_type": "code",
   "execution_count": 137,
   "metadata": {},
   "outputs": [],
   "source": [
    "only_english = []\n",
    "\n",
    "for i in sentence:\n",
    "    only_english.append((re.sub('[^a-zA-Z]', ' ', i)).lower())"
   ]
  },
  {
   "cell_type": "code",
   "execution_count": 138,
   "metadata": {},
   "outputs": [],
   "source": [
    "words = []\n",
    "\n",
    "for i in only_english:\n",
    "    words.append(i.split())"
   ]
  },
  {
   "cell_type": "code",
   "execution_count": 139,
   "metadata": {
    "scrolled": false
   },
   "outputs": [
    {
     "name": "stdout",
     "output_type": "stream",
     "text": [
      "320\n"
     ]
    }
   ],
   "source": [
    "# stopwords 를 제거한 토큰들\n",
    "words = [w for w in words if not w in stopwords.words('english')]\n",
    "print(len(words))"
   ]
  },
  {
   "cell_type": "code",
   "execution_count": 140,
   "metadata": {},
   "outputs": [],
   "source": [
    "#stem = []\n",
    "\n",
    "#for i in range(len(words)):\n",
    "#    new = []\n",
    "#    for j in range(len(words[i])):\n",
    "#        new.append(stemmer.stem(words[i][j]))\n",
    "#    stem.append(new)"
   ]
  },
  {
   "cell_type": "code",
   "execution_count": 141,
   "metadata": {},
   "outputs": [],
   "source": [
    "#tagged = []\n",
    "\n",
    "#for i in stem:\n",
    "#    tagged.append(nltk.pos_tag(i))"
   ]
  },
  {
   "cell_type": "code",
   "execution_count": 142,
   "metadata": {},
   "outputs": [],
   "source": [
    "tagged = []\n",
    "\n",
    "for i in words:\n",
    "    tagged.append(nltk.pos_tag(i))"
   ]
  },
  {
   "cell_type": "code",
   "execution_count": 143,
   "metadata": {},
   "outputs": [],
   "source": [
    "nouns = []\n",
    "\n",
    "for t in tagged:\n",
    "    new = []\n",
    "    for word, pos in t:\n",
    "        if pos in ['NN', 'NNP']:\n",
    "            new.append(word)\n",
    "    nouns.append(new)"
   ]
  },
  {
   "cell_type": "code",
   "execution_count": 144,
   "metadata": {},
   "outputs": [],
   "source": [
    "word = []\n",
    "\n",
    "for n in nouns:\n",
    "    new = \" \"\n",
    "    for i in range(len(n)):\n",
    "        if len(n[i]) > 3:\n",
    "            new = new + str(n[i].split(\",\")[0]) + \" \"\n",
    "    new = re.sub(\"https\", \"\", new)\n",
    "    new = re.sub(\"mers\", \"\", new)\n",
    "    new = re.sub(\"rt\", \"\", new)\n",
    "    new = re.sub(\"people\", \"\", new)\n",
    "    new = re.sub(\"now\", \"\", new)\n",
    "    new = re.sub(\"th\", \"\", new)\n",
    "    new = re.sub(\"reuters\",\"\", new)\n",
    "    new = re.sub(\"five\", \"\", new)\n",
    "    new = re.sub(\"two\", \"\", new)\n",
    "    new = re.sub(\"latest\", \"\", new)\n",
    "    word.append(new)\n",
    "    "
   ]
  },
  {
   "cell_type": "code",
   "execution_count": 145,
   "metadata": {},
   "outputs": [],
   "source": [
    "import numpy as np\n",
    "from sklearn.feature_extraction.text import CountVectorizer"
   ]
  },
  {
   "cell_type": "code",
   "execution_count": 146,
   "metadata": {},
   "outputs": [],
   "source": [
    "import pandas as pd\n",
    "import re\n",
    "import networkx as nx\n",
    "import matplotlib.pyplot as plt"
   ]
  },
  {
   "cell_type": "code",
   "execution_count": 147,
   "metadata": {},
   "outputs": [],
   "source": [
    "from igraph import *"
   ]
  },
  {
   "cell_type": "code",
   "execution_count": 148,
   "metadata": {},
   "outputs": [],
   "source": [
    "vectorizer = CountVectorizer(min_df=1)\n",
    "vectorizer = vectorizer.fit(word)\n",
    "\n",
    "X = vectorizer.transform(word)"
   ]
  },
  {
   "cell_type": "code",
   "execution_count": 149,
   "metadata": {},
   "outputs": [],
   "source": [
    "X = X.toarray()"
   ]
  },
  {
   "cell_type": "code",
   "execution_count": 150,
   "metadata": {},
   "outputs": [
    {
     "data": {
      "text/plain": [
       "dict_keys(['jacobcanfield', 'pandemic', 'severity', 'moality', 'rate', 'bbclbicker', 'yeonjae', 'past', 'experience', 'patient', 'loca', 'mutation', 'covratg', 'coronavirus', 'covid', 'qkjgac', 'look', 'respiratory', 'syndrome', 'damage', 'yxfnctkgew', 'rakhne', 'jageh', 'vmwflgdlxl', 'korea', 'didn', 'orcnx', 'hayesluk', 'timing', 'evidence', 'dubai', 'kenapa', 'harus', 'santuy', 'peama', 'angka', 'cuma', 'persen', 'lebih', 'banyak', 'karena', 'stefan', 'keemstar', 'google', 'tqrrmnj', 'drauziovarella', 'novidade', 'coronav', 'desde', 'vilavaite', 'database', 'chest', 'healmap', 'name', 'crown', 'bird', 'swine', 'sta', 'aenaa', 'spike'])"
      ]
     },
     "execution_count": 150,
     "metadata": {},
     "output_type": "execute_result"
    }
   ],
   "source": [
    "vectorizer.vocabulary_.keys()"
   ]
  },
  {
   "cell_type": "code",
   "execution_count": 151,
   "metadata": {},
   "outputs": [],
   "source": [
    "g = nx.Graph()\n",
    "g.add_nodes_from(vectorizer.vocabulary_.keys())"
   ]
  },
  {
   "cell_type": "code",
   "execution_count": 152,
   "metadata": {},
   "outputs": [],
   "source": [
    "V_list = list(vectorizer.vocabulary_.keys())\n",
    "\n",
    "for i in range(len(V_list)):\n",
    "    for j in range(len(V_list)):\n",
    "        if X[i][j] == 1:\n",
    "            g.add_edges_from([(V_list[i],V_list[j])])"
   ]
  },
  {
   "cell_type": "code",
   "execution_count": 153,
   "metadata": {},
   "outputs": [
    {
     "data": {
      "text/plain": [
       "matrix([[0., 0., 0., ..., 0., 0., 0.],\n",
       "        [0., 0., 0., ..., 0., 0., 0.],\n",
       "        [0., 0., 0., ..., 0., 0., 0.],\n",
       "        ...,\n",
       "        [0., 0., 0., ..., 0., 0., 0.],\n",
       "        [0., 0., 0., ..., 0., 0., 0.],\n",
       "        [0., 0., 0., ..., 0., 0., 0.]])"
      ]
     },
     "execution_count": 153,
     "metadata": {},
     "output_type": "execute_result"
    }
   ],
   "source": [
    "nx.to_numpy_matrix(g)"
   ]
  },
  {
   "cell_type": "code",
   "execution_count": 154,
   "metadata": {},
   "outputs": [],
   "source": [
    "from matplotlib import font_manager, rc #한글 깨짐 현상\n",
    "font_name = font_manager.FontProperties(fname=\"c:/Windows/Fonts/malgun.ttf\").get_name()\n",
    "rc('font', family=font_name)"
   ]
  },
  {
   "cell_type": "code",
   "execution_count": 155,
   "metadata": {},
   "outputs": [
    {
     "data": {
      "image/png": "[encoded data removed]",
      "text/plain": [
       "<Figure size 432x288 with 1 Axes>"
      ]
     },
     "metadata": {},
     "output_type": "display_data"
    }
   ],
   "source": [
    "nx = nx.draw(g, with_labels = True,font_family = font_name)"
   ]
  },
  {
   "cell_type": "markdown",
   "metadata": {},
   "source": [
    "# 예제 7.8 미완성"
   ]
  },
  {
   "cell_type": "code",
   "execution_count": 221,
   "metadata": {},
   "outputs": [],
   "source": [
    "keyword = \"deep learning\";     # 자신이 검색하고 싶은 키워드 입력 \n",
    "search = [] # 크롤링 결과 저장할 변수   "
   ]
  },
  {
   "cell_type": "code",
   "execution_count": 222,
   "metadata": {},
   "outputs": [],
   "source": [
    "cnt = 1\n",
    "while(cnt <= 10):   # 10page 대상으로 크롤링\n",
    "    tweets = api.search(keyword)\n",
    "    for tweet in tweets:\n",
    "        search.append(tweet)\n",
    "    cnt += 1"
   ]
  },
  {
   "cell_type": "code",
   "execution_count": 223,
   "metadata": {},
   "outputs": [
    {
     "name": "stdout",
     "output_type": "stream",
     "text": [
      "0  :  {'text': 'RT @NavishaaCloud: How Deep Learning Is Transforming Marketing #ArtificialIntelligence #learning #machinelearning via https://t.co/a3S60mPH…'}\n",
      "1  :  {'text': 'How Deep Learning Is Transforming Marketing #ArtificialIntelligence #learning #machinelearning via… https://t.co/XPu893Mlaa'}\n",
      "2  :  {'text': 'RT @WACommunity: Atelier Nuno Architects uses deep-blue and powder colors to create a learning playground for future doctors at Learning Co…'}\n",
      "3  :  {'text': \"Join us on March 12 for a free #workshop in #Portland, OR! Take a deep-dive into your organization's #data to pract… https://t.co/qKFwmeCSpd\"}\n",
      "4  :  {'text': 'RT @labgeni_us: Technology has disrupted nearly every industry on the planet. Why not Pharmaceuticals? And is that changing? Check out our…'}\n",
      "5  :  {'text': 'RT @missy_cummings: Just more fuel for my argument as to why safety-critical systems with deep learning algorithms are immature and need to…'}\n",
      "6  :  {'text': 'Research Guide for Depth Estimation with Deep Learning: In this guide, we’ll look at papers aimed at solving the pr… https://t.co/b4BCb4uAft'}\n",
      "7  :  {'text': \"RT @Scobleizer: @MathWorksAI @jo_ping Why only go for a handful? Here's a list of 2,200 people and companies in the ML/AI/Deep Learning wor…\"}\n",
      "8  :  {'text': \"@MathWorksAI @jo_ping Why only go for a handful? Here's a list of 2,200 people and companies in the ML/AI/Deep Lear… https://t.co/eLQIUbTaPG\"}\n",
      "9  :  {'text': 'RT @techreview: As children, we learn to observe the world around us, infer why things happened and make predictions about what will happen…'}\n",
      "10  :  {'text': 'RT @newsyc100: Slide: 3.5x Faster Deep Learning on CPU Then on GPU https://t.co/DlKBdf8GCT (https://t.co/VTBxDJRxNe)'}\n",
      "11  :  {'text': \"RT @MathWorksAI: The Deep Learning Dozen influencers! @Jo_Ping's pick for who to follow to round out your #DeepLearning knowledge. Who woul…\"}\n",
      "12  :  {'text': 'RT @SwamiBrahmachit: “Your pain or illness is wasted, unless you are transformed by it.!”\\n\\n#Deep #Learning #FridayFeeling\\n#FridayThoughts #…'}\n",
      "13  :  {'text': 'RT @Nicochan33: How Deep Learning Is Transforming Marketing #ArtificialIntelligence #learning #machinelearning  https://t.co/l0Bq0cWtkK'}\n",
      "14  :  {'text': 'How Deep Learning Is Transforming Marketing #ArtificialIntelligence #learning #machinelearning  https://t.co/l0Bq0cWtkK'}\n",
      "15  :  {'text': 'RT @NavishaaCloud: How Deep Learning Is Transforming Marketing #ArtificialIntelligence #learning #machinelearning via https://t.co/a3S60mPH…'}\n",
      "16  :  {'text': 'How Deep Learning Is Transforming Marketing #ArtificialIntelligence #learning #machinelearning via… https://t.co/XPu893Mlaa'}\n",
      "17  :  {'text': 'RT @WACommunity: Atelier Nuno Architects uses deep-blue and powder colors to create a learning playground for future doctors at Learning Co…'}\n",
      "18  :  {'text': \"Join us on March 12 for a free #workshop in #Portland, OR! Take a deep-dive into your organization's #data to pract… https://t.co/qKFwmeCSpd\"}\n",
      "19  :  {'text': 'RT @labgeni_us: Technology has disrupted nearly every industry on the planet. Why not Pharmaceuticals? And is that changing? Check out our…'}\n",
      "20  :  {'text': 'RT @missy_cummings: Just more fuel for my argument as to why safety-critical systems with deep learning algorithms are immature and need to…'}\n",
      "21  :  {'text': 'Research Guide for Depth Estimation with Deep Learning: In this guide, we’ll look at papers aimed at solving the pr… https://t.co/b4BCb4uAft'}\n",
      "22  :  {'text': \"RT @Scobleizer: @MathWorksAI @jo_ping Why only go for a handful? Here's a list of 2,200 people and companies in the ML/AI/Deep Learning wor…\"}\n",
      "23  :  {'text': \"@MathWorksAI @jo_ping Why only go for a handful? Here's a list of 2,200 people and companies in the ML/AI/Deep Lear… https://t.co/eLQIUbTaPG\"}\n",
      "24  :  {'text': 'RT @techreview: As children, we learn to observe the world around us, infer why things happened and make predictions about what will happen…'}\n",
      "25  :  {'text': 'RT @newsyc100: Slide: 3.5x Faster Deep Learning on CPU Then on GPU https://t.co/DlKBdf8GCT (https://t.co/VTBxDJRxNe)'}\n",
      "26  :  {'text': \"RT @MathWorksAI: The Deep Learning Dozen influencers! @Jo_Ping's pick for who to follow to round out your #DeepLearning knowledge. Who woul…\"}\n",
      "27  :  {'text': 'RT @SwamiBrahmachit: “Your pain or illness is wasted, unless you are transformed by it.!”\\n\\n#Deep #Learning #FridayFeeling\\n#FridayThoughts #…'}\n",
      "28  :  {'text': 'RT @Nicochan33: How Deep Learning Is Transforming Marketing #ArtificialIntelligence #learning #machinelearning  https://t.co/l0Bq0cWtkK'}\n",
      "29  :  {'text': 'How Deep Learning Is Transforming Marketing #ArtificialIntelligence #learning #machinelearning  https://t.co/l0Bq0cWtkK'}\n",
      "30  :  {'text': 'RT @NavishaaCloud: How Deep Learning Is Transforming Marketing #ArtificialIntelligence #learning #machinelearning via https://t.co/a3S60mPH…'}\n",
      "31  :  {'text': 'How Deep Learning Is Transforming Marketing #ArtificialIntelligence #learning #machinelearning via… https://t.co/XPu893Mlaa'}\n",
      "32  :  {'text': 'RT @WACommunity: Atelier Nuno Architects uses deep-blue and powder colors to create a learning playground for future doctors at Learning Co…'}\n",
      "33  :  {'text': \"Join us on March 12 for a free #workshop in #Portland, OR! Take a deep-dive into your organization's #data to pract… https://t.co/qKFwmeCSpd\"}\n",
      "34  :  {'text': 'RT @labgeni_us: Technology has disrupted nearly every industry on the planet. Why not Pharmaceuticals? And is that changing? Check out our…'}\n",
      "35  :  {'text': 'RT @missy_cummings: Just more fuel for my argument as to why safety-critical systems with deep learning algorithms are immature and need to…'}\n",
      "36  :  {'text': 'Research Guide for Depth Estimation with Deep Learning: In this guide, we’ll look at papers aimed at solving the pr… https://t.co/b4BCb4uAft'}\n",
      "37  :  {'text': \"RT @Scobleizer: @MathWorksAI @jo_ping Why only go for a handful? Here's a list of 2,200 people and companies in the ML/AI/Deep Learning wor…\"}\n",
      "38  :  {'text': \"@MathWorksAI @jo_ping Why only go for a handful? Here's a list of 2,200 people and companies in the ML/AI/Deep Lear… https://t.co/eLQIUbTaPG\"}\n",
      "39  :  {'text': 'RT @techreview: As children, we learn to observe the world around us, infer why things happened and make predictions about what will happen…'}\n",
      "40  :  {'text': 'RT @newsyc100: Slide: 3.5x Faster Deep Learning on CPU Then on GPU https://t.co/DlKBdf8GCT (https://t.co/VTBxDJRxNe)'}\n",
      "41  :  {'text': \"RT @MathWorksAI: The Deep Learning Dozen influencers! @Jo_Ping's pick for who to follow to round out your #DeepLearning knowledge. Who woul…\"}\n",
      "42  :  {'text': 'RT @SwamiBrahmachit: “Your pain or illness is wasted, unless you are transformed by it.!”\\n\\n#Deep #Learning #FridayFeeling\\n#FridayThoughts #…'}\n",
      "43  :  {'text': 'RT @Nicochan33: How Deep Learning Is Transforming Marketing #ArtificialIntelligence #learning #machinelearning  https://t.co/l0Bq0cWtkK'}\n",
      "44  :  {'text': 'How Deep Learning Is Transforming Marketing #ArtificialIntelligence #learning #machinelearning  https://t.co/l0Bq0cWtkK'}\n",
      "45  :  {'text': 'RT @NavishaaCloud: How Deep Learning Is Transforming Marketing #ArtificialIntelligence #learning #machinelearning via https://t.co/a3S60mPH…'}\n",
      "46  :  {'text': 'How Deep Learning Is Transforming Marketing #ArtificialIntelligence #learning #machinelearning via… https://t.co/XPu893Mlaa'}\n",
      "47  :  {'text': 'RT @WACommunity: Atelier Nuno Architects uses deep-blue and powder colors to create a learning playground for future doctors at Learning Co…'}\n",
      "48  :  {'text': \"Join us on March 12 for a free #workshop in #Portland, OR! Take a deep-dive into your organization's #data to pract… https://t.co/qKFwmeCSpd\"}\n",
      "49  :  {'text': 'RT @labgeni_us: Technology has disrupted nearly every industry on the planet. Why not Pharmaceuticals? And is that changing? Check out our…'}\n",
      "50  :  {'text': 'RT @missy_cummings: Just more fuel for my argument as to why safety-critical systems with deep learning algorithms are immature and need to…'}\n",
      "51  :  {'text': 'Research Guide for Depth Estimation with Deep Learning: In this guide, we’ll look at papers aimed at solving the pr… https://t.co/b4BCb4uAft'}\n",
      "52  :  {'text': \"RT @Scobleizer: @MathWorksAI @jo_ping Why only go for a handful? Here's a list of 2,200 people and companies in the ML/AI/Deep Learning wor…\"}\n",
      "53  :  {'text': \"@MathWorksAI @jo_ping Why only go for a handful? Here's a list of 2,200 people and companies in the ML/AI/Deep Lear… https://t.co/eLQIUbTaPG\"}\n",
      "54  :  {'text': 'RT @techreview: As children, we learn to observe the world around us, infer why things happened and make predictions about what will happen…'}\n",
      "55  :  {'text': 'RT @newsyc100: Slide: 3.5x Faster Deep Learning on CPU Then on GPU https://t.co/DlKBdf8GCT (https://t.co/VTBxDJRxNe)'}\n",
      "56  :  {'text': \"RT @MathWorksAI: The Deep Learning Dozen influencers! @Jo_Ping's pick for who to follow to round out your #DeepLearning knowledge. Who woul…\"}\n",
      "57  :  {'text': 'RT @SwamiBrahmachit: “Your pain or illness is wasted, unless you are transformed by it.!”\\n\\n#Deep #Learning #FridayFeeling\\n#FridayThoughts #…'}\n",
      "58  :  {'text': 'RT @Nicochan33: How Deep Learning Is Transforming Marketing #ArtificialIntelligence #learning #machinelearning  https://t.co/l0Bq0cWtkK'}\n",
      "59  :  {'text': 'How Deep Learning Is Transforming Marketing #ArtificialIntelligence #learning #machinelearning  https://t.co/l0Bq0cWtkK'}\n",
      "60  :  {'text': 'RT @NavishaaCloud: How Deep Learning Is Transforming Marketing #ArtificialIntelligence #learning #machinelearning via https://t.co/a3S60mPH…'}\n",
      "61  :  {'text': 'How Deep Learning Is Transforming Marketing #ArtificialIntelligence #learning #machinelearning via… https://t.co/XPu893Mlaa'}\n",
      "62  :  {'text': 'RT @WACommunity: Atelier Nuno Architects uses deep-blue and powder colors to create a learning playground for future doctors at Learning Co…'}\n",
      "63  :  {'text': \"Join us on March 12 for a free #workshop in #Portland, OR! Take a deep-dive into your organization's #data to pract… https://t.co/qKFwmeCSpd\"}\n",
      "64  :  {'text': 'RT @labgeni_us: Technology has disrupted nearly every industry on the planet. Why not Pharmaceuticals? And is that changing? Check out our…'}\n",
      "65  :  {'text': 'RT @missy_cummings: Just more fuel for my argument as to why safety-critical systems with deep learning algorithms are immature and need to…'}\n",
      "66  :  {'text': 'Research Guide for Depth Estimation with Deep Learning: In this guide, we’ll look at papers aimed at solving the pr… https://t.co/b4BCb4uAft'}\n",
      "67  :  {'text': \"RT @Scobleizer: @MathWorksAI @jo_ping Why only go for a handful? Here's a list of 2,200 people and companies in the ML/AI/Deep Learning wor…\"}\n",
      "68  :  {'text': \"@MathWorksAI @jo_ping Why only go for a handful? Here's a list of 2,200 people and companies in the ML/AI/Deep Lear… https://t.co/eLQIUbTaPG\"}\n",
      "69  :  {'text': 'RT @techreview: As children, we learn to observe the world around us, infer why things happened and make predictions about what will happen…'}\n",
      "70  :  {'text': 'RT @newsyc100: Slide: 3.5x Faster Deep Learning on CPU Then on GPU https://t.co/DlKBdf8GCT (https://t.co/VTBxDJRxNe)'}\n",
      "71  :  {'text': \"RT @MathWorksAI: The Deep Learning Dozen influencers! @Jo_Ping's pick for who to follow to round out your #DeepLearning knowledge. Who woul…\"}\n",
      "72  :  {'text': 'RT @SwamiBrahmachit: “Your pain or illness is wasted, unless you are transformed by it.!”\\n\\n#Deep #Learning #FridayFeeling\\n#FridayThoughts #…'}\n",
      "73  :  {'text': 'RT @Nicochan33: How Deep Learning Is Transforming Marketing #ArtificialIntelligence #learning #machinelearning  https://t.co/l0Bq0cWtkK'}\n",
      "74  :  {'text': 'How Deep Learning Is Transforming Marketing #ArtificialIntelligence #learning #machinelearning  https://t.co/l0Bq0cWtkK'}\n",
      "75  :  {'text': 'RT @NavishaaCloud: How Deep Learning Is Transforming Marketing #ArtificialIntelligence #learning #machinelearning via https://t.co/a3S60mPH…'}\n",
      "76  :  {'text': 'How Deep Learning Is Transforming Marketing #ArtificialIntelligence #learning #machinelearning via… https://t.co/XPu893Mlaa'}\n",
      "77  :  {'text': 'RT @WACommunity: Atelier Nuno Architects uses deep-blue and powder colors to create a learning playground for future doctors at Learning Co…'}\n",
      "78  :  {'text': \"Join us on March 12 for a free #workshop in #Portland, OR! Take a deep-dive into your organization's #data to pract… https://t.co/qKFwmeCSpd\"}\n",
      "79  :  {'text': 'RT @labgeni_us: Technology has disrupted nearly every industry on the planet. Why not Pharmaceuticals? And is that changing? Check out our…'}\n",
      "80  :  {'text': 'RT @missy_cummings: Just more fuel for my argument as to why safety-critical systems with deep learning algorithms are immature and need to…'}\n",
      "81  :  {'text': 'Research Guide for Depth Estimation with Deep Learning: In this guide, we’ll look at papers aimed at solving the pr… https://t.co/b4BCb4uAft'}\n",
      "82  :  {'text': \"RT @Scobleizer: @MathWorksAI @jo_ping Why only go for a handful? Here's a list of 2,200 people and companies in the ML/AI/Deep Learning wor…\"}\n",
      "83  :  {'text': \"@MathWorksAI @jo_ping Why only go for a handful? Here's a list of 2,200 people and companies in the ML/AI/Deep Lear… https://t.co/eLQIUbTaPG\"}\n",
      "84  :  {'text': 'RT @techreview: As children, we learn to observe the world around us, infer why things happened and make predictions about what will happen…'}\n",
      "85  :  {'text': 'RT @newsyc100: Slide: 3.5x Faster Deep Learning on CPU Then on GPU https://t.co/DlKBdf8GCT (https://t.co/VTBxDJRxNe)'}\n",
      "86  :  {'text': \"RT @MathWorksAI: The Deep Learning Dozen influencers! @Jo_Ping's pick for who to follow to round out your #DeepLearning knowledge. Who woul…\"}\n",
      "87  :  {'text': 'RT @SwamiBrahmachit: “Your pain or illness is wasted, unless you are transformed by it.!”\\n\\n#Deep #Learning #FridayFeeling\\n#FridayThoughts #…'}\n",
      "88  :  {'text': 'RT @Nicochan33: How Deep Learning Is Transforming Marketing #ArtificialIntelligence #learning #machinelearning  https://t.co/l0Bq0cWtkK'}\n",
      "89  :  {'text': 'How Deep Learning Is Transforming Marketing #ArtificialIntelligence #learning #machinelearning  https://t.co/l0Bq0cWtkK'}\n",
      "90  :  {'text': 'RT @NavishaaCloud: How Deep Learning Is Transforming Marketing #ArtificialIntelligence #learning #machinelearning via https://t.co/a3S60mPH…'}\n",
      "91  :  {'text': 'How Deep Learning Is Transforming Marketing #ArtificialIntelligence #learning #machinelearning via… https://t.co/XPu893Mlaa'}\n",
      "92  :  {'text': 'RT @WACommunity: Atelier Nuno Architects uses deep-blue and powder colors to create a learning playground for future doctors at Learning Co…'}\n",
      "93  :  {'text': \"Join us on March 12 for a free #workshop in #Portland, OR! Take a deep-dive into your organization's #data to pract… https://t.co/qKFwmeCSpd\"}\n",
      "94  :  {'text': 'RT @labgeni_us: Technology has disrupted nearly every industry on the planet. Why not Pharmaceuticals? And is that changing? Check out our…'}\n",
      "95  :  {'text': 'RT @missy_cummings: Just more fuel for my argument as to why safety-critical systems with deep learning algorithms are immature and need to…'}\n",
      "96  :  {'text': 'Research Guide for Depth Estimation with Deep Learning: In this guide, we’ll look at papers aimed at solving the pr… https://t.co/b4BCb4uAft'}\n",
      "97  :  {'text': \"RT @Scobleizer: @MathWorksAI @jo_ping Why only go for a handful? Here's a list of 2,200 people and companies in the ML/AI/Deep Learning wor…\"}\n",
      "98  :  {'text': \"@MathWorksAI @jo_ping Why only go for a handful? Here's a list of 2,200 people and companies in the ML/AI/Deep Lear… https://t.co/eLQIUbTaPG\"}\n",
      "99  :  {'text': 'RT @techreview: As children, we learn to observe the world around us, infer why things happened and make predictions about what will happen…'}\n",
      "100  :  {'text': 'RT @newsyc100: Slide: 3.5x Faster Deep Learning on CPU Then on GPU https://t.co/DlKBdf8GCT (https://t.co/VTBxDJRxNe)'}\n",
      "101  :  {'text': \"RT @MathWorksAI: The Deep Learning Dozen influencers! @Jo_Ping's pick for who to follow to round out your #DeepLearning knowledge. Who woul…\"}\n",
      "102  :  {'text': 'RT @SwamiBrahmachit: “Your pain or illness is wasted, unless you are transformed by it.!”\\n\\n#Deep #Learning #FridayFeeling\\n#FridayThoughts #…'}\n",
      "103  :  {'text': 'RT @Nicochan33: How Deep Learning Is Transforming Marketing #ArtificialIntelligence #learning #machinelearning  https://t.co/l0Bq0cWtkK'}\n",
      "104  :  {'text': 'How Deep Learning Is Transforming Marketing #ArtificialIntelligence #learning #machinelearning  https://t.co/l0Bq0cWtkK'}\n",
      "105  :  {'text': 'RT @NavishaaCloud: How Deep Learning Is Transforming Marketing #ArtificialIntelligence #learning #machinelearning via https://t.co/a3S60mPH…'}\n",
      "106  :  {'text': 'How Deep Learning Is Transforming Marketing #ArtificialIntelligence #learning #machinelearning via… https://t.co/XPu893Mlaa'}\n",
      "107  :  {'text': 'RT @WACommunity: Atelier Nuno Architects uses deep-blue and powder colors to create a learning playground for future doctors at Learning Co…'}\n",
      "108  :  {'text': \"Join us on March 12 for a free #workshop in #Portland, OR! Take a deep-dive into your organization's #data to pract… https://t.co/qKFwmeCSpd\"}\n",
      "109  :  {'text': 'RT @labgeni_us: Technology has disrupted nearly every industry on the planet. Why not Pharmaceuticals? And is that changing? Check out our…'}\n",
      "110  :  {'text': 'RT @missy_cummings: Just more fuel for my argument as to why safety-critical systems with deep learning algorithms are immature and need to…'}\n",
      "111  :  {'text': 'Research Guide for Depth Estimation with Deep Learning: In this guide, we’ll look at papers aimed at solving the pr… https://t.co/b4BCb4uAft'}\n",
      "112  :  {'text': \"RT @Scobleizer: @MathWorksAI @jo_ping Why only go for a handful? Here's a list of 2,200 people and companies in the ML/AI/Deep Learning wor…\"}\n",
      "113  :  {'text': \"@MathWorksAI @jo_ping Why only go for a handful? Here's a list of 2,200 people and companies in the ML/AI/Deep Lear… https://t.co/eLQIUbTaPG\"}\n",
      "114  :  {'text': 'RT @techreview: As children, we learn to observe the world around us, infer why things happened and make predictions about what will happen…'}\n",
      "115  :  {'text': 'RT @newsyc100: Slide: 3.5x Faster Deep Learning on CPU Then on GPU https://t.co/DlKBdf8GCT (https://t.co/VTBxDJRxNe)'}\n",
      "116  :  {'text': \"RT @MathWorksAI: The Deep Learning Dozen influencers! @Jo_Ping's pick for who to follow to round out your #DeepLearning knowledge. Who woul…\"}\n",
      "117  :  {'text': 'RT @SwamiBrahmachit: “Your pain or illness is wasted, unless you are transformed by it.!”\\n\\n#Deep #Learning #FridayFeeling\\n#FridayThoughts #…'}\n",
      "118  :  {'text': 'RT @Nicochan33: How Deep Learning Is Transforming Marketing #ArtificialIntelligence #learning #machinelearning  https://t.co/l0Bq0cWtkK'}\n",
      "119  :  {'text': 'How Deep Learning Is Transforming Marketing #ArtificialIntelligence #learning #machinelearning  https://t.co/l0Bq0cWtkK'}\n",
      "120  :  {'text': 'RT @NavishaaCloud: How Deep Learning Is Transforming Marketing #ArtificialIntelligence #learning #machinelearning via https://t.co/a3S60mPH…'}\n",
      "121  :  {'text': 'How Deep Learning Is Transforming Marketing #ArtificialIntelligence #learning #machinelearning via… https://t.co/XPu893Mlaa'}\n",
      "122  :  {'text': 'RT @WACommunity: Atelier Nuno Architects uses deep-blue and powder colors to create a learning playground for future doctors at Learning Co…'}\n",
      "123  :  {'text': \"Join us on March 12 for a free #workshop in #Portland, OR! Take a deep-dive into your organization's #data to pract… https://t.co/qKFwmeCSpd\"}\n",
      "124  :  {'text': 'RT @labgeni_us: Technology has disrupted nearly every industry on the planet. Why not Pharmaceuticals? And is that changing? Check out our…'}\n",
      "125  :  {'text': 'RT @missy_cummings: Just more fuel for my argument as to why safety-critical systems with deep learning algorithms are immature and need to…'}\n",
      "126  :  {'text': 'Research Guide for Depth Estimation with Deep Learning: In this guide, we’ll look at papers aimed at solving the pr… https://t.co/b4BCb4uAft'}\n",
      "127  :  {'text': \"RT @Scobleizer: @MathWorksAI @jo_ping Why only go for a handful? Here's a list of 2,200 people and companies in the ML/AI/Deep Learning wor…\"}\n",
      "128  :  {'text': \"@MathWorksAI @jo_ping Why only go for a handful? Here's a list of 2,200 people and companies in the ML/AI/Deep Lear… https://t.co/eLQIUbTaPG\"}\n",
      "129  :  {'text': 'RT @techreview: As children, we learn to observe the world around us, infer why things happened and make predictions about what will happen…'}\n",
      "130  :  {'text': 'RT @newsyc100: Slide: 3.5x Faster Deep Learning on CPU Then on GPU https://t.co/DlKBdf8GCT (https://t.co/VTBxDJRxNe)'}\n",
      "131  :  {'text': \"RT @MathWorksAI: The Deep Learning Dozen influencers! @Jo_Ping's pick for who to follow to round out your #DeepLearning knowledge. Who woul…\"}\n",
      "132  :  {'text': 'RT @SwamiBrahmachit: “Your pain or illness is wasted, unless you are transformed by it.!”\\n\\n#Deep #Learning #FridayFeeling\\n#FridayThoughts #…'}\n",
      "133  :  {'text': 'RT @Nicochan33: How Deep Learning Is Transforming Marketing #ArtificialIntelligence #learning #machinelearning  https://t.co/l0Bq0cWtkK'}\n",
      "134  :  {'text': 'How Deep Learning Is Transforming Marketing #ArtificialIntelligence #learning #machinelearning  https://t.co/l0Bq0cWtkK'}\n",
      "135  :  {'text': 'RT @NavishaaCloud: How Deep Learning Is Transforming Marketing #ArtificialIntelligence #learning #machinelearning via https://t.co/a3S60mPH…'}\n",
      "136  :  {'text': 'How Deep Learning Is Transforming Marketing #ArtificialIntelligence #learning #machinelearning via… https://t.co/XPu893Mlaa'}\n",
      "137  :  {'text': 'RT @WACommunity: Atelier Nuno Architects uses deep-blue and powder colors to create a learning playground for future doctors at Learning Co…'}\n",
      "138  :  {'text': \"Join us on March 12 for a free #workshop in #Portland, OR! Take a deep-dive into your organization's #data to pract… https://t.co/qKFwmeCSpd\"}\n",
      "139  :  {'text': 'RT @labgeni_us: Technology has disrupted nearly every industry on the planet. Why not Pharmaceuticals? And is that changing? Check out our…'}\n",
      "140  :  {'text': 'RT @missy_cummings: Just more fuel for my argument as to why safety-critical systems with deep learning algorithms are immature and need to…'}\n",
      "141  :  {'text': 'Research Guide for Depth Estimation with Deep Learning: In this guide, we’ll look at papers aimed at solving the pr… https://t.co/b4BCb4uAft'}\n",
      "142  :  {'text': \"RT @Scobleizer: @MathWorksAI @jo_ping Why only go for a handful? Here's a list of 2,200 people and companies in the ML/AI/Deep Learning wor…\"}\n",
      "143  :  {'text': \"@MathWorksAI @jo_ping Why only go for a handful? Here's a list of 2,200 people and companies in the ML/AI/Deep Lear… https://t.co/eLQIUbTaPG\"}\n",
      "144  :  {'text': 'RT @techreview: As children, we learn to observe the world around us, infer why things happened and make predictions about what will happen…'}\n",
      "145  :  {'text': 'RT @newsyc100: Slide: 3.5x Faster Deep Learning on CPU Then on GPU https://t.co/DlKBdf8GCT (https://t.co/VTBxDJRxNe)'}\n",
      "146  :  {'text': \"RT @MathWorksAI: The Deep Learning Dozen influencers! @Jo_Ping's pick for who to follow to round out your #DeepLearning knowledge. Who woul…\"}\n",
      "147  :  {'text': 'RT @SwamiBrahmachit: “Your pain or illness is wasted, unless you are transformed by it.!”\\n\\n#Deep #Learning #FridayFeeling\\n#FridayThoughts #…'}\n",
      "148  :  {'text': 'RT @Nicochan33: How Deep Learning Is Transforming Marketing #ArtificialIntelligence #learning #machinelearning  https://t.co/l0Bq0cWtkK'}\n",
      "149  :  {'text': 'How Deep Learning Is Transforming Marketing #ArtificialIntelligence #learning #machinelearning  https://t.co/l0Bq0cWtkK'}\n"
     ]
    }
   ],
   "source": [
    "#전체 문서 보기\n",
    "\n",
    "data = {}   # 전체 문서 추가\n",
    "i = 0       # 문서 번호\n",
    "for tweet in search:\n",
    "    data['text'] = tweet.text   # text키에 text문서 저장\n",
    "    print(i, \" : \", data)   # 문서번호 : 문서내용\n",
    "    i += 1"
   ]
  },
  {
   "cell_type": "code",
   "execution_count": 224,
   "metadata": {},
   "outputs": [],
   "source": [
    "# 전체 문서를 파일 저장\n",
    "\n",
    "import os\n",
    "    \n",
    "wfile = open(os.getcwd()+\"/Deep Learning.txt\", mode='w', encoding=\"utf-8\")   # 쓰기 모드\n",
    "data = {}   # 전체 문서 추가\n",
    "i = 0       # 문서 번호"
   ]
  },
  {
   "cell_type": "code",
   "execution_count": 225,
   "metadata": {},
   "outputs": [],
   "source": [
    "for tweet in search:\n",
    "    data['text'] = tweet.text   # text키에 text문서 저장\n",
    "    wfile.write(data['text']+'\\n')  # 파일 출력\n",
    "    i += 1\n",
    "\n",
    "wfile.close()"
   ]
  },
  {
   "cell_type": "code",
   "execution_count": 226,
   "metadata": {},
   "outputs": [],
   "source": [
    "file = open(os.getcwd()+'/Deep Learning.txt', mode='r', encoding='utf-8')"
   ]
  },
  {
   "cell_type": "code",
   "execution_count": 227,
   "metadata": {},
   "outputs": [],
   "source": [
    "DL = file.readlines()"
   ]
  },
  {
   "cell_type": "code",
   "execution_count": 228,
   "metadata": {},
   "outputs": [],
   "source": [
    "sentence = []\n",
    "for line in DL:\n",
    "    sentence.append(line)\n",
    "file.close()"
   ]
  },
  {
   "cell_type": "code",
   "execution_count": 229,
   "metadata": {},
   "outputs": [],
   "source": [
    "only_english = []\n",
    "\n",
    "for i in sentence:\n",
    "    only_english.append((re.sub('[^a-zA-Z]', ' ', i)).lower())"
   ]
  },
  {
   "cell_type": "code",
   "execution_count": 230,
   "metadata": {},
   "outputs": [],
   "source": [
    "words = []\n",
    "\n",
    "for i in only_english:\n",
    "    words.append(i.split())"
   ]
  },
  {
   "cell_type": "code",
   "execution_count": 231,
   "metadata": {},
   "outputs": [
    {
     "name": "stdout",
     "output_type": "stream",
     "text": [
      "180\n"
     ]
    }
   ],
   "source": [
    "# stopwords 를 제거한 토큰들\n",
    "words = [w for w in words if not w in stopwords.words('english')]\n",
    "print(len(words))"
   ]
  },
  {
   "cell_type": "code",
   "execution_count": 232,
   "metadata": {},
   "outputs": [],
   "source": [
    "tagged = []\n",
    "\n",
    "for i in words:\n",
    "    tagged.append(nltk.pos_tag(i))"
   ]
  },
  {
   "cell_type": "code",
   "execution_count": 233,
   "metadata": {},
   "outputs": [],
   "source": [
    "nouns = []\n",
    "\n",
    "for t in tagged:\n",
    "    new = []\n",
    "    for word, pos in t:\n",
    "        if pos in ['NN', 'NNP']:\n",
    "            new.append(word)\n",
    "    nouns.append(new)"
   ]
  },
  {
   "cell_type": "code",
   "execution_count": 234,
   "metadata": {},
   "outputs": [
    {
     "data": {
      "text/plain": [
       "[' learning artificialintelligence  ',\n",
       " ' learning artificialintelligence  mlaa ',\n",
       " ' wacommunity atelier blue powder learning playground ',\n",
       " ' join march workshop portland dive organization qkfwmecspd ',\n",
       " ' technology industry planet ',\n",
       " ' fuel argument safety learning ',\n",
       " ' research guide estimation learning guide  uaft ',\n",
       " ' scobleizer mathworksai handful list learning ',\n",
       " ' mathworksai handful list lear  elqiubtapg ',\n",
       " ' techreview world ',\n",
       " ' slide learning dlkbdf  vtbxdjrxne ',\n",
       " ' learning dozen pick knowledge ',\n",
       " ' pain illness ',\n",
       " ' ',\n",
       " ' learning fridayfeeling ',\n",
       " ' ',\n",
       " ' learning artificialintelligence  cwtkk ',\n",
       " ' learning artificialintelligence  cwtkk ',\n",
       " ' learning artificialintelligence  ',\n",
       " ' learning artificialintelligence  mlaa ',\n",
       " ' wacommunity atelier blue powder learning playground ',\n",
       " ' join march workshop portland dive organization qkfwmecspd ',\n",
       " ' technology industry planet ',\n",
       " ' fuel argument safety learning ',\n",
       " ' research guide estimation learning guide  uaft ',\n",
       " ' scobleizer mathworksai handful list learning ',\n",
       " ' mathworksai handful list lear  elqiubtapg ',\n",
       " ' techreview world ',\n",
       " ' slide learning dlkbdf  vtbxdjrxne ',\n",
       " ' learning dozen pick knowledge ',\n",
       " ' pain illness ',\n",
       " ' ',\n",
       " ' learning fridayfeeling ',\n",
       " ' ',\n",
       " ' learning artificialintelligence  cwtkk ',\n",
       " ' learning artificialintelligence  cwtkk ',\n",
       " ' learning artificialintelligence  ',\n",
       " ' learning artificialintelligence  mlaa ',\n",
       " ' wacommunity atelier blue powder learning playground ',\n",
       " ' join march workshop portland dive organization qkfwmecspd ',\n",
       " ' technology industry planet ',\n",
       " ' fuel argument safety learning ',\n",
       " ' research guide estimation learning guide  uaft ',\n",
       " ' scobleizer mathworksai handful list learning ',\n",
       " ' mathworksai handful list lear  elqiubtapg ',\n",
       " ' techreview world ',\n",
       " ' slide learning dlkbdf  vtbxdjrxne ',\n",
       " ' learning dozen pick knowledge ',\n",
       " ' pain illness ',\n",
       " ' ',\n",
       " ' learning fridayfeeling ',\n",
       " ' ',\n",
       " ' learning artificialintelligence  cwtkk ',\n",
       " ' learning artificialintelligence  cwtkk ',\n",
       " ' learning artificialintelligence  ',\n",
       " ' learning artificialintelligence  mlaa ',\n",
       " ' wacommunity atelier blue powder learning playground ',\n",
       " ' join march workshop portland dive organization qkfwmecspd ',\n",
       " ' technology industry planet ',\n",
       " ' fuel argument safety learning ',\n",
       " ' research guide estimation learning guide  uaft ',\n",
       " ' scobleizer mathworksai handful list learning ',\n",
       " ' mathworksai handful list lear  elqiubtapg ',\n",
       " ' techreview world ',\n",
       " ' slide learning dlkbdf  vtbxdjrxne ',\n",
       " ' learning dozen pick knowledge ',\n",
       " ' pain illness ',\n",
       " ' ',\n",
       " ' learning fridayfeeling ',\n",
       " ' ',\n",
       " ' learning artificialintelligence  cwtkk ',\n",
       " ' learning artificialintelligence  cwtkk ',\n",
       " ' learning artificialintelligence  ',\n",
       " ' learning artificialintelligence  mlaa ',\n",
       " ' wacommunity atelier blue powder learning playground ',\n",
       " ' join march workshop portland dive organization qkfwmecspd ',\n",
       " ' technology industry planet ',\n",
       " ' fuel argument safety learning ',\n",
       " ' research guide estimation learning guide  uaft ',\n",
       " ' scobleizer mathworksai handful list learning ',\n",
       " ' mathworksai handful list lear  elqiubtapg ',\n",
       " ' techreview world ',\n",
       " ' slide learning dlkbdf  vtbxdjrxne ',\n",
       " ' learning dozen pick knowledge ',\n",
       " ' pain illness ',\n",
       " ' ',\n",
       " ' learning fridayfeeling ',\n",
       " ' ',\n",
       " ' learning artificialintelligence  cwtkk ',\n",
       " ' learning artificialintelligence  cwtkk ',\n",
       " ' learning artificialintelligence  ',\n",
       " ' learning artificialintelligence  mlaa ',\n",
       " ' wacommunity atelier blue powder learning playground ',\n",
       " ' join march workshop portland dive organization qkfwmecspd ',\n",
       " ' technology industry planet ',\n",
       " ' fuel argument safety learning ',\n",
       " ' research guide estimation learning guide  uaft ',\n",
       " ' scobleizer mathworksai handful list learning ',\n",
       " ' mathworksai handful list lear  elqiubtapg ',\n",
       " ' techreview world ',\n",
       " ' slide learning dlkbdf  vtbxdjrxne ',\n",
       " ' learning dozen pick knowledge ',\n",
       " ' pain illness ',\n",
       " ' ',\n",
       " ' learning fridayfeeling ',\n",
       " ' ',\n",
       " ' learning artificialintelligence  cwtkk ',\n",
       " ' learning artificialintelligence  cwtkk ',\n",
       " ' learning artificialintelligence  ',\n",
       " ' learning artificialintelligence  mlaa ',\n",
       " ' wacommunity atelier blue powder learning playground ',\n",
       " ' join march workshop portland dive organization qkfwmecspd ',\n",
       " ' technology industry planet ',\n",
       " ' fuel argument safety learning ',\n",
       " ' research guide estimation learning guide  uaft ',\n",
       " ' scobleizer mathworksai handful list learning ',\n",
       " ' mathworksai handful list lear  elqiubtapg ',\n",
       " ' techreview world ',\n",
       " ' slide learning dlkbdf  vtbxdjrxne ',\n",
       " ' learning dozen pick knowledge ',\n",
       " ' pain illness ',\n",
       " ' ',\n",
       " ' learning fridayfeeling ',\n",
       " ' ',\n",
       " ' learning artificialintelligence  cwtkk ',\n",
       " ' learning artificialintelligence  cwtkk ',\n",
       " ' learning artificialintelligence  ',\n",
       " ' learning artificialintelligence  mlaa ',\n",
       " ' wacommunity atelier blue powder learning playground ',\n",
       " ' join march workshop portland dive organization qkfwmecspd ',\n",
       " ' technology industry planet ',\n",
       " ' fuel argument safety learning ',\n",
       " ' research guide estimation learning guide  uaft ',\n",
       " ' scobleizer mathworksai handful list learning ',\n",
       " ' mathworksai handful list lear  elqiubtapg ',\n",
       " ' techreview world ',\n",
       " ' slide learning dlkbdf  vtbxdjrxne ',\n",
       " ' learning dozen pick knowledge ',\n",
       " ' pain illness ',\n",
       " ' ',\n",
       " ' learning fridayfeeling ',\n",
       " ' ',\n",
       " ' learning artificialintelligence  cwtkk ',\n",
       " ' learning artificialintelligence  cwtkk ',\n",
       " ' learning artificialintelligence  ',\n",
       " ' learning artificialintelligence  mlaa ',\n",
       " ' wacommunity atelier blue powder learning playground ',\n",
       " ' join march workshop portland dive organization qkfwmecspd ',\n",
       " ' technology industry planet ',\n",
       " ' fuel argument safety learning ',\n",
       " ' research guide estimation learning guide  uaft ',\n",
       " ' scobleizer mathworksai handful list learning ',\n",
       " ' mathworksai handful list lear  elqiubtapg ',\n",
       " ' techreview world ',\n",
       " ' slide learning dlkbdf  vtbxdjrxne ',\n",
       " ' learning dozen pick knowledge ',\n",
       " ' pain illness ',\n",
       " ' ',\n",
       " ' learning fridayfeeling ',\n",
       " ' ',\n",
       " ' learning artificialintelligence  cwtkk ',\n",
       " ' learning artificialintelligence  cwtkk ',\n",
       " ' learning artificialintelligence  ',\n",
       " ' learning artificialintelligence  mlaa ',\n",
       " ' wacommunity atelier blue powder learning playground ',\n",
       " ' join march workshop portland dive organization qkfwmecspd ',\n",
       " ' technology industry planet ',\n",
       " ' fuel argument safety learning ',\n",
       " ' research guide estimation learning guide  uaft ',\n",
       " ' scobleizer mathworksai handful list learning ',\n",
       " ' mathworksai handful list lear  elqiubtapg ',\n",
       " ' techreview world ',\n",
       " ' slide learning dlkbdf  vtbxdjrxne ',\n",
       " ' learning dozen pick knowledge ',\n",
       " ' pain illness ',\n",
       " ' ',\n",
       " ' learning fridayfeeling ',\n",
       " ' ',\n",
       " ' learning artificialintelligence  cwtkk ',\n",
       " ' learning artificialintelligence  cwtkk ']"
      ]
     },
     "execution_count": 234,
     "metadata": {},
     "output_type": "execute_result"
    }
   ],
   "source": [
    "word = []\n",
    "\n",
    "for n in nouns:\n",
    "    new = \" \"\n",
    "    for i in range(len(n)):\n",
    "        if len(n[i]) > 3:\n",
    "            new = new + str(n[i].split(\",\")[0]) + \" \"\n",
    "    new = re.sub(\"https\", \"\", new)\n",
    "    new = re.sub(\"bdv\", \"\", new)\n",
    "    word.append(new)\n",
    "    \n",
    "word"
   ]
  },
  {
   "cell_type": "code",
   "execution_count": 235,
   "metadata": {},
   "outputs": [],
   "source": [
    "vectorizer = CountVectorizer(min_df=1)\n",
    "vectorizer = vectorizer.fit(word)\n",
    "\n",
    "X = vectorizer.transform(word)"
   ]
  },
  {
   "cell_type": "code",
   "execution_count": 236,
   "metadata": {},
   "outputs": [],
   "source": [
    "X = X.toarray()"
   ]
  },
  {
   "cell_type": "code",
   "execution_count": 237,
   "metadata": {},
   "outputs": [],
   "source": [
    "import networkx as nx\n",
    "\n",
    "g = nx.Graph()\n",
    "g.add_nodes_from(vectorizer.vocabulary_.keys())"
   ]
  },
  {
   "cell_type": "code",
   "execution_count": 238,
   "metadata": {},
   "outputs": [],
   "source": [
    "V_list = list(vectorizer.vocabulary_.keys())\n",
    "\n",
    "for i in range(len(V_list)):\n",
    "    for j in range(len(V_list)):\n",
    "        if X[i][j] == 1:\n",
    "            g.add_edges_from([(V_list[i],V_list[j])])"
   ]
  },
  {
   "cell_type": "code",
   "execution_count": 239,
   "metadata": {},
   "outputs": [
    {
     "data": {
      "text/plain": [
       "matrix([[0., 1., 0., ..., 0., 1., 0.],\n",
       "        [1., 1., 0., ..., 0., 0., 0.],\n",
       "        [0., 0., 1., ..., 1., 0., 0.],\n",
       "        ...,\n",
       "        [0., 0., 1., ..., 0., 0., 0.],\n",
       "        [1., 0., 0., ..., 0., 0., 0.],\n",
       "        [0., 0., 0., ..., 0., 0., 0.]])"
      ]
     },
     "execution_count": 239,
     "metadata": {},
     "output_type": "execute_result"
    }
   ],
   "source": [
    "nx.to_numpy_matrix(g)"
   ]
  },
  {
   "cell_type": "code",
   "execution_count": 240,
   "metadata": {},
   "outputs": [
    {
     "data": {
      "image/png": "[encoded data removed]",
      "text/plain": [
       "<Figure size 432x288 with 1 Axes>"
      ]
     },
     "metadata": {},
     "output_type": "display_data"
    }
   ],
   "source": [
    "nx = nx.draw(g, with_labels = True,font_family = font_name)"
   ]
  },
  {
   "cell_type": "code",
   "execution_count": null,
   "metadata": {},
   "outputs": [],
   "source": []
  },
  {
   "cell_type": "code",
   "execution_count": null,
   "metadata": {},
   "outputs": [],
   "source": []
  },
  {
   "cell_type": "code",
   "execution_count": null,
   "metadata": {},
   "outputs": [],
   "source": []
  },
  {
   "cell_type": "code",
   "execution_count": null,
   "metadata": {},
   "outputs": [],
   "source": []
  },
  {
   "cell_type": "code",
   "execution_count": null,
   "metadata": {},
   "outputs": [],
   "source": []
  },
  {
   "cell_type": "code",
   "execution_count": null,
   "metadata": {},
   "outputs": [],
   "source": []
  },
  {
   "cell_type": "code",
   "execution_count": null,
   "metadata": {},
   "outputs": [],
   "source": []
  },
  {
   "cell_type": "code",
   "execution_count": null,
   "metadata": {},
   "outputs": [],
   "source": []
  },
  {
   "cell_type": "code",
   "execution_count": null,
   "metadata": {},
   "outputs": [],
   "source": []
  },
  {
   "cell_type": "code",
   "execution_count": null,
   "metadata": {},
   "outputs": [],
   "source": []
  },
  {
   "cell_type": "code",
   "execution_count": null,
   "metadata": {},
   "outputs": [],
   "source": []
  },
  {
   "cell_type": "code",
   "execution_count": null,
   "metadata": {},
   "outputs": [],
   "source": []
  },
  {
   "cell_type": "code",
   "execution_count": null,
   "metadata": {},
   "outputs": [],
   "source": []
  },
  {
   "cell_type": "code",
   "execution_count": null,
   "metadata": {},
   "outputs": [],
   "source": []
  },
  {
   "cell_type": "code",
   "execution_count": null,
   "metadata": {},
   "outputs": [],
   "source": []
  },
  {
   "cell_type": "code",
   "execution_count": null,
   "metadata": {},
   "outputs": [],
   "source": []
  },
  {
   "cell_type": "code",
   "execution_count": null,
   "metadata": {},
   "outputs": [],
   "source": []
  }
 ],
 "metadata": {
  "kernelspec": {
   "display_name": "Python 3",
   "language": "python",
   "name": "python3"
  },
  "language_info": {
   "codemirror_mode": {
    "name": "ipython",
    "version": 3
   },
   "file_extension": ".py",
   "mimetype": "text/x-python",
   "name": "python",
   "nbconvert_exporter": "python",
   "pygments_lexer": "ipython3",
   "version": "3.7.4"
  }
 },
 "nbformat": 4,
 "nbformat_minor": 2
}
