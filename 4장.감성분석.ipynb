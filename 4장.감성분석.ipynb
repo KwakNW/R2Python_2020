{
 "cells": [
  {
   "cell_type": "markdown",
   "metadata": {},
   "source": [
    "# 4.1"
   ]
  },
  {
   "cell_type": "code",
   "execution_count": 187,
   "metadata": {},
   "outputs": [],
   "source": [
    "import numpy as np\n",
    "import pandas as pd\n",
    "import collections"
   ]
  },
  {
   "cell_type": "code",
   "execution_count": 56,
   "metadata": {},
   "outputs": [
    {
     "name": "stdout",
     "output_type": "stream",
     "text": [
      "pygame 1.9.4\n",
      "Hello from the pygame community. https://www.pygame.org/contribute.html\n"
     ]
    }
   ],
   "source": [
    "from collections import Counter\n",
    "from konlpy.tag import Twitter\n",
    "from konlpy.tag import Kkma\n",
    "import pytagcloud\n",
    "import matplotlib.pyplot as plt\n",
    "from wordcloud import WordCloud, STOPWORDS"
   ]
  },
  {
   "cell_type": "code",
   "execution_count": 32,
   "metadata": {},
   "outputs": [],
   "source": [
    "file = open('C:/Users/K.N.W/Desktop/R2Python/positive-words.txt', mode='r', encoding='utf-8')"
   ]
  },
  {
   "cell_type": "code",
   "execution_count": 33,
   "metadata": {},
   "outputs": [],
   "source": [
    "poswords = file.readlines()"
   ]
  },
  {
   "cell_type": "code",
   "execution_count": 36,
   "metadata": {},
   "outputs": [],
   "source": [
    "sentence = []\n",
    "\n",
    "for line in poswords:\n",
    "    sentence.append(line)\n",
    "file.close()"
   ]
  },
  {
   "cell_type": "code",
   "execution_count": 37,
   "metadata": {},
   "outputs": [],
   "source": [
    "poswords = sentence"
   ]
  },
  {
   "cell_type": "code",
   "execution_count": 38,
   "metadata": {},
   "outputs": [],
   "source": [
    "new = []\n",
    "\n",
    "for pos in poswords:\n",
    "    pos = re.sub(\"\\n\", \"\", pos)\n",
    "    pos = re.sub(\";\", \"\", pos)\n",
    "    new.append(pos)"
   ]
  },
  {
   "cell_type": "code",
   "execution_count": 40,
   "metadata": {},
   "outputs": [],
   "source": [
    "pos_words = []\n",
    "for i in range(len(new)):\n",
    "    if len(new[i]) > 1:\n",
    "        pos_words.append(new[i])"
   ]
  },
  {
   "cell_type": "code",
   "execution_count": 47,
   "metadata": {},
   "outputs": [],
   "source": [
    "file = open('C:/Users/K.N.W/Desktop/R2Python/negative-words.txt', mode='r', encoding='utf-8')"
   ]
  },
  {
   "cell_type": "code",
   "execution_count": 48,
   "metadata": {},
   "outputs": [],
   "source": [
    "negwords = file.readlines()"
   ]
  },
  {
   "cell_type": "code",
   "execution_count": 49,
   "metadata": {},
   "outputs": [],
   "source": [
    "sentence = []\n",
    "\n",
    "for line in negwords:\n",
    "    sentence.append(line)\n",
    "file.close()"
   ]
  },
  {
   "cell_type": "code",
   "execution_count": 50,
   "metadata": {},
   "outputs": [],
   "source": [
    "negwords = sentence"
   ]
  },
  {
   "cell_type": "code",
   "execution_count": 51,
   "metadata": {},
   "outputs": [],
   "source": [
    "new = []\n",
    "\n",
    "for neg in negwords:\n",
    "    neg = re.sub(\"\\n\", \"\", neg)\n",
    "    neg = re.sub(\";\", \"\", neg)\n",
    "    new.append(neg)"
   ]
  },
  {
   "cell_type": "code",
   "execution_count": 52,
   "metadata": {},
   "outputs": [],
   "source": [
    "neg_words = []\n",
    "for i in range(len(new)):\n",
    "    if len(new[i]) > 1:\n",
    "        neg_words.append(new[i])"
   ]
  },
  {
   "cell_type": "code",
   "execution_count": 130,
   "metadata": {},
   "outputs": [],
   "source": [
    "text = [[\"I love this car\"],\n",
    "        [\"This view is nice and amazing\"],\n",
    "        [\"I am so excited about the concert\"],\n",
    "        [\"I feel tired this morning\"],\n",
    "        [\"I hate and hate and hate. So angry. Die!\"]]"
   ]
  },
  {
   "cell_type": "code",
   "execution_count": 156,
   "metadata": {},
   "outputs": [],
   "source": [
    "def sentiment(pos_words, neg_words, text):\n",
    "    for i in range(len(text)):\n",
    "        text[i][0] = re.sub('[^a-zA-Z]', ' ', text[i][0])\n",
    "        text[i][0] = text[i][0].lower()\n",
    "    \n",
    "    nlp = Twitter()\n",
    "    tagged = []\n",
    "\n",
    "    for s in text:\n",
    "        n = nlp.pos(s[0])\n",
    "        tagged.append(n)\n",
    "        \n",
    "    total = []\n",
    "\n",
    "    for t in range(len(tagged)):\n",
    "        tag = []\n",
    "        for i in range(len(tagged[t])):\n",
    "            tag.append(tagged[t][i][0])\n",
    "        total.append(tag)\n",
    "        \n",
    "    result = {}\n",
    "    \n",
    "    for t in range(len(total)):\n",
    "        score = 0\n",
    "        for i in range(len(total[t])):\n",
    "            if total[t][i] in pos_words:\n",
    "                score += 1\n",
    "            if total[t][i] in neg_words:\n",
    "                score -= 1\n",
    "        result.update({text[t][0] : score})\n",
    "        \n",
    "    return result"
   ]
  },
  {
   "cell_type": "code",
   "execution_count": 160,
   "metadata": {},
   "outputs": [],
   "source": [
    "result = sentiment(pos_words, neg_words, text)"
   ]
  },
  {
   "cell_type": "code",
   "execution_count": 172,
   "metadata": {},
   "outputs": [
    {
     "data": {
      "text/plain": [
       "{'i love this car': 1,\n",
       " 'this view is nice and amazing': 2,\n",
       " 'i am so excited about the concert': 1,\n",
       " 'i feel tired this morning': -1,\n",
       " 'i hate and hate and hate  so angry  die ': -5}"
      ]
     },
     "execution_count": 172,
     "metadata": {},
     "output_type": "execute_result"
    }
   ],
   "source": [
    "result"
   ]
  },
  {
   "cell_type": "code",
   "execution_count": 189,
   "metadata": {},
   "outputs": [],
   "source": [
    "counter = collections.Counter(list(result.values()))"
   ]
  },
  {
   "cell_type": "code",
   "execution_count": 191,
   "metadata": {},
   "outputs": [
    {
     "data": {
      "text/plain": [
       "Counter({1: 2, 2: 1, -1: 1, -5: 1})"
      ]
     },
     "execution_count": 191,
     "metadata": {},
     "output_type": "execute_result"
    }
   ],
   "source": [
    "counter"
   ]
  },
  {
   "cell_type": "code",
   "execution_count": 180,
   "metadata": {},
   "outputs": [
    {
     "data": {
      "text/plain": [
       "-0.4"
      ]
     },
     "execution_count": 180,
     "metadata": {},
     "output_type": "execute_result"
    }
   ],
   "source": [
    "np.mean(list(result.values()))"
   ]
  },
  {
   "cell_type": "markdown",
   "metadata": {},
   "source": [
    "## 막대그래프"
   ]
  },
  {
   "cell_type": "code",
   "execution_count": 194,
   "metadata": {},
   "outputs": [],
   "source": [
    "from matplotlib import font_manager, rc #한글 깨짐 현상\n",
    "font_name = font_manager.FontProperties(fname=\"c:/Windows/Fonts/H2PORM.ttf\").get_name()\n",
    "rc('font', family=font_name)"
   ]
  },
  {
   "cell_type": "code",
   "execution_count": 195,
   "metadata": {},
   "outputs": [
    {
     "data": {
      "image/png": "[encoded data removed]",
      "text/plain": [
       "<Figure size 432x288 with 1 Axes>"
      ]
     },
     "metadata": {
      "needs_background": "light"
     },
     "output_type": "display_data"
    }
   ],
   "source": [
    "plt.bar(*zip(*counter.items()))\n",
    "plt.show()"
   ]
  },
  {
   "cell_type": "markdown",
   "metadata": {},
   "source": [
    "# 4.2"
   ]
  },
  {
   "cell_type": "code",
   "execution_count": 225,
   "metadata": {},
   "outputs": [],
   "source": [
    "file = open('C:/Users/K.N.W/Desktop/R2Python/positive_word.txt', mode='r', encoding='utf-8')"
   ]
  },
  {
   "cell_type": "code",
   "execution_count": 226,
   "metadata": {},
   "outputs": [],
   "source": [
    "poswords = file.readlines()"
   ]
  },
  {
   "cell_type": "code",
   "execution_count": 227,
   "metadata": {},
   "outputs": [],
   "source": [
    "sentence = []\n",
    "\n",
    "for line in poswords:\n",
    "    sentence.append(line)\n",
    "file.close()"
   ]
  },
  {
   "cell_type": "code",
   "execution_count": 228,
   "metadata": {},
   "outputs": [],
   "source": [
    "poswords = sentence"
   ]
  },
  {
   "cell_type": "code",
   "execution_count": 229,
   "metadata": {},
   "outputs": [],
   "source": [
    "new = []\n",
    "\n",
    "for pos in poswords:\n",
    "    pos = re.sub(\"\\n\", \"\", pos)\n",
    "    pos = re.sub(\";\", \"\", pos)\n",
    "    new.append(pos)"
   ]
  },
  {
   "cell_type": "code",
   "execution_count": 230,
   "metadata": {},
   "outputs": [],
   "source": [
    "pos_words = []\n",
    "for i in range(len(new)):\n",
    "    if len(new[i]) > 1:\n",
    "        pos_words.append(new[i])"
   ]
  },
  {
   "cell_type": "code",
   "execution_count": 231,
   "metadata": {},
   "outputs": [],
   "source": [
    "file = open('C:/Users/K.N.W/Desktop/R2Python/negative_word.txt', mode='r', encoding='utf-8')"
   ]
  },
  {
   "cell_type": "code",
   "execution_count": 232,
   "metadata": {},
   "outputs": [],
   "source": [
    "negwords = file.readlines()"
   ]
  },
  {
   "cell_type": "code",
   "execution_count": 233,
   "metadata": {},
   "outputs": [],
   "source": [
    "new = []\n",
    "\n",
    "for neg in negwords:\n",
    "    neg = re.sub(\"\\n\", \"\", neg)\n",
    "    neg = re.sub(\";\", \"\", neg)\n",
    "    new.append(neg)"
   ]
  },
  {
   "cell_type": "code",
   "execution_count": 234,
   "metadata": {},
   "outputs": [],
   "source": [
    "neg_words = []\n",
    "for i in range(len(new)):\n",
    "    if len(new[i]) > 1:\n",
    "        neg_words.append(new[i])"
   ]
  },
  {
   "cell_type": "code",
   "execution_count": 235,
   "metadata": {},
   "outputs": [],
   "source": [
    "file = open('C:/Users/K.N.W/Desktop/R2Python/trot.txt', mode='r', encoding='utf-8')"
   ]
  },
  {
   "cell_type": "code",
   "execution_count": 236,
   "metadata": {},
   "outputs": [],
   "source": [
    "trot = file.readlines()"
   ]
  },
  {
   "cell_type": "code",
   "execution_count": 237,
   "metadata": {},
   "outputs": [],
   "source": [
    "sentence = []\n",
    "\n",
    "for line in trot:\n",
    "    sentence.append(line)\n",
    "file.close()"
   ]
  },
  {
   "cell_type": "code",
   "execution_count": 238,
   "metadata": {},
   "outputs": [],
   "source": [
    "trot = sentence"
   ]
  },
  {
   "cell_type": "code",
   "execution_count": 239,
   "metadata": {},
   "outputs": [],
   "source": [
    "new = []\n",
    "\n",
    "for tr in trot:\n",
    "    tr = re.sub(\"\\n\", \"\", tr)\n",
    "    tr = re.sub(\";\", \"\", tr)\n",
    "    tr = re.sub(\"\\ufeff\", \"\", tr)\n",
    "    new.append(tr)"
   ]
  },
  {
   "cell_type": "code",
   "execution_count": 267,
   "metadata": {},
   "outputs": [],
   "source": [
    "trot2 = []\n",
    "\n",
    "for t in range(len(trot)):\n",
    "    trot2.append([trot[t]])"
   ]
  },
  {
   "cell_type": "code",
   "execution_count": 268,
   "metadata": {},
   "outputs": [],
   "source": [
    "def sentiment(pos_words, neg_words, text):\n",
    "    for i in range(len(text)):\n",
    "        text[i][0] = re.sub('[ㄱ-ㅎ]', ' ', text[i][0])\n",
    "        text[i][0] = text[i][0].lower()\n",
    "    \n",
    "    nlp = Twitter()\n",
    "    tagged = []\n",
    "\n",
    "    for s in text:\n",
    "        n = nlp.pos(s[0])\n",
    "        tagged.append(n)\n",
    "        \n",
    "    total = []\n",
    "\n",
    "    for t in range(len(tagged)):\n",
    "        tag = []\n",
    "        for i in range(len(tagged[t])):\n",
    "            tag.append(tagged[t][i][0])\n",
    "        total.append(tag)\n",
    "        \n",
    "    result = {}\n",
    "    \n",
    "    for t in range(len(total)):\n",
    "        score = 0\n",
    "        for i in range(len(total[t])):\n",
    "            if total[t][i] in pos_words:\n",
    "                score += 1\n",
    "            if total[t][i] in neg_words:\n",
    "                score -= 1\n",
    "        result.update({text[t][0] : score})\n",
    "        \n",
    "    return result"
   ]
  },
  {
   "cell_type": "code",
   "execution_count": 269,
   "metadata": {},
   "outputs": [],
   "source": [
    "result = sentiment(pos_words, neg_words, trot2)"
   ]
  },
  {
   "cell_type": "code",
   "execution_count": 270,
   "metadata": {},
   "outputs": [
    {
     "data": {
      "text/plain": [
       "{'\\ufeff잘 가라 나를 잊어라 이까짓 거 사랑 몇 번은 더 할 테니 알잖아 내가 뒤끝이 좀 짧아서 알잖아 내가 너 말고도 님이 많아서 난 싫어 간질간질 거리는 이별 이 맘 때쯤 때쯤 흐르는 눈물 할 만큼 했잖아 미련이 없잖아 (짠짠 짜잔 짠) 잘 가라 나를 잊어라 이까짓 거 사랑 몇 번은 더 할 테니 잘 가라 돌아보지 말아라 여기서 난 안녕 멀리 안 나갈 테니 울지 마라 울지 마라 울지 마라 알잖아 내가 깔끔한 게 좋아서 혹시나 하는 맘에 하는 얘기인 거야 비라도 부슬부슬 오는 늦은 밤 술이 한 잔 두 잔 들어가는 밤 혀 꼬인 말투로 전화하지 마라 (짠짠 짜잔 짠) 잘 가라 나를 잊어라 이까짓 거 사랑 몇 번은 더 할 테니 잘 가라 돌아보지 말아라 여기서 난 안녕 멀리 안 나갈 테니 잘 가라 나를 잊어라 이까짓 거 이별 몇 번은 더 할 테니 잘 가라 돌아보지 말아라 여기서 난 안녕 멀리 안 나갈 테니 울지 마라 울지 마라 울지 마라(홍진영)\\n': 4,\n",
       " '산다는 게 다 그런 거지 누구나 빈손으로 와 소설같은 한 편의 얘기들을 세상에 뿌리며 살지 자신에게 실망하지마 모든 걸 잘할 순 없어 오늘보다 더 나은 내일이면 돼 인생은 지금이야 아모르 파티 아모르 파티 인생이란 붓을 들고 서 무엇을 그려야할지 고민하고 방황하던 시간이 없다면 거짓말이지 말해 뭐해 쏜 화살처럼 사랑도 지나갔지만 그 추억들 눈이 부시면서도 슬프던 행복이여 나이는 숫자 마음이 진짜 가슴이 뛰는대로 가면 돼 이제는 더이상 슬픔이여 안녕 왔다 갈 한 번의 인생아 연애는 필수 결혼은 선택 가슴이 뛰는대로 하면 돼 눈물은 이별의 거품일 뿐이야 다가올 사랑은 두렵지 않아 아모르 파티 아모르 파티 말해 뭐해 쏜 화살처럼 사랑도 지나갔지만 그 추억들 눈이 부시면서도 슬프던 행복이여 나이는 숫자 마음이 진짜 가슴이 뛰는대로 가면 돼 이제는 더이상 슬픔이여 안녕 왔다 갈 한 번의 인생아 연애는 필수 결혼은 선택 가슴이 뛰는대로 하면 돼 눈물은 이별의 거품일 뿐이야 다가올 사랑은 두렵지 않아 아모르 파티 아모르 파티 아모르 파티(김연자)\\n': 5,\n",
       " '산다는 건 다 그런 거래요 힘들고 아픈 날도 많지만 산다는 건 참 좋은 거래요 오늘도 수고 많으셨어요 어떻게 지내셨나요 오늘도 한잔 걸치셨나요 뜻대로 되는 일 없어 한숨이 나도 슬퍼마세요 어느 구름속에 비가 들었는지 누가 알아 살다보면 나에게도 좋은 날이 온답니다 산다는 건 다 그런 거래요 힘들고 아픈 날도 많지만 산다는 건 참 좋은 거래요 오늘도 수고 많으셨어요 옆집이 부러운가요 친구가 요즘 잘나가나요 남들은 다 좋아 보여 속상해져도 슬퍼마세요 사람마다 알고 보면 말 못할 사연도 많아 인생이 별거 있나요 거기서 거기인거지 산다는 건 다 그런 거래요 힘들고 아픈 날도 많지만 산다는 건 참 좋은 거래요 오늘도 수고 많으셨어요 산다는 건 다 그런 거래요 세상일이란 알 수 없지만 산다는 건 참 멋진 거래요 모두가 내일도 힘내세요(홍진영)\\n': 1,\n",
       " '엄지 엄지 척 엄지 엄지 척 자상하고 다정다감해 보면 볼수록 알면 알수록 매력이 넘쳐요 엄지 엄지 척 엄지 엄지 척 천생연분 내 사랑이에요 그냥 좋아요 왠지 좋아요 엄지 척 평범하고 편안한 속이 깊은 이 남자 사람 냄새가 풍겨서 좋아요 성실하고 진실한 믿음직한 내 남자 당신을 정말로 사랑해 엄지 엄지 척 엄지 엄지 척 자상하고 다정다감해 보면 볼수록 알면 알수록 매력이 넘쳐요 엄지 엄지 척 엄지 엄지 척 천생연분 내 사랑이에요 그냥 좋아요 왠지 좋아요 엄지 척 오늘보다 내일을 약속하고 싶어요 꿈과 희망이 있어서 좋아요 평생토록 나만을 지켜준다 말해요 당신을 영원히 사랑해 엄지 엄지 척 엄지 엄지 척 자상하고 다정다감해 보면 볼수록 알면 알수록 매력이 넘쳐요 엄지 엄지 척 엄지 엄지 척 천생연분 내 사랑이에요 그냥 좋아요 왠지 좋아요 엄지 척 엄지 엄지 척 엄지 엄지 척 자상하고 다정다감해 보면 볼수록 알면 알수록 매력이 넘쳐요 엄지 엄지 척 엄지 엄지 척 천생연분 내 사랑이에요 그냥 좋아요 왠지 좋아요 엄지 척 사랑해요 내 사랑 엄지 척 엄지 척(홍진영)\\n': 10,\n",
       " '살아서는 갖지 못하는 그런 이름 하나 때문에 그리운 맘 눈물 속에 난 띄워 보낼 뿐이죠 스치듯 보낼 사람이 어쩌다 내게 들어 와 장미의 가시로 남아서 날 아프게 지켜 보네요 따라가면 만날 수 있나 멀고 먼 세상 끝까지 그대라면 어디라도 난 그저 행복할 테니 살아서는 갖지 못하는 그런 이름 하나 때문에 그리운 맘 눈물 속에 난 띄워 보낼 뿐이죠 스치듯 보낼 사람이 어쩌다 내게 들어 와 장미의 가시로 남아서 날 아프게 지켜 보네요 따라가면 만날 수 있나 멀고 먼 세상 끝까지 그대라면 어디라도 난 그저 행복할 테니 난 너무 행복할 테니(장윤정)\\n': -2,\n",
       " '따르릉 따르릉 내가 니 누나야 yeah 따르릉 1 2 3 4 니가 먼저 만나재 놓고 내 탓을 하지 마 니가 니가 나쁜 남자 내 탓을 하지 마 이 여자 저 여자 다 만나놓고 내 탓을 하지 마 누나야 누나 누나야 니 누나야 누나야 누나 누나야 니 누나야 이 여자 저 여자 만나봤겠지만 즐거웠겠지만 너를 사랑해 사랑해 따르릉 따르릉 따르릉 내가 니 누나야 따르릉 따르릉 내가 니 누나야 누누나나 내가 니 누나야 누누나나 내가 니 누나야 니 누나야 1 2 3 4 니가 먼저 날 차버렸지 내 탓을 하지 마 니가 먼저 꽁무니 뺏지 내 탓을 하지 마 이 여자 저 여자 다 만나놓고 내 탓을 하지 마 누나야 누나 누나야 니 누나야 누나야 누나 누나야 니 누나야 이 여자 저 여자 만나봤겠지만 후회하겠지만 너를 사랑해 사랑해 따르릉 따르릉 따르릉 내가 니 누나야 따르릉 따르릉 내가 니 누나야 누누나나 내가 니 누나야 누누나나 내가 니 누나야 니 누나야(홍진영)\\n': 2,\n",
       " '천태만상 인간세상 사는 법도 가지가지 귀천이 따로 있나 재판한다 판사 변호한다 변호사 범인잡는 형사 계룡산에 부채도사 연구한다 박사 운전한다 기사 트럭 택시 기차 전차 버스 봉고 도저 기중기 요리한다 요리사 소개한다 중계사 파마한다 미용사 간호한다 간호사 얼럴러리여 천태만상 인간세상 사는 법도 가지가지 귀천이 따로 있나 술판다 술장수 밥판다 밥장수 옷판다 옷장수 고기채소 과일장수 놀고먹는 백수 운동한다 선수 축구 야구 농구 배구 씨름 골프 복싱 태권도 말을탄다 기수 집짓는다 목수 돌깎는다 석수 고라니잡는 포수 얼럴러리여 천태만상 인간세상 사는 법도 가지가지 귀천이 따로 있나 천태만상 인간세상 사는 법도 가지가지 귀천이 따로 있나 설교한다 목사님 염불한다 스님 가르친다 선생님 병고친다 의사님 재롱둥이 연예인 나라지키는 군인 육군 공군 해군 해병대 특전사 카츄샤 순경 의경 공무보는 공무원 업무보는 회사원 경비보는 경비원 청소하는 미화원 얼럴러리여 천태만상 인간세상 사는 법도 가지가지 귀천이 따로 있나 농사짓는 농부 고기잡는 어부 공사장에 잡부 알바 도우미 파출부 약초캐는 심마니 오일장에 할머니 달래 냉이 취나물 콩나물 고사리 더덕 단감 곶감 이고 지고 오셔서 한푼 두푼 벌어서 손주 용돈 주면서 고생고생하는데 백수가 웬말이냐 천태만상 인간세상 사는 법도 가지가지 귀천이 따로 있나(윤수현)\\n': -1,\n",
       " '나를 사랑으로 채워줘요 사랑의 배터리가 다 됐나 봐요 당신 없인 못살아 정말 나는 못살아 당신은 나의 배터리 얼짱이 아니라도 좋아요 몸짱이 아니라도 좋아요 나만을 위해줄 당신이 바로 내겐 짱이랍니다 한번 더 나를 안아주세요 가슴이 터지도록 안아주세요 사랑의 약발이 떨어졌나봐 당신이 필요해요 나를 사랑으로 채워줘요 사랑의 배터리가 다 됐나 봐요 당신 없인 못살아 정말 나는 못살아 당신은 나의 배터리 내겐 당신만이 전부예요 당신이 너무 좋아 완전 좋아요 하나뿐인 내 사랑 둘도 없는 내 사랑 당신이 짱이랍니다 사랑을 가득 넣어 주세요 가슴에 넘치도록 넣어주세요 사랑의 약발이 떨어졌나봐 나 지금 외로워요 나를 사랑으로 채워줘요 사랑의 배터리가 다 됐나 봐요 당신 없인 못살아 정말 나는 못살아 당신은 나의 배터리 내겐 당신만이 전부예요 당신이 너무 좋아 완전 좋아요 하나뿐인 내 사랑 둘도 없는 내 사랑 당신이 짱이랍니다 아무리 힘든 날에도 당신만 있다면 힘들지 않아 나는 슬프지 않아 당신 곁이라면 내겐 당신만이 전부예요 당신이 너무 좋아 완전 좋아요 하나뿐인 내 사랑 둘도 없는 내 사랑 당신이 짱이랍니다 당신이 짱이랍니다 당신이 짱이랍니다(홍진영)\\n': 17,\n",
       " '바람에 날려버린 허무한 맹세였나 첫눈이 내리는 날 안동역 앞에서 만나자고 약속한 사람 새벽부터 오는 눈이 무릎까지 덮는데 안 오는 건지 못 오는 건지 오지 않는 사람아 안타까운 내 마음만 녹고 녹는다 기적소리 끊어진 밤에 어차피 지워야 할 사랑은 꿈이였나 첫눈이 내리는 날 안동역 앞에서 만나자고 약속한 사람 새벽부터 오는 눈이 무릎까지 덮는데 안 오는 건지 못 오는 건지 대답 없는 사람아 기다리는 내 마음만 녹고 녹는다 기다리는 내 마음만 녹고 녹는다 기다리는 안동역에서(진성)\\n': 0,\n",
       " '사랑했다는 그 말도 거짓말 돌아온다던 그 말도 거짓말 세상의 모든 거짓말 다 해놓고 행여 나를 찾아와 있을 너의 그 마음 또 다칠까 너의 자리를 난 또 비워둔다 이젠 더 이상 속아선 안되지 이젠 더 이상 믿어선 안되지 하지만 그게 말처럼 쉽지 않아 다시 한번만 더 나 너를 다시 한번만 더 너에게 나를 사랑할 기횔 주어본다 어떤 사랑으로 나의 용서에 답하련지 또 잠시 날 사랑하다 떠날건지 마치 처음 날 사랑하듯 가슴 뜨겁게 와 있지만 난 왠지 그 사랑이 두려워 오직 나만을 위한 그 약속과 내 곁에서 날 지켜준다는 말 이번만큼은 제발 변치않길 어떤 사랑으로 나의 용서에 답하련지 또 잠시 날 사랑하다 떠날건지 마치 처음 날 사랑하듯 가슴 뜨겁게 와 있지만 난 왠지 그 사랑이 두려워 오직 나만을 위한 그 약속과 내 곁에서 날 지켜준다는 말 이번만큼은 제발 변치않길 오직 나만을 위한 그 약속과 내 곁에서 날 지켜준다는 말 이번만큼은 제발 변치않길(조항조)\\n': 5,\n",
       " '아야 뛰지마라 배꺼질라 가슴시린 보릿고개 길 주린 배 잡고 물 한바가지 배 채우시던 그 세월을 어찌 사셨소 초근목피에 그시절 바람결에 지워져 갈때 어머님 설움 잊고 살았던 한 많은 보릿고개여 풀피리 꺾어 불던 슬픈 곡조는 어머님의 한숨이었소 아야 우지마라 배꺼질라 가슴시린 보릿고개 길 주린 배 잡고 물 한바가지 배 채우시던 그 세월을 어찌 사셨소 초근목피에 그시절 바람결에 지워져 갈때 어머님 설움 잊고 살았던 한 많은 보릿고개여 풀피리 꺾어 불던 슬픈 곡조는 어머님의 한숨이었소 풀피리 꺾어 불던 슬픈 곡조는 어머님의 통곡이었소(진성)\\n': -7,\n",
       " '내 마음이죠 다 내거죠 그대만 몰라요 내 가슴속에 애타는 이 마음 그댄 모르잖아요 참 나빠요 못됐어요 왜 모른 체 해요 옆에 있는 날 한번 봐줘요 여기 서 있을게요 바람타고 멀리 벚꽃향기 스칠 때 내게로 와줘요 내 손 잡아주세요 바람 속에 그대 향기 내 마음을 적실 때 나의 눈물이 말해주네요 그댈 기다리는 마음 바람타고 멀리 벚꽃향기 스칠 때 내게로 와줘요 내 손 잡아주세요 바람 속에 그대 향기 내 마음을 적실 때 나의 눈물이 말해주네요 그댈 기다리는 마음 나의 눈물이 말해주네요 그댈 기다리는 마음(홍진영)\\n': -3,\n",
       " '안돼요 안돼 날 두고 떠나면 안돼 그렇겐 못해 난 절대 보낼 순 없어 갈테면 가봐 모든 걸 잊고 떠나봐 그땐 뒤돌아서 후회를 할거야 희미한 기억속에 너의 이름 불러도 다신 볼수 없던 사랑한 사람 사랑아 나를 두고 떠나가지마 내맘 주고 가려거든 다신 나를 찾지마 언젠가 그대 나를 찾는 다해도 그땐 내가 먼저 뒤돌아서 그대 볼수 없으리 안돼요 안돼 날 두고 떠나면 안돼 그렇겐 못해 난 절대 보낼 순 없어 갈테면 가봐 모든 걸 잊고 떠나봐 그땐 뒤돌아서 후회를 할거야 희미한 기억속에 너의 이름 불러도 다신 볼수 없던 사랑한 사람 사랑아 나를 두고 떠나가지마 내맘 주고 가려거든 다신 나를 찾지마 언젠가 그대 나를 찾는 다해도 그땐 내가 먼저 뒤돌아서 그대 볼수 없으리(장윤정)\\n': 2,\n",
       " '아침에 눈을 뜨면 제일먼저 생각나는 자네는 좋은 친구야 피한방울 섞이지 않은 우리 두 사람 전생에 인연일거야 자식보다 자네가 좋고 돈보다 자네가 좋아 자네와 난 보약 같은 친구야 아 아 아 사는 날까지 같이 가세 보약 같은 친구야 사랑도 해봤고 이별도 해봤지 사는 거 별거 없더라 언제 갈지 모르는 인생 우리 둘이서 웃으며 살아가보자 자식보다 자네가 좋고 돈보다 자네가 좋아 자네와 난 보약 같은 친구야 아 아 아 사는 날까지 같이 가세 보약 같은 친구야 자식보다 자네가 좋고 돈보다 자네가 좋아 자네와 난 보약 같은 친구야 아 아 아 사는 날까지 같이 가세 보약 같은 친구야 같이 가세 보약 같은 친구야(진시몬)\\n': 16,\n",
       " '(나의 오라버니) 날 사랑 하신다 하니 정말 그러 시다니 구금 타고 빛나는 하늘 훨훨 날아 갑니다 날 사랑 하신다 하니 정말 행복 하여서 설레이다 떠는 가슴은 아픈 줄도 모른 답니다 오라버니 어께애 기대어 볼래요 커다란 가슴에 얼굴을 묻고 지금 이대로 죽어도 여한 없어요 나는 정말 여자라서 행복 해요 오라버니 사랑한다 말해 주세요 정신을 못 차릴 거야 오라버니 목소리에 울고 웃어요 내겐 영원한 오라버니 오라버니 어께에 기대어 볼래요 커다란 가슴에 얼굴을 묻고 지금 이대로 죽어도 여한 없어요 나는 정말 여자라서 행복 해요 오라버니 사랑한다 말해 주세요 정신을 못 차릴 거야 오라버니 목소리에 울고 웃어요 내겐 영원한 오라 버니 내겐 영원한 오라버니 (나의 오라버니)(금잔디)\\n': 7,\n",
       " '남몰래 기다리다가 가슴만 태우는 사랑 어제는 기다림에 오늘은 외로움 그리움에 적셔진 긴세월 이렇게 살라고 인연을 맺었나 차라리 저 멀리 둘 걸 미워졌다고 갈수 있나요 행여나 찾아 올까봐 가슴이 사랑을 잊지못해 이별로 끝난다 해도 그 끈을 놓을 수 없어 너와나 운명 인거야 이렇게 살라고 인연을 맺었나 차라리 저 멀리 둘걸 미워졌다고 갈수 있나요 행여나 찾아 올까봐 가슴이 사랑을 잊지 못해 이별로 끝난다 해도 그 끈을 놓을 순 없어 너와나 운명 인거야 그 끈을 놓을 순 없어 이것이 운명 인거야(진미령)\\n': 3,\n",
       " '날 사랑한다 안한다 사랑한다 안한다 꽃잎 떼어 보는 이 마음 날 사랑한다 안한다 애타는 이내가슴 난 그대 없이 못 산답니다 바람아 나를 어서 데려 가 주렴 내 님 있는 곳으로 달님아 환히 밝게 비추어다오 내 님이 어디 있는지 사는 동안 그리워 눈물 날 때면 내 마음 쉬도록 부르는 이름 서글플 때나 또 속상할 때나 생각나는 오직 한사람 날 사랑한다 안한다 사랑한다 안한다 꽃잎 떼어 보는 이 마음 날 사랑한다 안한다 애타는 이내가슴 난 그대 없이 못 산답니다 세상일에 쫓기며 하룰 살아도 어쩌면 그리 당신 생각이나 되는 일 없을 때 나 마음지칠 때 생각나는 오직 한사람 날 사랑한다 안한다 사랑한다 안한다 꽃잎 떼어 보는 이 마음 날 사랑한다 안한다 애타는 이내가슴 난 그대 없인 못 산답니다 어느 곳이든 갈수 있어요 세상의 어떤 곳이라 해도 슬픈 사랑은 싫어요 아픈 것도 싫어요 내 곁에 와줄수 없나요 날 사랑한다 안한다 애타는 이내가슴 난 그대 없인 못 산답니다(홍진영)\\n': 9,\n",
       " '끝내주네요 젠틀하네요 당신은 끝내주네요 보지말아요 자꾸보나요 설레게 빤히 보지말아요 흔들흔들해 맘이 흔들해 두근거리게 하는 이사람 당신은 대박이예요 너무 좋아요 부끄러워요 너무 부끄러워요 난 몰라요 당신만을 당신만을 기다려요 부기부기부기맨 나를 사랑한다해요 이렇게 일년이가고 십년이가도 나는 기다려요 부기부기부기맨 나를 원한다고 말해요 이렇게 애타게하면 애타게하면 아이야이야이야이야 맘에 없는척 하지말아요 모른척 하지말아요 고민 말아요 용기를 내요 고민고민 하지말아요 오고 있어요 오고 있어요 당신이 오고 있어요 기분이 대박이예요 너무좋아요 부끄러워요 너무 부끄러워요 난 몰라요 당신만을 당신만을 기다려요 부기부기부기맨 나를 사랑한다해요 이렇게 일년이가고 십년이가도 나는 기다려요 부기부기부기맨 나를 원한다고 말해요 이렇게 애타게하면 애타게하면 아이야이야이야이야 부기부기부기맨 나를 원한다고 말해요 이렇게 애타게하면 애타게하면 애타게하면 아이야이야이야이야 부기부기부기맨(홍진영)\\n': 4,\n",
       " '산다는 건 다 그런 거래요 힘들고 아픈 날도 많지만 산다는 건 참 좋은 거래요 오늘도 수고 많으셨어요 어떻게 지내셨나요 오늘도 한잔 걸치셨네요 뜻대로 되는 일 없어 한숨이 나도 슬퍼마세요 어느 구름 속에 비가 들었는지 누가 알아 살다보면 나에게도 좋은 날이 온답니다 산다는 건 다 그런 거래요 힘들고 아픈 날도 많지만 산다는 건 참 좋은 거래요 오늘도 수고 많으셨어요 옆집이 부러운가요 친구가 요즘 잘나가나요 남들은 다 좋아 보여 속상해져도 슬퍼마세요 사람마다 알고 보면 말 못할 사연도 많아 인생이 별거 있나요 거기서 거기인거지 산다는 건 다 그런 거래요 힘들고 아픈 날도 많지만 산다는 건 참 좋은 거래요 오늘도 수고 많으셨어요 산다는 건 다 그런 거래요 세상일이란 알 수 없지만 산다는 건 참 멋진 거래요 모두다 내일도 힘내세요 오늘도 수고 많으셨어요(홍진영)\\n': 1,\n",
       " '그대는 내 사랑 당신도 내 사랑 이 세상에 그 무엇도 쨉이 안되지 원앙이 따로 있나 우리가 원앙이지 환상의 해피한 원앙이지 아~ 꿀맛 같은 그대 사랑에 내 인생을 걸었잖아 비가와도 좋아 눈이 와도 좋아 바람 불어도 좋아 좋아 좋아 당신이 좋~아 그대는 내 운명 당신도 내 운명 하늘아래 누가와도 쨉이 안되지 그대는 꽃 중에 꽃 당신은 벌 나비 환상의 해피한 꽃과 나비지 아~ 꿀맛 같은 그대 사랑에 내 인생을 걸었잖아 비가와도 좋아 눈이 와도 좋아 바람 불어도 좋아 좋아 좋아 당신이 좋~아 아~ 꿀맛 같은 그대 사랑에 내 인생을 걸었잖아 비가와도 좋아 눈이 와도 좋아 바람 불어도 좋아 좋아 좋아 당신이 좋~아 좋아 좋아 당신이 좋~아(남진)\\n': 20,\n",
       " '넌 정말 좋은 친구야 내가 지쳐 있을때 내가 울고 있을때 위로가 되어준 친구 넌 나의 힘이야 넌 나의 보배야 천년지기 나의 벗이야 친구야 우리 우정의 잔을 높이들어 건배를 하자 같은 배를 함께타고 떠나는 인생길 네가 있어 외롭지 않아 넌 정말 좋은 친구야 (넌 정말 좋은 친구야) 내가 외로워 할때 내가 방황을 할때 위로가 되어준 친구 넌 나의 힘이야 넌 나의 보배야 천년지기 나의 벗이야 친구야 우리 우정의 잔을 높이들어 건배를 하자 같은 배를 함께타고 떠나는 인생길 네가 있어 외롭지 않아 넌 정말 좋은 친구야 친구야 우리 우정의 잔을 높이들어 건배를 하자 같은 배를 함께타고 떠나는 인생길 네가 있어 외롭지 않아 넌 정말 좋은 친구야 넌 정말 멋진 친구야(유진표)\\n': 20,\n",
       " '따르릉 따르릉 내가 니 오빠야 yeah 따르릉 1 2 3 4 니가 먼저 만나재 놓고 내 탓을 하지 마 니가 니가 나쁜 여자 내 탓을 하지 마 이런 놈 저런 놈 다 만나놓고 내 탓을 하지 마 오빠야 오빠 오빠야 니 오빠야 오빠야 오빠 오빠야 니 오빠야 이런 놈 저런 놈 만나봤겠지만 즐거웠겠지만 너를 사랑해 사랑해 따르릉 따르릉 따르릉 내가 니 오빠야 따르릉 따르릉 내가 니 오빠야 오오빠빠 내가 니 오빠야 오오빠빠 내가 니 오빠야 니 오빠야 1 2 3 4 니가 먼저 날 차버렸지 내 탓을 하지 마 니가 먼저 꽁무니 뺐지 내 탓을 하지 마 이런 놈 저런 놈 다 만나놓고 내 탓을 하지 마 오빠야 오빠 오빠야 니 오빠야 오빠야 오빠 오빠야 니 오빠야 이런 놈 저런 놈 만나봤겠지만 후회하겠지만 너를 사랑해 사랑해 따르릉 따르릉 따르릉 내가 니 오빠야 따르릉 따르릉 내가 니 오빠야 오오빠빠 내가 니 오빠야 오오빠빠 내가 니 오빠야 니 오빠야(김영철)\\n': 2,\n",
       " '묻지마세요 물어보지 마세요 내나이 묻지 마세요 흘러간 내청춘 잘한것도 없는데 요놈의 숫자가 따라오네요 여기까지 왔는데 앞만보고 왔는데 지나간 세월에 서러운 눈물 서산 넘어가는 청춘 너 가는 줄 몰랐구나 세월아 가지를 말어라 묻지마세요 물어보지 마세요 내나이 묻지 마세요 흘러간 내청춘 잘한것도 없는데 요놈의 숫자가 따라오네요 여기까지 왔는데 앞만보고 왔는데 지나간 세월에 서러운 눈물 서산 넘어가는 청춘 너 가는 줄 몰랐구나 세월아 가지를 말어라 여기까지 왔는데 앞만보고 왔는데 지나간 세월에 서러운 눈물 서산 넘어가는 청춘 너 가는 줄 몰랐구나 세월아 가지를 말어라 세월아 가지를 말어라(김성환)\\n': -6,\n",
       " '사는 게 뭐 별거 있더냐 욕 안먹고 살면 되는거지 술 한잔에 시름을 털고 너털웃음 한번 웃어보자 세상아 시계바늘처럼 돌고 돌다가 가는 길을 잃은 사람아 미련 따윈 없는거야 후회도 없는거야 아- 아- 세상살이 뭐 다 그런거지 뭐 돈이 좋아 여자가 좋아 술이 좋아 친구가 좋아 싫다하는 사람은 없어 너도 한번 해보고 나도 한번 해본다 시계바늘처럼 돌고 돌다가 가는 길을 잃은 사람아 미련 따윈 없는거야 후회도 없는거야 아- 아- 세상살이 뭐 다 그런거지 뭐 세상살이 뭐 다 그런거지 뭐(신유)\\n': 1,\n",
       " '사랑 반 눈물 반 인생이란 그런 거잖아 믿어왔던 그 정도 그 사랑도 한 순간의 물거품이지 흩어지는 모래알처럼 부서진 옛 사랑을 뼛 속 깊이 사무치는 그리움 안고 애원한들 못 오는 사람아 밤하늘의 저 별들은 내 마음 알까 지지베베 저 새들도 내 마음 알까 사랑 반 눈물 반 사랑 반 눈물 반 인생이란 그런 거잖아 믿어왔던 그 정도 그 사랑도 한 순간의 물거품이지 흩어지는 모래알처럼 부서진 옛 사랑을 뼛 속 깊이 사무치는 그리움 안고 애원한들 못 오는 사람아 밤하늘의 저 별들은 내 마음 알까 지지베베 저 새들도 내 마음 알까 사랑 반 눈물 반 밤하늘의 저 별들은 내 마음 알까 지지베베 저 새들도 내 마음 알까 사랑 반 눈물 반 사랑 반 눈물 반(진해성)\\n': 4,\n",
       " '날 찾아오신 내님 어서 오세요 당신을 기다렸어요 라이 라이야 어서 오세요 당신의 꽃이 될래요 어디서 무엇하다 이제 왔나요 당신을 기다렸어요 라이 라이야 어서 오세요 당신의 꽃이 될래요 사랑의 꽃씨를 뿌려 기쁨을 주고 서로 행복 나누며 니 라이 라이 라이 라이야 당신은 나의 나무가 되고 니 라이 라이 라이 라이야 나는 당신의 꽃이 될래요 날 찾아오신 내님 어서 오세요 당신을 기다렸어요 라이 라이야 어서 오세요 당신의 꽃이 될래요 어디서 무엇하다 이제 왔나요 당신을 기다렸어요 라이 라이야 어서 오세요 당신의 꽃이 될래요 사랑의 꽃씨를 뿌려 기쁨을 주고 서로 행복 나누며 니 라이 라이 라이 라이야 당신은 나의 나무가 되고 니 라이 라이 라이 라이야 나는 당신의 꽃이 될래요 나는 당신의 꽃이 될래요(장윤정)\\n': 6,\n",
       " '어머 왔다야 왔다야 하나부터 열까지 대박 누가 뭐래도 나에겐 자기가 너무나 좋아 어머 왔다야 왔다야 나는 자기 하나면 끝나 세상 그 누가 뭐래도 나에겐 정말 왔다야 어머 이런 남자가 어디서 왔을까 해맑은 미소 눈빛이 참좋아 카키색 톤에 딱 붙는 민소매 셔츠가 나의 마음을 설레게해요 말 없이 뒤에서 날 꼭 안아줄 때면 나의 가슴이 꽃잎처럼 흘러 내려요 어머 왔다야 왔다야 하나부터 열까지 대박 누가 뭐래도 나에겐 자기가 너무나 좋아 어머 왔다야 왔다야 나는 자기 하나면 끝나 세상 그 누가 뭐래도 나에겐 정말 왔다야 어머 이런 남자가 또 어디 있을까 깔끔한 매너 마음씨가 참 좋아 에메랄드빛 딱 떨어지는 멋진 타이가 나의 마음을 설레게해요 말없이 뒤에서 날 꼭 안아줄때면 나의 가슴이 꽃잎처럼 흘러내려요 어머 왔다야 왔다야 하나부터 열까지 대박 누가 뭐래도 나에겐 자기가 너무나 좋아 어머 왔다야 왔다야 나는 자기 하나면 끝나 세상 그 누가 뭐래도 나에겐 정말 왔다야 세상 그 누가 뭐래도 나에겐 정말 왔다야(김혜연)\\n': 11,\n",
       " '살아서는 갖지 못하는 그런 이름 하나 때문에 그리움만 눈물 속에 난 띄워 보낼 뿐이죠 스치듯 보낼사람이 어쩌다 내게 들어와 장미의 가시로 남아서 날 아프게 지켜보네요 따라가면 만날 수 있나 멀고먼 세상 끝까지 그대라면 어디라도 난 그저 행복할 테니 살아서는 갖지 못하는 그런 이름 하나 때문에 그리움만 눈물 속에 난 띄워 보낼 뿐이죠 스치듯 보낼사람이 어쩌다 내게 들어와 장미의 가시로 남아서 날 아프게 지켜보네요 따라가면 만날 수 있나 멀고먼 세상 끝까지 그대라면 어디라도 난 그저 행복할 테니 난 너무 행복할 테니(장윤정)\\n': -4,\n",
       " '만약에 당신이 그 누구와 사랑에 빠지면 그 사람을 위해서 무얼 할 수 있나 텅빈 세상 살아가는 이유가 만약에 너라면 어떡하겠니 사는 동안 단 한번의 사랑이 만약에 너라면 허락하겠니 얼마나 더 많이 외로워 해야 널 끌어안고서 울어볼까 이제는 더 이상 지칠 몸조차 비워둘 마음 조차 없는데 또 다른 이유로 널 못본다면 나 살아가는 의미도 없지 만약에 널 위해 나 죽을 수 있다면 날 받아주겠니 텅빈 세상 살아가는 이유가 만약에 너라면 어떡하겠니 사는 동안 단 한번의 사랑이 만약에 너라면 허락하겠니 얼마나 더 많이 외로워 해야 널 끌어안고서 울어볼까 이제는 더 이상 지칠 몸조차 비워둘 마음 조차 없는데 또 다른 이유로 널 못본다면 나 살아가는 의미도 없지 만약에 널 위해 나 죽을 수 있다면 날 받아주겠니 만약에 널 위해 나 죽을 수 있다면 날 받아주겠니 만약에 당신이 그 누구와 사랑에 빠지면 그 사람을 위해서 다 해줄수 있나(조항조)\\n': 2,\n",
       " '야 야 야 내나이가 어때서 사랑의 나이가 있나요 마음은 하나요 느낌도 하나요 그대만이 정말 내 사랑인데 눈물이 나내요 내 나이가 어때서 사랑하기 딱 좋은 나인데 어느날 우연히 거울속에 비춰진 내 모습을 바라보면서 세월아 비켜라 내 나이가 어때서 사랑하기 딱 좋은 나인데 (사랑하기 딱 좋은 나인데)(오승근)\\n': 7}"
      ]
     },
     "execution_count": 270,
     "metadata": {},
     "output_type": "execute_result"
    }
   ],
   "source": [
    "result"
   ]
  },
  {
   "cell_type": "code",
   "execution_count": 271,
   "metadata": {},
   "outputs": [],
   "source": [
    "counter = collections.Counter(list(result.values()))"
   ]
  },
  {
   "cell_type": "code",
   "execution_count": 275,
   "metadata": {},
   "outputs": [
    {
     "data": {
      "text/plain": [
       "[-7, -6, -4, -3, -2, -1, 0, 1, 2, 3, 4, 5, 6, 7, 9, 10, 11, 16, 17, 20]"
      ]
     },
     "execution_count": 275,
     "metadata": {},
     "output_type": "execute_result"
    }
   ],
   "source": [
    "sorted(counter)"
   ]
  },
  {
   "cell_type": "code",
   "execution_count": 273,
   "metadata": {},
   "outputs": [
    {
     "data": {
      "text/plain": [
       "4.533333333333333"
      ]
     },
     "execution_count": 273,
     "metadata": {},
     "output_type": "execute_result"
    }
   ],
   "source": [
    "np.mean(list(result.values()))"
   ]
  },
  {
   "cell_type": "code",
   "execution_count": 276,
   "metadata": {},
   "outputs": [
    {
     "data": {
      "image/png": "[encoded data removed]",
      "text/plain": [
       "<Figure size 432x288 with 1 Axes>"
      ]
     },
     "metadata": {
      "needs_background": "light"
     },
     "output_type": "display_data"
    }
   ],
   "source": [
    "plt.bar(*zip(*counter.items()))\n",
    "plt.show()"
   ]
  },
  {
   "cell_type": "code",
   "execution_count": null,
   "metadata": {},
   "outputs": [],
   "source": []
  },
  {
   "cell_type": "code",
   "execution_count": null,
   "metadata": {},
   "outputs": [],
   "source": []
  }
 ],
 "metadata": {
  "kernelspec": {
   "display_name": "Python 3",
   "language": "python",
   "name": "python3"
  },
  "language_info": {
   "codemirror_mode": {
    "name": "ipython",
    "version": 3
   },
   "file_extension": ".py",
   "mimetype": "text/x-python",
   "name": "python",
   "nbconvert_exporter": "python",
   "pygments_lexer": "ipython3",
   "version": "3.7.4"
  }
 },
 "nbformat": 4,
 "nbformat_minor": 2
}
