{
 "cells": [
  {
   "cell_type": "code",
   "execution_count": 26,
   "metadata": {},
   "outputs": [],
   "source": [
    "import tweepy\n",
    "from collections import Counter\n",
    "from konlpy.tag import Twitter\n",
    "from konlpy.tag import Kkma\n",
    "import pytagcloud\n",
    "import matplotlib.pyplot as plt\n",
    "from wordcloud import WordCloud, STOPWORDS\n",
    "import re\n",
    "from matplotlib import font_manager, rc #한글 깨짐 현상\n",
    "\n",
    "import numpy as np\n",
    "import pandas as pd\n",
    "import collections"
   ]
  },
  {
   "cell_type": "markdown",
   "metadata": {},
   "source": [
    "## 5.1"
   ]
  },
  {
   "cell_type": "code",
   "execution_count": 113,
   "metadata": {},
   "outputs": [],
   "source": [
    "api_key = \"ylylXf2ehm9dz3b3m9oIzrE4q\"\n",
    "api_secret = \"9YSr1xGBhaVj99XUcHkHZ47xnqi4n5tIMkhCIUQom32urHbQAH\""
   ]
  },
  {
   "cell_type": "code",
   "execution_count": 114,
   "metadata": {},
   "outputs": [],
   "source": [
    "auth = tweepy.OAuthHandler(api_key, api_secret)\n",
    "\n",
    "access_token = \"1171579869047607296-JT7dgVK9ORIzkPA5Mx0uPy87AC1106\"\n",
    "access_token_secret = \"RFT9IzxyBZrO2ghj1VE2AhP8NOLUGMjnVIm6Opim0UvWk\""
   ]
  },
  {
   "cell_type": "code",
   "execution_count": 115,
   "metadata": {},
   "outputs": [],
   "source": [
    "auth.set_access_token(access_token, access_token_secret)"
   ]
  },
  {
   "cell_type": "code",
   "execution_count": 116,
   "metadata": {},
   "outputs": [],
   "source": [
    "api = tweepy.API(auth)"
   ]
  },
  {
   "cell_type": "code",
   "execution_count": 117,
   "metadata": {},
   "outputs": [],
   "source": [
    "keyword = \"starbucks\";     # 자신이 검색하고 싶은 유저\n",
    "search = [] # 크롤링 결과 저장할 변수   "
   ]
  },
  {
   "cell_type": "code",
   "execution_count": 118,
   "metadata": {},
   "outputs": [],
   "source": [
    "cnt = 1\n",
    "while(cnt <= 10):   # 10page 대상으로 크롤링\n",
    "   tweets = api.search(keyword)\n",
    "   for tweet in tweets:\n",
    "       search.append(tweet)\n",
    "   cnt += 1"
   ]
  },
  {
   "cell_type": "code",
   "execution_count": 119,
   "metadata": {},
   "outputs": [
    {
     "name": "stdout",
     "output_type": "stream",
     "text": [
      "150\n"
     ]
    }
   ],
   "source": [
    "print(len(search)) # 문서 길이 "
   ]
  },
  {
   "cell_type": "code",
   "execution_count": 120,
   "metadata": {},
   "outputs": [
    {
     "name": "stdout",
     "output_type": "stream",
     "text": [
      "0  :  {'text': 'スタバのある生活♡\\n\\nSTARBUCKS♡LOVE https://t.co/BTYMhGmblX'}\n",
      "1  :  {'text': 'RT @ifernweh: แจกกกก !!!\\nAirpods 2 เครื่อง \\nบัตร Starbucks 500 บาท 3 ใบ\\nปลอบใจคนโดนหวยกิน\\n\\nกติกา 🥕\\nRT + Reply อะไรก็ได้เกี่ยวกับแครอท\\nพร้อม…'}\n",
      "2  :  {'text': 'RT @DeepStateExpose: RT: 4th Reich \"Democratic\" Socialist meltdown at Starbucks!!!\\nhttps://t.co/DtFiRcnQDm'}\n",
      "3  :  {'text': 'RT @Starbucks_J: 春色で彩られた “さくらフード”は、ふんわりと優しい桜の味わいがお口の中に広がります。味覚で感じる春を楽しんでみませんか😊🌸\\nhttps://t.co/E6M9mPXjUT https://t.co/fjVvOXwK9v'}\n",
      "4  :  {'text': 'RT @ifernweh: แจกกกก !!!\\nAirpods 2 เครื่อง \\nบัตร Starbucks 500 บาท 3 ใบ\\nปลอบใจคนโดนหวยกิน\\n\\nกติกา 🥕\\nRT + Reply อะไรก็ได้เกี่ยวกับแครอท\\nพร้อม…'}\n",
      "5  :  {'text': \"The Starbucks I'm in is playing some classic jazz and I automatically thought of our Taehyungie 💜💜 @BTS_twt\"}\n",
      "6  :  {'text': 'RT @ifernweh: แจกกกก !!!\\nAirpods 2 เครื่อง \\nบัตร Starbucks 500 บาท 3 ใบ\\nปลอบใจคนโดนหวยกิน\\n\\nกติกา 🥕\\nRT + Reply อะไรก็ได้เกี่ยวกับแครอท\\nพร้อม…'}\n",
      "7  :  {'text': 'RT @AikIsTweeting: New Starbucks @ CentralPlaza Ladprao เปิดแล้ว อยู่ติดทางเชื่อมกับ BTS เลย มี nitro on tap และที่สำคัญ มีเครื่องกรองอากาศ…'}\n",
      "8  :  {'text': 'RT @_hepe6: เราเห็นธนาธรตกงาน เลยเอาใบสมัคร Starbucks ไปให้กรอกล https://t.co/WeCq4J6G3q'}\n",
      "9  :  {'text': 'RT @_hepe6: เราเห็นธนาธรตกงาน เลยเอาใบสมัคร Starbucks ไปให้กรอกล https://t.co/WeCq4J6G3q'}\n",
      "10  :  {'text': \"RT @kevinLi13078672: @johnsweeneyroar Answer me this, why i should i pay for a service i do not want, use or support. I don't pay Tesso to…\"}\n",
      "11  :  {'text': 'RT @ifernweh: แจกกกก !!!\\nAirpods 2 เครื่อง \\nบัตร Starbucks 500 บาท 3 ใบ\\nปลอบใจคนโดนหวยกิน\\n\\nกติกา 🥕\\nRT + Reply อะไรก็ได้เกี่ยวกับแครอท\\nพร้อม…'}\n",
      "12  :  {'text': 'RT @_hepe6: เราเห็นธนาธรตกงาน เลยเอาใบสมัคร Starbucks ไปให้กรอกล https://t.co/WeCq4J6G3q'}\n",
      "13  :  {'text': 'Chollo Packs x80 cápsulas Starbucks para Nespresso por sólo 24,29€ ¡A 0,30€ la unidad! https://t.co/1xQ2oZ5isz https://t.co/S1qVCjjDos'}\n",
      "14  :  {'text': 'RT @_hepe6: เราเห็นธนาธรตกงาน เลยเอาใบสมัคร Starbucks ไปให้กรอกล https://t.co/WeCq4J6G3q'}\n",
      "15  :  {'text': 'スタバのある生活♡\\n\\nSTARBUCKS♡LOVE https://t.co/BTYMhGmblX'}\n",
      "16  :  {'text': 'RT @ifernweh: แจกกกก !!!\\nAirpods 2 เครื่อง \\nบัตร Starbucks 500 บาท 3 ใบ\\nปลอบใจคนโดนหวยกิน\\n\\nกติกา 🥕\\nRT + Reply อะไรก็ได้เกี่ยวกับแครอท\\nพร้อม…'}\n",
      "17  :  {'text': 'RT @DeepStateExpose: RT: 4th Reich \"Democratic\" Socialist meltdown at Starbucks!!!\\nhttps://t.co/DtFiRcnQDm'}\n",
      "18  :  {'text': 'RT @Starbucks_J: 春色で彩られた “さくらフード”は、ふんわりと優しい桜の味わいがお口の中に広がります。味覚で感じる春を楽しんでみませんか😊🌸\\nhttps://t.co/E6M9mPXjUT https://t.co/fjVvOXwK9v'}\n",
      "19  :  {'text': 'RT @ifernweh: แจกกกก !!!\\nAirpods 2 เครื่อง \\nบัตร Starbucks 500 บาท 3 ใบ\\nปลอบใจคนโดนหวยกิน\\n\\nกติกา 🥕\\nRT + Reply อะไรก็ได้เกี่ยวกับแครอท\\nพร้อม…'}\n",
      "20  :  {'text': \"The Starbucks I'm in is playing some classic jazz and I automatically thought of our Taehyungie 💜💜 @BTS_twt\"}\n",
      "21  :  {'text': 'RT @ifernweh: แจกกกก !!!\\nAirpods 2 เครื่อง \\nบัตร Starbucks 500 บาท 3 ใบ\\nปลอบใจคนโดนหวยกิน\\n\\nกติกา 🥕\\nRT + Reply อะไรก็ได้เกี่ยวกับแครอท\\nพร้อม…'}\n",
      "22  :  {'text': 'RT @AikIsTweeting: New Starbucks @ CentralPlaza Ladprao เปิดแล้ว อยู่ติดทางเชื่อมกับ BTS เลย มี nitro on tap และที่สำคัญ มีเครื่องกรองอากาศ…'}\n",
      "23  :  {'text': 'RT @_hepe6: เราเห็นธนาธรตกงาน เลยเอาใบสมัคร Starbucks ไปให้กรอกล https://t.co/WeCq4J6G3q'}\n",
      "24  :  {'text': 'RT @_hepe6: เราเห็นธนาธรตกงาน เลยเอาใบสมัคร Starbucks ไปให้กรอกล https://t.co/WeCq4J6G3q'}\n",
      "25  :  {'text': \"RT @kevinLi13078672: @johnsweeneyroar Answer me this, why i should i pay for a service i do not want, use or support. I don't pay Tesso to…\"}\n",
      "26  :  {'text': 'RT @ifernweh: แจกกกก !!!\\nAirpods 2 เครื่อง \\nบัตร Starbucks 500 บาท 3 ใบ\\nปลอบใจคนโดนหวยกิน\\n\\nกติกา 🥕\\nRT + Reply อะไรก็ได้เกี่ยวกับแครอท\\nพร้อม…'}\n",
      "27  :  {'text': 'RT @_hepe6: เราเห็นธนาธรตกงาน เลยเอาใบสมัคร Starbucks ไปให้กรอกล https://t.co/WeCq4J6G3q'}\n",
      "28  :  {'text': 'Chollo Packs x80 cápsulas Starbucks para Nespresso por sólo 24,29€ ¡A 0,30€ la unidad! https://t.co/1xQ2oZ5isz https://t.co/S1qVCjjDos'}\n",
      "29  :  {'text': 'RT @_hepe6: เราเห็นธนาธรตกงาน เลยเอาใบสมัคร Starbucks ไปให้กรอกล https://t.co/WeCq4J6G3q'}\n",
      "30  :  {'text': 'スタバのある生活♡\\n\\nSTARBUCKS♡LOVE https://t.co/BTYMhGmblX'}\n",
      "31  :  {'text': 'RT @ifernweh: แจกกกก !!!\\nAirpods 2 เครื่อง \\nบัตร Starbucks 500 บาท 3 ใบ\\nปลอบใจคนโดนหวยกิน\\n\\nกติกา 🥕\\nRT + Reply อะไรก็ได้เกี่ยวกับแครอท\\nพร้อม…'}\n",
      "32  :  {'text': 'RT @DeepStateExpose: RT: 4th Reich \"Democratic\" Socialist meltdown at Starbucks!!!\\nhttps://t.co/DtFiRcnQDm'}\n",
      "33  :  {'text': 'RT @Starbucks_J: 春色で彩られた “さくらフード”は、ふんわりと優しい桜の味わいがお口の中に広がります。味覚で感じる春を楽しんでみませんか😊🌸\\nhttps://t.co/E6M9mPXjUT https://t.co/fjVvOXwK9v'}\n",
      "34  :  {'text': 'RT @ifernweh: แจกกกก !!!\\nAirpods 2 เครื่อง \\nบัตร Starbucks 500 บาท 3 ใบ\\nปลอบใจคนโดนหวยกิน\\n\\nกติกา 🥕\\nRT + Reply อะไรก็ได้เกี่ยวกับแครอท\\nพร้อม…'}\n",
      "35  :  {'text': \"The Starbucks I'm in is playing some classic jazz and I automatically thought of our Taehyungie 💜💜 @BTS_twt\"}\n",
      "36  :  {'text': 'RT @ifernweh: แจกกกก !!!\\nAirpods 2 เครื่อง \\nบัตร Starbucks 500 บาท 3 ใบ\\nปลอบใจคนโดนหวยกิน\\n\\nกติกา 🥕\\nRT + Reply อะไรก็ได้เกี่ยวกับแครอท\\nพร้อม…'}\n",
      "37  :  {'text': 'RT @AikIsTweeting: New Starbucks @ CentralPlaza Ladprao เปิดแล้ว อยู่ติดทางเชื่อมกับ BTS เลย มี nitro on tap และที่สำคัญ มีเครื่องกรองอากาศ…'}\n",
      "38  :  {'text': 'RT @_hepe6: เราเห็นธนาธรตกงาน เลยเอาใบสมัคร Starbucks ไปให้กรอกล https://t.co/WeCq4J6G3q'}\n",
      "39  :  {'text': 'RT @_hepe6: เราเห็นธนาธรตกงาน เลยเอาใบสมัคร Starbucks ไปให้กรอกล https://t.co/WeCq4J6G3q'}\n",
      "40  :  {'text': \"RT @kevinLi13078672: @johnsweeneyroar Answer me this, why i should i pay for a service i do not want, use or support. I don't pay Tesso to…\"}\n",
      "41  :  {'text': 'RT @ifernweh: แจกกกก !!!\\nAirpods 2 เครื่อง \\nบัตร Starbucks 500 บาท 3 ใบ\\nปลอบใจคนโดนหวยกิน\\n\\nกติกา 🥕\\nRT + Reply อะไรก็ได้เกี่ยวกับแครอท\\nพร้อม…'}\n",
      "42  :  {'text': 'RT @_hepe6: เราเห็นธนาธรตกงาน เลยเอาใบสมัคร Starbucks ไปให้กรอกล https://t.co/WeCq4J6G3q'}\n",
      "43  :  {'text': 'Chollo Packs x80 cápsulas Starbucks para Nespresso por sólo 24,29€ ¡A 0,30€ la unidad! https://t.co/1xQ2oZ5isz https://t.co/S1qVCjjDos'}\n",
      "44  :  {'text': 'RT @_hepe6: เราเห็นธนาธรตกงาน เลยเอาใบสมัคร Starbucks ไปให้กรอกล https://t.co/WeCq4J6G3q'}\n",
      "45  :  {'text': 'スタバのある生活♡\\n\\nSTARBUCKS♡LOVE https://t.co/BTYMhGmblX'}\n",
      "46  :  {'text': 'RT @ifernweh: แจกกกก !!!\\nAirpods 2 เครื่อง \\nบัตร Starbucks 500 บาท 3 ใบ\\nปลอบใจคนโดนหวยกิน\\n\\nกติกา 🥕\\nRT + Reply อะไรก็ได้เกี่ยวกับแครอท\\nพร้อม…'}\n",
      "47  :  {'text': 'RT @DeepStateExpose: RT: 4th Reich \"Democratic\" Socialist meltdown at Starbucks!!!\\nhttps://t.co/DtFiRcnQDm'}\n",
      "48  :  {'text': 'RT @Starbucks_J: 春色で彩られた “さくらフード”は、ふんわりと優しい桜の味わいがお口の中に広がります。味覚で感じる春を楽しんでみませんか😊🌸\\nhttps://t.co/E6M9mPXjUT https://t.co/fjVvOXwK9v'}\n",
      "49  :  {'text': 'RT @ifernweh: แจกกกก !!!\\nAirpods 2 เครื่อง \\nบัตร Starbucks 500 บาท 3 ใบ\\nปลอบใจคนโดนหวยกิน\\n\\nกติกา 🥕\\nRT + Reply อะไรก็ได้เกี่ยวกับแครอท\\nพร้อม…'}\n",
      "50  :  {'text': \"The Starbucks I'm in is playing some classic jazz and I automatically thought of our Taehyungie 💜💜 @BTS_twt\"}\n",
      "51  :  {'text': 'RT @ifernweh: แจกกกก !!!\\nAirpods 2 เครื่อง \\nบัตร Starbucks 500 บาท 3 ใบ\\nปลอบใจคนโดนหวยกิน\\n\\nกติกา 🥕\\nRT + Reply อะไรก็ได้เกี่ยวกับแครอท\\nพร้อม…'}\n",
      "52  :  {'text': 'RT @AikIsTweeting: New Starbucks @ CentralPlaza Ladprao เปิดแล้ว อยู่ติดทางเชื่อมกับ BTS เลย มี nitro on tap และที่สำคัญ มีเครื่องกรองอากาศ…'}\n",
      "53  :  {'text': 'RT @_hepe6: เราเห็นธนาธรตกงาน เลยเอาใบสมัคร Starbucks ไปให้กรอกล https://t.co/WeCq4J6G3q'}\n",
      "54  :  {'text': 'RT @_hepe6: เราเห็นธนาธรตกงาน เลยเอาใบสมัคร Starbucks ไปให้กรอกล https://t.co/WeCq4J6G3q'}\n",
      "55  :  {'text': \"RT @kevinLi13078672: @johnsweeneyroar Answer me this, why i should i pay for a service i do not want, use or support. I don't pay Tesso to…\"}\n",
      "56  :  {'text': 'RT @ifernweh: แจกกกก !!!\\nAirpods 2 เครื่อง \\nบัตร Starbucks 500 บาท 3 ใบ\\nปลอบใจคนโดนหวยกิน\\n\\nกติกา 🥕\\nRT + Reply อะไรก็ได้เกี่ยวกับแครอท\\nพร้อม…'}\n",
      "57  :  {'text': 'RT @_hepe6: เราเห็นธนาธรตกงาน เลยเอาใบสมัคร Starbucks ไปให้กรอกล https://t.co/WeCq4J6G3q'}\n",
      "58  :  {'text': 'Chollo Packs x80 cápsulas Starbucks para Nespresso por sólo 24,29€ ¡A 0,30€ la unidad! https://t.co/1xQ2oZ5isz https://t.co/S1qVCjjDos'}\n",
      "59  :  {'text': 'RT @_hepe6: เราเห็นธนาธรตกงาน เลยเอาใบสมัคร Starbucks ไปให้กรอกล https://t.co/WeCq4J6G3q'}\n",
      "60  :  {'text': 'スタバのある生活♡\\n\\nSTARBUCKS♡LOVE https://t.co/BTYMhGmblX'}\n",
      "61  :  {'text': 'RT @ifernweh: แจกกกก !!!\\nAirpods 2 เครื่อง \\nบัตร Starbucks 500 บาท 3 ใบ\\nปลอบใจคนโดนหวยกิน\\n\\nกติกา 🥕\\nRT + Reply อะไรก็ได้เกี่ยวกับแครอท\\nพร้อม…'}\n",
      "62  :  {'text': 'RT @DeepStateExpose: RT: 4th Reich \"Democratic\" Socialist meltdown at Starbucks!!!\\nhttps://t.co/DtFiRcnQDm'}\n",
      "63  :  {'text': 'RT @Starbucks_J: 春色で彩られた “さくらフード”は、ふんわりと優しい桜の味わいがお口の中に広がります。味覚で感じる春を楽しんでみませんか😊🌸\\nhttps://t.co/E6M9mPXjUT https://t.co/fjVvOXwK9v'}\n",
      "64  :  {'text': 'RT @ifernweh: แจกกกก !!!\\nAirpods 2 เครื่อง \\nบัตร Starbucks 500 บาท 3 ใบ\\nปลอบใจคนโดนหวยกิน\\n\\nกติกา 🥕\\nRT + Reply อะไรก็ได้เกี่ยวกับแครอท\\nพร้อม…'}\n",
      "65  :  {'text': \"The Starbucks I'm in is playing some classic jazz and I automatically thought of our Taehyungie 💜💜 @BTS_twt\"}\n",
      "66  :  {'text': 'RT @ifernweh: แจกกกก !!!\\nAirpods 2 เครื่อง \\nบัตร Starbucks 500 บาท 3 ใบ\\nปลอบใจคนโดนหวยกิน\\n\\nกติกา 🥕\\nRT + Reply อะไรก็ได้เกี่ยวกับแครอท\\nพร้อม…'}\n",
      "67  :  {'text': 'RT @AikIsTweeting: New Starbucks @ CentralPlaza Ladprao เปิดแล้ว อยู่ติดทางเชื่อมกับ BTS เลย มี nitro on tap และที่สำคัญ มีเครื่องกรองอากาศ…'}\n",
      "68  :  {'text': 'RT @_hepe6: เราเห็นธนาธรตกงาน เลยเอาใบสมัคร Starbucks ไปให้กรอกล https://t.co/WeCq4J6G3q'}\n",
      "69  :  {'text': 'RT @_hepe6: เราเห็นธนาธรตกงาน เลยเอาใบสมัคร Starbucks ไปให้กรอกล https://t.co/WeCq4J6G3q'}\n",
      "70  :  {'text': \"RT @kevinLi13078672: @johnsweeneyroar Answer me this, why i should i pay for a service i do not want, use or support. I don't pay Tesso to…\"}\n",
      "71  :  {'text': 'RT @ifernweh: แจกกกก !!!\\nAirpods 2 เครื่อง \\nบัตร Starbucks 500 บาท 3 ใบ\\nปลอบใจคนโดนหวยกิน\\n\\nกติกา 🥕\\nRT + Reply อะไรก็ได้เกี่ยวกับแครอท\\nพร้อม…'}\n",
      "72  :  {'text': 'RT @_hepe6: เราเห็นธนาธรตกงาน เลยเอาใบสมัคร Starbucks ไปให้กรอกล https://t.co/WeCq4J6G3q'}\n",
      "73  :  {'text': 'Chollo Packs x80 cápsulas Starbucks para Nespresso por sólo 24,29€ ¡A 0,30€ la unidad! https://t.co/1xQ2oZ5isz https://t.co/S1qVCjjDos'}\n",
      "74  :  {'text': 'RT @_hepe6: เราเห็นธนาธรตกงาน เลยเอาใบสมัคร Starbucks ไปให้กรอกล https://t.co/WeCq4J6G3q'}\n",
      "75  :  {'text': 'スタバのある生活♡\\n\\nSTARBUCKS♡LOVE https://t.co/BTYMhGmblX'}\n",
      "76  :  {'text': 'RT @ifernweh: แจกกกก !!!\\nAirpods 2 เครื่อง \\nบัตร Starbucks 500 บาท 3 ใบ\\nปลอบใจคนโดนหวยกิน\\n\\nกติกา 🥕\\nRT + Reply อะไรก็ได้เกี่ยวกับแครอท\\nพร้อม…'}\n",
      "77  :  {'text': 'RT @DeepStateExpose: RT: 4th Reich \"Democratic\" Socialist meltdown at Starbucks!!!\\nhttps://t.co/DtFiRcnQDm'}\n",
      "78  :  {'text': 'RT @Starbucks_J: 春色で彩られた “さくらフード”は、ふんわりと優しい桜の味わいがお口の中に広がります。味覚で感じる春を楽しんでみませんか😊🌸\\nhttps://t.co/E6M9mPXjUT https://t.co/fjVvOXwK9v'}\n",
      "79  :  {'text': 'RT @ifernweh: แจกกกก !!!\\nAirpods 2 เครื่อง \\nบัตร Starbucks 500 บาท 3 ใบ\\nปลอบใจคนโดนหวยกิน\\n\\nกติกา 🥕\\nRT + Reply อะไรก็ได้เกี่ยวกับแครอท\\nพร้อม…'}\n",
      "80  :  {'text': \"The Starbucks I'm in is playing some classic jazz and I automatically thought of our Taehyungie 💜💜 @BTS_twt\"}\n",
      "81  :  {'text': 'RT @ifernweh: แจกกกก !!!\\nAirpods 2 เครื่อง \\nบัตร Starbucks 500 บาท 3 ใบ\\nปลอบใจคนโดนหวยกิน\\n\\nกติกา 🥕\\nRT + Reply อะไรก็ได้เกี่ยวกับแครอท\\nพร้อม…'}\n",
      "82  :  {'text': 'RT @AikIsTweeting: New Starbucks @ CentralPlaza Ladprao เปิดแล้ว อยู่ติดทางเชื่อมกับ BTS เลย มี nitro on tap และที่สำคัญ มีเครื่องกรองอากาศ…'}\n",
      "83  :  {'text': 'RT @_hepe6: เราเห็นธนาธรตกงาน เลยเอาใบสมัคร Starbucks ไปให้กรอกล https://t.co/WeCq4J6G3q'}\n",
      "84  :  {'text': 'RT @_hepe6: เราเห็นธนาธรตกงาน เลยเอาใบสมัคร Starbucks ไปให้กรอกล https://t.co/WeCq4J6G3q'}\n",
      "85  :  {'text': \"RT @kevinLi13078672: @johnsweeneyroar Answer me this, why i should i pay for a service i do not want, use or support. I don't pay Tesso to…\"}\n",
      "86  :  {'text': 'RT @ifernweh: แจกกกก !!!\\nAirpods 2 เครื่อง \\nบัตร Starbucks 500 บาท 3 ใบ\\nปลอบใจคนโดนหวยกิน\\n\\nกติกา 🥕\\nRT + Reply อะไรก็ได้เกี่ยวกับแครอท\\nพร้อม…'}\n",
      "87  :  {'text': 'RT @_hepe6: เราเห็นธนาธรตกงาน เลยเอาใบสมัคร Starbucks ไปให้กรอกล https://t.co/WeCq4J6G3q'}\n",
      "88  :  {'text': 'Chollo Packs x80 cápsulas Starbucks para Nespresso por sólo 24,29€ ¡A 0,30€ la unidad! https://t.co/1xQ2oZ5isz https://t.co/S1qVCjjDos'}\n",
      "89  :  {'text': 'RT @_hepe6: เราเห็นธนาธรตกงาน เลยเอาใบสมัคร Starbucks ไปให้กรอกล https://t.co/WeCq4J6G3q'}\n",
      "90  :  {'text': 'スタバのある生活♡\\n\\nSTARBUCKS♡LOVE https://t.co/BTYMhGmblX'}\n",
      "91  :  {'text': 'RT @ifernweh: แจกกกก !!!\\nAirpods 2 เครื่อง \\nบัตร Starbucks 500 บาท 3 ใบ\\nปลอบใจคนโดนหวยกิน\\n\\nกติกา 🥕\\nRT + Reply อะไรก็ได้เกี่ยวกับแครอท\\nพร้อม…'}\n",
      "92  :  {'text': 'RT @DeepStateExpose: RT: 4th Reich \"Democratic\" Socialist meltdown at Starbucks!!!\\nhttps://t.co/DtFiRcnQDm'}\n",
      "93  :  {'text': 'RT @Starbucks_J: 春色で彩られた “さくらフード”は、ふんわりと優しい桜の味わいがお口の中に広がります。味覚で感じる春を楽しんでみませんか😊🌸\\nhttps://t.co/E6M9mPXjUT https://t.co/fjVvOXwK9v'}\n",
      "94  :  {'text': 'RT @ifernweh: แจกกกก !!!\\nAirpods 2 เครื่อง \\nบัตร Starbucks 500 บาท 3 ใบ\\nปลอบใจคนโดนหวยกิน\\n\\nกติกา 🥕\\nRT + Reply อะไรก็ได้เกี่ยวกับแครอท\\nพร้อม…'}\n",
      "95  :  {'text': \"The Starbucks I'm in is playing some classic jazz and I automatically thought of our Taehyungie 💜💜 @BTS_twt\"}\n",
      "96  :  {'text': 'RT @ifernweh: แจกกกก !!!\\nAirpods 2 เครื่อง \\nบัตร Starbucks 500 บาท 3 ใบ\\nปลอบใจคนโดนหวยกิน\\n\\nกติกา 🥕\\nRT + Reply อะไรก็ได้เกี่ยวกับแครอท\\nพร้อม…'}\n",
      "97  :  {'text': 'RT @AikIsTweeting: New Starbucks @ CentralPlaza Ladprao เปิดแล้ว อยู่ติดทางเชื่อมกับ BTS เลย มี nitro on tap และที่สำคัญ มีเครื่องกรองอากาศ…'}\n",
      "98  :  {'text': 'RT @_hepe6: เราเห็นธนาธรตกงาน เลยเอาใบสมัคร Starbucks ไปให้กรอกล https://t.co/WeCq4J6G3q'}\n",
      "99  :  {'text': 'RT @_hepe6: เราเห็นธนาธรตกงาน เลยเอาใบสมัคร Starbucks ไปให้กรอกล https://t.co/WeCq4J6G3q'}\n",
      "100  :  {'text': \"RT @kevinLi13078672: @johnsweeneyroar Answer me this, why i should i pay for a service i do not want, use or support. I don't pay Tesso to…\"}\n",
      "101  :  {'text': 'RT @ifernweh: แจกกกก !!!\\nAirpods 2 เครื่อง \\nบัตร Starbucks 500 บาท 3 ใบ\\nปลอบใจคนโดนหวยกิน\\n\\nกติกา 🥕\\nRT + Reply อะไรก็ได้เกี่ยวกับแครอท\\nพร้อม…'}\n",
      "102  :  {'text': 'RT @_hepe6: เราเห็นธนาธรตกงาน เลยเอาใบสมัคร Starbucks ไปให้กรอกล https://t.co/WeCq4J6G3q'}\n",
      "103  :  {'text': 'Chollo Packs x80 cápsulas Starbucks para Nespresso por sólo 24,29€ ¡A 0,30€ la unidad! https://t.co/1xQ2oZ5isz https://t.co/S1qVCjjDos'}\n",
      "104  :  {'text': 'RT @_hepe6: เราเห็นธนาธรตกงาน เลยเอาใบสมัคร Starbucks ไปให้กรอกล https://t.co/WeCq4J6G3q'}\n",
      "105  :  {'text': 'スタバのある生活♡\\n\\nSTARBUCKS♡LOVE https://t.co/BTYMhGmblX'}\n",
      "106  :  {'text': 'RT @ifernweh: แจกกกก !!!\\nAirpods 2 เครื่อง \\nบัตร Starbucks 500 บาท 3 ใบ\\nปลอบใจคนโดนหวยกิน\\n\\nกติกา 🥕\\nRT + Reply อะไรก็ได้เกี่ยวกับแครอท\\nพร้อม…'}\n",
      "107  :  {'text': 'RT @DeepStateExpose: RT: 4th Reich \"Democratic\" Socialist meltdown at Starbucks!!!\\nhttps://t.co/DtFiRcnQDm'}\n",
      "108  :  {'text': 'RT @Starbucks_J: 春色で彩られた “さくらフード”は、ふんわりと優しい桜の味わいがお口の中に広がります。味覚で感じる春を楽しんでみませんか😊🌸\\nhttps://t.co/E6M9mPXjUT https://t.co/fjVvOXwK9v'}\n",
      "109  :  {'text': 'RT @ifernweh: แจกกกก !!!\\nAirpods 2 เครื่อง \\nบัตร Starbucks 500 บาท 3 ใบ\\nปลอบใจคนโดนหวยกิน\\n\\nกติกา 🥕\\nRT + Reply อะไรก็ได้เกี่ยวกับแครอท\\nพร้อม…'}\n",
      "110  :  {'text': \"The Starbucks I'm in is playing some classic jazz and I automatically thought of our Taehyungie 💜💜 @BTS_twt\"}\n",
      "111  :  {'text': 'RT @ifernweh: แจกกกก !!!\\nAirpods 2 เครื่อง \\nบัตร Starbucks 500 บาท 3 ใบ\\nปลอบใจคนโดนหวยกิน\\n\\nกติกา 🥕\\nRT + Reply อะไรก็ได้เกี่ยวกับแครอท\\nพร้อม…'}\n",
      "112  :  {'text': 'RT @AikIsTweeting: New Starbucks @ CentralPlaza Ladprao เปิดแล้ว อยู่ติดทางเชื่อมกับ BTS เลย มี nitro on tap และที่สำคัญ มีเครื่องกรองอากาศ…'}\n",
      "113  :  {'text': 'RT @_hepe6: เราเห็นธนาธรตกงาน เลยเอาใบสมัคร Starbucks ไปให้กรอกล https://t.co/WeCq4J6G3q'}\n",
      "114  :  {'text': 'RT @_hepe6: เราเห็นธนาธรตกงาน เลยเอาใบสมัคร Starbucks ไปให้กรอกล https://t.co/WeCq4J6G3q'}\n",
      "115  :  {'text': \"RT @kevinLi13078672: @johnsweeneyroar Answer me this, why i should i pay for a service i do not want, use or support. I don't pay Tesso to…\"}\n",
      "116  :  {'text': 'RT @ifernweh: แจกกกก !!!\\nAirpods 2 เครื่อง \\nบัตร Starbucks 500 บาท 3 ใบ\\nปลอบใจคนโดนหวยกิน\\n\\nกติกา 🥕\\nRT + Reply อะไรก็ได้เกี่ยวกับแครอท\\nพร้อม…'}\n",
      "117  :  {'text': 'RT @_hepe6: เราเห็นธนาธรตกงาน เลยเอาใบสมัคร Starbucks ไปให้กรอกล https://t.co/WeCq4J6G3q'}\n",
      "118  :  {'text': 'Chollo Packs x80 cápsulas Starbucks para Nespresso por sólo 24,29€ ¡A 0,30€ la unidad! https://t.co/1xQ2oZ5isz https://t.co/S1qVCjjDos'}\n",
      "119  :  {'text': 'RT @_hepe6: เราเห็นธนาธรตกงาน เลยเอาใบสมัคร Starbucks ไปให้กรอกล https://t.co/WeCq4J6G3q'}\n",
      "120  :  {'text': 'スタバのある生活♡\\n\\nSTARBUCKS♡LOVE https://t.co/BTYMhGmblX'}\n",
      "121  :  {'text': 'RT @ifernweh: แจกกกก !!!\\nAirpods 2 เครื่อง \\nบัตร Starbucks 500 บาท 3 ใบ\\nปลอบใจคนโดนหวยกิน\\n\\nกติกา 🥕\\nRT + Reply อะไรก็ได้เกี่ยวกับแครอท\\nพร้อม…'}\n",
      "122  :  {'text': 'RT @DeepStateExpose: RT: 4th Reich \"Democratic\" Socialist meltdown at Starbucks!!!\\nhttps://t.co/DtFiRcnQDm'}\n",
      "123  :  {'text': 'RT @Starbucks_J: 春色で彩られた “さくらフード”は、ふんわりと優しい桜の味わいがお口の中に広がります。味覚で感じる春を楽しんでみませんか😊🌸\\nhttps://t.co/E6M9mPXjUT https://t.co/fjVvOXwK9v'}\n",
      "124  :  {'text': 'RT @ifernweh: แจกกกก !!!\\nAirpods 2 เครื่อง \\nบัตร Starbucks 500 บาท 3 ใบ\\nปลอบใจคนโดนหวยกิน\\n\\nกติกา 🥕\\nRT + Reply อะไรก็ได้เกี่ยวกับแครอท\\nพร้อม…'}\n",
      "125  :  {'text': \"The Starbucks I'm in is playing some classic jazz and I automatically thought of our Taehyungie 💜💜 @BTS_twt\"}\n",
      "126  :  {'text': 'RT @ifernweh: แจกกกก !!!\\nAirpods 2 เครื่อง \\nบัตร Starbucks 500 บาท 3 ใบ\\nปลอบใจคนโดนหวยกิน\\n\\nกติกา 🥕\\nRT + Reply อะไรก็ได้เกี่ยวกับแครอท\\nพร้อม…'}\n",
      "127  :  {'text': 'RT @AikIsTweeting: New Starbucks @ CentralPlaza Ladprao เปิดแล้ว อยู่ติดทางเชื่อมกับ BTS เลย มี nitro on tap และที่สำคัญ มีเครื่องกรองอากาศ…'}\n",
      "128  :  {'text': 'RT @_hepe6: เราเห็นธนาธรตกงาน เลยเอาใบสมัคร Starbucks ไปให้กรอกล https://t.co/WeCq4J6G3q'}\n",
      "129  :  {'text': 'RT @_hepe6: เราเห็นธนาธรตกงาน เลยเอาใบสมัคร Starbucks ไปให้กรอกล https://t.co/WeCq4J6G3q'}\n",
      "130  :  {'text': \"RT @kevinLi13078672: @johnsweeneyroar Answer me this, why i should i pay for a service i do not want, use or support. I don't pay Tesso to…\"}\n",
      "131  :  {'text': 'RT @ifernweh: แจกกกก !!!\\nAirpods 2 เครื่อง \\nบัตร Starbucks 500 บาท 3 ใบ\\nปลอบใจคนโดนหวยกิน\\n\\nกติกา 🥕\\nRT + Reply อะไรก็ได้เกี่ยวกับแครอท\\nพร้อม…'}\n",
      "132  :  {'text': 'RT @_hepe6: เราเห็นธนาธรตกงาน เลยเอาใบสมัคร Starbucks ไปให้กรอกล https://t.co/WeCq4J6G3q'}\n",
      "133  :  {'text': 'Chollo Packs x80 cápsulas Starbucks para Nespresso por sólo 24,29€ ¡A 0,30€ la unidad! https://t.co/1xQ2oZ5isz https://t.co/S1qVCjjDos'}\n",
      "134  :  {'text': 'RT @_hepe6: เราเห็นธนาธรตกงาน เลยเอาใบสมัคร Starbucks ไปให้กรอกล https://t.co/WeCq4J6G3q'}\n",
      "135  :  {'text': 'スタバのある生活♡\\n\\nSTARBUCKS♡LOVE https://t.co/BTYMhGmblX'}\n",
      "136  :  {'text': 'RT @ifernweh: แจกกกก !!!\\nAirpods 2 เครื่อง \\nบัตร Starbucks 500 บาท 3 ใบ\\nปลอบใจคนโดนหวยกิน\\n\\nกติกา 🥕\\nRT + Reply อะไรก็ได้เกี่ยวกับแครอท\\nพร้อม…'}\n",
      "137  :  {'text': 'RT @DeepStateExpose: RT: 4th Reich \"Democratic\" Socialist meltdown at Starbucks!!!\\nhttps://t.co/DtFiRcnQDm'}\n",
      "138  :  {'text': 'RT @Starbucks_J: 春色で彩られた “さくらフード”は、ふんわりと優しい桜の味わいがお口の中に広がります。味覚で感じる春を楽しんでみませんか😊🌸\\nhttps://t.co/E6M9mPXjUT https://t.co/fjVvOXwK9v'}\n",
      "139  :  {'text': 'RT @ifernweh: แจกกกก !!!\\nAirpods 2 เครื่อง \\nบัตร Starbucks 500 บาท 3 ใบ\\nปลอบใจคนโดนหวยกิน\\n\\nกติกา 🥕\\nRT + Reply อะไรก็ได้เกี่ยวกับแครอท\\nพร้อม…'}\n",
      "140  :  {'text': \"The Starbucks I'm in is playing some classic jazz and I automatically thought of our Taehyungie 💜💜 @BTS_twt\"}\n",
      "141  :  {'text': 'RT @ifernweh: แจกกกก !!!\\nAirpods 2 เครื่อง \\nบัตร Starbucks 500 บาท 3 ใบ\\nปลอบใจคนโดนหวยกิน\\n\\nกติกา 🥕\\nRT + Reply อะไรก็ได้เกี่ยวกับแครอท\\nพร้อม…'}\n",
      "142  :  {'text': 'RT @AikIsTweeting: New Starbucks @ CentralPlaza Ladprao เปิดแล้ว อยู่ติดทางเชื่อมกับ BTS เลย มี nitro on tap และที่สำคัญ มีเครื่องกรองอากาศ…'}\n",
      "143  :  {'text': 'RT @_hepe6: เราเห็นธนาธรตกงาน เลยเอาใบสมัคร Starbucks ไปให้กรอกล https://t.co/WeCq4J6G3q'}\n",
      "144  :  {'text': 'RT @_hepe6: เราเห็นธนาธรตกงาน เลยเอาใบสมัคร Starbucks ไปให้กรอกล https://t.co/WeCq4J6G3q'}\n",
      "145  :  {'text': \"RT @kevinLi13078672: @johnsweeneyroar Answer me this, why i should i pay for a service i do not want, use or support. I don't pay Tesso to…\"}\n",
      "146  :  {'text': 'RT @ifernweh: แจกกกก !!!\\nAirpods 2 เครื่อง \\nบัตร Starbucks 500 บาท 3 ใบ\\nปลอบใจคนโดนหวยกิน\\n\\nกติกา 🥕\\nRT + Reply อะไรก็ได้เกี่ยวกับแครอท\\nพร้อม…'}\n",
      "147  :  {'text': 'RT @_hepe6: เราเห็นธนาธรตกงาน เลยเอาใบสมัคร Starbucks ไปให้กรอกล https://t.co/WeCq4J6G3q'}\n",
      "148  :  {'text': 'Chollo Packs x80 cápsulas Starbucks para Nespresso por sólo 24,29€ ¡A 0,30€ la unidad! https://t.co/1xQ2oZ5isz https://t.co/S1qVCjjDos'}\n",
      "149  :  {'text': 'RT @_hepe6: เราเห็นธนาธรตกงาน เลยเอาใบสมัคร Starbucks ไปให้กรอกล https://t.co/WeCq4J6G3q'}\n"
     ]
    }
   ],
   "source": [
    "#전체 문서 보기\n",
    "\n",
    "data = {}   # 전체 문서 추가\n",
    "i = 0       # 문서 번호\n",
    "for tweet in search:\n",
    "    data['text'] = tweet.text   # text키에 text문서 저장\n",
    "    print(i, \" : \", data)   # 문서번호 : 문서내용\n",
    "    i += 1"
   ]
  },
  {
   "cell_type": "code",
   "execution_count": 121,
   "metadata": {},
   "outputs": [],
   "source": [
    "# 전체 문서를 파일 저장\n",
    "\n",
    "import os\n",
    "    \n",
    "wfile = open(os.getcwd()+\"/starbucks.txt\", mode='w', encoding=\"utf-8\")   # 쓰기 모드\n",
    "data = {}   # 전체 문서 추가\n",
    "i = 0       # 문서 번호"
   ]
  },
  {
   "cell_type": "code",
   "execution_count": 122,
   "metadata": {},
   "outputs": [],
   "source": [
    "for tweet in search:\n",
    "    data['text'] = tweet.text   # text키에 text문서 저장\n",
    "    wfile.write(data['text']+'\\n')  # 파일 출력\n",
    "    i += 1\n",
    "\n",
    "wfile.close()"
   ]
  },
  {
   "cell_type": "code",
   "execution_count": 123,
   "metadata": {},
   "outputs": [],
   "source": [
    "file = open(os.getcwd()+ '/positive-words.txt', mode='r', encoding='utf-8')"
   ]
  },
  {
   "cell_type": "code",
   "execution_count": 124,
   "metadata": {},
   "outputs": [],
   "source": [
    "poswords = file.readlines()"
   ]
  },
  {
   "cell_type": "code",
   "execution_count": 125,
   "metadata": {},
   "outputs": [],
   "source": [
    "sentence = []\n",
    "\n",
    "for line in poswords:\n",
    "    sentence.append(line)\n",
    "file.close()"
   ]
  },
  {
   "cell_type": "code",
   "execution_count": 126,
   "metadata": {},
   "outputs": [],
   "source": [
    "poswords = sentence"
   ]
  },
  {
   "cell_type": "code",
   "execution_count": 127,
   "metadata": {},
   "outputs": [],
   "source": [
    "new = []\n",
    "\n",
    "for pos in poswords:\n",
    "    pos = re.sub(\"\\n\", \"\", pos)\n",
    "    pos = re.sub(\";\", \"\", pos)\n",
    "    new.append(pos)"
   ]
  },
  {
   "cell_type": "code",
   "execution_count": 128,
   "metadata": {},
   "outputs": [],
   "source": [
    "pos_words = []\n",
    "for i in range(len(new)):\n",
    "    if len(new[i]) > 1:\n",
    "        pos_words.append(new[i])"
   ]
  },
  {
   "cell_type": "code",
   "execution_count": 129,
   "metadata": {},
   "outputs": [],
   "source": [
    "file = open(os.getcwd()+ '/negative-words.txt', mode='r', encoding='utf-8')"
   ]
  },
  {
   "cell_type": "code",
   "execution_count": 130,
   "metadata": {},
   "outputs": [],
   "source": [
    "negwords = file.readlines()"
   ]
  },
  {
   "cell_type": "code",
   "execution_count": 131,
   "metadata": {},
   "outputs": [],
   "source": [
    "sentence = []\n",
    "\n",
    "for line in negwords:\n",
    "    sentence.append(line)\n",
    "file.close()"
   ]
  },
  {
   "cell_type": "code",
   "execution_count": 132,
   "metadata": {},
   "outputs": [],
   "source": [
    "negwords = sentence"
   ]
  },
  {
   "cell_type": "code",
   "execution_count": 133,
   "metadata": {},
   "outputs": [],
   "source": [
    "new = []\n",
    "\n",
    "for neg in negwords:\n",
    "    neg = re.sub(\"\\n\", \"\", neg)\n",
    "    neg = re.sub(\";\", \"\", neg)\n",
    "    new.append(neg)"
   ]
  },
  {
   "cell_type": "code",
   "execution_count": 134,
   "metadata": {},
   "outputs": [],
   "source": [
    "neg_words = []\n",
    "for i in range(len(new)):\n",
    "    if len(new[i]) > 1:\n",
    "        neg_words.append(new[i])"
   ]
  },
  {
   "cell_type": "code",
   "execution_count": 135,
   "metadata": {},
   "outputs": [],
   "source": [
    "file = open(os.getcwd() + '/starbucks.txt', mode='r', encoding='utf-8')"
   ]
  },
  {
   "cell_type": "code",
   "execution_count": 136,
   "metadata": {},
   "outputs": [],
   "source": [
    "star = file.readlines()"
   ]
  },
  {
   "cell_type": "code",
   "execution_count": 137,
   "metadata": {},
   "outputs": [],
   "source": [
    "sentence = []\n",
    "\n",
    "for line in star:\n",
    "    sentence.append(line)\n",
    "file.close()"
   ]
  },
  {
   "cell_type": "code",
   "execution_count": 138,
   "metadata": {},
   "outputs": [],
   "source": [
    "star = sentence"
   ]
  },
  {
   "cell_type": "code",
   "execution_count": 139,
   "metadata": {},
   "outputs": [],
   "source": [
    "new = []\n",
    "\n",
    "for st in star:\n",
    "    st = re.sub(\"\\n\", \"\", st)\n",
    "    st = re.sub(\";\", \"\", st)\n",
    "    st = re.sub(\"\\ufeff\", \"\", st)\n",
    "    new.append(st)"
   ]
  },
  {
   "cell_type": "code",
   "execution_count": 140,
   "metadata": {},
   "outputs": [],
   "source": [
    "star2 = []\n",
    "\n",
    "for s in range(len(star)):\n",
    "    star2.append([star[s]])"
   ]
  },
  {
   "cell_type": "code",
   "execution_count": 141,
   "metadata": {},
   "outputs": [],
   "source": [
    "def sentiment(pos_words, neg_words, text):\n",
    "    for i in range(len(text)):\n",
    "        text[i][0] = re.sub('[^a-zA-Z]', ' ', text[i][0])\n",
    "        text[i][0] = text[i][0].lower()\n",
    "    \n",
    "    nlp = Twitter()\n",
    "    tagged = []\n",
    "\n",
    "    for s in text:\n",
    "        n = nlp.pos(s[0])\n",
    "        tagged.append(n)\n",
    "        \n",
    "    total = []\n",
    "\n",
    "    for t in range(len(tagged)):\n",
    "        tag = []\n",
    "        for i in range(len(tagged[t])):\n",
    "            tag.append(tagged[t][i][0])\n",
    "        total.append(tag)\n",
    "        \n",
    "    result = {}\n",
    "    \n",
    "    for t in range(len(total)):\n",
    "        score = 0\n",
    "        for i in range(len(total[t])):\n",
    "            if total[t][i] in pos_words:\n",
    "                score += 1\n",
    "            if total[t][i] in neg_words:\n",
    "                score -= 1\n",
    "        result.update({text[t][0] : score})\n",
    "        \n",
    "    return result"
   ]
  },
  {
   "cell_type": "code",
   "execution_count": 142,
   "metadata": {},
   "outputs": [],
   "source": [
    "result = sentiment(pos_words, neg_words, star2)"
   ]
  },
  {
   "cell_type": "code",
   "execution_count": 143,
   "metadata": {},
   "outputs": [
    {
     "data": {
      "text/plain": [
       "{'          ': 0,\n",
       " ' ': 0,\n",
       " 'starbucks love https   t co btymhgmblx ': 1,\n",
       " 'rt  ifernweh             ': 0,\n",
       " 'airpods            ': 0,\n",
       " '     starbucks              ': 0,\n",
       " '                  ': 0,\n",
       " '        ': 0,\n",
       " 'rt   reply                         ': 0,\n",
       " '       ': 0,\n",
       " 'rt  deepstateexpose  rt   th reich  democratic  socialist meltdown at starbucks    ': -1,\n",
       " 'https   t co dtfircnqdm ': 0,\n",
       " 'rt  starbucks j                                                                 ': 0,\n",
       " 'https   t co e m mpxjut https   t co fjvvoxwk v ': 0,\n",
       " 'the starbucks i m in is playing some classic jazz and i automatically thought of our taehyungie     bts twt ': 1,\n",
       " 'rt  aikistweeting  new starbucks   centralplaza ladprao                              bts        nitro on tap                                 ': 0,\n",
       " 'rt   hepe                                   starbucks            https   t co wecq j g q ': 0,\n",
       " 'rt  kevinli           johnsweeneyroar answer me this  why i should i pay for a service i do not want  use or support  i don t pay tesso to  ': 1,\n",
       " 'chollo packs x   c psulas starbucks para nespresso por s lo         a       la unidad  https   t co  xq oz isz https   t co s qvcjjdos ': 0}"
      ]
     },
     "execution_count": 143,
     "metadata": {},
     "output_type": "execute_result"
    }
   ],
   "source": [
    "result"
   ]
  },
  {
   "cell_type": "code",
   "execution_count": 144,
   "metadata": {},
   "outputs": [],
   "source": [
    "counter = collections.Counter(list(result.values()))"
   ]
  },
  {
   "cell_type": "code",
   "execution_count": 145,
   "metadata": {},
   "outputs": [
    {
     "data": {
      "text/plain": [
       "[-1, 0, 1]"
      ]
     },
     "execution_count": 145,
     "metadata": {},
     "output_type": "execute_result"
    }
   ],
   "source": [
    "sorted(counter)"
   ]
  },
  {
   "cell_type": "code",
   "execution_count": 146,
   "metadata": {},
   "outputs": [
    {
     "data": {
      "text/plain": [
       "0.10526315789473684"
      ]
     },
     "execution_count": 146,
     "metadata": {},
     "output_type": "execute_result"
    }
   ],
   "source": [
    "np.mean(list(result.values()))"
   ]
  },
  {
   "cell_type": "code",
   "execution_count": 147,
   "metadata": {},
   "outputs": [
    {
     "data": {
      "image/png": "[encoded data removed]",
      "text/plain": [
       "<Figure size 432x288 with 1 Axes>"
      ]
     },
     "metadata": {
      "needs_background": "light"
     },
     "output_type": "display_data"
    }
   ],
   "source": [
    "plt.bar(*zip(*counter.items()))\n",
    "plt.show()"
   ]
  },
  {
   "cell_type": "markdown",
   "metadata": {},
   "source": [
    "## 5.2"
   ]
  },
  {
   "cell_type": "markdown",
   "metadata": {},
   "source": [
    "### 탬파베이 레이스(Tampa Bay Rays)"
   ]
  },
  {
   "cell_type": "code",
   "execution_count": 148,
   "metadata": {},
   "outputs": [],
   "source": [
    "keyword = \"#rays\";     # 자신이 검색하고 싶은 유저\n",
    "search = [] # 크롤링 결과 저장할 변수   "
   ]
  },
  {
   "cell_type": "code",
   "execution_count": 149,
   "metadata": {},
   "outputs": [],
   "source": [
    "cnt = 1\n",
    "while(cnt <= 10):   # 10page 대상으로 크롤링\n",
    "   tweets = api.search(keyword)\n",
    "   for tweet in tweets:\n",
    "       search.append(tweet)\n",
    "   cnt += 1"
   ]
  },
  {
   "cell_type": "code",
   "execution_count": 150,
   "metadata": {},
   "outputs": [
    {
     "name": "stdout",
     "output_type": "stream",
     "text": [
      "150\n"
     ]
    }
   ],
   "source": [
    "print(len(search)) # 문서 길이 "
   ]
  },
  {
   "cell_type": "code",
   "execution_count": 151,
   "metadata": {},
   "outputs": [
    {
     "name": "stdout",
     "output_type": "stream",
     "text": [
      "0  :  {'text': 'マイクを握りしめ\\u3000このstageに立って\\n届けたい\\u3000響けよ\\u3000our music\\u3000\\n忘れちゃいないから\\u3000初めて歌ったとき\\n必ず辿り着くと決めてた\\n\\nRAYS/music life\\n #RAYS'}\n",
      "1  :  {'text': 'RT @ENOi_Member_twt: [#라온 &amp; #진우]\\n\\n⛄️눈사람 만들고싶다 ☃️\\n\\n🌟같이 눈사람 만들 RAYS❓✋\\n\\n#이엔오아이 #ENOi #Laon #Jinwoo #RAYS https://t.co/VPzQzMWTKq'}\n",
      "2  :  {'text': 'RT @ENOi_Member_twt: [#라온 &amp; #진우]\\n\\n⛄️눈사람 만들고싶다 ☃️\\n\\n🌟같이 눈사람 만들 RAYS❓✋\\n\\n#이엔오아이 #ENOi #Laon #Jinwoo #RAYS https://t.co/VPzQzMWTKq'}\n",
      "3  :  {'text': 'RT @ENOi_Member_twt: [#라온 &amp; #진우]\\n\\n⛄️눈사람 만들고싶다 ☃️\\n\\n🌟같이 눈사람 만들 RAYS❓✋\\n\\n#이엔오아이 #ENOi #Laon #Jinwoo #RAYS https://t.co/VPzQzMWTKq'}\n",
      "4  :  {'text': 'RT @ENOi_Member_twt: [#라온 &amp; #진우]\\n\\n⛄️눈사람 만들고싶다 ☃️\\n\\n🌟같이 눈사람 만들 RAYS❓✋\\n\\n#이엔오아이 #ENOi #Laon #Jinwoo #RAYS https://t.co/VPzQzMWTKq'}\n",
      "5  :  {'text': 'RT @ENOi_Member_twt: [#라온 &amp; #진우]\\n\\n⛄️눈사람 만들고싶다 ☃️\\n\\n🌟같이 눈사람 만들 RAYS❓✋\\n\\n#이엔오아이 #ENOi #Laon #Jinwoo #RAYS https://t.co/VPzQzMWTKq'}\n",
      "6  :  {'text': 'RT @ENOi_Member_twt: [#라온 &amp; #진우]\\n\\n⛄️눈사람 만들고싶다 ☃️\\n\\n🌟같이 눈사람 만들 RAYS❓✋\\n\\n#이엔오아이 #ENOi #Laon #Jinwoo #RAYS https://t.co/VPzQzMWTKq'}\n",
      "7  :  {'text': 'RT @ENOi_Member_twt: [#건]\\n\\n고생 진짜 많아떠요 RAYS❤️ 싸랑해행\\n\\n#이엔오아이 #ENOi #Gun #RAYS #발칙하게_ENOi https://t.co/DsDbOv9HZo'}\n",
      "8  :  {'text': 'RT @ENOi_Member_twt: [#라온 &amp; #진우]\\n\\n⛄️눈사람 만들고싶다 ☃️\\n\\n🌟같이 눈사람 만들 RAYS❓✋\\n\\n#이엔오아이 #ENOi #Laon #Jinwoo #RAYS https://t.co/VPzQzMWTKq'}\n",
      "9  :  {'text': 'RT @ENOi_Member_twt: [#건]\\n\\n고생 진짜 많아떠요 RAYS❤️ 싸랑해행\\n\\n#이엔오아이 #ENOi #Gun #RAYS #발칙하게_ENOi https://t.co/DsDbOv9HZo'}\n",
      "10  :  {'text': 'RT @ENOi_Member_twt: [#이엔오아이]\\n\\nRAYS🌟 저녁 먹었어요-?\\n보고싶어요 벌써 🥺\\n우리 빨리 만나요🥺🥺🥺 \\n\\n#ENOi #RAYS #발칙하게_ENOi https://t.co/mXZOPOyP0A'}\n",
      "11  :  {'text': 'RT @ENOi_Member_twt: [#이엔오아이]\\n\\nRAYS🌟 저녁 먹었어요-?\\n보고싶어요 벌써 🥺\\n우리 빨리 만나요🥺🥺🥺 \\n\\n#ENOi #RAYS #발칙하게_ENOi https://t.co/mXZOPOyP0A'}\n",
      "12  :  {'text': 'RT @ENOi_Member_twt: [#이엔오아이]\\n\\n정말 열심히 준비한 ENOi의 첫 번째 미니앨범이 발매되었습니다 :)\\n\\n오랫동안 기다려주셔서 정말 감사합니다\\n발칙하게, 열심히 활동할게요 🍎\\n\\n많은 사랑 부탁드립니다 ‼️\\n\\n#ENOi #RAYS…'}\n",
      "13  :  {'text': 'RT @ENOi_Member_twt: [#제이키드]\\n\\n발칙하게 안녕😭ㅜㅜ\\n레이즈들!!\\n마지막까지 응원해줘서 너무 고맙구\\n사랑햄요❤️\\n\\n#이엔오아이 #ENOi #JKID #RAYS #발칙하게_ENOi https://t.co/V2CwfzZjZA'}\n",
      "14  :  {'text': 'RT @ENOi_Member_twt: [#라온 &amp; #진우]\\n\\n⛄️눈사람 만들고싶다 ☃️\\n\\n🌟같이 눈사람 만들 RAYS❓✋\\n\\n#이엔오아이 #ENOi #Laon #Jinwoo #RAYS https://t.co/VPzQzMWTKq'}\n",
      "15  :  {'text': 'マイクを握りしめ\\u3000このstageに立って\\n届けたい\\u3000響けよ\\u3000our music\\u3000\\n忘れちゃいないから\\u3000初めて歌ったとき\\n必ず辿り着くと決めてた\\n\\nRAYS/music life\\n #RAYS'}\n",
      "16  :  {'text': 'RT @ENOi_Member_twt: [#라온 &amp; #진우]\\n\\n⛄️눈사람 만들고싶다 ☃️\\n\\n🌟같이 눈사람 만들 RAYS❓✋\\n\\n#이엔오아이 #ENOi #Laon #Jinwoo #RAYS https://t.co/VPzQzMWTKq'}\n",
      "17  :  {'text': 'RT @ENOi_Member_twt: [#라온 &amp; #진우]\\n\\n⛄️눈사람 만들고싶다 ☃️\\n\\n🌟같이 눈사람 만들 RAYS❓✋\\n\\n#이엔오아이 #ENOi #Laon #Jinwoo #RAYS https://t.co/VPzQzMWTKq'}\n",
      "18  :  {'text': 'RT @ENOi_Member_twt: [#라온 &amp; #진우]\\n\\n⛄️눈사람 만들고싶다 ☃️\\n\\n🌟같이 눈사람 만들 RAYS❓✋\\n\\n#이엔오아이 #ENOi #Laon #Jinwoo #RAYS https://t.co/VPzQzMWTKq'}\n",
      "19  :  {'text': 'RT @ENOi_Member_twt: [#라온 &amp; #진우]\\n\\n⛄️눈사람 만들고싶다 ☃️\\n\\n🌟같이 눈사람 만들 RAYS❓✋\\n\\n#이엔오아이 #ENOi #Laon #Jinwoo #RAYS https://t.co/VPzQzMWTKq'}\n",
      "20  :  {'text': 'RT @ENOi_Member_twt: [#라온 &amp; #진우]\\n\\n⛄️눈사람 만들고싶다 ☃️\\n\\n🌟같이 눈사람 만들 RAYS❓✋\\n\\n#이엔오아이 #ENOi #Laon #Jinwoo #RAYS https://t.co/VPzQzMWTKq'}\n",
      "21  :  {'text': 'RT @ENOi_Member_twt: [#라온 &amp; #진우]\\n\\n⛄️눈사람 만들고싶다 ☃️\\n\\n🌟같이 눈사람 만들 RAYS❓✋\\n\\n#이엔오아이 #ENOi #Laon #Jinwoo #RAYS https://t.co/VPzQzMWTKq'}\n",
      "22  :  {'text': 'RT @ENOi_Member_twt: [#건]\\n\\n고생 진짜 많아떠요 RAYS❤️ 싸랑해행\\n\\n#이엔오아이 #ENOi #Gun #RAYS #발칙하게_ENOi https://t.co/DsDbOv9HZo'}\n",
      "23  :  {'text': 'RT @ENOi_Member_twt: [#라온 &amp; #진우]\\n\\n⛄️눈사람 만들고싶다 ☃️\\n\\n🌟같이 눈사람 만들 RAYS❓✋\\n\\n#이엔오아이 #ENOi #Laon #Jinwoo #RAYS https://t.co/VPzQzMWTKq'}\n",
      "24  :  {'text': 'RT @ENOi_Member_twt: [#건]\\n\\n고생 진짜 많아떠요 RAYS❤️ 싸랑해행\\n\\n#이엔오아이 #ENOi #Gun #RAYS #발칙하게_ENOi https://t.co/DsDbOv9HZo'}\n",
      "25  :  {'text': 'RT @ENOi_Member_twt: [#이엔오아이]\\n\\nRAYS🌟 저녁 먹었어요-?\\n보고싶어요 벌써 🥺\\n우리 빨리 만나요🥺🥺🥺 \\n\\n#ENOi #RAYS #발칙하게_ENOi https://t.co/mXZOPOyP0A'}\n",
      "26  :  {'text': 'RT @ENOi_Member_twt: [#이엔오아이]\\n\\nRAYS🌟 저녁 먹었어요-?\\n보고싶어요 벌써 🥺\\n우리 빨리 만나요🥺🥺🥺 \\n\\n#ENOi #RAYS #발칙하게_ENOi https://t.co/mXZOPOyP0A'}\n",
      "27  :  {'text': 'RT @ENOi_Member_twt: [#이엔오아이]\\n\\n정말 열심히 준비한 ENOi의 첫 번째 미니앨범이 발매되었습니다 :)\\n\\n오랫동안 기다려주셔서 정말 감사합니다\\n발칙하게, 열심히 활동할게요 🍎\\n\\n많은 사랑 부탁드립니다 ‼️\\n\\n#ENOi #RAYS…'}\n",
      "28  :  {'text': 'RT @ENOi_Member_twt: [#제이키드]\\n\\n발칙하게 안녕😭ㅜㅜ\\n레이즈들!!\\n마지막까지 응원해줘서 너무 고맙구\\n사랑햄요❤️\\n\\n#이엔오아이 #ENOi #JKID #RAYS #발칙하게_ENOi https://t.co/V2CwfzZjZA'}\n",
      "29  :  {'text': 'RT @ENOi_Member_twt: [#라온 &amp; #진우]\\n\\n⛄️눈사람 만들고싶다 ☃️\\n\\n🌟같이 눈사람 만들 RAYS❓✋\\n\\n#이엔오아이 #ENOi #Laon #Jinwoo #RAYS https://t.co/VPzQzMWTKq'}\n",
      "30  :  {'text': 'マイクを握りしめ\\u3000このstageに立って\\n届けたい\\u3000響けよ\\u3000our music\\u3000\\n忘れちゃいないから\\u3000初めて歌ったとき\\n必ず辿り着くと決めてた\\n\\nRAYS/music life\\n #RAYS'}\n",
      "31  :  {'text': 'RT @ENOi_Member_twt: [#라온 &amp; #진우]\\n\\n⛄️눈사람 만들고싶다 ☃️\\n\\n🌟같이 눈사람 만들 RAYS❓✋\\n\\n#이엔오아이 #ENOi #Laon #Jinwoo #RAYS https://t.co/VPzQzMWTKq'}\n",
      "32  :  {'text': 'RT @ENOi_Member_twt: [#라온 &amp; #진우]\\n\\n⛄️눈사람 만들고싶다 ☃️\\n\\n🌟같이 눈사람 만들 RAYS❓✋\\n\\n#이엔오아이 #ENOi #Laon #Jinwoo #RAYS https://t.co/VPzQzMWTKq'}\n",
      "33  :  {'text': 'RT @ENOi_Member_twt: [#라온 &amp; #진우]\\n\\n⛄️눈사람 만들고싶다 ☃️\\n\\n🌟같이 눈사람 만들 RAYS❓✋\\n\\n#이엔오아이 #ENOi #Laon #Jinwoo #RAYS https://t.co/VPzQzMWTKq'}\n",
      "34  :  {'text': 'RT @ENOi_Member_twt: [#라온 &amp; #진우]\\n\\n⛄️눈사람 만들고싶다 ☃️\\n\\n🌟같이 눈사람 만들 RAYS❓✋\\n\\n#이엔오아이 #ENOi #Laon #Jinwoo #RAYS https://t.co/VPzQzMWTKq'}\n",
      "35  :  {'text': 'RT @ENOi_Member_twt: [#라온 &amp; #진우]\\n\\n⛄️눈사람 만들고싶다 ☃️\\n\\n🌟같이 눈사람 만들 RAYS❓✋\\n\\n#이엔오아이 #ENOi #Laon #Jinwoo #RAYS https://t.co/VPzQzMWTKq'}\n",
      "36  :  {'text': 'RT @ENOi_Member_twt: [#라온 &amp; #진우]\\n\\n⛄️눈사람 만들고싶다 ☃️\\n\\n🌟같이 눈사람 만들 RAYS❓✋\\n\\n#이엔오아이 #ENOi #Laon #Jinwoo #RAYS https://t.co/VPzQzMWTKq'}\n",
      "37  :  {'text': 'RT @ENOi_Member_twt: [#건]\\n\\n고생 진짜 많아떠요 RAYS❤️ 싸랑해행\\n\\n#이엔오아이 #ENOi #Gun #RAYS #발칙하게_ENOi https://t.co/DsDbOv9HZo'}\n",
      "38  :  {'text': 'RT @ENOi_Member_twt: [#라온 &amp; #진우]\\n\\n⛄️눈사람 만들고싶다 ☃️\\n\\n🌟같이 눈사람 만들 RAYS❓✋\\n\\n#이엔오아이 #ENOi #Laon #Jinwoo #RAYS https://t.co/VPzQzMWTKq'}\n",
      "39  :  {'text': 'RT @ENOi_Member_twt: [#건]\\n\\n고생 진짜 많아떠요 RAYS❤️ 싸랑해행\\n\\n#이엔오아이 #ENOi #Gun #RAYS #발칙하게_ENOi https://t.co/DsDbOv9HZo'}\n",
      "40  :  {'text': 'RT @ENOi_Member_twt: [#이엔오아이]\\n\\nRAYS🌟 저녁 먹었어요-?\\n보고싶어요 벌써 🥺\\n우리 빨리 만나요🥺🥺🥺 \\n\\n#ENOi #RAYS #발칙하게_ENOi https://t.co/mXZOPOyP0A'}\n",
      "41  :  {'text': 'RT @ENOi_Member_twt: [#이엔오아이]\\n\\nRAYS🌟 저녁 먹었어요-?\\n보고싶어요 벌써 🥺\\n우리 빨리 만나요🥺🥺🥺 \\n\\n#ENOi #RAYS #발칙하게_ENOi https://t.co/mXZOPOyP0A'}\n",
      "42  :  {'text': 'RT @ENOi_Member_twt: [#이엔오아이]\\n\\n정말 열심히 준비한 ENOi의 첫 번째 미니앨범이 발매되었습니다 :)\\n\\n오랫동안 기다려주셔서 정말 감사합니다\\n발칙하게, 열심히 활동할게요 🍎\\n\\n많은 사랑 부탁드립니다 ‼️\\n\\n#ENOi #RAYS…'}\n",
      "43  :  {'text': 'RT @ENOi_Member_twt: [#제이키드]\\n\\n발칙하게 안녕😭ㅜㅜ\\n레이즈들!!\\n마지막까지 응원해줘서 너무 고맙구\\n사랑햄요❤️\\n\\n#이엔오아이 #ENOi #JKID #RAYS #발칙하게_ENOi https://t.co/V2CwfzZjZA'}\n",
      "44  :  {'text': 'RT @ENOi_Member_twt: [#라온 &amp; #진우]\\n\\n⛄️눈사람 만들고싶다 ☃️\\n\\n🌟같이 눈사람 만들 RAYS❓✋\\n\\n#이엔오아이 #ENOi #Laon #Jinwoo #RAYS https://t.co/VPzQzMWTKq'}\n",
      "45  :  {'text': 'マイクを握りしめ\\u3000このstageに立って\\n届けたい\\u3000響けよ\\u3000our music\\u3000\\n忘れちゃいないから\\u3000初めて歌ったとき\\n必ず辿り着くと決めてた\\n\\nRAYS/music life\\n #RAYS'}\n",
      "46  :  {'text': 'RT @ENOi_Member_twt: [#라온 &amp; #진우]\\n\\n⛄️눈사람 만들고싶다 ☃️\\n\\n🌟같이 눈사람 만들 RAYS❓✋\\n\\n#이엔오아이 #ENOi #Laon #Jinwoo #RAYS https://t.co/VPzQzMWTKq'}\n",
      "47  :  {'text': 'RT @ENOi_Member_twt: [#라온 &amp; #진우]\\n\\n⛄️눈사람 만들고싶다 ☃️\\n\\n🌟같이 눈사람 만들 RAYS❓✋\\n\\n#이엔오아이 #ENOi #Laon #Jinwoo #RAYS https://t.co/VPzQzMWTKq'}\n",
      "48  :  {'text': 'RT @ENOi_Member_twt: [#라온 &amp; #진우]\\n\\n⛄️눈사람 만들고싶다 ☃️\\n\\n🌟같이 눈사람 만들 RAYS❓✋\\n\\n#이엔오아이 #ENOi #Laon #Jinwoo #RAYS https://t.co/VPzQzMWTKq'}\n",
      "49  :  {'text': 'RT @ENOi_Member_twt: [#라온 &amp; #진우]\\n\\n⛄️눈사람 만들고싶다 ☃️\\n\\n🌟같이 눈사람 만들 RAYS❓✋\\n\\n#이엔오아이 #ENOi #Laon #Jinwoo #RAYS https://t.co/VPzQzMWTKq'}\n",
      "50  :  {'text': 'RT @ENOi_Member_twt: [#라온 &amp; #진우]\\n\\n⛄️눈사람 만들고싶다 ☃️\\n\\n🌟같이 눈사람 만들 RAYS❓✋\\n\\n#이엔오아이 #ENOi #Laon #Jinwoo #RAYS https://t.co/VPzQzMWTKq'}\n",
      "51  :  {'text': 'RT @ENOi_Member_twt: [#라온 &amp; #진우]\\n\\n⛄️눈사람 만들고싶다 ☃️\\n\\n🌟같이 눈사람 만들 RAYS❓✋\\n\\n#이엔오아이 #ENOi #Laon #Jinwoo #RAYS https://t.co/VPzQzMWTKq'}\n",
      "52  :  {'text': 'RT @ENOi_Member_twt: [#건]\\n\\n고생 진짜 많아떠요 RAYS❤️ 싸랑해행\\n\\n#이엔오아이 #ENOi #Gun #RAYS #발칙하게_ENOi https://t.co/DsDbOv9HZo'}\n",
      "53  :  {'text': 'RT @ENOi_Member_twt: [#라온 &amp; #진우]\\n\\n⛄️눈사람 만들고싶다 ☃️\\n\\n🌟같이 눈사람 만들 RAYS❓✋\\n\\n#이엔오아이 #ENOi #Laon #Jinwoo #RAYS https://t.co/VPzQzMWTKq'}\n",
      "54  :  {'text': 'RT @ENOi_Member_twt: [#건]\\n\\n고생 진짜 많아떠요 RAYS❤️ 싸랑해행\\n\\n#이엔오아이 #ENOi #Gun #RAYS #발칙하게_ENOi https://t.co/DsDbOv9HZo'}\n",
      "55  :  {'text': 'RT @ENOi_Member_twt: [#이엔오아이]\\n\\nRAYS🌟 저녁 먹었어요-?\\n보고싶어요 벌써 🥺\\n우리 빨리 만나요🥺🥺🥺 \\n\\n#ENOi #RAYS #발칙하게_ENOi https://t.co/mXZOPOyP0A'}\n",
      "56  :  {'text': 'RT @ENOi_Member_twt: [#이엔오아이]\\n\\nRAYS🌟 저녁 먹었어요-?\\n보고싶어요 벌써 🥺\\n우리 빨리 만나요🥺🥺🥺 \\n\\n#ENOi #RAYS #발칙하게_ENOi https://t.co/mXZOPOyP0A'}\n",
      "57  :  {'text': 'RT @ENOi_Member_twt: [#이엔오아이]\\n\\n정말 열심히 준비한 ENOi의 첫 번째 미니앨범이 발매되었습니다 :)\\n\\n오랫동안 기다려주셔서 정말 감사합니다\\n발칙하게, 열심히 활동할게요 🍎\\n\\n많은 사랑 부탁드립니다 ‼️\\n\\n#ENOi #RAYS…'}\n",
      "58  :  {'text': 'RT @ENOi_Member_twt: [#제이키드]\\n\\n발칙하게 안녕😭ㅜㅜ\\n레이즈들!!\\n마지막까지 응원해줘서 너무 고맙구\\n사랑햄요❤️\\n\\n#이엔오아이 #ENOi #JKID #RAYS #발칙하게_ENOi https://t.co/V2CwfzZjZA'}\n",
      "59  :  {'text': 'RT @ENOi_Member_twt: [#라온 &amp; #진우]\\n\\n⛄️눈사람 만들고싶다 ☃️\\n\\n🌟같이 눈사람 만들 RAYS❓✋\\n\\n#이엔오아이 #ENOi #Laon #Jinwoo #RAYS https://t.co/VPzQzMWTKq'}\n",
      "60  :  {'text': 'マイクを握りしめ\\u3000このstageに立って\\n届けたい\\u3000響けよ\\u3000our music\\u3000\\n忘れちゃいないから\\u3000初めて歌ったとき\\n必ず辿り着くと決めてた\\n\\nRAYS/music life\\n #RAYS'}\n",
      "61  :  {'text': 'RT @ENOi_Member_twt: [#라온 &amp; #진우]\\n\\n⛄️눈사람 만들고싶다 ☃️\\n\\n🌟같이 눈사람 만들 RAYS❓✋\\n\\n#이엔오아이 #ENOi #Laon #Jinwoo #RAYS https://t.co/VPzQzMWTKq'}\n",
      "62  :  {'text': 'RT @ENOi_Member_twt: [#라온 &amp; #진우]\\n\\n⛄️눈사람 만들고싶다 ☃️\\n\\n🌟같이 눈사람 만들 RAYS❓✋\\n\\n#이엔오아이 #ENOi #Laon #Jinwoo #RAYS https://t.co/VPzQzMWTKq'}\n",
      "63  :  {'text': 'RT @ENOi_Member_twt: [#라온 &amp; #진우]\\n\\n⛄️눈사람 만들고싶다 ☃️\\n\\n🌟같이 눈사람 만들 RAYS❓✋\\n\\n#이엔오아이 #ENOi #Laon #Jinwoo #RAYS https://t.co/VPzQzMWTKq'}\n",
      "64  :  {'text': 'RT @ENOi_Member_twt: [#라온 &amp; #진우]\\n\\n⛄️눈사람 만들고싶다 ☃️\\n\\n🌟같이 눈사람 만들 RAYS❓✋\\n\\n#이엔오아이 #ENOi #Laon #Jinwoo #RAYS https://t.co/VPzQzMWTKq'}\n",
      "65  :  {'text': 'RT @ENOi_Member_twt: [#라온 &amp; #진우]\\n\\n⛄️눈사람 만들고싶다 ☃️\\n\\n🌟같이 눈사람 만들 RAYS❓✋\\n\\n#이엔오아이 #ENOi #Laon #Jinwoo #RAYS https://t.co/VPzQzMWTKq'}\n",
      "66  :  {'text': 'RT @ENOi_Member_twt: [#라온 &amp; #진우]\\n\\n⛄️눈사람 만들고싶다 ☃️\\n\\n🌟같이 눈사람 만들 RAYS❓✋\\n\\n#이엔오아이 #ENOi #Laon #Jinwoo #RAYS https://t.co/VPzQzMWTKq'}\n",
      "67  :  {'text': 'RT @ENOi_Member_twt: [#건]\\n\\n고생 진짜 많아떠요 RAYS❤️ 싸랑해행\\n\\n#이엔오아이 #ENOi #Gun #RAYS #발칙하게_ENOi https://t.co/DsDbOv9HZo'}\n",
      "68  :  {'text': 'RT @ENOi_Member_twt: [#라온 &amp; #진우]\\n\\n⛄️눈사람 만들고싶다 ☃️\\n\\n🌟같이 눈사람 만들 RAYS❓✋\\n\\n#이엔오아이 #ENOi #Laon #Jinwoo #RAYS https://t.co/VPzQzMWTKq'}\n",
      "69  :  {'text': 'RT @ENOi_Member_twt: [#건]\\n\\n고생 진짜 많아떠요 RAYS❤️ 싸랑해행\\n\\n#이엔오아이 #ENOi #Gun #RAYS #발칙하게_ENOi https://t.co/DsDbOv9HZo'}\n",
      "70  :  {'text': 'RT @ENOi_Member_twt: [#이엔오아이]\\n\\nRAYS🌟 저녁 먹었어요-?\\n보고싶어요 벌써 🥺\\n우리 빨리 만나요🥺🥺🥺 \\n\\n#ENOi #RAYS #발칙하게_ENOi https://t.co/mXZOPOyP0A'}\n",
      "71  :  {'text': 'RT @ENOi_Member_twt: [#이엔오아이]\\n\\nRAYS🌟 저녁 먹었어요-?\\n보고싶어요 벌써 🥺\\n우리 빨리 만나요🥺🥺🥺 \\n\\n#ENOi #RAYS #발칙하게_ENOi https://t.co/mXZOPOyP0A'}\n",
      "72  :  {'text': 'RT @ENOi_Member_twt: [#이엔오아이]\\n\\n정말 열심히 준비한 ENOi의 첫 번째 미니앨범이 발매되었습니다 :)\\n\\n오랫동안 기다려주셔서 정말 감사합니다\\n발칙하게, 열심히 활동할게요 🍎\\n\\n많은 사랑 부탁드립니다 ‼️\\n\\n#ENOi #RAYS…'}\n",
      "73  :  {'text': 'RT @ENOi_Member_twt: [#제이키드]\\n\\n발칙하게 안녕😭ㅜㅜ\\n레이즈들!!\\n마지막까지 응원해줘서 너무 고맙구\\n사랑햄요❤️\\n\\n#이엔오아이 #ENOi #JKID #RAYS #발칙하게_ENOi https://t.co/V2CwfzZjZA'}\n",
      "74  :  {'text': 'RT @ENOi_Member_twt: [#라온 &amp; #진우]\\n\\n⛄️눈사람 만들고싶다 ☃️\\n\\n🌟같이 눈사람 만들 RAYS❓✋\\n\\n#이엔오아이 #ENOi #Laon #Jinwoo #RAYS https://t.co/VPzQzMWTKq'}\n",
      "75  :  {'text': 'マイクを握りしめ\\u3000このstageに立って\\n届けたい\\u3000響けよ\\u3000our music\\u3000\\n忘れちゃいないから\\u3000初めて歌ったとき\\n必ず辿り着くと決めてた\\n\\nRAYS/music life\\n #RAYS'}\n",
      "76  :  {'text': 'RT @ENOi_Member_twt: [#라온 &amp; #진우]\\n\\n⛄️눈사람 만들고싶다 ☃️\\n\\n🌟같이 눈사람 만들 RAYS❓✋\\n\\n#이엔오아이 #ENOi #Laon #Jinwoo #RAYS https://t.co/VPzQzMWTKq'}\n",
      "77  :  {'text': 'RT @ENOi_Member_twt: [#라온 &amp; #진우]\\n\\n⛄️눈사람 만들고싶다 ☃️\\n\\n🌟같이 눈사람 만들 RAYS❓✋\\n\\n#이엔오아이 #ENOi #Laon #Jinwoo #RAYS https://t.co/VPzQzMWTKq'}\n",
      "78  :  {'text': 'RT @ENOi_Member_twt: [#라온 &amp; #진우]\\n\\n⛄️눈사람 만들고싶다 ☃️\\n\\n🌟같이 눈사람 만들 RAYS❓✋\\n\\n#이엔오아이 #ENOi #Laon #Jinwoo #RAYS https://t.co/VPzQzMWTKq'}\n",
      "79  :  {'text': 'RT @ENOi_Member_twt: [#라온 &amp; #진우]\\n\\n⛄️눈사람 만들고싶다 ☃️\\n\\n🌟같이 눈사람 만들 RAYS❓✋\\n\\n#이엔오아이 #ENOi #Laon #Jinwoo #RAYS https://t.co/VPzQzMWTKq'}\n",
      "80  :  {'text': 'RT @ENOi_Member_twt: [#라온 &amp; #진우]\\n\\n⛄️눈사람 만들고싶다 ☃️\\n\\n🌟같이 눈사람 만들 RAYS❓✋\\n\\n#이엔오아이 #ENOi #Laon #Jinwoo #RAYS https://t.co/VPzQzMWTKq'}\n",
      "81  :  {'text': 'RT @ENOi_Member_twt: [#라온 &amp; #진우]\\n\\n⛄️눈사람 만들고싶다 ☃️\\n\\n🌟같이 눈사람 만들 RAYS❓✋\\n\\n#이엔오아이 #ENOi #Laon #Jinwoo #RAYS https://t.co/VPzQzMWTKq'}\n",
      "82  :  {'text': 'RT @ENOi_Member_twt: [#건]\\n\\n고생 진짜 많아떠요 RAYS❤️ 싸랑해행\\n\\n#이엔오아이 #ENOi #Gun #RAYS #발칙하게_ENOi https://t.co/DsDbOv9HZo'}\n",
      "83  :  {'text': 'RT @ENOi_Member_twt: [#라온 &amp; #진우]\\n\\n⛄️눈사람 만들고싶다 ☃️\\n\\n🌟같이 눈사람 만들 RAYS❓✋\\n\\n#이엔오아이 #ENOi #Laon #Jinwoo #RAYS https://t.co/VPzQzMWTKq'}\n",
      "84  :  {'text': 'RT @ENOi_Member_twt: [#건]\\n\\n고생 진짜 많아떠요 RAYS❤️ 싸랑해행\\n\\n#이엔오아이 #ENOi #Gun #RAYS #발칙하게_ENOi https://t.co/DsDbOv9HZo'}\n",
      "85  :  {'text': 'RT @ENOi_Member_twt: [#이엔오아이]\\n\\nRAYS🌟 저녁 먹었어요-?\\n보고싶어요 벌써 🥺\\n우리 빨리 만나요🥺🥺🥺 \\n\\n#ENOi #RAYS #발칙하게_ENOi https://t.co/mXZOPOyP0A'}\n",
      "86  :  {'text': 'RT @ENOi_Member_twt: [#이엔오아이]\\n\\nRAYS🌟 저녁 먹었어요-?\\n보고싶어요 벌써 🥺\\n우리 빨리 만나요🥺🥺🥺 \\n\\n#ENOi #RAYS #발칙하게_ENOi https://t.co/mXZOPOyP0A'}\n",
      "87  :  {'text': 'RT @ENOi_Member_twt: [#이엔오아이]\\n\\n정말 열심히 준비한 ENOi의 첫 번째 미니앨범이 발매되었습니다 :)\\n\\n오랫동안 기다려주셔서 정말 감사합니다\\n발칙하게, 열심히 활동할게요 🍎\\n\\n많은 사랑 부탁드립니다 ‼️\\n\\n#ENOi #RAYS…'}\n",
      "88  :  {'text': 'RT @ENOi_Member_twt: [#제이키드]\\n\\n발칙하게 안녕😭ㅜㅜ\\n레이즈들!!\\n마지막까지 응원해줘서 너무 고맙구\\n사랑햄요❤️\\n\\n#이엔오아이 #ENOi #JKID #RAYS #발칙하게_ENOi https://t.co/V2CwfzZjZA'}\n",
      "89  :  {'text': 'RT @ENOi_Member_twt: [#라온 &amp; #진우]\\n\\n⛄️눈사람 만들고싶다 ☃️\\n\\n🌟같이 눈사람 만들 RAYS❓✋\\n\\n#이엔오아이 #ENOi #Laon #Jinwoo #RAYS https://t.co/VPzQzMWTKq'}\n",
      "90  :  {'text': 'マイクを握りしめ\\u3000このstageに立って\\n届けたい\\u3000響けよ\\u3000our music\\u3000\\n忘れちゃいないから\\u3000初めて歌ったとき\\n必ず辿り着くと決めてた\\n\\nRAYS/music life\\n #RAYS'}\n",
      "91  :  {'text': 'RT @ENOi_Member_twt: [#라온 &amp; #진우]\\n\\n⛄️눈사람 만들고싶다 ☃️\\n\\n🌟같이 눈사람 만들 RAYS❓✋\\n\\n#이엔오아이 #ENOi #Laon #Jinwoo #RAYS https://t.co/VPzQzMWTKq'}\n",
      "92  :  {'text': 'RT @ENOi_Member_twt: [#라온 &amp; #진우]\\n\\n⛄️눈사람 만들고싶다 ☃️\\n\\n🌟같이 눈사람 만들 RAYS❓✋\\n\\n#이엔오아이 #ENOi #Laon #Jinwoo #RAYS https://t.co/VPzQzMWTKq'}\n",
      "93  :  {'text': 'RT @ENOi_Member_twt: [#라온 &amp; #진우]\\n\\n⛄️눈사람 만들고싶다 ☃️\\n\\n🌟같이 눈사람 만들 RAYS❓✋\\n\\n#이엔오아이 #ENOi #Laon #Jinwoo #RAYS https://t.co/VPzQzMWTKq'}\n",
      "94  :  {'text': 'RT @ENOi_Member_twt: [#라온 &amp; #진우]\\n\\n⛄️눈사람 만들고싶다 ☃️\\n\\n🌟같이 눈사람 만들 RAYS❓✋\\n\\n#이엔오아이 #ENOi #Laon #Jinwoo #RAYS https://t.co/VPzQzMWTKq'}\n",
      "95  :  {'text': 'RT @ENOi_Member_twt: [#라온 &amp; #진우]\\n\\n⛄️눈사람 만들고싶다 ☃️\\n\\n🌟같이 눈사람 만들 RAYS❓✋\\n\\n#이엔오아이 #ENOi #Laon #Jinwoo #RAYS https://t.co/VPzQzMWTKq'}\n",
      "96  :  {'text': 'RT @ENOi_Member_twt: [#라온 &amp; #진우]\\n\\n⛄️눈사람 만들고싶다 ☃️\\n\\n🌟같이 눈사람 만들 RAYS❓✋\\n\\n#이엔오아이 #ENOi #Laon #Jinwoo #RAYS https://t.co/VPzQzMWTKq'}\n",
      "97  :  {'text': 'RT @ENOi_Member_twt: [#건]\\n\\n고생 진짜 많아떠요 RAYS❤️ 싸랑해행\\n\\n#이엔오아이 #ENOi #Gun #RAYS #발칙하게_ENOi https://t.co/DsDbOv9HZo'}\n",
      "98  :  {'text': 'RT @ENOi_Member_twt: [#라온 &amp; #진우]\\n\\n⛄️눈사람 만들고싶다 ☃️\\n\\n🌟같이 눈사람 만들 RAYS❓✋\\n\\n#이엔오아이 #ENOi #Laon #Jinwoo #RAYS https://t.co/VPzQzMWTKq'}\n",
      "99  :  {'text': 'RT @ENOi_Member_twt: [#건]\\n\\n고생 진짜 많아떠요 RAYS❤️ 싸랑해행\\n\\n#이엔오아이 #ENOi #Gun #RAYS #발칙하게_ENOi https://t.co/DsDbOv9HZo'}\n",
      "100  :  {'text': 'RT @ENOi_Member_twt: [#이엔오아이]\\n\\nRAYS🌟 저녁 먹었어요-?\\n보고싶어요 벌써 🥺\\n우리 빨리 만나요🥺🥺🥺 \\n\\n#ENOi #RAYS #발칙하게_ENOi https://t.co/mXZOPOyP0A'}\n",
      "101  :  {'text': 'RT @ENOi_Member_twt: [#이엔오아이]\\n\\nRAYS🌟 저녁 먹었어요-?\\n보고싶어요 벌써 🥺\\n우리 빨리 만나요🥺🥺🥺 \\n\\n#ENOi #RAYS #발칙하게_ENOi https://t.co/mXZOPOyP0A'}\n",
      "102  :  {'text': 'RT @ENOi_Member_twt: [#이엔오아이]\\n\\n정말 열심히 준비한 ENOi의 첫 번째 미니앨범이 발매되었습니다 :)\\n\\n오랫동안 기다려주셔서 정말 감사합니다\\n발칙하게, 열심히 활동할게요 🍎\\n\\n많은 사랑 부탁드립니다 ‼️\\n\\n#ENOi #RAYS…'}\n",
      "103  :  {'text': 'RT @ENOi_Member_twt: [#제이키드]\\n\\n발칙하게 안녕😭ㅜㅜ\\n레이즈들!!\\n마지막까지 응원해줘서 너무 고맙구\\n사랑햄요❤️\\n\\n#이엔오아이 #ENOi #JKID #RAYS #발칙하게_ENOi https://t.co/V2CwfzZjZA'}\n",
      "104  :  {'text': 'RT @ENOi_Member_twt: [#라온 &amp; #진우]\\n\\n⛄️눈사람 만들고싶다 ☃️\\n\\n🌟같이 눈사람 만들 RAYS❓✋\\n\\n#이엔오아이 #ENOi #Laon #Jinwoo #RAYS https://t.co/VPzQzMWTKq'}\n",
      "105  :  {'text': 'マイクを握りしめ\\u3000このstageに立って\\n届けたい\\u3000響けよ\\u3000our music\\u3000\\n忘れちゃいないから\\u3000初めて歌ったとき\\n必ず辿り着くと決めてた\\n\\nRAYS/music life\\n #RAYS'}\n",
      "106  :  {'text': 'RT @ENOi_Member_twt: [#라온 &amp; #진우]\\n\\n⛄️눈사람 만들고싶다 ☃️\\n\\n🌟같이 눈사람 만들 RAYS❓✋\\n\\n#이엔오아이 #ENOi #Laon #Jinwoo #RAYS https://t.co/VPzQzMWTKq'}\n",
      "107  :  {'text': 'RT @ENOi_Member_twt: [#라온 &amp; #진우]\\n\\n⛄️눈사람 만들고싶다 ☃️\\n\\n🌟같이 눈사람 만들 RAYS❓✋\\n\\n#이엔오아이 #ENOi #Laon #Jinwoo #RAYS https://t.co/VPzQzMWTKq'}\n",
      "108  :  {'text': 'RT @ENOi_Member_twt: [#라온 &amp; #진우]\\n\\n⛄️눈사람 만들고싶다 ☃️\\n\\n🌟같이 눈사람 만들 RAYS❓✋\\n\\n#이엔오아이 #ENOi #Laon #Jinwoo #RAYS https://t.co/VPzQzMWTKq'}\n",
      "109  :  {'text': 'RT @ENOi_Member_twt: [#라온 &amp; #진우]\\n\\n⛄️눈사람 만들고싶다 ☃️\\n\\n🌟같이 눈사람 만들 RAYS❓✋\\n\\n#이엔오아이 #ENOi #Laon #Jinwoo #RAYS https://t.co/VPzQzMWTKq'}\n",
      "110  :  {'text': 'RT @ENOi_Member_twt: [#라온 &amp; #진우]\\n\\n⛄️눈사람 만들고싶다 ☃️\\n\\n🌟같이 눈사람 만들 RAYS❓✋\\n\\n#이엔오아이 #ENOi #Laon #Jinwoo #RAYS https://t.co/VPzQzMWTKq'}\n",
      "111  :  {'text': 'RT @ENOi_Member_twt: [#라온 &amp; #진우]\\n\\n⛄️눈사람 만들고싶다 ☃️\\n\\n🌟같이 눈사람 만들 RAYS❓✋\\n\\n#이엔오아이 #ENOi #Laon #Jinwoo #RAYS https://t.co/VPzQzMWTKq'}\n",
      "112  :  {'text': 'RT @ENOi_Member_twt: [#건]\\n\\n고생 진짜 많아떠요 RAYS❤️ 싸랑해행\\n\\n#이엔오아이 #ENOi #Gun #RAYS #발칙하게_ENOi https://t.co/DsDbOv9HZo'}\n",
      "113  :  {'text': 'RT @ENOi_Member_twt: [#라온 &amp; #진우]\\n\\n⛄️눈사람 만들고싶다 ☃️\\n\\n🌟같이 눈사람 만들 RAYS❓✋\\n\\n#이엔오아이 #ENOi #Laon #Jinwoo #RAYS https://t.co/VPzQzMWTKq'}\n",
      "114  :  {'text': 'RT @ENOi_Member_twt: [#건]\\n\\n고생 진짜 많아떠요 RAYS❤️ 싸랑해행\\n\\n#이엔오아이 #ENOi #Gun #RAYS #발칙하게_ENOi https://t.co/DsDbOv9HZo'}\n",
      "115  :  {'text': 'RT @ENOi_Member_twt: [#이엔오아이]\\n\\nRAYS🌟 저녁 먹었어요-?\\n보고싶어요 벌써 🥺\\n우리 빨리 만나요🥺🥺🥺 \\n\\n#ENOi #RAYS #발칙하게_ENOi https://t.co/mXZOPOyP0A'}\n",
      "116  :  {'text': 'RT @ENOi_Member_twt: [#이엔오아이]\\n\\nRAYS🌟 저녁 먹었어요-?\\n보고싶어요 벌써 🥺\\n우리 빨리 만나요🥺🥺🥺 \\n\\n#ENOi #RAYS #발칙하게_ENOi https://t.co/mXZOPOyP0A'}\n",
      "117  :  {'text': 'RT @ENOi_Member_twt: [#이엔오아이]\\n\\n정말 열심히 준비한 ENOi의 첫 번째 미니앨범이 발매되었습니다 :)\\n\\n오랫동안 기다려주셔서 정말 감사합니다\\n발칙하게, 열심히 활동할게요 🍎\\n\\n많은 사랑 부탁드립니다 ‼️\\n\\n#ENOi #RAYS…'}\n",
      "118  :  {'text': 'RT @ENOi_Member_twt: [#제이키드]\\n\\n발칙하게 안녕😭ㅜㅜ\\n레이즈들!!\\n마지막까지 응원해줘서 너무 고맙구\\n사랑햄요❤️\\n\\n#이엔오아이 #ENOi #JKID #RAYS #발칙하게_ENOi https://t.co/V2CwfzZjZA'}\n",
      "119  :  {'text': 'RT @ENOi_Member_twt: [#라온 &amp; #진우]\\n\\n⛄️눈사람 만들고싶다 ☃️\\n\\n🌟같이 눈사람 만들 RAYS❓✋\\n\\n#이엔오아이 #ENOi #Laon #Jinwoo #RAYS https://t.co/VPzQzMWTKq'}\n",
      "120  :  {'text': 'マイクを握りしめ\\u3000このstageに立って\\n届けたい\\u3000響けよ\\u3000our music\\u3000\\n忘れちゃいないから\\u3000初めて歌ったとき\\n必ず辿り着くと決めてた\\n\\nRAYS/music life\\n #RAYS'}\n",
      "121  :  {'text': 'RT @ENOi_Member_twt: [#라온 &amp; #진우]\\n\\n⛄️눈사람 만들고싶다 ☃️\\n\\n🌟같이 눈사람 만들 RAYS❓✋\\n\\n#이엔오아이 #ENOi #Laon #Jinwoo #RAYS https://t.co/VPzQzMWTKq'}\n",
      "122  :  {'text': 'RT @ENOi_Member_twt: [#라온 &amp; #진우]\\n\\n⛄️눈사람 만들고싶다 ☃️\\n\\n🌟같이 눈사람 만들 RAYS❓✋\\n\\n#이엔오아이 #ENOi #Laon #Jinwoo #RAYS https://t.co/VPzQzMWTKq'}\n",
      "123  :  {'text': 'RT @ENOi_Member_twt: [#라온 &amp; #진우]\\n\\n⛄️눈사람 만들고싶다 ☃️\\n\\n🌟같이 눈사람 만들 RAYS❓✋\\n\\n#이엔오아이 #ENOi #Laon #Jinwoo #RAYS https://t.co/VPzQzMWTKq'}\n",
      "124  :  {'text': 'RT @ENOi_Member_twt: [#라온 &amp; #진우]\\n\\n⛄️눈사람 만들고싶다 ☃️\\n\\n🌟같이 눈사람 만들 RAYS❓✋\\n\\n#이엔오아이 #ENOi #Laon #Jinwoo #RAYS https://t.co/VPzQzMWTKq'}\n",
      "125  :  {'text': 'RT @ENOi_Member_twt: [#라온 &amp; #진우]\\n\\n⛄️눈사람 만들고싶다 ☃️\\n\\n🌟같이 눈사람 만들 RAYS❓✋\\n\\n#이엔오아이 #ENOi #Laon #Jinwoo #RAYS https://t.co/VPzQzMWTKq'}\n",
      "126  :  {'text': 'RT @ENOi_Member_twt: [#라온 &amp; #진우]\\n\\n⛄️눈사람 만들고싶다 ☃️\\n\\n🌟같이 눈사람 만들 RAYS❓✋\\n\\n#이엔오아이 #ENOi #Laon #Jinwoo #RAYS https://t.co/VPzQzMWTKq'}\n",
      "127  :  {'text': 'RT @ENOi_Member_twt: [#건]\\n\\n고생 진짜 많아떠요 RAYS❤️ 싸랑해행\\n\\n#이엔오아이 #ENOi #Gun #RAYS #발칙하게_ENOi https://t.co/DsDbOv9HZo'}\n",
      "128  :  {'text': 'RT @ENOi_Member_twt: [#라온 &amp; #진우]\\n\\n⛄️눈사람 만들고싶다 ☃️\\n\\n🌟같이 눈사람 만들 RAYS❓✋\\n\\n#이엔오아이 #ENOi #Laon #Jinwoo #RAYS https://t.co/VPzQzMWTKq'}\n",
      "129  :  {'text': 'RT @ENOi_Member_twt: [#건]\\n\\n고생 진짜 많아떠요 RAYS❤️ 싸랑해행\\n\\n#이엔오아이 #ENOi #Gun #RAYS #발칙하게_ENOi https://t.co/DsDbOv9HZo'}\n",
      "130  :  {'text': 'RT @ENOi_Member_twt: [#이엔오아이]\\n\\nRAYS🌟 저녁 먹었어요-?\\n보고싶어요 벌써 🥺\\n우리 빨리 만나요🥺🥺🥺 \\n\\n#ENOi #RAYS #발칙하게_ENOi https://t.co/mXZOPOyP0A'}\n",
      "131  :  {'text': 'RT @ENOi_Member_twt: [#이엔오아이]\\n\\nRAYS🌟 저녁 먹었어요-?\\n보고싶어요 벌써 🥺\\n우리 빨리 만나요🥺🥺🥺 \\n\\n#ENOi #RAYS #발칙하게_ENOi https://t.co/mXZOPOyP0A'}\n",
      "132  :  {'text': 'RT @ENOi_Member_twt: [#이엔오아이]\\n\\n정말 열심히 준비한 ENOi의 첫 번째 미니앨범이 발매되었습니다 :)\\n\\n오랫동안 기다려주셔서 정말 감사합니다\\n발칙하게, 열심히 활동할게요 🍎\\n\\n많은 사랑 부탁드립니다 ‼️\\n\\n#ENOi #RAYS…'}\n",
      "133  :  {'text': 'RT @ENOi_Member_twt: [#제이키드]\\n\\n발칙하게 안녕😭ㅜㅜ\\n레이즈들!!\\n마지막까지 응원해줘서 너무 고맙구\\n사랑햄요❤️\\n\\n#이엔오아이 #ENOi #JKID #RAYS #발칙하게_ENOi https://t.co/V2CwfzZjZA'}\n",
      "134  :  {'text': 'RT @ENOi_Member_twt: [#라온 &amp; #진우]\\n\\n⛄️눈사람 만들고싶다 ☃️\\n\\n🌟같이 눈사람 만들 RAYS❓✋\\n\\n#이엔오아이 #ENOi #Laon #Jinwoo #RAYS https://t.co/VPzQzMWTKq'}\n",
      "135  :  {'text': 'マイクを握りしめ\\u3000このstageに立って\\n届けたい\\u3000響けよ\\u3000our music\\u3000\\n忘れちゃいないから\\u3000初めて歌ったとき\\n必ず辿り着くと決めてた\\n\\nRAYS/music life\\n #RAYS'}\n",
      "136  :  {'text': 'RT @ENOi_Member_twt: [#라온 &amp; #진우]\\n\\n⛄️눈사람 만들고싶다 ☃️\\n\\n🌟같이 눈사람 만들 RAYS❓✋\\n\\n#이엔오아이 #ENOi #Laon #Jinwoo #RAYS https://t.co/VPzQzMWTKq'}\n",
      "137  :  {'text': 'RT @ENOi_Member_twt: [#라온 &amp; #진우]\\n\\n⛄️눈사람 만들고싶다 ☃️\\n\\n🌟같이 눈사람 만들 RAYS❓✋\\n\\n#이엔오아이 #ENOi #Laon #Jinwoo #RAYS https://t.co/VPzQzMWTKq'}\n",
      "138  :  {'text': 'RT @ENOi_Member_twt: [#라온 &amp; #진우]\\n\\n⛄️눈사람 만들고싶다 ☃️\\n\\n🌟같이 눈사람 만들 RAYS❓✋\\n\\n#이엔오아이 #ENOi #Laon #Jinwoo #RAYS https://t.co/VPzQzMWTKq'}\n",
      "139  :  {'text': 'RT @ENOi_Member_twt: [#라온 &amp; #진우]\\n\\n⛄️눈사람 만들고싶다 ☃️\\n\\n🌟같이 눈사람 만들 RAYS❓✋\\n\\n#이엔오아이 #ENOi #Laon #Jinwoo #RAYS https://t.co/VPzQzMWTKq'}\n",
      "140  :  {'text': 'RT @ENOi_Member_twt: [#라온 &amp; #진우]\\n\\n⛄️눈사람 만들고싶다 ☃️\\n\\n🌟같이 눈사람 만들 RAYS❓✋\\n\\n#이엔오아이 #ENOi #Laon #Jinwoo #RAYS https://t.co/VPzQzMWTKq'}\n",
      "141  :  {'text': 'RT @ENOi_Member_twt: [#라온 &amp; #진우]\\n\\n⛄️눈사람 만들고싶다 ☃️\\n\\n🌟같이 눈사람 만들 RAYS❓✋\\n\\n#이엔오아이 #ENOi #Laon #Jinwoo #RAYS https://t.co/VPzQzMWTKq'}\n",
      "142  :  {'text': 'RT @ENOi_Member_twt: [#건]\\n\\n고생 진짜 많아떠요 RAYS❤️ 싸랑해행\\n\\n#이엔오아이 #ENOi #Gun #RAYS #발칙하게_ENOi https://t.co/DsDbOv9HZo'}\n",
      "143  :  {'text': 'RT @ENOi_Member_twt: [#라온 &amp; #진우]\\n\\n⛄️눈사람 만들고싶다 ☃️\\n\\n🌟같이 눈사람 만들 RAYS❓✋\\n\\n#이엔오아이 #ENOi #Laon #Jinwoo #RAYS https://t.co/VPzQzMWTKq'}\n",
      "144  :  {'text': 'RT @ENOi_Member_twt: [#건]\\n\\n고생 진짜 많아떠요 RAYS❤️ 싸랑해행\\n\\n#이엔오아이 #ENOi #Gun #RAYS #발칙하게_ENOi https://t.co/DsDbOv9HZo'}\n",
      "145  :  {'text': 'RT @ENOi_Member_twt: [#이엔오아이]\\n\\nRAYS🌟 저녁 먹었어요-?\\n보고싶어요 벌써 🥺\\n우리 빨리 만나요🥺🥺🥺 \\n\\n#ENOi #RAYS #발칙하게_ENOi https://t.co/mXZOPOyP0A'}\n",
      "146  :  {'text': 'RT @ENOi_Member_twt: [#이엔오아이]\\n\\nRAYS🌟 저녁 먹었어요-?\\n보고싶어요 벌써 🥺\\n우리 빨리 만나요🥺🥺🥺 \\n\\n#ENOi #RAYS #발칙하게_ENOi https://t.co/mXZOPOyP0A'}\n",
      "147  :  {'text': 'RT @ENOi_Member_twt: [#이엔오아이]\\n\\n정말 열심히 준비한 ENOi의 첫 번째 미니앨범이 발매되었습니다 :)\\n\\n오랫동안 기다려주셔서 정말 감사합니다\\n발칙하게, 열심히 활동할게요 🍎\\n\\n많은 사랑 부탁드립니다 ‼️\\n\\n#ENOi #RAYS…'}\n",
      "148  :  {'text': 'RT @ENOi_Member_twt: [#제이키드]\\n\\n발칙하게 안녕😭ㅜㅜ\\n레이즈들!!\\n마지막까지 응원해줘서 너무 고맙구\\n사랑햄요❤️\\n\\n#이엔오아이 #ENOi #JKID #RAYS #발칙하게_ENOi https://t.co/V2CwfzZjZA'}\n",
      "149  :  {'text': 'RT @ENOi_Member_twt: [#라온 &amp; #진우]\\n\\n⛄️눈사람 만들고싶다 ☃️\\n\\n🌟같이 눈사람 만들 RAYS❓✋\\n\\n#이엔오아이 #ENOi #Laon #Jinwoo #RAYS https://t.co/VPzQzMWTKq'}\n"
     ]
    }
   ],
   "source": [
    "#전체 문서 보기\n",
    "\n",
    "data = {}   # 전체 문서 추가\n",
    "i = 0       # 문서 번호\n",
    "for tweet in search:\n",
    "    data['text'] = tweet.text   # text키에 text문서 저장\n",
    "    print(i, \" : \", data)   # 문서번호 : 문서내용\n",
    "    i += 1"
   ]
  },
  {
   "cell_type": "code",
   "execution_count": 152,
   "metadata": {},
   "outputs": [],
   "source": [
    "# 전체 문서를 파일 저장\n",
    "\n",
    "import os\n",
    "    \n",
    "wfile = open(os.getcwd()+\"/rays.txt\", mode='w', encoding=\"utf-8\")   # 쓰기 모드\n",
    "data = {}   # 전체 문서 추가\n",
    "i = 0       # 문서 번호"
   ]
  },
  {
   "cell_type": "code",
   "execution_count": 153,
   "metadata": {},
   "outputs": [],
   "source": [
    "for tweet in search:\n",
    "    data['text'] = tweet.text   # text키에 text문서 저장\n",
    "    wfile.write(data['text']+'\\n')  # 파일 출력\n",
    "    i += 1\n",
    "\n",
    "wfile.close()"
   ]
  },
  {
   "cell_type": "markdown",
   "metadata": {},
   "source": [
    "###  보스턴 레드삭스(Boston Red Sox)"
   ]
  },
  {
   "cell_type": "code",
   "execution_count": 154,
   "metadata": {},
   "outputs": [],
   "source": [
    "keyword = \"#redsox\";     # 자신이 검색하고 싶은 유저\n",
    "search = [] # 크롤링 결과 저장할 변수   "
   ]
  },
  {
   "cell_type": "code",
   "execution_count": 155,
   "metadata": {},
   "outputs": [],
   "source": [
    "cnt = 1\n",
    "while(cnt <= 10):   # 10page 대상으로 크롤링\n",
    "   tweets = api.search(keyword)\n",
    "   for tweet in tweets:\n",
    "       search.append(tweet)\n",
    "   cnt += 1"
   ]
  },
  {
   "cell_type": "code",
   "execution_count": 156,
   "metadata": {},
   "outputs": [
    {
     "name": "stdout",
     "output_type": "stream",
     "text": [
      "150\n"
     ]
    }
   ],
   "source": [
    "print(len(search)) # 문서 길이 "
   ]
  },
  {
   "cell_type": "code",
   "execution_count": 157,
   "metadata": {},
   "outputs": [
    {
     "name": "stdout",
     "output_type": "stream",
     "text": [
      "0  :  {'text': 'RT @heelsonthefield: @teamboston Anyone commenting here is welcome to read the story I wrote, which relies on details in the official polic…'}\n",
      "1  :  {'text': \"@SackMikesack100 @VincentOrleck @RedSox Michael has good living, I'm sure he's great at it, he will be happy to acc… https://t.co/7d3LO2t2rH\"}\n",
      "2  :  {'text': '@NickSchafer @jaredfootball9 @Jomboy_ Even as a lifelong #RedSox fan, I can say that the Yankees got robbed.\\nIf… https://t.co/apPykVvecB'}\n",
      "3  :  {'text': '@kramski60 @StephFromNH @RedSox Boating season. I wish I were avid #RedSox game attender so I could boycott them this season. 🖕 #mlb'}\n",
      "4  :  {'text': '@mghsport @jbbrisco @ByNateTaylor @RealMNchiefsfan Are they playing the #Astros or #RedSox or any other team? I fee… https://t.co/x7vYCQy6Mk'}\n",
      "5  :  {'text': 'RT @RedSox: The #RedSox today signed outfielder Kevin Pillar to a one-year contract for the 2020 season. https://t.co/ZdwaoGTORb'}\n",
      "6  :  {'text': 'RT @215PHLSports: USA Today Sports 2020 MLB Predictions \\n\\n#Yankees 103-59\\n#Rays 92-70\\n#RedSox 84-78\\n#BlueJays 75-87\\n#Orioles 57-105\\n#MNTwin…'}\n",
      "7  :  {'text': 'RT @NBCSCameraGuys: A cloud rings the park.  Glorious day in The Fort for #RedSox #SpringTraining. 🏝⚾️🐊 https://t.co/TSceqiBkBQ'}\n",
      "8  :  {'text': 'RT @TomCaron: Chris Sale said he expects there to be retaliation on the diamond this season in the wake of sign stealing scandal.  “You’re…'}\n",
      "9  :  {'text': 'RT @PeteAbe: Some #RedSox number updates. Pillar has No. 5 and Verdugo is now No. 99.'}\n",
      "10  :  {'text': \"RT @NaniEight: Couldn't agree more Rudy! @RudyGiuliani says #PresidentTrump is Right✔Put #PeteRose In The ⚾️ #HOF 🇺🇸 Pete was amazing &amp; 30…\"}\n",
      "11  :  {'text': \"Couldn't agree more Rudy! @RudyGiuliani says #PresidentTrump is Right✔Put #PeteRose In The ⚾️ #HOF 🇺🇸 Pete was amaz… https://t.co/8XFxVHzDg3\"}\n",
      "12  :  {'text': 'RT @RedSox: Glad to have ya in a #RedSox uni. https://t.co/8xaC9zxdu3'}\n",
      "13  :  {'text': 'RT @TomCaron: Two guys coming off the best years of their careers.  Xander Bogaerts and Eduardo Rodriguez join us on #RedSox from #fortmyer…'}\n",
      "14  :  {'text': \"RT @NickQuag: The idea that the #RedSox could sign back Mookie Betts following this upcoming season isn't as crazy of a thought to me as it…\"}\n",
      "15  :  {'text': 'RT @heelsonthefield: @teamboston Anyone commenting here is welcome to read the story I wrote, which relies on details in the official polic…'}\n",
      "16  :  {'text': \"@SackMikesack100 @VincentOrleck @RedSox Michael has good living, I'm sure he's great at it, he will be happy to acc… https://t.co/7d3LO2t2rH\"}\n",
      "17  :  {'text': '@NickSchafer @jaredfootball9 @Jomboy_ Even as a lifelong #RedSox fan, I can say that the Yankees got robbed.\\nIf… https://t.co/apPykVvecB'}\n",
      "18  :  {'text': '@kramski60 @StephFromNH @RedSox Boating season. I wish I were avid #RedSox game attender so I could boycott them this season. 🖕 #mlb'}\n",
      "19  :  {'text': '@mghsport @jbbrisco @ByNateTaylor @RealMNchiefsfan Are they playing the #Astros or #RedSox or any other team? I fee… https://t.co/x7vYCQy6Mk'}\n",
      "20  :  {'text': 'RT @RedSox: The #RedSox today signed outfielder Kevin Pillar to a one-year contract for the 2020 season. https://t.co/ZdwaoGTORb'}\n",
      "21  :  {'text': 'RT @215PHLSports: USA Today Sports 2020 MLB Predictions \\n\\n#Yankees 103-59\\n#Rays 92-70\\n#RedSox 84-78\\n#BlueJays 75-87\\n#Orioles 57-105\\n#MNTwin…'}\n",
      "22  :  {'text': 'RT @NBCSCameraGuys: A cloud rings the park.  Glorious day in The Fort for #RedSox #SpringTraining. 🏝⚾️🐊 https://t.co/TSceqiBkBQ'}\n",
      "23  :  {'text': 'RT @TomCaron: Chris Sale said he expects there to be retaliation on the diamond this season in the wake of sign stealing scandal.  “You’re…'}\n",
      "24  :  {'text': 'RT @PeteAbe: Some #RedSox number updates. Pillar has No. 5 and Verdugo is now No. 99.'}\n",
      "25  :  {'text': \"RT @NaniEight: Couldn't agree more Rudy! @RudyGiuliani says #PresidentTrump is Right✔Put #PeteRose In The ⚾️ #HOF 🇺🇸 Pete was amazing &amp; 30…\"}\n",
      "26  :  {'text': \"Couldn't agree more Rudy! @RudyGiuliani says #PresidentTrump is Right✔Put #PeteRose In The ⚾️ #HOF 🇺🇸 Pete was amaz… https://t.co/8XFxVHzDg3\"}\n",
      "27  :  {'text': 'RT @RedSox: Glad to have ya in a #RedSox uni. https://t.co/8xaC9zxdu3'}\n",
      "28  :  {'text': 'RT @TomCaron: Two guys coming off the best years of their careers.  Xander Bogaerts and Eduardo Rodriguez join us on #RedSox from #fortmyer…'}\n",
      "29  :  {'text': \"RT @NickQuag: The idea that the #RedSox could sign back Mookie Betts following this upcoming season isn't as crazy of a thought to me as it…\"}\n",
      "30  :  {'text': 'RT @heelsonthefield: @teamboston Anyone commenting here is welcome to read the story I wrote, which relies on details in the official polic…'}\n",
      "31  :  {'text': \"@SackMikesack100 @VincentOrleck @RedSox Michael has good living, I'm sure he's great at it, he will be happy to acc… https://t.co/7d3LO2t2rH\"}\n",
      "32  :  {'text': '@NickSchafer @jaredfootball9 @Jomboy_ Even as a lifelong #RedSox fan, I can say that the Yankees got robbed.\\nIf… https://t.co/apPykVvecB'}\n",
      "33  :  {'text': '@kramski60 @StephFromNH @RedSox Boating season. I wish I were avid #RedSox game attender so I could boycott them this season. 🖕 #mlb'}\n",
      "34  :  {'text': '@mghsport @jbbrisco @ByNateTaylor @RealMNchiefsfan Are they playing the #Astros or #RedSox or any other team? I fee… https://t.co/x7vYCQy6Mk'}\n",
      "35  :  {'text': 'RT @RedSox: The #RedSox today signed outfielder Kevin Pillar to a one-year contract for the 2020 season. https://t.co/ZdwaoGTORb'}\n",
      "36  :  {'text': 'RT @215PHLSports: USA Today Sports 2020 MLB Predictions \\n\\n#Yankees 103-59\\n#Rays 92-70\\n#RedSox 84-78\\n#BlueJays 75-87\\n#Orioles 57-105\\n#MNTwin…'}\n",
      "37  :  {'text': 'RT @NBCSCameraGuys: A cloud rings the park.  Glorious day in The Fort for #RedSox #SpringTraining. 🏝⚾️🐊 https://t.co/TSceqiBkBQ'}\n",
      "38  :  {'text': 'RT @TomCaron: Chris Sale said he expects there to be retaliation on the diamond this season in the wake of sign stealing scandal.  “You’re…'}\n",
      "39  :  {'text': 'RT @PeteAbe: Some #RedSox number updates. Pillar has No. 5 and Verdugo is now No. 99.'}\n",
      "40  :  {'text': \"RT @NaniEight: Couldn't agree more Rudy! @RudyGiuliani says #PresidentTrump is Right✔Put #PeteRose In The ⚾️ #HOF 🇺🇸 Pete was amazing &amp; 30…\"}\n",
      "41  :  {'text': \"Couldn't agree more Rudy! @RudyGiuliani says #PresidentTrump is Right✔Put #PeteRose In The ⚾️ #HOF 🇺🇸 Pete was amaz… https://t.co/8XFxVHzDg3\"}\n",
      "42  :  {'text': 'RT @RedSox: Glad to have ya in a #RedSox uni. https://t.co/8xaC9zxdu3'}\n",
      "43  :  {'text': 'RT @TomCaron: Two guys coming off the best years of their careers.  Xander Bogaerts and Eduardo Rodriguez join us on #RedSox from #fortmyer…'}\n",
      "44  :  {'text': \"RT @NickQuag: The idea that the #RedSox could sign back Mookie Betts following this upcoming season isn't as crazy of a thought to me as it…\"}\n",
      "45  :  {'text': 'RT @heelsonthefield: @teamboston Anyone commenting here is welcome to read the story I wrote, which relies on details in the official polic…'}\n",
      "46  :  {'text': \"@SackMikesack100 @VincentOrleck @RedSox Michael has good living, I'm sure he's great at it, he will be happy to acc… https://t.co/7d3LO2t2rH\"}\n",
      "47  :  {'text': '@NickSchafer @jaredfootball9 @Jomboy_ Even as a lifelong #RedSox fan, I can say that the Yankees got robbed.\\nIf… https://t.co/apPykVvecB'}\n",
      "48  :  {'text': '@kramski60 @StephFromNH @RedSox Boating season. I wish I were avid #RedSox game attender so I could boycott them this season. 🖕 #mlb'}\n",
      "49  :  {'text': '@mghsport @jbbrisco @ByNateTaylor @RealMNchiefsfan Are they playing the #Astros or #RedSox or any other team? I fee… https://t.co/x7vYCQy6Mk'}\n",
      "50  :  {'text': 'RT @RedSox: The #RedSox today signed outfielder Kevin Pillar to a one-year contract for the 2020 season. https://t.co/ZdwaoGTORb'}\n",
      "51  :  {'text': 'RT @215PHLSports: USA Today Sports 2020 MLB Predictions \\n\\n#Yankees 103-59\\n#Rays 92-70\\n#RedSox 84-78\\n#BlueJays 75-87\\n#Orioles 57-105\\n#MNTwin…'}\n",
      "52  :  {'text': 'RT @NBCSCameraGuys: A cloud rings the park.  Glorious day in The Fort for #RedSox #SpringTraining. 🏝⚾️🐊 https://t.co/TSceqiBkBQ'}\n",
      "53  :  {'text': 'RT @TomCaron: Chris Sale said he expects there to be retaliation on the diamond this season in the wake of sign stealing scandal.  “You’re…'}\n",
      "54  :  {'text': 'RT @PeteAbe: Some #RedSox number updates. Pillar has No. 5 and Verdugo is now No. 99.'}\n",
      "55  :  {'text': \"RT @NaniEight: Couldn't agree more Rudy! @RudyGiuliani says #PresidentTrump is Right✔Put #PeteRose In The ⚾️ #HOF 🇺🇸 Pete was amazing &amp; 30…\"}\n",
      "56  :  {'text': \"Couldn't agree more Rudy! @RudyGiuliani says #PresidentTrump is Right✔Put #PeteRose In The ⚾️ #HOF 🇺🇸 Pete was amaz… https://t.co/8XFxVHzDg3\"}\n",
      "57  :  {'text': 'RT @RedSox: Glad to have ya in a #RedSox uni. https://t.co/8xaC9zxdu3'}\n",
      "58  :  {'text': 'RT @TomCaron: Two guys coming off the best years of their careers.  Xander Bogaerts and Eduardo Rodriguez join us on #RedSox from #fortmyer…'}\n",
      "59  :  {'text': \"RT @NickQuag: The idea that the #RedSox could sign back Mookie Betts following this upcoming season isn't as crazy of a thought to me as it…\"}\n",
      "60  :  {'text': 'RT @heelsonthefield: @teamboston Anyone commenting here is welcome to read the story I wrote, which relies on details in the official polic…'}\n",
      "61  :  {'text': \"@SackMikesack100 @VincentOrleck @RedSox Michael has good living, I'm sure he's great at it, he will be happy to acc… https://t.co/7d3LO2t2rH\"}\n",
      "62  :  {'text': '@NickSchafer @jaredfootball9 @Jomboy_ Even as a lifelong #RedSox fan, I can say that the Yankees got robbed.\\nIf… https://t.co/apPykVvecB'}\n",
      "63  :  {'text': '@kramski60 @StephFromNH @RedSox Boating season. I wish I were avid #RedSox game attender so I could boycott them this season. 🖕 #mlb'}\n",
      "64  :  {'text': '@mghsport @jbbrisco @ByNateTaylor @RealMNchiefsfan Are they playing the #Astros or #RedSox or any other team? I fee… https://t.co/x7vYCQy6Mk'}\n",
      "65  :  {'text': 'RT @RedSox: The #RedSox today signed outfielder Kevin Pillar to a one-year contract for the 2020 season. https://t.co/ZdwaoGTORb'}\n",
      "66  :  {'text': 'RT @215PHLSports: USA Today Sports 2020 MLB Predictions \\n\\n#Yankees 103-59\\n#Rays 92-70\\n#RedSox 84-78\\n#BlueJays 75-87\\n#Orioles 57-105\\n#MNTwin…'}\n",
      "67  :  {'text': 'RT @NBCSCameraGuys: A cloud rings the park.  Glorious day in The Fort for #RedSox #SpringTraining. 🏝⚾️🐊 https://t.co/TSceqiBkBQ'}\n",
      "68  :  {'text': 'RT @TomCaron: Chris Sale said he expects there to be retaliation on the diamond this season in the wake of sign stealing scandal.  “You’re…'}\n",
      "69  :  {'text': 'RT @PeteAbe: Some #RedSox number updates. Pillar has No. 5 and Verdugo is now No. 99.'}\n",
      "70  :  {'text': \"RT @NaniEight: Couldn't agree more Rudy! @RudyGiuliani says #PresidentTrump is Right✔Put #PeteRose In The ⚾️ #HOF 🇺🇸 Pete was amazing &amp; 30…\"}\n",
      "71  :  {'text': \"Couldn't agree more Rudy! @RudyGiuliani says #PresidentTrump is Right✔Put #PeteRose In The ⚾️ #HOF 🇺🇸 Pete was amaz… https://t.co/8XFxVHzDg3\"}\n",
      "72  :  {'text': 'RT @RedSox: Glad to have ya in a #RedSox uni. https://t.co/8xaC9zxdu3'}\n",
      "73  :  {'text': 'RT @TomCaron: Two guys coming off the best years of their careers.  Xander Bogaerts and Eduardo Rodriguez join us on #RedSox from #fortmyer…'}\n",
      "74  :  {'text': \"RT @NickQuag: The idea that the #RedSox could sign back Mookie Betts following this upcoming season isn't as crazy of a thought to me as it…\"}\n",
      "75  :  {'text': 'RT @heelsonthefield: @teamboston Anyone commenting here is welcome to read the story I wrote, which relies on details in the official polic…'}\n",
      "76  :  {'text': \"@SackMikesack100 @VincentOrleck @RedSox Michael has good living, I'm sure he's great at it, he will be happy to acc… https://t.co/7d3LO2t2rH\"}\n",
      "77  :  {'text': '@NickSchafer @jaredfootball9 @Jomboy_ Even as a lifelong #RedSox fan, I can say that the Yankees got robbed.\\nIf… https://t.co/apPykVvecB'}\n",
      "78  :  {'text': '@kramski60 @StephFromNH @RedSox Boating season. I wish I were avid #RedSox game attender so I could boycott them this season. 🖕 #mlb'}\n",
      "79  :  {'text': '@mghsport @jbbrisco @ByNateTaylor @RealMNchiefsfan Are they playing the #Astros or #RedSox or any other team? I fee… https://t.co/x7vYCQy6Mk'}\n",
      "80  :  {'text': 'RT @RedSox: The #RedSox today signed outfielder Kevin Pillar to a one-year contract for the 2020 season. https://t.co/ZdwaoGTORb'}\n",
      "81  :  {'text': 'RT @215PHLSports: USA Today Sports 2020 MLB Predictions \\n\\n#Yankees 103-59\\n#Rays 92-70\\n#RedSox 84-78\\n#BlueJays 75-87\\n#Orioles 57-105\\n#MNTwin…'}\n",
      "82  :  {'text': 'RT @NBCSCameraGuys: A cloud rings the park.  Glorious day in The Fort for #RedSox #SpringTraining. 🏝⚾️🐊 https://t.co/TSceqiBkBQ'}\n",
      "83  :  {'text': 'RT @TomCaron: Chris Sale said he expects there to be retaliation on the diamond this season in the wake of sign stealing scandal.  “You’re…'}\n",
      "84  :  {'text': 'RT @PeteAbe: Some #RedSox number updates. Pillar has No. 5 and Verdugo is now No. 99.'}\n",
      "85  :  {'text': \"RT @NaniEight: Couldn't agree more Rudy! @RudyGiuliani says #PresidentTrump is Right✔Put #PeteRose In The ⚾️ #HOF 🇺🇸 Pete was amazing &amp; 30…\"}\n",
      "86  :  {'text': \"Couldn't agree more Rudy! @RudyGiuliani says #PresidentTrump is Right✔Put #PeteRose In The ⚾️ #HOF 🇺🇸 Pete was amaz… https://t.co/8XFxVHzDg3\"}\n",
      "87  :  {'text': 'RT @RedSox: Glad to have ya in a #RedSox uni. https://t.co/8xaC9zxdu3'}\n",
      "88  :  {'text': 'RT @TomCaron: Two guys coming off the best years of their careers.  Xander Bogaerts and Eduardo Rodriguez join us on #RedSox from #fortmyer…'}\n",
      "89  :  {'text': \"RT @NickQuag: The idea that the #RedSox could sign back Mookie Betts following this upcoming season isn't as crazy of a thought to me as it…\"}\n",
      "90  :  {'text': 'RT @heelsonthefield: @teamboston Anyone commenting here is welcome to read the story I wrote, which relies on details in the official polic…'}\n",
      "91  :  {'text': \"@SackMikesack100 @VincentOrleck @RedSox Michael has good living, I'm sure he's great at it, he will be happy to acc… https://t.co/7d3LO2t2rH\"}\n",
      "92  :  {'text': '@NickSchafer @jaredfootball9 @Jomboy_ Even as a lifelong #RedSox fan, I can say that the Yankees got robbed.\\nIf… https://t.co/apPykVvecB'}\n",
      "93  :  {'text': '@kramski60 @StephFromNH @RedSox Boating season. I wish I were avid #RedSox game attender so I could boycott them this season. 🖕 #mlb'}\n",
      "94  :  {'text': '@mghsport @jbbrisco @ByNateTaylor @RealMNchiefsfan Are they playing the #Astros or #RedSox or any other team? I fee… https://t.co/x7vYCQy6Mk'}\n",
      "95  :  {'text': 'RT @RedSox: The #RedSox today signed outfielder Kevin Pillar to a one-year contract for the 2020 season. https://t.co/ZdwaoGTORb'}\n",
      "96  :  {'text': 'RT @215PHLSports: USA Today Sports 2020 MLB Predictions \\n\\n#Yankees 103-59\\n#Rays 92-70\\n#RedSox 84-78\\n#BlueJays 75-87\\n#Orioles 57-105\\n#MNTwin…'}\n",
      "97  :  {'text': 'RT @NBCSCameraGuys: A cloud rings the park.  Glorious day in The Fort for #RedSox #SpringTraining. 🏝⚾️🐊 https://t.co/TSceqiBkBQ'}\n",
      "98  :  {'text': 'RT @TomCaron: Chris Sale said he expects there to be retaliation on the diamond this season in the wake of sign stealing scandal.  “You’re…'}\n",
      "99  :  {'text': 'RT @PeteAbe: Some #RedSox number updates. Pillar has No. 5 and Verdugo is now No. 99.'}\n",
      "100  :  {'text': \"RT @NaniEight: Couldn't agree more Rudy! @RudyGiuliani says #PresidentTrump is Right✔Put #PeteRose In The ⚾️ #HOF 🇺🇸 Pete was amazing &amp; 30…\"}\n",
      "101  :  {'text': \"Couldn't agree more Rudy! @RudyGiuliani says #PresidentTrump is Right✔Put #PeteRose In The ⚾️ #HOF 🇺🇸 Pete was amaz… https://t.co/8XFxVHzDg3\"}\n",
      "102  :  {'text': 'RT @RedSox: Glad to have ya in a #RedSox uni. https://t.co/8xaC9zxdu3'}\n",
      "103  :  {'text': 'RT @TomCaron: Two guys coming off the best years of their careers.  Xander Bogaerts and Eduardo Rodriguez join us on #RedSox from #fortmyer…'}\n",
      "104  :  {'text': \"RT @NickQuag: The idea that the #RedSox could sign back Mookie Betts following this upcoming season isn't as crazy of a thought to me as it…\"}\n",
      "105  :  {'text': 'RT @heelsonthefield: @teamboston Anyone commenting here is welcome to read the story I wrote, which relies on details in the official polic…'}\n",
      "106  :  {'text': \"@SackMikesack100 @VincentOrleck @RedSox Michael has good living, I'm sure he's great at it, he will be happy to acc… https://t.co/7d3LO2t2rH\"}\n",
      "107  :  {'text': '@NickSchafer @jaredfootball9 @Jomboy_ Even as a lifelong #RedSox fan, I can say that the Yankees got robbed.\\nIf… https://t.co/apPykVvecB'}\n",
      "108  :  {'text': '@kramski60 @StephFromNH @RedSox Boating season. I wish I were avid #RedSox game attender so I could boycott them this season. 🖕 #mlb'}\n",
      "109  :  {'text': '@mghsport @jbbrisco @ByNateTaylor @RealMNchiefsfan Are they playing the #Astros or #RedSox or any other team? I fee… https://t.co/x7vYCQy6Mk'}\n",
      "110  :  {'text': 'RT @RedSox: The #RedSox today signed outfielder Kevin Pillar to a one-year contract for the 2020 season. https://t.co/ZdwaoGTORb'}\n",
      "111  :  {'text': 'RT @215PHLSports: USA Today Sports 2020 MLB Predictions \\n\\n#Yankees 103-59\\n#Rays 92-70\\n#RedSox 84-78\\n#BlueJays 75-87\\n#Orioles 57-105\\n#MNTwin…'}\n",
      "112  :  {'text': 'RT @NBCSCameraGuys: A cloud rings the park.  Glorious day in The Fort for #RedSox #SpringTraining. 🏝⚾️🐊 https://t.co/TSceqiBkBQ'}\n",
      "113  :  {'text': 'RT @TomCaron: Chris Sale said he expects there to be retaliation on the diamond this season in the wake of sign stealing scandal.  “You’re…'}\n",
      "114  :  {'text': 'RT @PeteAbe: Some #RedSox number updates. Pillar has No. 5 and Verdugo is now No. 99.'}\n",
      "115  :  {'text': \"RT @NaniEight: Couldn't agree more Rudy! @RudyGiuliani says #PresidentTrump is Right✔Put #PeteRose In The ⚾️ #HOF 🇺🇸 Pete was amazing &amp; 30…\"}\n",
      "116  :  {'text': \"Couldn't agree more Rudy! @RudyGiuliani says #PresidentTrump is Right✔Put #PeteRose In The ⚾️ #HOF 🇺🇸 Pete was amaz… https://t.co/8XFxVHzDg3\"}\n",
      "117  :  {'text': 'RT @RedSox: Glad to have ya in a #RedSox uni. https://t.co/8xaC9zxdu3'}\n",
      "118  :  {'text': 'RT @TomCaron: Two guys coming off the best years of their careers.  Xander Bogaerts and Eduardo Rodriguez join us on #RedSox from #fortmyer…'}\n",
      "119  :  {'text': \"RT @NickQuag: The idea that the #RedSox could sign back Mookie Betts following this upcoming season isn't as crazy of a thought to me as it…\"}\n",
      "120  :  {'text': 'RT @heelsonthefield: @teamboston Anyone commenting here is welcome to read the story I wrote, which relies on details in the official polic…'}\n",
      "121  :  {'text': \"@SackMikesack100 @VincentOrleck @RedSox Michael has good living, I'm sure he's great at it, he will be happy to acc… https://t.co/7d3LO2t2rH\"}\n",
      "122  :  {'text': '@NickSchafer @jaredfootball9 @Jomboy_ Even as a lifelong #RedSox fan, I can say that the Yankees got robbed.\\nIf… https://t.co/apPykVvecB'}\n",
      "123  :  {'text': '@kramski60 @StephFromNH @RedSox Boating season. I wish I were avid #RedSox game attender so I could boycott them this season. 🖕 #mlb'}\n",
      "124  :  {'text': '@mghsport @jbbrisco @ByNateTaylor @RealMNchiefsfan Are they playing the #Astros or #RedSox or any other team? I fee… https://t.co/x7vYCQy6Mk'}\n",
      "125  :  {'text': 'RT @RedSox: The #RedSox today signed outfielder Kevin Pillar to a one-year contract for the 2020 season. https://t.co/ZdwaoGTORb'}\n",
      "126  :  {'text': 'RT @215PHLSports: USA Today Sports 2020 MLB Predictions \\n\\n#Yankees 103-59\\n#Rays 92-70\\n#RedSox 84-78\\n#BlueJays 75-87\\n#Orioles 57-105\\n#MNTwin…'}\n",
      "127  :  {'text': 'RT @NBCSCameraGuys: A cloud rings the park.  Glorious day in The Fort for #RedSox #SpringTraining. 🏝⚾️🐊 https://t.co/TSceqiBkBQ'}\n",
      "128  :  {'text': 'RT @TomCaron: Chris Sale said he expects there to be retaliation on the diamond this season in the wake of sign stealing scandal.  “You’re…'}\n",
      "129  :  {'text': 'RT @PeteAbe: Some #RedSox number updates. Pillar has No. 5 and Verdugo is now No. 99.'}\n",
      "130  :  {'text': \"RT @NaniEight: Couldn't agree more Rudy! @RudyGiuliani says #PresidentTrump is Right✔Put #PeteRose In The ⚾️ #HOF 🇺🇸 Pete was amazing &amp; 30…\"}\n",
      "131  :  {'text': \"Couldn't agree more Rudy! @RudyGiuliani says #PresidentTrump is Right✔Put #PeteRose In The ⚾️ #HOF 🇺🇸 Pete was amaz… https://t.co/8XFxVHzDg3\"}\n",
      "132  :  {'text': 'RT @RedSox: Glad to have ya in a #RedSox uni. https://t.co/8xaC9zxdu3'}\n",
      "133  :  {'text': 'RT @TomCaron: Two guys coming off the best years of their careers.  Xander Bogaerts and Eduardo Rodriguez join us on #RedSox from #fortmyer…'}\n",
      "134  :  {'text': \"RT @NickQuag: The idea that the #RedSox could sign back Mookie Betts following this upcoming season isn't as crazy of a thought to me as it…\"}\n",
      "135  :  {'text': 'RT @heelsonthefield: @teamboston Anyone commenting here is welcome to read the story I wrote, which relies on details in the official polic…'}\n",
      "136  :  {'text': \"@SackMikesack100 @VincentOrleck @RedSox Michael has good living, I'm sure he's great at it, he will be happy to acc… https://t.co/7d3LO2t2rH\"}\n",
      "137  :  {'text': '@NickSchafer @jaredfootball9 @Jomboy_ Even as a lifelong #RedSox fan, I can say that the Yankees got robbed.\\nIf… https://t.co/apPykVvecB'}\n",
      "138  :  {'text': '@kramski60 @StephFromNH @RedSox Boating season. I wish I were avid #RedSox game attender so I could boycott them this season. 🖕 #mlb'}\n",
      "139  :  {'text': '@mghsport @jbbrisco @ByNateTaylor @RealMNchiefsfan Are they playing the #Astros or #RedSox or any other team? I fee… https://t.co/x7vYCQy6Mk'}\n",
      "140  :  {'text': 'RT @RedSox: The #RedSox today signed outfielder Kevin Pillar to a one-year contract for the 2020 season. https://t.co/ZdwaoGTORb'}\n",
      "141  :  {'text': 'RT @215PHLSports: USA Today Sports 2020 MLB Predictions \\n\\n#Yankees 103-59\\n#Rays 92-70\\n#RedSox 84-78\\n#BlueJays 75-87\\n#Orioles 57-105\\n#MNTwin…'}\n",
      "142  :  {'text': 'RT @NBCSCameraGuys: A cloud rings the park.  Glorious day in The Fort for #RedSox #SpringTraining. 🏝⚾️🐊 https://t.co/TSceqiBkBQ'}\n",
      "143  :  {'text': 'RT @TomCaron: Chris Sale said he expects there to be retaliation on the diamond this season in the wake of sign stealing scandal.  “You’re…'}\n",
      "144  :  {'text': 'RT @PeteAbe: Some #RedSox number updates. Pillar has No. 5 and Verdugo is now No. 99.'}\n",
      "145  :  {'text': \"RT @NaniEight: Couldn't agree more Rudy! @RudyGiuliani says #PresidentTrump is Right✔Put #PeteRose In The ⚾️ #HOF 🇺🇸 Pete was amazing &amp; 30…\"}\n",
      "146  :  {'text': \"Couldn't agree more Rudy! @RudyGiuliani says #PresidentTrump is Right✔Put #PeteRose In The ⚾️ #HOF 🇺🇸 Pete was amaz… https://t.co/8XFxVHzDg3\"}\n",
      "147  :  {'text': 'RT @RedSox: Glad to have ya in a #RedSox uni. https://t.co/8xaC9zxdu3'}\n",
      "148  :  {'text': 'RT @TomCaron: Two guys coming off the best years of their careers.  Xander Bogaerts and Eduardo Rodriguez join us on #RedSox from #fortmyer…'}\n",
      "149  :  {'text': \"RT @NickQuag: The idea that the #RedSox could sign back Mookie Betts following this upcoming season isn't as crazy of a thought to me as it…\"}\n"
     ]
    }
   ],
   "source": [
    "#전체 문서 보기\n",
    "\n",
    "data = {}   # 전체 문서 추가\n",
    "i = 0       # 문서 번호\n",
    "for tweet in search:\n",
    "    data['text'] = tweet.text   # text키에 text문서 저장\n",
    "    print(i, \" : \", data)   # 문서번호 : 문서내용\n",
    "    i += 1"
   ]
  },
  {
   "cell_type": "code",
   "execution_count": 158,
   "metadata": {},
   "outputs": [],
   "source": [
    "# 전체 문서를 파일 저장\n",
    "\n",
    "import os\n",
    "    \n",
    "wfile = open(os.getcwd()+\"/redsox.txt\", mode='w', encoding=\"utf-8\")   # 쓰기 모드\n",
    "data = {}   # 전체 문서 추가\n",
    "i = 0       # 문서 번호"
   ]
  },
  {
   "cell_type": "code",
   "execution_count": 159,
   "metadata": {},
   "outputs": [],
   "source": [
    "for tweet in search:\n",
    "    data['text'] = tweet.text   # text키에 text문서 저장\n",
    "    wfile.write(data['text']+'\\n')  # 파일 출력\n",
    "    i += 1\n",
    "\n",
    "wfile.close()"
   ]
  },
  {
   "cell_type": "markdown",
   "metadata": {},
   "source": [
    "### 뉴욕 양키스(New York Yankees)"
   ]
  },
  {
   "cell_type": "code",
   "execution_count": 160,
   "metadata": {},
   "outputs": [],
   "source": [
    "keyword = \"#yankees\";     # 자신이 검색하고 싶은 유저\n",
    "search = [] # 크롤링 결과 저장할 변수   "
   ]
  },
  {
   "cell_type": "code",
   "execution_count": 161,
   "metadata": {},
   "outputs": [],
   "source": [
    "cnt = 1\n",
    "while(cnt <= 10):   # 10page 대상으로 크롤링\n",
    "   tweets = api.search(keyword)\n",
    "   for tweet in tweets:\n",
    "       search.append(tweet)\n",
    "   cnt += 1"
   ]
  },
  {
   "cell_type": "code",
   "execution_count": 162,
   "metadata": {},
   "outputs": [
    {
     "name": "stdout",
     "output_type": "stream",
     "text": [
      "150\n"
     ]
    }
   ],
   "source": [
    "print(len(search)) # 문서 길이 "
   ]
  },
  {
   "cell_type": "code",
   "execution_count": 163,
   "metadata": {},
   "outputs": [
    {
     "name": "stdout",
     "output_type": "stream",
     "text": [
      "0  :  {'text': 'RT @PCreighton1: The #Yankees scored 1, 1, 1, &amp; 0 runs in 4 games vs #Astros at MMP. \\n\\nDo tell me how NYY got cheated in those 4 games.  Th…'}\n",
      "1  :  {'text': 'That time we played some clips of the cringe-worthy \"apologies\" from the #Astros organization &amp; the #Yankees respon… https://t.co/FRqdCaMUGM'}\n",
      "2  :  {'text': 'RT @0Diannmal: #nyyankees #Yankees #bronx #chrischamblass #mld #BronxBombers #bronxnation #YankeeStadium #baseball #AutographedBaseball #Au…'}\n",
      "3  :  {'text': 'RT @Rangerita: Guys. Yankee question! In this pic, there are 2 guys. Babe Ruth and...? \\n#yankees #baberuth https://t.co/qlP6w0sxV9'}\n",
      "4  :  {'text': '@Kristen_MarieNY The #Yankees 2020 #MLB season ⚾ from Tampa, FL,  #SpringTraining ~ to #YankeeStadium in the Bronx… https://t.co/AYfQl4ucOy'}\n",
      "5  :  {'text': '@YESNetwork From the player who said this: #Yankees #PinstripePride https://t.co/we87QHMzIT'}\n",
      "6  :  {'text': 'RT @yanksopeningday: Number 39, Mike Tauchman helps remind us that we’re 39 days away from Yankees Opening Day! Today’s post is brought to…'}\n",
      "7  :  {'text': '#Yankees finalize minor-league deal with former #Rockies right-hander\\n https://t.co/8Fc1lbax7A\\xa0…… https://t.co/0fjD4WasF1'}\n",
      "8  :  {'text': 'RT @ChrisJr_NYYST: To the left is the picture being used to prove Altuve had a tattoo that he was trying to hide in the ALCS walk off game…'}\n",
      "9  :  {'text': 'RT M_Marakovits \"Kenny is back! #yesnetwork #mlb #yankees @ George M. Steinbrenner Field https://t.co/T7h6qSWZck\"'}\n",
      "10  :  {'text': 'RT @TBTimes_Sports: Former #Rays pitcher Chris Archer on the impact of the Astros sign-stealing scandal: “I think the worst part is that pe…'}\n",
      "11  :  {'text': 'The Lovely Miss Steph\\n#pinstripepride #GameDay #Yankees https://t.co/BM3LVvUpSU'}\n",
      "12  :  {'text': 'RT @sigg20: “Old Days”Roberto Clemente leads off 1st, Bill Skowron holding him on and there’s  not an empty seat in the house for the 1960…'}\n",
      "13  :  {'text': '#Houston #Astros #Texas #LosAngeles #Dodgers #California #NewYork #Yankees #MLB #sport https://t.co/rvpNUaahim'}\n",
      "14  :  {'text': 'Il digiuno dei #Knicks lungo 47 anni, i 27 titoli degli #Yankees e i #MiracleMets del ‘69: storie newyorkesi… https://t.co/790ZM0ic81'}\n",
      "15  :  {'text': 'RT @PCreighton1: The #Yankees scored 1, 1, 1, &amp; 0 runs in 4 games vs #Astros at MMP. \\n\\nDo tell me how NYY got cheated in those 4 games.  Th…'}\n",
      "16  :  {'text': 'That time we played some clips of the cringe-worthy \"apologies\" from the #Astros organization &amp; the #Yankees respon… https://t.co/FRqdCaMUGM'}\n",
      "17  :  {'text': 'RT @0Diannmal: #nyyankees #Yankees #bronx #chrischamblass #mld #BronxBombers #bronxnation #YankeeStadium #baseball #AutographedBaseball #Au…'}\n",
      "18  :  {'text': 'RT @Rangerita: Guys. Yankee question! In this pic, there are 2 guys. Babe Ruth and...? \\n#yankees #baberuth https://t.co/qlP6w0sxV9'}\n",
      "19  :  {'text': '@Kristen_MarieNY The #Yankees 2020 #MLB season ⚾ from Tampa, FL,  #SpringTraining ~ to #YankeeStadium in the Bronx… https://t.co/AYfQl4ucOy'}\n",
      "20  :  {'text': '@YESNetwork From the player who said this: #Yankees #PinstripePride https://t.co/we87QHMzIT'}\n",
      "21  :  {'text': 'RT @yanksopeningday: Number 39, Mike Tauchman helps remind us that we’re 39 days away from Yankees Opening Day! Today’s post is brought to…'}\n",
      "22  :  {'text': '#Yankees finalize minor-league deal with former #Rockies right-hander\\n https://t.co/8Fc1lbax7A\\xa0…… https://t.co/0fjD4WasF1'}\n",
      "23  :  {'text': 'RT @ChrisJr_NYYST: To the left is the picture being used to prove Altuve had a tattoo that he was trying to hide in the ALCS walk off game…'}\n",
      "24  :  {'text': 'RT M_Marakovits \"Kenny is back! #yesnetwork #mlb #yankees @ George M. Steinbrenner Field https://t.co/T7h6qSWZck\"'}\n",
      "25  :  {'text': 'RT @TBTimes_Sports: Former #Rays pitcher Chris Archer on the impact of the Astros sign-stealing scandal: “I think the worst part is that pe…'}\n",
      "26  :  {'text': 'The Lovely Miss Steph\\n#pinstripepride #GameDay #Yankees https://t.co/BM3LVvUpSU'}\n",
      "27  :  {'text': 'RT @sigg20: “Old Days”Roberto Clemente leads off 1st, Bill Skowron holding him on and there’s  not an empty seat in the house for the 1960…'}\n",
      "28  :  {'text': '#Houston #Astros #Texas #LosAngeles #Dodgers #California #NewYork #Yankees #MLB #sport https://t.co/rvpNUaahim'}\n",
      "29  :  {'text': 'Il digiuno dei #Knicks lungo 47 anni, i 27 titoli degli #Yankees e i #MiracleMets del ‘69: storie newyorkesi… https://t.co/790ZM0ic81'}\n",
      "30  :  {'text': 'RT @PCreighton1: The #Yankees scored 1, 1, 1, &amp; 0 runs in 4 games vs #Astros at MMP. \\n\\nDo tell me how NYY got cheated in those 4 games.  Th…'}\n",
      "31  :  {'text': 'That time we played some clips of the cringe-worthy \"apologies\" from the #Astros organization &amp; the #Yankees respon… https://t.co/FRqdCaMUGM'}\n",
      "32  :  {'text': 'RT @0Diannmal: #nyyankees #Yankees #bronx #chrischamblass #mld #BronxBombers #bronxnation #YankeeStadium #baseball #AutographedBaseball #Au…'}\n",
      "33  :  {'text': 'RT @Rangerita: Guys. Yankee question! In this pic, there are 2 guys. Babe Ruth and...? \\n#yankees #baberuth https://t.co/qlP6w0sxV9'}\n",
      "34  :  {'text': '@Kristen_MarieNY The #Yankees 2020 #MLB season ⚾ from Tampa, FL,  #SpringTraining ~ to #YankeeStadium in the Bronx… https://t.co/AYfQl4ucOy'}\n",
      "35  :  {'text': '@YESNetwork From the player who said this: #Yankees #PinstripePride https://t.co/we87QHMzIT'}\n",
      "36  :  {'text': 'RT @yanksopeningday: Number 39, Mike Tauchman helps remind us that we’re 39 days away from Yankees Opening Day! Today’s post is brought to…'}\n",
      "37  :  {'text': '#Yankees finalize minor-league deal with former #Rockies right-hander\\n https://t.co/8Fc1lbax7A\\xa0…… https://t.co/0fjD4WasF1'}\n",
      "38  :  {'text': 'RT @ChrisJr_NYYST: To the left is the picture being used to prove Altuve had a tattoo that he was trying to hide in the ALCS walk off game…'}\n",
      "39  :  {'text': 'RT M_Marakovits \"Kenny is back! #yesnetwork #mlb #yankees @ George M. Steinbrenner Field https://t.co/T7h6qSWZck\"'}\n",
      "40  :  {'text': 'RT @TBTimes_Sports: Former #Rays pitcher Chris Archer on the impact of the Astros sign-stealing scandal: “I think the worst part is that pe…'}\n",
      "41  :  {'text': 'The Lovely Miss Steph\\n#pinstripepride #GameDay #Yankees https://t.co/BM3LVvUpSU'}\n",
      "42  :  {'text': 'RT @sigg20: “Old Days”Roberto Clemente leads off 1st, Bill Skowron holding him on and there’s  not an empty seat in the house for the 1960…'}\n",
      "43  :  {'text': '#Houston #Astros #Texas #LosAngeles #Dodgers #California #NewYork #Yankees #MLB #sport https://t.co/rvpNUaahim'}\n",
      "44  :  {'text': 'Il digiuno dei #Knicks lungo 47 anni, i 27 titoli degli #Yankees e i #MiracleMets del ‘69: storie newyorkesi… https://t.co/790ZM0ic81'}\n",
      "45  :  {'text': 'RT @PCreighton1: The #Yankees scored 1, 1, 1, &amp; 0 runs in 4 games vs #Astros at MMP. \\n\\nDo tell me how NYY got cheated in those 4 games.  Th…'}\n",
      "46  :  {'text': 'That time we played some clips of the cringe-worthy \"apologies\" from the #Astros organization &amp; the #Yankees respon… https://t.co/FRqdCaMUGM'}\n",
      "47  :  {'text': 'RT @0Diannmal: #nyyankees #Yankees #bronx #chrischamblass #mld #BronxBombers #bronxnation #YankeeStadium #baseball #AutographedBaseball #Au…'}\n",
      "48  :  {'text': 'RT @Rangerita: Guys. Yankee question! In this pic, there are 2 guys. Babe Ruth and...? \\n#yankees #baberuth https://t.co/qlP6w0sxV9'}\n",
      "49  :  {'text': '@Kristen_MarieNY The #Yankees 2020 #MLB season ⚾ from Tampa, FL,  #SpringTraining ~ to #YankeeStadium in the Bronx… https://t.co/AYfQl4ucOy'}\n",
      "50  :  {'text': '@YESNetwork From the player who said this: #Yankees #PinstripePride https://t.co/we87QHMzIT'}\n",
      "51  :  {'text': 'RT @yanksopeningday: Number 39, Mike Tauchman helps remind us that we’re 39 days away from Yankees Opening Day! Today’s post is brought to…'}\n",
      "52  :  {'text': '#Yankees finalize minor-league deal with former #Rockies right-hander\\n https://t.co/8Fc1lbax7A\\xa0…… https://t.co/0fjD4WasF1'}\n",
      "53  :  {'text': 'RT @ChrisJr_NYYST: To the left is the picture being used to prove Altuve had a tattoo that he was trying to hide in the ALCS walk off game…'}\n",
      "54  :  {'text': 'RT M_Marakovits \"Kenny is back! #yesnetwork #mlb #yankees @ George M. Steinbrenner Field https://t.co/T7h6qSWZck\"'}\n",
      "55  :  {'text': 'RT @TBTimes_Sports: Former #Rays pitcher Chris Archer on the impact of the Astros sign-stealing scandal: “I think the worst part is that pe…'}\n",
      "56  :  {'text': 'The Lovely Miss Steph\\n#pinstripepride #GameDay #Yankees https://t.co/BM3LVvUpSU'}\n",
      "57  :  {'text': 'RT @sigg20: “Old Days”Roberto Clemente leads off 1st, Bill Skowron holding him on and there’s  not an empty seat in the house for the 1960…'}\n",
      "58  :  {'text': '#Houston #Astros #Texas #LosAngeles #Dodgers #California #NewYork #Yankees #MLB #sport https://t.co/rvpNUaahim'}\n",
      "59  :  {'text': 'Il digiuno dei #Knicks lungo 47 anni, i 27 titoli degli #Yankees e i #MiracleMets del ‘69: storie newyorkesi… https://t.co/790ZM0ic81'}\n",
      "60  :  {'text': 'RT @PCreighton1: The #Yankees scored 1, 1, 1, &amp; 0 runs in 4 games vs #Astros at MMP. \\n\\nDo tell me how NYY got cheated in those 4 games.  Th…'}\n",
      "61  :  {'text': 'That time we played some clips of the cringe-worthy \"apologies\" from the #Astros organization &amp; the #Yankees respon… https://t.co/FRqdCaMUGM'}\n",
      "62  :  {'text': 'RT @0Diannmal: #nyyankees #Yankees #bronx #chrischamblass #mld #BronxBombers #bronxnation #YankeeStadium #baseball #AutographedBaseball #Au…'}\n",
      "63  :  {'text': 'RT @Rangerita: Guys. Yankee question! In this pic, there are 2 guys. Babe Ruth and...? \\n#yankees #baberuth https://t.co/qlP6w0sxV9'}\n",
      "64  :  {'text': '@Kristen_MarieNY The #Yankees 2020 #MLB season ⚾ from Tampa, FL,  #SpringTraining ~ to #YankeeStadium in the Bronx… https://t.co/AYfQl4ucOy'}\n",
      "65  :  {'text': '@YESNetwork From the player who said this: #Yankees #PinstripePride https://t.co/we87QHMzIT'}\n",
      "66  :  {'text': 'RT @yanksopeningday: Number 39, Mike Tauchman helps remind us that we’re 39 days away from Yankees Opening Day! Today’s post is brought to…'}\n",
      "67  :  {'text': '#Yankees finalize minor-league deal with former #Rockies right-hander\\n https://t.co/8Fc1lbax7A\\xa0…… https://t.co/0fjD4WasF1'}\n",
      "68  :  {'text': 'RT @ChrisJr_NYYST: To the left is the picture being used to prove Altuve had a tattoo that he was trying to hide in the ALCS walk off game…'}\n",
      "69  :  {'text': 'RT M_Marakovits \"Kenny is back! #yesnetwork #mlb #yankees @ George M. Steinbrenner Field https://t.co/T7h6qSWZck\"'}\n",
      "70  :  {'text': 'RT @TBTimes_Sports: Former #Rays pitcher Chris Archer on the impact of the Astros sign-stealing scandal: “I think the worst part is that pe…'}\n",
      "71  :  {'text': 'The Lovely Miss Steph\\n#pinstripepride #GameDay #Yankees https://t.co/BM3LVvUpSU'}\n",
      "72  :  {'text': 'RT @sigg20: “Old Days”Roberto Clemente leads off 1st, Bill Skowron holding him on and there’s  not an empty seat in the house for the 1960…'}\n",
      "73  :  {'text': '#Houston #Astros #Texas #LosAngeles #Dodgers #California #NewYork #Yankees #MLB #sport https://t.co/rvpNUaahim'}\n",
      "74  :  {'text': 'Il digiuno dei #Knicks lungo 47 anni, i 27 titoli degli #Yankees e i #MiracleMets del ‘69: storie newyorkesi… https://t.co/790ZM0ic81'}\n",
      "75  :  {'text': 'RT @PCreighton1: The #Yankees scored 1, 1, 1, &amp; 0 runs in 4 games vs #Astros at MMP. \\n\\nDo tell me how NYY got cheated in those 4 games.  Th…'}\n",
      "76  :  {'text': 'That time we played some clips of the cringe-worthy \"apologies\" from the #Astros organization &amp; the #Yankees respon… https://t.co/FRqdCaMUGM'}\n",
      "77  :  {'text': 'RT @0Diannmal: #nyyankees #Yankees #bronx #chrischamblass #mld #BronxBombers #bronxnation #YankeeStadium #baseball #AutographedBaseball #Au…'}\n",
      "78  :  {'text': 'RT @Rangerita: Guys. Yankee question! In this pic, there are 2 guys. Babe Ruth and...? \\n#yankees #baberuth https://t.co/qlP6w0sxV9'}\n",
      "79  :  {'text': '@Kristen_MarieNY The #Yankees 2020 #MLB season ⚾ from Tampa, FL,  #SpringTraining ~ to #YankeeStadium in the Bronx… https://t.co/AYfQl4ucOy'}\n",
      "80  :  {'text': '@YESNetwork From the player who said this: #Yankees #PinstripePride https://t.co/we87QHMzIT'}\n",
      "81  :  {'text': 'RT @yanksopeningday: Number 39, Mike Tauchman helps remind us that we’re 39 days away from Yankees Opening Day! Today’s post is brought to…'}\n",
      "82  :  {'text': '#Yankees finalize minor-league deal with former #Rockies right-hander\\n https://t.co/8Fc1lbax7A\\xa0…… https://t.co/0fjD4WasF1'}\n",
      "83  :  {'text': 'RT @ChrisJr_NYYST: To the left is the picture being used to prove Altuve had a tattoo that he was trying to hide in the ALCS walk off game…'}\n",
      "84  :  {'text': 'RT M_Marakovits \"Kenny is back! #yesnetwork #mlb #yankees @ George M. Steinbrenner Field https://t.co/T7h6qSWZck\"'}\n",
      "85  :  {'text': 'RT @TBTimes_Sports: Former #Rays pitcher Chris Archer on the impact of the Astros sign-stealing scandal: “I think the worst part is that pe…'}\n",
      "86  :  {'text': 'The Lovely Miss Steph\\n#pinstripepride #GameDay #Yankees https://t.co/BM3LVvUpSU'}\n",
      "87  :  {'text': 'RT @sigg20: “Old Days”Roberto Clemente leads off 1st, Bill Skowron holding him on and there’s  not an empty seat in the house for the 1960…'}\n",
      "88  :  {'text': '#Houston #Astros #Texas #LosAngeles #Dodgers #California #NewYork #Yankees #MLB #sport https://t.co/rvpNUaahim'}\n",
      "89  :  {'text': 'Il digiuno dei #Knicks lungo 47 anni, i 27 titoli degli #Yankees e i #MiracleMets del ‘69: storie newyorkesi… https://t.co/790ZM0ic81'}\n",
      "90  :  {'text': 'RT @PCreighton1: The #Yankees scored 1, 1, 1, &amp; 0 runs in 4 games vs #Astros at MMP. \\n\\nDo tell me how NYY got cheated in those 4 games.  Th…'}\n",
      "91  :  {'text': 'That time we played some clips of the cringe-worthy \"apologies\" from the #Astros organization &amp; the #Yankees respon… https://t.co/FRqdCaMUGM'}\n",
      "92  :  {'text': 'RT @0Diannmal: #nyyankees #Yankees #bronx #chrischamblass #mld #BronxBombers #bronxnation #YankeeStadium #baseball #AutographedBaseball #Au…'}\n",
      "93  :  {'text': 'RT @Rangerita: Guys. Yankee question! In this pic, there are 2 guys. Babe Ruth and...? \\n#yankees #baberuth https://t.co/qlP6w0sxV9'}\n",
      "94  :  {'text': '@Kristen_MarieNY The #Yankees 2020 #MLB season ⚾ from Tampa, FL,  #SpringTraining ~ to #YankeeStadium in the Bronx… https://t.co/AYfQl4ucOy'}\n",
      "95  :  {'text': '@YESNetwork From the player who said this: #Yankees #PinstripePride https://t.co/we87QHMzIT'}\n",
      "96  :  {'text': 'RT @yanksopeningday: Number 39, Mike Tauchman helps remind us that we’re 39 days away from Yankees Opening Day! Today’s post is brought to…'}\n",
      "97  :  {'text': '#Yankees finalize minor-league deal with former #Rockies right-hander\\n https://t.co/8Fc1lbax7A\\xa0…… https://t.co/0fjD4WasF1'}\n",
      "98  :  {'text': 'RT @ChrisJr_NYYST: To the left is the picture being used to prove Altuve had a tattoo that he was trying to hide in the ALCS walk off game…'}\n",
      "99  :  {'text': 'RT M_Marakovits \"Kenny is back! #yesnetwork #mlb #yankees @ George M. Steinbrenner Field https://t.co/T7h6qSWZck\"'}\n",
      "100  :  {'text': 'RT @TBTimes_Sports: Former #Rays pitcher Chris Archer on the impact of the Astros sign-stealing scandal: “I think the worst part is that pe…'}\n",
      "101  :  {'text': 'The Lovely Miss Steph\\n#pinstripepride #GameDay #Yankees https://t.co/BM3LVvUpSU'}\n",
      "102  :  {'text': 'RT @sigg20: “Old Days”Roberto Clemente leads off 1st, Bill Skowron holding him on and there’s  not an empty seat in the house for the 1960…'}\n",
      "103  :  {'text': '#Houston #Astros #Texas #LosAngeles #Dodgers #California #NewYork #Yankees #MLB #sport https://t.co/rvpNUaahim'}\n",
      "104  :  {'text': 'Il digiuno dei #Knicks lungo 47 anni, i 27 titoli degli #Yankees e i #MiracleMets del ‘69: storie newyorkesi… https://t.co/790ZM0ic81'}\n",
      "105  :  {'text': 'RT @PCreighton1: The #Yankees scored 1, 1, 1, &amp; 0 runs in 4 games vs #Astros at MMP. \\n\\nDo tell me how NYY got cheated in those 4 games.  Th…'}\n",
      "106  :  {'text': 'That time we played some clips of the cringe-worthy \"apologies\" from the #Astros organization &amp; the #Yankees respon… https://t.co/FRqdCaMUGM'}\n",
      "107  :  {'text': 'RT @0Diannmal: #nyyankees #Yankees #bronx #chrischamblass #mld #BronxBombers #bronxnation #YankeeStadium #baseball #AutographedBaseball #Au…'}\n",
      "108  :  {'text': 'RT @Rangerita: Guys. Yankee question! In this pic, there are 2 guys. Babe Ruth and...? \\n#yankees #baberuth https://t.co/qlP6w0sxV9'}\n",
      "109  :  {'text': '@Kristen_MarieNY The #Yankees 2020 #MLB season ⚾ from Tampa, FL,  #SpringTraining ~ to #YankeeStadium in the Bronx… https://t.co/AYfQl4ucOy'}\n",
      "110  :  {'text': '@YESNetwork From the player who said this: #Yankees #PinstripePride https://t.co/we87QHMzIT'}\n",
      "111  :  {'text': 'RT @yanksopeningday: Number 39, Mike Tauchman helps remind us that we’re 39 days away from Yankees Opening Day! Today’s post is brought to…'}\n",
      "112  :  {'text': '#Yankees finalize minor-league deal with former #Rockies right-hander\\n https://t.co/8Fc1lbax7A\\xa0…… https://t.co/0fjD4WasF1'}\n",
      "113  :  {'text': 'RT @ChrisJr_NYYST: To the left is the picture being used to prove Altuve had a tattoo that he was trying to hide in the ALCS walk off game…'}\n",
      "114  :  {'text': 'RT M_Marakovits \"Kenny is back! #yesnetwork #mlb #yankees @ George M. Steinbrenner Field https://t.co/T7h6qSWZck\"'}\n",
      "115  :  {'text': 'RT @TBTimes_Sports: Former #Rays pitcher Chris Archer on the impact of the Astros sign-stealing scandal: “I think the worst part is that pe…'}\n",
      "116  :  {'text': 'The Lovely Miss Steph\\n#pinstripepride #GameDay #Yankees https://t.co/BM3LVvUpSU'}\n",
      "117  :  {'text': 'RT @sigg20: “Old Days”Roberto Clemente leads off 1st, Bill Skowron holding him on and there’s  not an empty seat in the house for the 1960…'}\n",
      "118  :  {'text': '#Houston #Astros #Texas #LosAngeles #Dodgers #California #NewYork #Yankees #MLB #sport https://t.co/rvpNUaahim'}\n",
      "119  :  {'text': 'Il digiuno dei #Knicks lungo 47 anni, i 27 titoli degli #Yankees e i #MiracleMets del ‘69: storie newyorkesi… https://t.co/790ZM0ic81'}\n",
      "120  :  {'text': 'RT @PCreighton1: The #Yankees scored 1, 1, 1, &amp; 0 runs in 4 games vs #Astros at MMP. \\n\\nDo tell me how NYY got cheated in those 4 games.  Th…'}\n",
      "121  :  {'text': 'That time we played some clips of the cringe-worthy \"apologies\" from the #Astros organization &amp; the #Yankees respon… https://t.co/FRqdCaMUGM'}\n",
      "122  :  {'text': 'RT @0Diannmal: #nyyankees #Yankees #bronx #chrischamblass #mld #BronxBombers #bronxnation #YankeeStadium #baseball #AutographedBaseball #Au…'}\n",
      "123  :  {'text': 'RT @Rangerita: Guys. Yankee question! In this pic, there are 2 guys. Babe Ruth and...? \\n#yankees #baberuth https://t.co/qlP6w0sxV9'}\n",
      "124  :  {'text': '@Kristen_MarieNY The #Yankees 2020 #MLB season ⚾ from Tampa, FL,  #SpringTraining ~ to #YankeeStadium in the Bronx… https://t.co/AYfQl4ucOy'}\n",
      "125  :  {'text': '@YESNetwork From the player who said this: #Yankees #PinstripePride https://t.co/we87QHMzIT'}\n",
      "126  :  {'text': 'RT @yanksopeningday: Number 39, Mike Tauchman helps remind us that we’re 39 days away from Yankees Opening Day! Today’s post is brought to…'}\n",
      "127  :  {'text': '#Yankees finalize minor-league deal with former #Rockies right-hander\\n https://t.co/8Fc1lbax7A\\xa0…… https://t.co/0fjD4WasF1'}\n",
      "128  :  {'text': 'RT @ChrisJr_NYYST: To the left is the picture being used to prove Altuve had a tattoo that he was trying to hide in the ALCS walk off game…'}\n",
      "129  :  {'text': 'RT M_Marakovits \"Kenny is back! #yesnetwork #mlb #yankees @ George M. Steinbrenner Field https://t.co/T7h6qSWZck\"'}\n",
      "130  :  {'text': 'RT @TBTimes_Sports: Former #Rays pitcher Chris Archer on the impact of the Astros sign-stealing scandal: “I think the worst part is that pe…'}\n",
      "131  :  {'text': 'The Lovely Miss Steph\\n#pinstripepride #GameDay #Yankees https://t.co/BM3LVvUpSU'}\n",
      "132  :  {'text': 'RT @sigg20: “Old Days”Roberto Clemente leads off 1st, Bill Skowron holding him on and there’s  not an empty seat in the house for the 1960…'}\n",
      "133  :  {'text': '#Houston #Astros #Texas #LosAngeles #Dodgers #California #NewYork #Yankees #MLB #sport https://t.co/rvpNUaahim'}\n",
      "134  :  {'text': 'Il digiuno dei #Knicks lungo 47 anni, i 27 titoli degli #Yankees e i #MiracleMets del ‘69: storie newyorkesi… https://t.co/790ZM0ic81'}\n",
      "135  :  {'text': 'RT @PCreighton1: The #Yankees scored 1, 1, 1, &amp; 0 runs in 4 games vs #Astros at MMP. \\n\\nDo tell me how NYY got cheated in those 4 games.  Th…'}\n",
      "136  :  {'text': 'That time we played some clips of the cringe-worthy \"apologies\" from the #Astros organization &amp; the #Yankees respon… https://t.co/FRqdCaMUGM'}\n",
      "137  :  {'text': 'RT @0Diannmal: #nyyankees #Yankees #bronx #chrischamblass #mld #BronxBombers #bronxnation #YankeeStadium #baseball #AutographedBaseball #Au…'}\n",
      "138  :  {'text': 'RT @Rangerita: Guys. Yankee question! In this pic, there are 2 guys. Babe Ruth and...? \\n#yankees #baberuth https://t.co/qlP6w0sxV9'}\n",
      "139  :  {'text': '@Kristen_MarieNY The #Yankees 2020 #MLB season ⚾ from Tampa, FL,  #SpringTraining ~ to #YankeeStadium in the Bronx… https://t.co/AYfQl4ucOy'}\n",
      "140  :  {'text': '@YESNetwork From the player who said this: #Yankees #PinstripePride https://t.co/we87QHMzIT'}\n",
      "141  :  {'text': 'RT @yanksopeningday: Number 39, Mike Tauchman helps remind us that we’re 39 days away from Yankees Opening Day! Today’s post is brought to…'}\n",
      "142  :  {'text': '#Yankees finalize minor-league deal with former #Rockies right-hander\\n https://t.co/8Fc1lbax7A\\xa0…… https://t.co/0fjD4WasF1'}\n",
      "143  :  {'text': 'RT @ChrisJr_NYYST: To the left is the picture being used to prove Altuve had a tattoo that he was trying to hide in the ALCS walk off game…'}\n",
      "144  :  {'text': 'RT M_Marakovits \"Kenny is back! #yesnetwork #mlb #yankees @ George M. Steinbrenner Field https://t.co/T7h6qSWZck\"'}\n",
      "145  :  {'text': 'RT @TBTimes_Sports: Former #Rays pitcher Chris Archer on the impact of the Astros sign-stealing scandal: “I think the worst part is that pe…'}\n",
      "146  :  {'text': 'The Lovely Miss Steph\\n#pinstripepride #GameDay #Yankees https://t.co/BM3LVvUpSU'}\n",
      "147  :  {'text': 'RT @sigg20: “Old Days”Roberto Clemente leads off 1st, Bill Skowron holding him on and there’s  not an empty seat in the house for the 1960…'}\n",
      "148  :  {'text': '#Houston #Astros #Texas #LosAngeles #Dodgers #California #NewYork #Yankees #MLB #sport https://t.co/rvpNUaahim'}\n",
      "149  :  {'text': 'Il digiuno dei #Knicks lungo 47 anni, i 27 titoli degli #Yankees e i #MiracleMets del ‘69: storie newyorkesi… https://t.co/790ZM0ic81'}\n"
     ]
    }
   ],
   "source": [
    "#전체 문서 보기\n",
    "\n",
    "data = {}   # 전체 문서 추가\n",
    "i = 0       # 문서 번호\n",
    "for tweet in search:\n",
    "    data['text'] = tweet.text   # text키에 text문서 저장\n",
    "    print(i, \" : \", data)   # 문서번호 : 문서내용\n",
    "    i += 1"
   ]
  },
  {
   "cell_type": "code",
   "execution_count": 164,
   "metadata": {},
   "outputs": [],
   "source": [
    "# 전체 문서를 파일 저장\n",
    "\n",
    "import os\n",
    "    \n",
    "wfile = open(os.getcwd()+\"/yankees.txt\", mode='w', encoding=\"utf-8\")   # 쓰기 모드\n",
    "data = {}   # 전체 문서 추가\n",
    "i = 0       # 문서 번호"
   ]
  },
  {
   "cell_type": "code",
   "execution_count": 165,
   "metadata": {},
   "outputs": [],
   "source": [
    "for tweet in search:\n",
    "    data['text'] = tweet.text   # text키에 text문서 저장\n",
    "    wfile.write(data['text']+'\\n')  # 파일 출력\n",
    "    i += 1\n",
    "\n",
    "wfile.close()"
   ]
  },
  {
   "cell_type": "markdown",
   "metadata": {},
   "source": [
    "### 볼티모어 오리올스(Baltimore Orioles)"
   ]
  },
  {
   "cell_type": "code",
   "execution_count": 166,
   "metadata": {},
   "outputs": [],
   "source": [
    "keyword = \"#orioles\";     # 자신이 검색하고 싶은 유저\n",
    "search = [] # 크롤링 결과 저장할 변수   "
   ]
  },
  {
   "cell_type": "code",
   "execution_count": 167,
   "metadata": {},
   "outputs": [],
   "source": [
    "cnt = 1\n",
    "while(cnt <= 10):   # 10page 대상으로 크롤링\n",
    "   tweets = api.search(keyword)\n",
    "   for tweet in tweets:\n",
    "       search.append(tweet)\n",
    "   cnt += 1"
   ]
  },
  {
   "cell_type": "code",
   "execution_count": 168,
   "metadata": {},
   "outputs": [
    {
     "name": "stdout",
     "output_type": "stream",
     "text": [
      "140\n"
     ]
    }
   ],
   "source": [
    "print(len(search)) # 문서 길이 "
   ]
  },
  {
   "cell_type": "code",
   "execution_count": 169,
   "metadata": {},
   "outputs": [
    {
     "name": "stdout",
     "output_type": "stream",
     "text": [
      "0  :  {'text': 'RT @215PHLSports: USA Today Sports 2020 MLB Predictions \\n\\n#Yankees 103-59\\n#Rays 92-70\\n#RedSox 84-78\\n#BlueJays 75-87\\n#Orioles 57-105\\n#MNTwin…'}\n",
      "1  :  {'text': '@Os_and_BOHs @Lestermartin9 @RichDubroffMLB #masnsports lawsuit v. #Nationals. Will Angelos family be able to withs… https://t.co/2mcmCysFKH'}\n",
      "2  :  {'text': \"RT @JoeTrezz: Here are Rob Manfred's full comments on the Angelos family and the #Orioles' future in Baltimore: https://t.co/WM5gio2M81\"}\n",
      "3  :  {'text': 'RT @JoeTrezz: Orioles EVP/GM Mike Elias was asked again today about the Astros scandal and the Houston connections he and several other cur…'}\n",
      "4  :  {'text': 'RT @PuffyGatorArt: Throwback to little landscapes from brush experimentation\\n\\n#nightsky #galaxy #orioles #landscapeart https://t.co/QXcWXk5…'}\n",
      "5  :  {'text': 'RT @NotBrandonHyde: Alright Orioles fans- like, retweet and follow me for a chance to win this signed Jonathan Schoop baseball, acquired by…'}\n",
      "6  :  {'text': 'RT @masnRoch: Rob Manfred said he’s spent a considerable amount of time during offseason with Angelos family. They’re excited about Mike El…'}\n",
      "7  :  {'text': \"RT @JoeTrezz: On a lighter note, we're running a series of personality Q&amp;As with #Orioles prospects this spring. \\n\\nIn the first installment…\"}\n",
      "8  :  {'text': '#MLB 2020 Preview\\n\\n#Orioles 2020 Projected Bullpen\\n\\n2019 Pitch Quality Ranking\\n\\nBleier 4.78 QOPA\\nHarvey 4.42 QOPA\\nP… https://t.co/77qjHqb9EM'}\n",
      "9  :  {'text': 'Accessing the #Orioles pitching battles this spring https://t.co/Z4FZWxpxKO via @OriolesHangout'}\n",
      "10  :  {'text': 'This is gonna be a wild baseball season.....for everyone who says baseball is boring, just wait.  #Yankees #Dodgers… https://t.co/oQdyiteuVa'}\n",
      "11  :  {'text': 'RT @JoeTrezz: Though his presser has been dominated by Astros questions, Rob Manfred also said he spent time with the Angelos family this w…'}\n",
      "12  :  {'text': '#dyerphoto #jonathandyerphotography #usatodaysports @usatodaysports imagncontent #orioles #mlb @ Ed Smith Stadium https://t.co/6ptUfvdhYJ'}\n",
      "13  :  {'text': 'RT @JoeTrezz: Though his presser has been dominated by Astros questions, Rob Manfred also said he spent time with the Angelos family this w…'}\n",
      "14  :  {'text': 'RT @215PHLSports: USA Today Sports 2020 MLB Predictions \\n\\n#Yankees 103-59\\n#Rays 92-70\\n#RedSox 84-78\\n#BlueJays 75-87\\n#Orioles 57-105\\n#MNTwin…'}\n",
      "15  :  {'text': '@Os_and_BOHs @Lestermartin9 @RichDubroffMLB #masnsports lawsuit v. #Nationals. Will Angelos family be able to withs… https://t.co/2mcmCysFKH'}\n",
      "16  :  {'text': \"RT @JoeTrezz: Here are Rob Manfred's full comments on the Angelos family and the #Orioles' future in Baltimore: https://t.co/WM5gio2M81\"}\n",
      "17  :  {'text': 'RT @JoeTrezz: Orioles EVP/GM Mike Elias was asked again today about the Astros scandal and the Houston connections he and several other cur…'}\n",
      "18  :  {'text': 'RT @PuffyGatorArt: Throwback to little landscapes from brush experimentation\\n\\n#nightsky #galaxy #orioles #landscapeart https://t.co/QXcWXk5…'}\n",
      "19  :  {'text': 'RT @NotBrandonHyde: Alright Orioles fans- like, retweet and follow me for a chance to win this signed Jonathan Schoop baseball, acquired by…'}\n",
      "20  :  {'text': 'RT @masnRoch: Rob Manfred said he’s spent a considerable amount of time during offseason with Angelos family. They’re excited about Mike El…'}\n",
      "21  :  {'text': \"RT @JoeTrezz: On a lighter note, we're running a series of personality Q&amp;As with #Orioles prospects this spring. \\n\\nIn the first installment…\"}\n",
      "22  :  {'text': '#MLB 2020 Preview\\n\\n#Orioles 2020 Projected Bullpen\\n\\n2019 Pitch Quality Ranking\\n\\nBleier 4.78 QOPA\\nHarvey 4.42 QOPA\\nP… https://t.co/77qjHqb9EM'}\n",
      "23  :  {'text': 'Accessing the #Orioles pitching battles this spring https://t.co/Z4FZWxpxKO via @OriolesHangout'}\n",
      "24  :  {'text': 'This is gonna be a wild baseball season.....for everyone who says baseball is boring, just wait.  #Yankees #Dodgers… https://t.co/oQdyiteuVa'}\n",
      "25  :  {'text': 'RT @JoeTrezz: Though his presser has been dominated by Astros questions, Rob Manfred also said he spent time with the Angelos family this w…'}\n",
      "26  :  {'text': '#dyerphoto #jonathandyerphotography #usatodaysports @usatodaysports imagncontent #orioles #mlb @ Ed Smith Stadium https://t.co/6ptUfvdhYJ'}\n",
      "27  :  {'text': 'RT @JoeTrezz: Though his presser has been dominated by Astros questions, Rob Manfred also said he spent time with the Angelos family this w…'}\n",
      "28  :  {'text': 'RT @215PHLSports: USA Today Sports 2020 MLB Predictions \\n\\n#Yankees 103-59\\n#Rays 92-70\\n#RedSox 84-78\\n#BlueJays 75-87\\n#Orioles 57-105\\n#MNTwin…'}\n",
      "29  :  {'text': '@Os_and_BOHs @Lestermartin9 @RichDubroffMLB #masnsports lawsuit v. #Nationals. Will Angelos family be able to withs… https://t.co/2mcmCysFKH'}\n",
      "30  :  {'text': \"RT @JoeTrezz: Here are Rob Manfred's full comments on the Angelos family and the #Orioles' future in Baltimore: https://t.co/WM5gio2M81\"}\n",
      "31  :  {'text': 'RT @JoeTrezz: Orioles EVP/GM Mike Elias was asked again today about the Astros scandal and the Houston connections he and several other cur…'}\n",
      "32  :  {'text': 'RT @PuffyGatorArt: Throwback to little landscapes from brush experimentation\\n\\n#nightsky #galaxy #orioles #landscapeart https://t.co/QXcWXk5…'}\n",
      "33  :  {'text': 'RT @NotBrandonHyde: Alright Orioles fans- like, retweet and follow me for a chance to win this signed Jonathan Schoop baseball, acquired by…'}\n",
      "34  :  {'text': 'RT @masnRoch: Rob Manfred said he’s spent a considerable amount of time during offseason with Angelos family. They’re excited about Mike El…'}\n",
      "35  :  {'text': \"RT @JoeTrezz: On a lighter note, we're running a series of personality Q&amp;As with #Orioles prospects this spring. \\n\\nIn the first installment…\"}\n",
      "36  :  {'text': '#MLB 2020 Preview\\n\\n#Orioles 2020 Projected Bullpen\\n\\n2019 Pitch Quality Ranking\\n\\nBleier 4.78 QOPA\\nHarvey 4.42 QOPA\\nP… https://t.co/77qjHqb9EM'}\n",
      "37  :  {'text': 'Accessing the #Orioles pitching battles this spring https://t.co/Z4FZWxpxKO via @OriolesHangout'}\n",
      "38  :  {'text': 'This is gonna be a wild baseball season.....for everyone who says baseball is boring, just wait.  #Yankees #Dodgers… https://t.co/oQdyiteuVa'}\n",
      "39  :  {'text': 'RT @JoeTrezz: Though his presser has been dominated by Astros questions, Rob Manfred also said he spent time with the Angelos family this w…'}\n",
      "40  :  {'text': '#dyerphoto #jonathandyerphotography #usatodaysports @usatodaysports imagncontent #orioles #mlb @ Ed Smith Stadium https://t.co/6ptUfvdhYJ'}\n",
      "41  :  {'text': 'RT @JoeTrezz: Though his presser has been dominated by Astros questions, Rob Manfred also said he spent time with the Angelos family this w…'}\n",
      "42  :  {'text': 'RT @215PHLSports: USA Today Sports 2020 MLB Predictions \\n\\n#Yankees 103-59\\n#Rays 92-70\\n#RedSox 84-78\\n#BlueJays 75-87\\n#Orioles 57-105\\n#MNTwin…'}\n",
      "43  :  {'text': '@Os_and_BOHs @Lestermartin9 @RichDubroffMLB #masnsports lawsuit v. #Nationals. Will Angelos family be able to withs… https://t.co/2mcmCysFKH'}\n",
      "44  :  {'text': \"RT @JoeTrezz: Here are Rob Manfred's full comments on the Angelos family and the #Orioles' future in Baltimore: https://t.co/WM5gio2M81\"}\n",
      "45  :  {'text': 'RT @JoeTrezz: Orioles EVP/GM Mike Elias was asked again today about the Astros scandal and the Houston connections he and several other cur…'}\n",
      "46  :  {'text': 'RT @PuffyGatorArt: Throwback to little landscapes from brush experimentation\\n\\n#nightsky #galaxy #orioles #landscapeart https://t.co/QXcWXk5…'}\n",
      "47  :  {'text': 'RT @NotBrandonHyde: Alright Orioles fans- like, retweet and follow me for a chance to win this signed Jonathan Schoop baseball, acquired by…'}\n",
      "48  :  {'text': 'RT @masnRoch: Rob Manfred said he’s spent a considerable amount of time during offseason with Angelos family. They’re excited about Mike El…'}\n",
      "49  :  {'text': \"RT @JoeTrezz: On a lighter note, we're running a series of personality Q&amp;As with #Orioles prospects this spring. \\n\\nIn the first installment…\"}\n",
      "50  :  {'text': '#MLB 2020 Preview\\n\\n#Orioles 2020 Projected Bullpen\\n\\n2019 Pitch Quality Ranking\\n\\nBleier 4.78 QOPA\\nHarvey 4.42 QOPA\\nP… https://t.co/77qjHqb9EM'}\n",
      "51  :  {'text': 'Accessing the #Orioles pitching battles this spring https://t.co/Z4FZWxpxKO via @OriolesHangout'}\n",
      "52  :  {'text': 'This is gonna be a wild baseball season.....for everyone who says baseball is boring, just wait.  #Yankees #Dodgers… https://t.co/oQdyiteuVa'}\n",
      "53  :  {'text': 'RT @JoeTrezz: Though his presser has been dominated by Astros questions, Rob Manfred also said he spent time with the Angelos family this w…'}\n",
      "54  :  {'text': '#dyerphoto #jonathandyerphotography #usatodaysports @usatodaysports imagncontent #orioles #mlb @ Ed Smith Stadium https://t.co/6ptUfvdhYJ'}\n",
      "55  :  {'text': 'RT @JoeTrezz: Though his presser has been dominated by Astros questions, Rob Manfred also said he spent time with the Angelos family this w…'}\n",
      "56  :  {'text': 'RT @215PHLSports: USA Today Sports 2020 MLB Predictions \\n\\n#Yankees 103-59\\n#Rays 92-70\\n#RedSox 84-78\\n#BlueJays 75-87\\n#Orioles 57-105\\n#MNTwin…'}\n",
      "57  :  {'text': '@Os_and_BOHs @Lestermartin9 @RichDubroffMLB #masnsports lawsuit v. #Nationals. Will Angelos family be able to withs… https://t.co/2mcmCysFKH'}\n",
      "58  :  {'text': \"RT @JoeTrezz: Here are Rob Manfred's full comments on the Angelos family and the #Orioles' future in Baltimore: https://t.co/WM5gio2M81\"}\n",
      "59  :  {'text': 'RT @JoeTrezz: Orioles EVP/GM Mike Elias was asked again today about the Astros scandal and the Houston connections he and several other cur…'}\n",
      "60  :  {'text': 'RT @PuffyGatorArt: Throwback to little landscapes from brush experimentation\\n\\n#nightsky #galaxy #orioles #landscapeart https://t.co/QXcWXk5…'}\n",
      "61  :  {'text': 'RT @NotBrandonHyde: Alright Orioles fans- like, retweet and follow me for a chance to win this signed Jonathan Schoop baseball, acquired by…'}\n",
      "62  :  {'text': 'RT @masnRoch: Rob Manfred said he’s spent a considerable amount of time during offseason with Angelos family. They’re excited about Mike El…'}\n",
      "63  :  {'text': \"RT @JoeTrezz: On a lighter note, we're running a series of personality Q&amp;As with #Orioles prospects this spring. \\n\\nIn the first installment…\"}\n",
      "64  :  {'text': '#MLB 2020 Preview\\n\\n#Orioles 2020 Projected Bullpen\\n\\n2019 Pitch Quality Ranking\\n\\nBleier 4.78 QOPA\\nHarvey 4.42 QOPA\\nP… https://t.co/77qjHqb9EM'}\n",
      "65  :  {'text': 'Accessing the #Orioles pitching battles this spring https://t.co/Z4FZWxpxKO via @OriolesHangout'}\n",
      "66  :  {'text': 'This is gonna be a wild baseball season.....for everyone who says baseball is boring, just wait.  #Yankees #Dodgers… https://t.co/oQdyiteuVa'}\n",
      "67  :  {'text': 'RT @JoeTrezz: Though his presser has been dominated by Astros questions, Rob Manfred also said he spent time with the Angelos family this w…'}\n",
      "68  :  {'text': '#dyerphoto #jonathandyerphotography #usatodaysports @usatodaysports imagncontent #orioles #mlb @ Ed Smith Stadium https://t.co/6ptUfvdhYJ'}\n",
      "69  :  {'text': 'RT @JoeTrezz: Though his presser has been dominated by Astros questions, Rob Manfred also said he spent time with the Angelos family this w…'}\n",
      "70  :  {'text': 'RT @215PHLSports: USA Today Sports 2020 MLB Predictions \\n\\n#Yankees 103-59\\n#Rays 92-70\\n#RedSox 84-78\\n#BlueJays 75-87\\n#Orioles 57-105\\n#MNTwin…'}\n",
      "71  :  {'text': '@Os_and_BOHs @Lestermartin9 @RichDubroffMLB #masnsports lawsuit v. #Nationals. Will Angelos family be able to withs… https://t.co/2mcmCysFKH'}\n",
      "72  :  {'text': \"RT @JoeTrezz: Here are Rob Manfred's full comments on the Angelos family and the #Orioles' future in Baltimore: https://t.co/WM5gio2M81\"}\n",
      "73  :  {'text': 'RT @JoeTrezz: Orioles EVP/GM Mike Elias was asked again today about the Astros scandal and the Houston connections he and several other cur…'}\n",
      "74  :  {'text': 'RT @PuffyGatorArt: Throwback to little landscapes from brush experimentation\\n\\n#nightsky #galaxy #orioles #landscapeart https://t.co/QXcWXk5…'}\n",
      "75  :  {'text': 'RT @NotBrandonHyde: Alright Orioles fans- like, retweet and follow me for a chance to win this signed Jonathan Schoop baseball, acquired by…'}\n",
      "76  :  {'text': 'RT @masnRoch: Rob Manfred said he’s spent a considerable amount of time during offseason with Angelos family. They’re excited about Mike El…'}\n",
      "77  :  {'text': \"RT @JoeTrezz: On a lighter note, we're running a series of personality Q&amp;As with #Orioles prospects this spring. \\n\\nIn the first installment…\"}\n",
      "78  :  {'text': '#MLB 2020 Preview\\n\\n#Orioles 2020 Projected Bullpen\\n\\n2019 Pitch Quality Ranking\\n\\nBleier 4.78 QOPA\\nHarvey 4.42 QOPA\\nP… https://t.co/77qjHqb9EM'}\n",
      "79  :  {'text': 'Accessing the #Orioles pitching battles this spring https://t.co/Z4FZWxpxKO via @OriolesHangout'}\n",
      "80  :  {'text': 'This is gonna be a wild baseball season.....for everyone who says baseball is boring, just wait.  #Yankees #Dodgers… https://t.co/oQdyiteuVa'}\n",
      "81  :  {'text': 'RT @JoeTrezz: Though his presser has been dominated by Astros questions, Rob Manfred also said he spent time with the Angelos family this w…'}\n",
      "82  :  {'text': '#dyerphoto #jonathandyerphotography #usatodaysports @usatodaysports imagncontent #orioles #mlb @ Ed Smith Stadium https://t.co/6ptUfvdhYJ'}\n",
      "83  :  {'text': 'RT @JoeTrezz: Though his presser has been dominated by Astros questions, Rob Manfred also said he spent time with the Angelos family this w…'}\n",
      "84  :  {'text': 'RT @215PHLSports: USA Today Sports 2020 MLB Predictions \\n\\n#Yankees 103-59\\n#Rays 92-70\\n#RedSox 84-78\\n#BlueJays 75-87\\n#Orioles 57-105\\n#MNTwin…'}\n",
      "85  :  {'text': '@Os_and_BOHs @Lestermartin9 @RichDubroffMLB #masnsports lawsuit v. #Nationals. Will Angelos family be able to withs… https://t.co/2mcmCysFKH'}\n",
      "86  :  {'text': \"RT @JoeTrezz: Here are Rob Manfred's full comments on the Angelos family and the #Orioles' future in Baltimore: https://t.co/WM5gio2M81\"}\n",
      "87  :  {'text': 'RT @JoeTrezz: Orioles EVP/GM Mike Elias was asked again today about the Astros scandal and the Houston connections he and several other cur…'}\n",
      "88  :  {'text': 'RT @PuffyGatorArt: Throwback to little landscapes from brush experimentation\\n\\n#nightsky #galaxy #orioles #landscapeart https://t.co/QXcWXk5…'}\n",
      "89  :  {'text': 'RT @NotBrandonHyde: Alright Orioles fans- like, retweet and follow me for a chance to win this signed Jonathan Schoop baseball, acquired by…'}\n",
      "90  :  {'text': 'RT @masnRoch: Rob Manfred said he’s spent a considerable amount of time during offseason with Angelos family. They’re excited about Mike El…'}\n",
      "91  :  {'text': \"RT @JoeTrezz: On a lighter note, we're running a series of personality Q&amp;As with #Orioles prospects this spring. \\n\\nIn the first installment…\"}\n",
      "92  :  {'text': '#MLB 2020 Preview\\n\\n#Orioles 2020 Projected Bullpen\\n\\n2019 Pitch Quality Ranking\\n\\nBleier 4.78 QOPA\\nHarvey 4.42 QOPA\\nP… https://t.co/77qjHqb9EM'}\n",
      "93  :  {'text': 'Accessing the #Orioles pitching battles this spring https://t.co/Z4FZWxpxKO via @OriolesHangout'}\n",
      "94  :  {'text': 'This is gonna be a wild baseball season.....for everyone who says baseball is boring, just wait.  #Yankees #Dodgers… https://t.co/oQdyiteuVa'}\n",
      "95  :  {'text': 'RT @JoeTrezz: Though his presser has been dominated by Astros questions, Rob Manfred also said he spent time with the Angelos family this w…'}\n",
      "96  :  {'text': '#dyerphoto #jonathandyerphotography #usatodaysports @usatodaysports imagncontent #orioles #mlb @ Ed Smith Stadium https://t.co/6ptUfvdhYJ'}\n",
      "97  :  {'text': 'RT @JoeTrezz: Though his presser has been dominated by Astros questions, Rob Manfred also said he spent time with the Angelos family this w…'}\n",
      "98  :  {'text': 'RT @215PHLSports: USA Today Sports 2020 MLB Predictions \\n\\n#Yankees 103-59\\n#Rays 92-70\\n#RedSox 84-78\\n#BlueJays 75-87\\n#Orioles 57-105\\n#MNTwin…'}\n",
      "99  :  {'text': '@Os_and_BOHs @Lestermartin9 @RichDubroffMLB #masnsports lawsuit v. #Nationals. Will Angelos family be able to withs… https://t.co/2mcmCysFKH'}\n",
      "100  :  {'text': \"RT @JoeTrezz: Here are Rob Manfred's full comments on the Angelos family and the #Orioles' future in Baltimore: https://t.co/WM5gio2M81\"}\n",
      "101  :  {'text': 'RT @JoeTrezz: Orioles EVP/GM Mike Elias was asked again today about the Astros scandal and the Houston connections he and several other cur…'}\n",
      "102  :  {'text': 'RT @PuffyGatorArt: Throwback to little landscapes from brush experimentation\\n\\n#nightsky #galaxy #orioles #landscapeart https://t.co/QXcWXk5…'}\n",
      "103  :  {'text': 'RT @NotBrandonHyde: Alright Orioles fans- like, retweet and follow me for a chance to win this signed Jonathan Schoop baseball, acquired by…'}\n",
      "104  :  {'text': 'RT @masnRoch: Rob Manfred said he’s spent a considerable amount of time during offseason with Angelos family. They’re excited about Mike El…'}\n",
      "105  :  {'text': \"RT @JoeTrezz: On a lighter note, we're running a series of personality Q&amp;As with #Orioles prospects this spring. \\n\\nIn the first installment…\"}\n",
      "106  :  {'text': '#MLB 2020 Preview\\n\\n#Orioles 2020 Projected Bullpen\\n\\n2019 Pitch Quality Ranking\\n\\nBleier 4.78 QOPA\\nHarvey 4.42 QOPA\\nP… https://t.co/77qjHqb9EM'}\n",
      "107  :  {'text': 'Accessing the #Orioles pitching battles this spring https://t.co/Z4FZWxpxKO via @OriolesHangout'}\n",
      "108  :  {'text': 'This is gonna be a wild baseball season.....for everyone who says baseball is boring, just wait.  #Yankees #Dodgers… https://t.co/oQdyiteuVa'}\n",
      "109  :  {'text': 'RT @JoeTrezz: Though his presser has been dominated by Astros questions, Rob Manfred also said he spent time with the Angelos family this w…'}\n",
      "110  :  {'text': '#dyerphoto #jonathandyerphotography #usatodaysports @usatodaysports imagncontent #orioles #mlb @ Ed Smith Stadium https://t.co/6ptUfvdhYJ'}\n",
      "111  :  {'text': 'RT @JoeTrezz: Though his presser has been dominated by Astros questions, Rob Manfred also said he spent time with the Angelos family this w…'}\n",
      "112  :  {'text': 'RT @215PHLSports: USA Today Sports 2020 MLB Predictions \\n\\n#Yankees 103-59\\n#Rays 92-70\\n#RedSox 84-78\\n#BlueJays 75-87\\n#Orioles 57-105\\n#MNTwin…'}\n",
      "113  :  {'text': '@Os_and_BOHs @Lestermartin9 @RichDubroffMLB #masnsports lawsuit v. #Nationals. Will Angelos family be able to withs… https://t.co/2mcmCysFKH'}\n",
      "114  :  {'text': \"RT @JoeTrezz: Here are Rob Manfred's full comments on the Angelos family and the #Orioles' future in Baltimore: https://t.co/WM5gio2M81\"}\n",
      "115  :  {'text': 'RT @JoeTrezz: Orioles EVP/GM Mike Elias was asked again today about the Astros scandal and the Houston connections he and several other cur…'}\n",
      "116  :  {'text': 'RT @PuffyGatorArt: Throwback to little landscapes from brush experimentation\\n\\n#nightsky #galaxy #orioles #landscapeart https://t.co/QXcWXk5…'}\n",
      "117  :  {'text': 'RT @NotBrandonHyde: Alright Orioles fans- like, retweet and follow me for a chance to win this signed Jonathan Schoop baseball, acquired by…'}\n",
      "118  :  {'text': 'RT @masnRoch: Rob Manfred said he’s spent a considerable amount of time during offseason with Angelos family. They’re excited about Mike El…'}\n",
      "119  :  {'text': \"RT @JoeTrezz: On a lighter note, we're running a series of personality Q&amp;As with #Orioles prospects this spring. \\n\\nIn the first installment…\"}\n",
      "120  :  {'text': '#MLB 2020 Preview\\n\\n#Orioles 2020 Projected Bullpen\\n\\n2019 Pitch Quality Ranking\\n\\nBleier 4.78 QOPA\\nHarvey 4.42 QOPA\\nP… https://t.co/77qjHqb9EM'}\n",
      "121  :  {'text': 'Accessing the #Orioles pitching battles this spring https://t.co/Z4FZWxpxKO via @OriolesHangout'}\n",
      "122  :  {'text': 'This is gonna be a wild baseball season.....for everyone who says baseball is boring, just wait.  #Yankees #Dodgers… https://t.co/oQdyiteuVa'}\n",
      "123  :  {'text': 'RT @JoeTrezz: Though his presser has been dominated by Astros questions, Rob Manfred also said he spent time with the Angelos family this w…'}\n",
      "124  :  {'text': '#dyerphoto #jonathandyerphotography #usatodaysports @usatodaysports imagncontent #orioles #mlb @ Ed Smith Stadium https://t.co/6ptUfvdhYJ'}\n",
      "125  :  {'text': 'RT @JoeTrezz: Though his presser has been dominated by Astros questions, Rob Manfred also said he spent time with the Angelos family this w…'}\n",
      "126  :  {'text': 'RT @215PHLSports: USA Today Sports 2020 MLB Predictions \\n\\n#Yankees 103-59\\n#Rays 92-70\\n#RedSox 84-78\\n#BlueJays 75-87\\n#Orioles 57-105\\n#MNTwin…'}\n",
      "127  :  {'text': '@Os_and_BOHs @Lestermartin9 @RichDubroffMLB #masnsports lawsuit v. #Nationals. Will Angelos family be able to withs… https://t.co/2mcmCysFKH'}\n",
      "128  :  {'text': \"RT @JoeTrezz: Here are Rob Manfred's full comments on the Angelos family and the #Orioles' future in Baltimore: https://t.co/WM5gio2M81\"}\n",
      "129  :  {'text': 'RT @JoeTrezz: Orioles EVP/GM Mike Elias was asked again today about the Astros scandal and the Houston connections he and several other cur…'}\n",
      "130  :  {'text': 'RT @PuffyGatorArt: Throwback to little landscapes from brush experimentation\\n\\n#nightsky #galaxy #orioles #landscapeart https://t.co/QXcWXk5…'}\n",
      "131  :  {'text': 'RT @NotBrandonHyde: Alright Orioles fans- like, retweet and follow me for a chance to win this signed Jonathan Schoop baseball, acquired by…'}\n",
      "132  :  {'text': 'RT @masnRoch: Rob Manfred said he’s spent a considerable amount of time during offseason with Angelos family. They’re excited about Mike El…'}\n",
      "133  :  {'text': \"RT @JoeTrezz: On a lighter note, we're running a series of personality Q&amp;As with #Orioles prospects this spring. \\n\\nIn the first installment…\"}\n",
      "134  :  {'text': '#MLB 2020 Preview\\n\\n#Orioles 2020 Projected Bullpen\\n\\n2019 Pitch Quality Ranking\\n\\nBleier 4.78 QOPA\\nHarvey 4.42 QOPA\\nP… https://t.co/77qjHqb9EM'}\n",
      "135  :  {'text': 'Accessing the #Orioles pitching battles this spring https://t.co/Z4FZWxpxKO via @OriolesHangout'}\n",
      "136  :  {'text': 'This is gonna be a wild baseball season.....for everyone who says baseball is boring, just wait.  #Yankees #Dodgers… https://t.co/oQdyiteuVa'}\n",
      "137  :  {'text': 'RT @JoeTrezz: Though his presser has been dominated by Astros questions, Rob Manfred also said he spent time with the Angelos family this w…'}\n",
      "138  :  {'text': '#dyerphoto #jonathandyerphotography #usatodaysports @usatodaysports imagncontent #orioles #mlb @ Ed Smith Stadium https://t.co/6ptUfvdhYJ'}\n",
      "139  :  {'text': 'RT @JoeTrezz: Though his presser has been dominated by Astros questions, Rob Manfred also said he spent time with the Angelos family this w…'}\n"
     ]
    }
   ],
   "source": [
    "#전체 문서 보기\n",
    "\n",
    "data = {}   # 전체 문서 추가\n",
    "i = 0       # 문서 번호\n",
    "for tweet in search:\n",
    "    data['text'] = tweet.text   # text키에 text문서 저장\n",
    "    print(i, \" : \", data)   # 문서번호 : 문서내용\n",
    "    i += 1"
   ]
  },
  {
   "cell_type": "code",
   "execution_count": 170,
   "metadata": {},
   "outputs": [],
   "source": [
    "# 전체 문서를 파일 저장\n",
    "\n",
    "import os\n",
    "    \n",
    "wfile = open(os.getcwd()+\"/orioles.txt\", mode='w', encoding=\"utf-8\")   # 쓰기 모드\n",
    "data = {}   # 전체 문서 추가\n",
    "i = 0       # 문서 번호"
   ]
  },
  {
   "cell_type": "code",
   "execution_count": 171,
   "metadata": {},
   "outputs": [],
   "source": [
    "for tweet in search:\n",
    "    data['text'] = tweet.text   # text키에 text문서 저장\n",
    "    wfile.write(data['text']+'\\n')  # 파일 출력\n",
    "    i += 1\n",
    "\n",
    "wfile.close()"
   ]
  },
  {
   "cell_type": "markdown",
   "metadata": {},
   "source": [
    "### 토론토 블루제이스(Toronto Blue Jays)"
   ]
  },
  {
   "cell_type": "code",
   "execution_count": 176,
   "metadata": {},
   "outputs": [],
   "source": [
    "keyword = \"#bluejays\";     # 자신이 검색하고 싶은 유저\n",
    "search = [] # 크롤링 결과 저장할 변수   "
   ]
  },
  {
   "cell_type": "code",
   "execution_count": 177,
   "metadata": {},
   "outputs": [],
   "source": [
    "cnt = 1\n",
    "while(cnt <= 10):   # 10page 대상으로 크롤링\n",
    "   tweets = api.search(keyword)\n",
    "   for tweet in tweets:\n",
    "       search.append(tweet)\n",
    "   cnt += 1"
   ]
  },
  {
   "cell_type": "code",
   "execution_count": 178,
   "metadata": {},
   "outputs": [
    {
     "name": "stdout",
     "output_type": "stream",
     "text": [
      "150\n"
     ]
    }
   ],
   "source": [
    "print(len(search)) # 문서 길이 "
   ]
  },
  {
   "cell_type": "code",
   "execution_count": 179,
   "metadata": {},
   "outputs": [
    {
     "name": "stdout",
     "output_type": "stream",
     "text": [
      "0  :  {'text': \"RT @bnicholsonsmith: RIP Tony Fernandez, #BlueJays' all-time leader in hits &amp; games played. Four-time Gold Glove winner was a fixture on To…\"}\n",
      "1  :  {'text': 'RT @thehazelmae: #BlueJays Future Player Development Complex: \\n\\nThis is the 3500 sq. ft major league clubhouse with space for 72 lockers. h…'}\n",
      "2  :  {'text': 'Sad to hear the passing of Tony Fernandez.  Hands down an icon in Blue Jays history. #RIPTonyFernandez #BlueJays'}\n",
      "3  :  {'text': 'RT @BluejaysAlways: Tony Fernandez All-Time #BlueJays rankings:\\n\\n37.5 WAR (1st)\\n12.4 Defensive WAR (1st) \\n1,583 Hits (1st)\\n1,450 Games (1st…'}\n",
      "4  :  {'text': 'RT @thehazelmae: Former #BlueJays manager Buck Martinez called Tony Fernandez a “good man” and a “special player” who could “cut down teamm…'}\n",
      "5  :  {'text': 'RT @harry_fosters: The last Blue Jay was going straight up to the feeder from the ground, this one is dropping straight down from a perch.…'}\n",
      "6  :  {'text': 'RT @harry_fosters: The last Blue Jay was going straight up to the feeder from the ground, this one is dropping straight down from a perch.…'}\n",
      "7  :  {'text': \"RT @bnicholsonsmith: RIP Tony Fernandez, #BlueJays' all-time leader in hits &amp; games played. Four-time Gold Glove winner was a fixture on To…\"}\n",
      "8  :  {'text': 'RT @harry_fosters: The last Blue Jay was going straight up to the feeder from the ground, this one is dropping straight down from a perch.…'}\n",
      "9  :  {'text': 'RT @PuriRV: ¿Quién tiene ganas de que empiece el #Béisbol? ⚾\\n#MLB\\n#LasMayores\\n#BlueJays https://t.co/7uIwT5IglE'}\n",
      "10  :  {'text': '¿Quién tiene ganas de que empiece el #Béisbol? ⚾\\n#MLB\\n#LasMayores\\n#BlueJays https://t.co/7uIwT5IglE'}\n",
      "11  :  {'text': 'RT @harry_fosters: The last Blue Jay was going straight up to the feeder from the ground, this one is dropping straight down from a perch.…'}\n",
      "12  :  {'text': 'Sadly we are missing @FadooBobcat and his take on #jimcrane the Houston #Astros and the sign stealing scandal this… https://t.co/0vt9qkjnFw'}\n",
      "13  :  {'text': 'RT @harry_fosters: The last Blue Jay was going straight up to the feeder from the ground, this one is dropping straight down from a perch.…'}\n",
      "14  :  {'text': 'RT @thehazelmae: Former #BlueJays manager Buck Martinez called Tony Fernandez a “good man” and a “special player” who could “cut down teamm…'}\n",
      "15  :  {'text': \"RT @bnicholsonsmith: RIP Tony Fernandez, #BlueJays' all-time leader in hits &amp; games played. Four-time Gold Glove winner was a fixture on To…\"}\n",
      "16  :  {'text': 'RT @thehazelmae: #BlueJays Future Player Development Complex: \\n\\nThis is the 3500 sq. ft major league clubhouse with space for 72 lockers. h…'}\n",
      "17  :  {'text': 'Sad to hear the passing of Tony Fernandez.  Hands down an icon in Blue Jays history. #RIPTonyFernandez #BlueJays'}\n",
      "18  :  {'text': 'RT @BluejaysAlways: Tony Fernandez All-Time #BlueJays rankings:\\n\\n37.5 WAR (1st)\\n12.4 Defensive WAR (1st) \\n1,583 Hits (1st)\\n1,450 Games (1st…'}\n",
      "19  :  {'text': 'RT @thehazelmae: Former #BlueJays manager Buck Martinez called Tony Fernandez a “good man” and a “special player” who could “cut down teamm…'}\n",
      "20  :  {'text': 'RT @harry_fosters: The last Blue Jay was going straight up to the feeder from the ground, this one is dropping straight down from a perch.…'}\n",
      "21  :  {'text': 'RT @harry_fosters: The last Blue Jay was going straight up to the feeder from the ground, this one is dropping straight down from a perch.…'}\n",
      "22  :  {'text': \"RT @bnicholsonsmith: RIP Tony Fernandez, #BlueJays' all-time leader in hits &amp; games played. Four-time Gold Glove winner was a fixture on To…\"}\n",
      "23  :  {'text': 'RT @harry_fosters: The last Blue Jay was going straight up to the feeder from the ground, this one is dropping straight down from a perch.…'}\n",
      "24  :  {'text': 'RT @PuriRV: ¿Quién tiene ganas de que empiece el #Béisbol? ⚾\\n#MLB\\n#LasMayores\\n#BlueJays https://t.co/7uIwT5IglE'}\n",
      "25  :  {'text': '¿Quién tiene ganas de que empiece el #Béisbol? ⚾\\n#MLB\\n#LasMayores\\n#BlueJays https://t.co/7uIwT5IglE'}\n",
      "26  :  {'text': 'RT @harry_fosters: The last Blue Jay was going straight up to the feeder from the ground, this one is dropping straight down from a perch.…'}\n",
      "27  :  {'text': 'Sadly we are missing @FadooBobcat and his take on #jimcrane the Houston #Astros and the sign stealing scandal this… https://t.co/0vt9qkjnFw'}\n",
      "28  :  {'text': 'RT @harry_fosters: The last Blue Jay was going straight up to the feeder from the ground, this one is dropping straight down from a perch.…'}\n",
      "29  :  {'text': 'RT @thehazelmae: Former #BlueJays manager Buck Martinez called Tony Fernandez a “good man” and a “special player” who could “cut down teamm…'}\n",
      "30  :  {'text': \"RT @bnicholsonsmith: RIP Tony Fernandez, #BlueJays' all-time leader in hits &amp; games played. Four-time Gold Glove winner was a fixture on To…\"}\n",
      "31  :  {'text': 'RT @thehazelmae: #BlueJays Future Player Development Complex: \\n\\nThis is the 3500 sq. ft major league clubhouse with space for 72 lockers. h…'}\n",
      "32  :  {'text': 'Sad to hear the passing of Tony Fernandez.  Hands down an icon in Blue Jays history. #RIPTonyFernandez #BlueJays'}\n",
      "33  :  {'text': 'RT @BluejaysAlways: Tony Fernandez All-Time #BlueJays rankings:\\n\\n37.5 WAR (1st)\\n12.4 Defensive WAR (1st) \\n1,583 Hits (1st)\\n1,450 Games (1st…'}\n",
      "34  :  {'text': 'RT @thehazelmae: Former #BlueJays manager Buck Martinez called Tony Fernandez a “good man” and a “special player” who could “cut down teamm…'}\n",
      "35  :  {'text': 'RT @harry_fosters: The last Blue Jay was going straight up to the feeder from the ground, this one is dropping straight down from a perch.…'}\n",
      "36  :  {'text': 'RT @harry_fosters: The last Blue Jay was going straight up to the feeder from the ground, this one is dropping straight down from a perch.…'}\n",
      "37  :  {'text': \"RT @bnicholsonsmith: RIP Tony Fernandez, #BlueJays' all-time leader in hits &amp; games played. Four-time Gold Glove winner was a fixture on To…\"}\n",
      "38  :  {'text': 'RT @harry_fosters: The last Blue Jay was going straight up to the feeder from the ground, this one is dropping straight down from a perch.…'}\n",
      "39  :  {'text': 'RT @PuriRV: ¿Quién tiene ganas de que empiece el #Béisbol? ⚾\\n#MLB\\n#LasMayores\\n#BlueJays https://t.co/7uIwT5IglE'}\n",
      "40  :  {'text': '¿Quién tiene ganas de que empiece el #Béisbol? ⚾\\n#MLB\\n#LasMayores\\n#BlueJays https://t.co/7uIwT5IglE'}\n",
      "41  :  {'text': 'RT @harry_fosters: The last Blue Jay was going straight up to the feeder from the ground, this one is dropping straight down from a perch.…'}\n",
      "42  :  {'text': 'Sadly we are missing @FadooBobcat and his take on #jimcrane the Houston #Astros and the sign stealing scandal this… https://t.co/0vt9qkjnFw'}\n",
      "43  :  {'text': 'RT @harry_fosters: The last Blue Jay was going straight up to the feeder from the ground, this one is dropping straight down from a perch.…'}\n",
      "44  :  {'text': 'RT @thehazelmae: Former #BlueJays manager Buck Martinez called Tony Fernandez a “good man” and a “special player” who could “cut down teamm…'}\n",
      "45  :  {'text': \"RT @bnicholsonsmith: RIP Tony Fernandez, #BlueJays' all-time leader in hits &amp; games played. Four-time Gold Glove winner was a fixture on To…\"}\n",
      "46  :  {'text': 'RT @thehazelmae: #BlueJays Future Player Development Complex: \\n\\nThis is the 3500 sq. ft major league clubhouse with space for 72 lockers. h…'}\n",
      "47  :  {'text': 'Sad to hear the passing of Tony Fernandez.  Hands down an icon in Blue Jays history. #RIPTonyFernandez #BlueJays'}\n",
      "48  :  {'text': 'RT @BluejaysAlways: Tony Fernandez All-Time #BlueJays rankings:\\n\\n37.5 WAR (1st)\\n12.4 Defensive WAR (1st) \\n1,583 Hits (1st)\\n1,450 Games (1st…'}\n",
      "49  :  {'text': 'RT @thehazelmae: Former #BlueJays manager Buck Martinez called Tony Fernandez a “good man” and a “special player” who could “cut down teamm…'}\n",
      "50  :  {'text': 'RT @harry_fosters: The last Blue Jay was going straight up to the feeder from the ground, this one is dropping straight down from a perch.…'}\n",
      "51  :  {'text': 'RT @harry_fosters: The last Blue Jay was going straight up to the feeder from the ground, this one is dropping straight down from a perch.…'}\n",
      "52  :  {'text': \"RT @bnicholsonsmith: RIP Tony Fernandez, #BlueJays' all-time leader in hits &amp; games played. Four-time Gold Glove winner was a fixture on To…\"}\n",
      "53  :  {'text': 'RT @harry_fosters: The last Blue Jay was going straight up to the feeder from the ground, this one is dropping straight down from a perch.…'}\n",
      "54  :  {'text': 'RT @PuriRV: ¿Quién tiene ganas de que empiece el #Béisbol? ⚾\\n#MLB\\n#LasMayores\\n#BlueJays https://t.co/7uIwT5IglE'}\n",
      "55  :  {'text': '¿Quién tiene ganas de que empiece el #Béisbol? ⚾\\n#MLB\\n#LasMayores\\n#BlueJays https://t.co/7uIwT5IglE'}\n",
      "56  :  {'text': 'RT @harry_fosters: The last Blue Jay was going straight up to the feeder from the ground, this one is dropping straight down from a perch.…'}\n",
      "57  :  {'text': 'Sadly we are missing @FadooBobcat and his take on #jimcrane the Houston #Astros and the sign stealing scandal this… https://t.co/0vt9qkjnFw'}\n",
      "58  :  {'text': 'RT @harry_fosters: The last Blue Jay was going straight up to the feeder from the ground, this one is dropping straight down from a perch.…'}\n",
      "59  :  {'text': 'RT @thehazelmae: Former #BlueJays manager Buck Martinez called Tony Fernandez a “good man” and a “special player” who could “cut down teamm…'}\n",
      "60  :  {'text': \"RT @bnicholsonsmith: RIP Tony Fernandez, #BlueJays' all-time leader in hits &amp; games played. Four-time Gold Glove winner was a fixture on To…\"}\n",
      "61  :  {'text': 'RT @thehazelmae: #BlueJays Future Player Development Complex: \\n\\nThis is the 3500 sq. ft major league clubhouse with space for 72 lockers. h…'}\n",
      "62  :  {'text': 'Sad to hear the passing of Tony Fernandez.  Hands down an icon in Blue Jays history. #RIPTonyFernandez #BlueJays'}\n",
      "63  :  {'text': 'RT @BluejaysAlways: Tony Fernandez All-Time #BlueJays rankings:\\n\\n37.5 WAR (1st)\\n12.4 Defensive WAR (1st) \\n1,583 Hits (1st)\\n1,450 Games (1st…'}\n",
      "64  :  {'text': 'RT @thehazelmae: Former #BlueJays manager Buck Martinez called Tony Fernandez a “good man” and a “special player” who could “cut down teamm…'}\n",
      "65  :  {'text': 'RT @harry_fosters: The last Blue Jay was going straight up to the feeder from the ground, this one is dropping straight down from a perch.…'}\n",
      "66  :  {'text': 'RT @harry_fosters: The last Blue Jay was going straight up to the feeder from the ground, this one is dropping straight down from a perch.…'}\n",
      "67  :  {'text': \"RT @bnicholsonsmith: RIP Tony Fernandez, #BlueJays' all-time leader in hits &amp; games played. Four-time Gold Glove winner was a fixture on To…\"}\n",
      "68  :  {'text': 'RT @harry_fosters: The last Blue Jay was going straight up to the feeder from the ground, this one is dropping straight down from a perch.…'}\n",
      "69  :  {'text': 'RT @PuriRV: ¿Quién tiene ganas de que empiece el #Béisbol? ⚾\\n#MLB\\n#LasMayores\\n#BlueJays https://t.co/7uIwT5IglE'}\n",
      "70  :  {'text': '¿Quién tiene ganas de que empiece el #Béisbol? ⚾\\n#MLB\\n#LasMayores\\n#BlueJays https://t.co/7uIwT5IglE'}\n",
      "71  :  {'text': 'RT @harry_fosters: The last Blue Jay was going straight up to the feeder from the ground, this one is dropping straight down from a perch.…'}\n",
      "72  :  {'text': 'Sadly we are missing @FadooBobcat and his take on #jimcrane the Houston #Astros and the sign stealing scandal this… https://t.co/0vt9qkjnFw'}\n",
      "73  :  {'text': 'RT @harry_fosters: The last Blue Jay was going straight up to the feeder from the ground, this one is dropping straight down from a perch.…'}\n",
      "74  :  {'text': 'RT @thehazelmae: Former #BlueJays manager Buck Martinez called Tony Fernandez a “good man” and a “special player” who could “cut down teamm…'}\n",
      "75  :  {'text': \"RT @bnicholsonsmith: RIP Tony Fernandez, #BlueJays' all-time leader in hits &amp; games played. Four-time Gold Glove winner was a fixture on To…\"}\n",
      "76  :  {'text': 'RT @thehazelmae: #BlueJays Future Player Development Complex: \\n\\nThis is the 3500 sq. ft major league clubhouse with space for 72 lockers. h…'}\n",
      "77  :  {'text': 'Sad to hear the passing of Tony Fernandez.  Hands down an icon in Blue Jays history. #RIPTonyFernandez #BlueJays'}\n",
      "78  :  {'text': 'RT @BluejaysAlways: Tony Fernandez All-Time #BlueJays rankings:\\n\\n37.5 WAR (1st)\\n12.4 Defensive WAR (1st) \\n1,583 Hits (1st)\\n1,450 Games (1st…'}\n",
      "79  :  {'text': 'RT @thehazelmae: Former #BlueJays manager Buck Martinez called Tony Fernandez a “good man” and a “special player” who could “cut down teamm…'}\n",
      "80  :  {'text': 'RT @harry_fosters: The last Blue Jay was going straight up to the feeder from the ground, this one is dropping straight down from a perch.…'}\n",
      "81  :  {'text': 'RT @harry_fosters: The last Blue Jay was going straight up to the feeder from the ground, this one is dropping straight down from a perch.…'}\n",
      "82  :  {'text': \"RT @bnicholsonsmith: RIP Tony Fernandez, #BlueJays' all-time leader in hits &amp; games played. Four-time Gold Glove winner was a fixture on To…\"}\n",
      "83  :  {'text': 'RT @harry_fosters: The last Blue Jay was going straight up to the feeder from the ground, this one is dropping straight down from a perch.…'}\n",
      "84  :  {'text': 'RT @PuriRV: ¿Quién tiene ganas de que empiece el #Béisbol? ⚾\\n#MLB\\n#LasMayores\\n#BlueJays https://t.co/7uIwT5IglE'}\n",
      "85  :  {'text': '¿Quién tiene ganas de que empiece el #Béisbol? ⚾\\n#MLB\\n#LasMayores\\n#BlueJays https://t.co/7uIwT5IglE'}\n",
      "86  :  {'text': 'RT @harry_fosters: The last Blue Jay was going straight up to the feeder from the ground, this one is dropping straight down from a perch.…'}\n",
      "87  :  {'text': 'Sadly we are missing @FadooBobcat and his take on #jimcrane the Houston #Astros and the sign stealing scandal this… https://t.co/0vt9qkjnFw'}\n",
      "88  :  {'text': 'RT @harry_fosters: The last Blue Jay was going straight up to the feeder from the ground, this one is dropping straight down from a perch.…'}\n",
      "89  :  {'text': 'RT @thehazelmae: Former #BlueJays manager Buck Martinez called Tony Fernandez a “good man” and a “special player” who could “cut down teamm…'}\n",
      "90  :  {'text': \"RT @bnicholsonsmith: RIP Tony Fernandez, #BlueJays' all-time leader in hits &amp; games played. Four-time Gold Glove winner was a fixture on To…\"}\n",
      "91  :  {'text': 'RT @thehazelmae: #BlueJays Future Player Development Complex: \\n\\nThis is the 3500 sq. ft major league clubhouse with space for 72 lockers. h…'}\n",
      "92  :  {'text': 'Sad to hear the passing of Tony Fernandez.  Hands down an icon in Blue Jays history. #RIPTonyFernandez #BlueJays'}\n",
      "93  :  {'text': 'RT @BluejaysAlways: Tony Fernandez All-Time #BlueJays rankings:\\n\\n37.5 WAR (1st)\\n12.4 Defensive WAR (1st) \\n1,583 Hits (1st)\\n1,450 Games (1st…'}\n",
      "94  :  {'text': 'RT @thehazelmae: Former #BlueJays manager Buck Martinez called Tony Fernandez a “good man” and a “special player” who could “cut down teamm…'}\n",
      "95  :  {'text': 'RT @harry_fosters: The last Blue Jay was going straight up to the feeder from the ground, this one is dropping straight down from a perch.…'}\n",
      "96  :  {'text': 'RT @harry_fosters: The last Blue Jay was going straight up to the feeder from the ground, this one is dropping straight down from a perch.…'}\n",
      "97  :  {'text': \"RT @bnicholsonsmith: RIP Tony Fernandez, #BlueJays' all-time leader in hits &amp; games played. Four-time Gold Glove winner was a fixture on To…\"}\n",
      "98  :  {'text': 'RT @harry_fosters: The last Blue Jay was going straight up to the feeder from the ground, this one is dropping straight down from a perch.…'}\n",
      "99  :  {'text': 'RT @PuriRV: ¿Quién tiene ganas de que empiece el #Béisbol? ⚾\\n#MLB\\n#LasMayores\\n#BlueJays https://t.co/7uIwT5IglE'}\n",
      "100  :  {'text': '¿Quién tiene ganas de que empiece el #Béisbol? ⚾\\n#MLB\\n#LasMayores\\n#BlueJays https://t.co/7uIwT5IglE'}\n",
      "101  :  {'text': 'RT @harry_fosters: The last Blue Jay was going straight up to the feeder from the ground, this one is dropping straight down from a perch.…'}\n",
      "102  :  {'text': 'Sadly we are missing @FadooBobcat and his take on #jimcrane the Houston #Astros and the sign stealing scandal this… https://t.co/0vt9qkjnFw'}\n",
      "103  :  {'text': 'RT @harry_fosters: The last Blue Jay was going straight up to the feeder from the ground, this one is dropping straight down from a perch.…'}\n",
      "104  :  {'text': 'RT @thehazelmae: Former #BlueJays manager Buck Martinez called Tony Fernandez a “good man” and a “special player” who could “cut down teamm…'}\n",
      "105  :  {'text': \"RT @bnicholsonsmith: RIP Tony Fernandez, #BlueJays' all-time leader in hits &amp; games played. Four-time Gold Glove winner was a fixture on To…\"}\n",
      "106  :  {'text': 'RT @thehazelmae: #BlueJays Future Player Development Complex: \\n\\nThis is the 3500 sq. ft major league clubhouse with space for 72 lockers. h…'}\n",
      "107  :  {'text': 'Sad to hear the passing of Tony Fernandez.  Hands down an icon in Blue Jays history. #RIPTonyFernandez #BlueJays'}\n",
      "108  :  {'text': 'RT @BluejaysAlways: Tony Fernandez All-Time #BlueJays rankings:\\n\\n37.5 WAR (1st)\\n12.4 Defensive WAR (1st) \\n1,583 Hits (1st)\\n1,450 Games (1st…'}\n",
      "109  :  {'text': 'RT @thehazelmae: Former #BlueJays manager Buck Martinez called Tony Fernandez a “good man” and a “special player” who could “cut down teamm…'}\n",
      "110  :  {'text': 'RT @harry_fosters: The last Blue Jay was going straight up to the feeder from the ground, this one is dropping straight down from a perch.…'}\n",
      "111  :  {'text': 'RT @harry_fosters: The last Blue Jay was going straight up to the feeder from the ground, this one is dropping straight down from a perch.…'}\n",
      "112  :  {'text': \"RT @bnicholsonsmith: RIP Tony Fernandez, #BlueJays' all-time leader in hits &amp; games played. Four-time Gold Glove winner was a fixture on To…\"}\n",
      "113  :  {'text': 'RT @harry_fosters: The last Blue Jay was going straight up to the feeder from the ground, this one is dropping straight down from a perch.…'}\n",
      "114  :  {'text': 'RT @PuriRV: ¿Quién tiene ganas de que empiece el #Béisbol? ⚾\\n#MLB\\n#LasMayores\\n#BlueJays https://t.co/7uIwT5IglE'}\n",
      "115  :  {'text': '¿Quién tiene ganas de que empiece el #Béisbol? ⚾\\n#MLB\\n#LasMayores\\n#BlueJays https://t.co/7uIwT5IglE'}\n",
      "116  :  {'text': 'RT @harry_fosters: The last Blue Jay was going straight up to the feeder from the ground, this one is dropping straight down from a perch.…'}\n",
      "117  :  {'text': 'Sadly we are missing @FadooBobcat and his take on #jimcrane the Houston #Astros and the sign stealing scandal this… https://t.co/0vt9qkjnFw'}\n",
      "118  :  {'text': 'RT @harry_fosters: The last Blue Jay was going straight up to the feeder from the ground, this one is dropping straight down from a perch.…'}\n",
      "119  :  {'text': 'RT @thehazelmae: Former #BlueJays manager Buck Martinez called Tony Fernandez a “good man” and a “special player” who could “cut down teamm…'}\n",
      "120  :  {'text': \"RT @bnicholsonsmith: RIP Tony Fernandez, #BlueJays' all-time leader in hits &amp; games played. Four-time Gold Glove winner was a fixture on To…\"}\n",
      "121  :  {'text': 'RT @thehazelmae: #BlueJays Future Player Development Complex: \\n\\nThis is the 3500 sq. ft major league clubhouse with space for 72 lockers. h…'}\n",
      "122  :  {'text': 'Sad to hear the passing of Tony Fernandez.  Hands down an icon in Blue Jays history. #RIPTonyFernandez #BlueJays'}\n",
      "123  :  {'text': 'RT @BluejaysAlways: Tony Fernandez All-Time #BlueJays rankings:\\n\\n37.5 WAR (1st)\\n12.4 Defensive WAR (1st) \\n1,583 Hits (1st)\\n1,450 Games (1st…'}\n",
      "124  :  {'text': 'RT @thehazelmae: Former #BlueJays manager Buck Martinez called Tony Fernandez a “good man” and a “special player” who could “cut down teamm…'}\n",
      "125  :  {'text': 'RT @harry_fosters: The last Blue Jay was going straight up to the feeder from the ground, this one is dropping straight down from a perch.…'}\n",
      "126  :  {'text': 'RT @harry_fosters: The last Blue Jay was going straight up to the feeder from the ground, this one is dropping straight down from a perch.…'}\n",
      "127  :  {'text': \"RT @bnicholsonsmith: RIP Tony Fernandez, #BlueJays' all-time leader in hits &amp; games played. Four-time Gold Glove winner was a fixture on To…\"}\n",
      "128  :  {'text': 'RT @harry_fosters: The last Blue Jay was going straight up to the feeder from the ground, this one is dropping straight down from a perch.…'}\n",
      "129  :  {'text': 'RT @PuriRV: ¿Quién tiene ganas de que empiece el #Béisbol? ⚾\\n#MLB\\n#LasMayores\\n#BlueJays https://t.co/7uIwT5IglE'}\n",
      "130  :  {'text': '¿Quién tiene ganas de que empiece el #Béisbol? ⚾\\n#MLB\\n#LasMayores\\n#BlueJays https://t.co/7uIwT5IglE'}\n",
      "131  :  {'text': 'RT @harry_fosters: The last Blue Jay was going straight up to the feeder from the ground, this one is dropping straight down from a perch.…'}\n",
      "132  :  {'text': 'Sadly we are missing @FadooBobcat and his take on #jimcrane the Houston #Astros and the sign stealing scandal this… https://t.co/0vt9qkjnFw'}\n",
      "133  :  {'text': 'RT @harry_fosters: The last Blue Jay was going straight up to the feeder from the ground, this one is dropping straight down from a perch.…'}\n",
      "134  :  {'text': 'RT @thehazelmae: Former #BlueJays manager Buck Martinez called Tony Fernandez a “good man” and a “special player” who could “cut down teamm…'}\n",
      "135  :  {'text': \"RT @bnicholsonsmith: RIP Tony Fernandez, #BlueJays' all-time leader in hits &amp; games played. Four-time Gold Glove winner was a fixture on To…\"}\n",
      "136  :  {'text': 'RT @thehazelmae: #BlueJays Future Player Development Complex: \\n\\nThis is the 3500 sq. ft major league clubhouse with space for 72 lockers. h…'}\n",
      "137  :  {'text': 'Sad to hear the passing of Tony Fernandez.  Hands down an icon in Blue Jays history. #RIPTonyFernandez #BlueJays'}\n",
      "138  :  {'text': 'RT @BluejaysAlways: Tony Fernandez All-Time #BlueJays rankings:\\n\\n37.5 WAR (1st)\\n12.4 Defensive WAR (1st) \\n1,583 Hits (1st)\\n1,450 Games (1st…'}\n",
      "139  :  {'text': 'RT @thehazelmae: Former #BlueJays manager Buck Martinez called Tony Fernandez a “good man” and a “special player” who could “cut down teamm…'}\n",
      "140  :  {'text': 'RT @harry_fosters: The last Blue Jay was going straight up to the feeder from the ground, this one is dropping straight down from a perch.…'}\n",
      "141  :  {'text': 'RT @harry_fosters: The last Blue Jay was going straight up to the feeder from the ground, this one is dropping straight down from a perch.…'}\n",
      "142  :  {'text': \"RT @bnicholsonsmith: RIP Tony Fernandez, #BlueJays' all-time leader in hits &amp; games played. Four-time Gold Glove winner was a fixture on To…\"}\n",
      "143  :  {'text': 'RT @harry_fosters: The last Blue Jay was going straight up to the feeder from the ground, this one is dropping straight down from a perch.…'}\n",
      "144  :  {'text': 'RT @PuriRV: ¿Quién tiene ganas de que empiece el #Béisbol? ⚾\\n#MLB\\n#LasMayores\\n#BlueJays https://t.co/7uIwT5IglE'}\n",
      "145  :  {'text': '¿Quién tiene ganas de que empiece el #Béisbol? ⚾\\n#MLB\\n#LasMayores\\n#BlueJays https://t.co/7uIwT5IglE'}\n",
      "146  :  {'text': 'RT @harry_fosters: The last Blue Jay was going straight up to the feeder from the ground, this one is dropping straight down from a perch.…'}\n",
      "147  :  {'text': 'Sadly we are missing @FadooBobcat and his take on #jimcrane the Houston #Astros and the sign stealing scandal this… https://t.co/0vt9qkjnFw'}\n",
      "148  :  {'text': 'RT @harry_fosters: The last Blue Jay was going straight up to the feeder from the ground, this one is dropping straight down from a perch.…'}\n",
      "149  :  {'text': 'RT @thehazelmae: Former #BlueJays manager Buck Martinez called Tony Fernandez a “good man” and a “special player” who could “cut down teamm…'}\n"
     ]
    }
   ],
   "source": [
    "#전체 문서 보기\n",
    "\n",
    "data = {}   # 전체 문서 추가\n",
    "i = 0       # 문서 번호\n",
    "for tweet in search:\n",
    "    data['text'] = tweet.text   # text키에 text문서 저장\n",
    "    print(i, \" : \", data)   # 문서번호 : 문서내용\n",
    "    i += 1"
   ]
  },
  {
   "cell_type": "code",
   "execution_count": 180,
   "metadata": {},
   "outputs": [],
   "source": [
    "# 전체 문서를 파일 저장\n",
    "\n",
    "import os\n",
    "    \n",
    "wfile = open(os.getcwd()+\"/bluejays.txt\", mode='w', encoding=\"utf-8\")   # 쓰기 모드\n",
    "data = {}   # 전체 문서 추가\n",
    "i = 0       # 문서 번호"
   ]
  },
  {
   "cell_type": "code",
   "execution_count": 181,
   "metadata": {},
   "outputs": [],
   "source": [
    "for tweet in search:\n",
    "    data['text'] = tweet.text   # text키에 text문서 저장\n",
    "    wfile.write(data['text']+'\\n')  # 파일 출력\n",
    "    i += 1\n",
    "\n",
    "wfile.close()"
   ]
  },
  {
   "cell_type": "markdown",
   "metadata": {},
   "source": [
    "### 감성분석"
   ]
  },
  {
   "cell_type": "code",
   "execution_count": 398,
   "metadata": {},
   "outputs": [],
   "source": [
    "file = open(os.getcwd()+ '/positive_word.txt', mode='r', encoding='utf-8') #한글"
   ]
  },
  {
   "cell_type": "code",
   "execution_count": 399,
   "metadata": {},
   "outputs": [],
   "source": [
    "poswords = file.readlines()"
   ]
  },
  {
   "cell_type": "code",
   "execution_count": 400,
   "metadata": {},
   "outputs": [],
   "source": [
    "sentence = []\n",
    "\n",
    "for line in poswords:\n",
    "    sentence.append(line)\n",
    "file.close()"
   ]
  },
  {
   "cell_type": "code",
   "execution_count": 401,
   "metadata": {},
   "outputs": [],
   "source": [
    "poswords = sentence"
   ]
  },
  {
   "cell_type": "code",
   "execution_count": 402,
   "metadata": {},
   "outputs": [],
   "source": [
    "new = []\n",
    "\n",
    "for pos in poswords:\n",
    "    pos = re.sub(\"\\n\", \"\", pos)\n",
    "    pos = re.sub(\";\", \"\", pos)\n",
    "    new.append(pos)"
   ]
  },
  {
   "cell_type": "code",
   "execution_count": 403,
   "metadata": {},
   "outputs": [],
   "source": [
    "pos_words = []\n",
    "for i in range(len(new)):\n",
    "    if len(new[i]) > 1:\n",
    "        pos_words.append(new[i])"
   ]
  },
  {
   "cell_type": "code",
   "execution_count": 404,
   "metadata": {},
   "outputs": [],
   "source": [
    "file = open(os.getcwd()+ '/negative_word.txt', mode='r', encoding='utf-8') #한글"
   ]
  },
  {
   "cell_type": "code",
   "execution_count": 405,
   "metadata": {},
   "outputs": [],
   "source": [
    "negwords = file.readlines()"
   ]
  },
  {
   "cell_type": "code",
   "execution_count": 406,
   "metadata": {},
   "outputs": [],
   "source": [
    "sentence = []\n",
    "\n",
    "for line in negwords:\n",
    "    sentence.append(line)\n",
    "file.close()"
   ]
  },
  {
   "cell_type": "code",
   "execution_count": 407,
   "metadata": {},
   "outputs": [],
   "source": [
    "negwords = sentence"
   ]
  },
  {
   "cell_type": "code",
   "execution_count": 408,
   "metadata": {},
   "outputs": [],
   "source": [
    "new = []\n",
    "\n",
    "for neg in negwords:\n",
    "    neg = re.sub(\"\\n\", \"\", neg)\n",
    "    neg = re.sub(\";\", \"\", neg)\n",
    "    new.append(neg)"
   ]
  },
  {
   "cell_type": "code",
   "execution_count": 409,
   "metadata": {},
   "outputs": [],
   "source": [
    "neg_words = []\n",
    "for i in range(len(new)):\n",
    "    if len(new[i]) > 1:\n",
    "        neg_words.append(new[i])"
   ]
  },
  {
   "cell_type": "code",
   "execution_count": 410,
   "metadata": {},
   "outputs": [],
   "source": [
    "file = open(os.getcwd() + '/rays.txt', mode='r', encoding='utf-8')"
   ]
  },
  {
   "cell_type": "code",
   "execution_count": 411,
   "metadata": {},
   "outputs": [],
   "source": [
    "rays = file.readlines()"
   ]
  },
  {
   "cell_type": "code",
   "execution_count": 412,
   "metadata": {},
   "outputs": [],
   "source": [
    "sentence = []\n",
    "\n",
    "for line in rays:\n",
    "    sentence.append(line)\n",
    "file.close()"
   ]
  },
  {
   "cell_type": "code",
   "execution_count": 413,
   "metadata": {},
   "outputs": [],
   "source": [
    "rays = sentence"
   ]
  },
  {
   "cell_type": "code",
   "execution_count": 414,
   "metadata": {},
   "outputs": [],
   "source": [
    "new = []\n",
    "\n",
    "for i in rays:\n",
    "    i = re.sub(\"\\n\", \"\", i)\n",
    "    i = re.sub(\";\", \"\", i)\n",
    "    i = re.sub(\"\\ufeff\", \"\", i)\n",
    "    new.append(i)"
   ]
  },
  {
   "cell_type": "code",
   "execution_count": 415,
   "metadata": {},
   "outputs": [],
   "source": [
    "rays2 = []\n",
    "\n",
    "for s in range(len(rays)):\n",
    "    rays2.append([rays[s]])"
   ]
  },
  {
   "cell_type": "code",
   "execution_count": 416,
   "metadata": {},
   "outputs": [],
   "source": [
    "def sentiment(pos_words, neg_words, text):\n",
    "    for i in range(len(text)):\n",
    "        text[i][0] = re.sub('[ㄱ-ㅎ]', ' ', text[i][0])\n",
    "        text[i][0] = text[i][0].lower()\n",
    "    \n",
    "    nlp = Twitter()\n",
    "    tagged = []\n",
    "\n",
    "    for s in text:\n",
    "        n = nlp.pos(s[0])\n",
    "        tagged.append(n)\n",
    "        \n",
    "    total = []\n",
    "\n",
    "    for t in range(len(tagged)):\n",
    "        tag = []\n",
    "        for i in range(len(tagged[t])):\n",
    "            tag.append(tagged[t][i][0])\n",
    "        total.append(tag)\n",
    "        \n",
    "    result = {}\n",
    "    \n",
    "    for t in range(len(total)):\n",
    "        score = 0\n",
    "        for i in range(len(total[t])):\n",
    "            if total[t][i] in pos_words:\n",
    "                score += 1\n",
    "            if total[t][i] in neg_words:\n",
    "                score -= 1\n",
    "        result.update({text[t][0] : score})\n",
    "        \n",
    "    return result"
   ]
  },
  {
   "cell_type": "code",
   "execution_count": 417,
   "metadata": {},
   "outputs": [],
   "source": [
    "rays_result = sentiment(pos_words, neg_words, rays2)"
   ]
  },
  {
   "cell_type": "code",
   "execution_count": 418,
   "metadata": {},
   "outputs": [
    {
     "data": {
      "text/plain": [
       "{'マイクを握りしめ\\u3000このstageに立って\\n': 0,\n",
       " '届けたい\\u3000響けよ\\u3000our music\\u3000\\n': 0,\n",
       " '忘れちゃいないから\\u3000初めて歌ったとき\\n': 0,\n",
       " '必ず辿り着くと決めてた\\n': 0,\n",
       " '\\n': 0,\n",
       " 'rays/music life\\n': 0,\n",
       " ' #rays\\n': 0,\n",
       " 'rt @enoi_member_twt: [#라온 &amp; #진우]\\n': 0,\n",
       " '⛄️눈사람 만들고싶다 ☃️\\n': 0,\n",
       " '🌟같이 눈사람 만들 rays❓✋\\n': 0,\n",
       " '#이엔오아이 #enoi #laon #jinwoo #rays https://t.co/vpzqzmwtkq\\n': 0,\n",
       " 'rt @enoi_member_twt: [#건]\\n': 0,\n",
       " '고생 진짜 많아떠요 rays❤️ 싸랑해행\\n': 0,\n",
       " '#이엔오아이 #enoi #gun #rays #발칙하게_enoi https://t.co/dsdbov9hzo\\n': 0,\n",
       " 'rt @enoi_member_twt: [#이엔오아이]\\n': 0,\n",
       " 'rays🌟 저녁 먹었어요-?\\n': 0,\n",
       " '보고싶어요 벌써 🥺\\n': 0,\n",
       " '우리 빨리 만나요🥺🥺🥺 \\n': 0,\n",
       " '#enoi #rays #발칙하게_enoi https://t.co/mxzopoyp0a\\n': 0,\n",
       " '정말 열심히 준비한 enoi의 첫 번째 미니앨범이 발매되었습니다 :)\\n': 0,\n",
       " '오랫동안 기다려주셔서 정말 감사합니다\\n': 0,\n",
       " '발칙하게, 열심히 활동할게요 🍎\\n': 1,\n",
       " '많은 사랑 부탁드립니다 ‼️\\n': 1,\n",
       " '#enoi #rays…\\n': 0,\n",
       " 'rt @enoi_member_twt: [#제이키드]\\n': 0,\n",
       " '발칙하게 안녕😭ㅜㅜ\\n': 0,\n",
       " '레이즈들!!\\n': 0,\n",
       " '마지막까지 응원해줘서 너무 고맙구\\n': 0,\n",
       " '사랑햄요❤️\\n': 1,\n",
       " '#이엔오아이 #enoi #jkid #rays #발칙하게_enoi https://t.co/v2cwfzzjza\\n': 0}"
      ]
     },
     "execution_count": 418,
     "metadata": {},
     "output_type": "execute_result"
    }
   ],
   "source": [
    "rays_result"
   ]
  },
  {
   "cell_type": "code",
   "execution_count": 419,
   "metadata": {},
   "outputs": [],
   "source": [
    "rays_counter = collections.Counter(list(rays_result.values()))"
   ]
  },
  {
   "cell_type": "code",
   "execution_count": 420,
   "metadata": {},
   "outputs": [
    {
     "data": {
      "text/plain": [
       "[0, 1]"
      ]
     },
     "execution_count": 420,
     "metadata": {},
     "output_type": "execute_result"
    }
   ],
   "source": [
    "sorted(rays_counter)"
   ]
  },
  {
   "cell_type": "code",
   "execution_count": 421,
   "metadata": {},
   "outputs": [
    {
     "data": {
      "text/plain": [
       "0.1"
      ]
     },
     "execution_count": 421,
     "metadata": {},
     "output_type": "execute_result"
    }
   ],
   "source": [
    "np.mean(list(rays_result.values()))"
   ]
  },
  {
   "cell_type": "code",
   "execution_count": 275,
   "metadata": {},
   "outputs": [],
   "source": [
    "file = open(os.getcwd()+ '/positive-words.txt', mode='r', encoding='utf-8') #영어"
   ]
  },
  {
   "cell_type": "code",
   "execution_count": 276,
   "metadata": {},
   "outputs": [],
   "source": [
    "poswords = file.readlines()"
   ]
  },
  {
   "cell_type": "code",
   "execution_count": 277,
   "metadata": {},
   "outputs": [],
   "source": [
    "sentence = []\n",
    "\n",
    "for line in poswords:\n",
    "    sentence.append(line)\n",
    "file.close()"
   ]
  },
  {
   "cell_type": "code",
   "execution_count": 278,
   "metadata": {},
   "outputs": [],
   "source": [
    "poswords = sentence"
   ]
  },
  {
   "cell_type": "code",
   "execution_count": 279,
   "metadata": {},
   "outputs": [],
   "source": [
    "new = []\n",
    "\n",
    "for pos in poswords:\n",
    "    pos = re.sub(\"\\n\", \"\", pos)\n",
    "    pos = re.sub(\";\", \"\", pos)\n",
    "    new.append(pos)"
   ]
  },
  {
   "cell_type": "code",
   "execution_count": 280,
   "metadata": {},
   "outputs": [],
   "source": [
    "pos_words = []\n",
    "for i in range(len(new)):\n",
    "    if len(new[i]) > 1:\n",
    "        pos_words.append(new[i])"
   ]
  },
  {
   "cell_type": "code",
   "execution_count": 281,
   "metadata": {},
   "outputs": [],
   "source": [
    "file = open(os.getcwd()+ '/negative-words.txt', mode='r', encoding='utf-8') #영어"
   ]
  },
  {
   "cell_type": "code",
   "execution_count": 282,
   "metadata": {},
   "outputs": [],
   "source": [
    "negwords = file.readlines()"
   ]
  },
  {
   "cell_type": "code",
   "execution_count": 283,
   "metadata": {},
   "outputs": [],
   "source": [
    "sentence = []\n",
    "\n",
    "for line in negwords:\n",
    "    sentence.append(line)\n",
    "file.close()"
   ]
  },
  {
   "cell_type": "code",
   "execution_count": 284,
   "metadata": {},
   "outputs": [],
   "source": [
    "negwords = sentence"
   ]
  },
  {
   "cell_type": "code",
   "execution_count": 285,
   "metadata": {},
   "outputs": [],
   "source": [
    "new = []\n",
    "\n",
    "for neg in negwords:\n",
    "    neg = re.sub(\"\\n\", \"\", neg)\n",
    "    neg = re.sub(\";\", \"\", neg)\n",
    "    new.append(neg)"
   ]
  },
  {
   "cell_type": "code",
   "execution_count": 286,
   "metadata": {},
   "outputs": [],
   "source": [
    "neg_words = []\n",
    "for i in range(len(new)):\n",
    "    if len(new[i]) > 1:\n",
    "        neg_words.append(new[i])"
   ]
  },
  {
   "cell_type": "code",
   "execution_count": 287,
   "metadata": {},
   "outputs": [],
   "source": [
    "file = open(os.getcwd() + '/redsox.txt', mode='r', encoding='utf-8')\n",
    "\n",
    "redsox = file.readlines()\n",
    "\n",
    "sentence = []\n",
    "\n",
    "for line in redsox:\n",
    "    sentence.append(line)\n",
    "file.close()"
   ]
  },
  {
   "cell_type": "code",
   "execution_count": 288,
   "metadata": {},
   "outputs": [],
   "source": [
    "redsox = sentence"
   ]
  },
  {
   "cell_type": "code",
   "execution_count": 289,
   "metadata": {},
   "outputs": [],
   "source": [
    "new = []\n",
    "\n",
    "for i in redsox:\n",
    "    i = re.sub(\"\\n\", \"\", i)\n",
    "    i = re.sub(\";\", \"\", i)\n",
    "    i = re.sub(\"\\ufeff\", \"\", i)\n",
    "    new.append(i)"
   ]
  },
  {
   "cell_type": "code",
   "execution_count": 290,
   "metadata": {},
   "outputs": [],
   "source": [
    "redsox2 = []\n",
    "\n",
    "for s in range(len(redsox)):\n",
    "    redsox2.append([redsox[s]])"
   ]
  },
  {
   "cell_type": "code",
   "execution_count": 291,
   "metadata": {},
   "outputs": [],
   "source": [
    "def sentiment(pos_words, neg_words, text):\n",
    "    for i in range(len(text)):\n",
    "        text[i][0] = re.sub('[^a-zA-Z]', ' ', text[i][0])\n",
    "        text[i][0] = text[i][0].lower()\n",
    "    \n",
    "    nlp = Twitter()\n",
    "    tagged = []\n",
    "\n",
    "    for s in text:\n",
    "        n = nlp.pos(s[0])\n",
    "        tagged.append(n)\n",
    "        \n",
    "    total = []\n",
    "\n",
    "    for t in range(len(tagged)):\n",
    "        tag = []\n",
    "        for i in range(len(tagged[t])):\n",
    "            tag.append(tagged[t][i][0])\n",
    "        total.append(tag)\n",
    "        \n",
    "    result = {}\n",
    "    \n",
    "    for t in range(len(total)):\n",
    "        score = 0\n",
    "        for i in range(len(total[t])):\n",
    "            if total[t][i] in pos_words:\n",
    "                score += 1\n",
    "            if total[t][i] in neg_words:\n",
    "                score -= 1\n",
    "        result.update({text[t][0] : score})\n",
    "        \n",
    "    return result"
   ]
  },
  {
   "cell_type": "code",
   "execution_count": 293,
   "metadata": {},
   "outputs": [],
   "source": [
    "redsox_result = sentiment(pos_words, neg_words, redsox2)"
   ]
  },
  {
   "cell_type": "code",
   "execution_count": 294,
   "metadata": {},
   "outputs": [
    {
     "data": {
      "text/plain": [
       "{'rt  heelsonthefield   teamboston anyone commenting here is welcome to read the story i wrote  which relies on details in the official polic  ': 1,\n",
       " ' sackmikesack     vincentorleck  redsox michael has good living  i m sure he s great at it  he will be happy to acc  https   t co  d lo t rh ': 3,\n",
       " ' nickschafer  jaredfootball   jomboy  even as a lifelong  redsox fan  i can say that the yankees got robbed  ': 0,\n",
       " 'if  https   t co appykvvecb ': 0,\n",
       " ' kramski    stephfromnh  redsox boating season  i wish i were avid  redsox game attender so i could boycott them this season     mlb ': 0,\n",
       " ' mghsport  jbbrisco  bynatetaylor  realmnchiefsfan are they playing the  astros or  redsox or any other team  i fee  https   t co x vycqy mk ': 0,\n",
       " 'rt  redsox  the  redsox today signed outfielder kevin pillar to a one year contract for the      season  https   t co zdwaogtorb ': 0,\n",
       " 'rt     phlsports  usa today sports      mlb predictions  ': 0,\n",
       " ' ': 0,\n",
       " ' yankees        ': 0,\n",
       " ' rays       ': 0,\n",
       " ' redsox       ': 0,\n",
       " ' bluejays       ': 0,\n",
       " ' orioles        ': 0,\n",
       " ' mntwin  ': 0,\n",
       " 'rt  nbcscameraguys  a cloud rings the park   glorious day in the fort for  redsox  springtraining       https   t co tsceqibkbq ': 0,\n",
       " 'rt  tomcaron  chris sale said he expects there to be retaliation on the diamond this season in the wake of sign stealing scandal    you re  ': -2,\n",
       " 'rt  peteabe  some  redsox number updates  pillar has no    and verdugo is now no      ': 0,\n",
       " 'rt  nanieight  couldn t agree more rudy   rudygiuliani says  presidenttrump is right put  peterose in the     hof    pete was amazing  amp      ': 2,\n",
       " 'couldn t agree more rudy   rudygiuliani says  presidenttrump is right put  peterose in the     hof    pete was amaz  https   t co  xfxvhzdg  ': 1,\n",
       " 'rt  redsox  glad to have ya in a  redsox uni  https   t co  xac zxdu  ': 1,\n",
       " 'rt  tomcaron  two guys coming off the best years of their careers   xander bogaerts and eduardo rodriguez join us on  redsox from  fortmyer  ': 1,\n",
       " 'rt  nickquag  the idea that the  redsox could sign back mookie betts following this upcoming season isn t as crazy of a thought to me as it  ': -1}"
      ]
     },
     "execution_count": 294,
     "metadata": {},
     "output_type": "execute_result"
    }
   ],
   "source": [
    "redsox_result"
   ]
  },
  {
   "cell_type": "code",
   "execution_count": 301,
   "metadata": {},
   "outputs": [],
   "source": [
    "redsox_counter = collections.Counter(list(redsox_result.values()))"
   ]
  },
  {
   "cell_type": "code",
   "execution_count": 302,
   "metadata": {},
   "outputs": [
    {
     "data": {
      "text/plain": [
       "Counter({1: 4, 3: 1, 0: 15, -2: 1, 2: 1, -1: 1})"
      ]
     },
     "execution_count": 302,
     "metadata": {},
     "output_type": "execute_result"
    }
   ],
   "source": [
    "redsox_counter"
   ]
  },
  {
   "cell_type": "code",
   "execution_count": 307,
   "metadata": {},
   "outputs": [
    {
     "data": {
      "text/plain": [
       "0.2608695652173913"
      ]
     },
     "execution_count": 307,
     "metadata": {},
     "output_type": "execute_result"
    }
   ],
   "source": [
    "np.mean(list(redsox_result.values()))"
   ]
  },
  {
   "cell_type": "code",
   "execution_count": 308,
   "metadata": {},
   "outputs": [],
   "source": [
    "from matplotlib import font_manager, rc #한글 깨짐 현상\n",
    "font_name = font_manager.FontProperties(fname=\"c:/Windows/Fonts/H2PORM.ttf\").get_name()\n",
    "rc('font', family=font_name)"
   ]
  },
  {
   "cell_type": "code",
   "execution_count": 310,
   "metadata": {},
   "outputs": [
    {
     "data": {
      "image/png": "[encoded data removed]",
      "text/plain": [
       "<Figure size 432x288 with 1 Axes>"
      ]
     },
     "metadata": {
      "needs_background": "light"
     },
     "output_type": "display_data"
    }
   ],
   "source": [
    "plt.bar(*zip(*redsox_counter.items()))\n",
    "plt.show()"
   ]
  },
  {
   "cell_type": "code",
   "execution_count": 311,
   "metadata": {},
   "outputs": [],
   "source": [
    "file = open(os.getcwd() + '/yankees.txt', mode='r', encoding='utf-8')\n",
    "\n",
    "yankees = file.readlines()\n",
    "\n",
    "sentence = []\n",
    "\n",
    "for line in yankees:\n",
    "    sentence.append(line)\n",
    "file.close()"
   ]
  },
  {
   "cell_type": "code",
   "execution_count": 312,
   "metadata": {},
   "outputs": [],
   "source": [
    "yankees = sentence"
   ]
  },
  {
   "cell_type": "code",
   "execution_count": 313,
   "metadata": {},
   "outputs": [],
   "source": [
    "new = []\n",
    "\n",
    "for i in yankees:\n",
    "    i = re.sub(\"\\n\", \"\", i)\n",
    "    i = re.sub(\";\", \"\", i)\n",
    "    i = re.sub(\"\\ufeff\", \"\", i)\n",
    "    new.append(i)"
   ]
  },
  {
   "cell_type": "code",
   "execution_count": 314,
   "metadata": {},
   "outputs": [],
   "source": [
    "yankees2 = []\n",
    "\n",
    "for s in range(len(yankees)):\n",
    "    yankees2.append([yankees[s]])"
   ]
  },
  {
   "cell_type": "code",
   "execution_count": 315,
   "metadata": {},
   "outputs": [],
   "source": [
    "def sentiment(pos_words, neg_words, text):\n",
    "    for i in range(len(text)):\n",
    "        text[i][0] = re.sub('[^a-zA-Z]', ' ', text[i][0])\n",
    "        text[i][0] = text[i][0].lower()\n",
    "    \n",
    "    nlp = Twitter()\n",
    "    tagged = []\n",
    "\n",
    "    for s in text:\n",
    "        n = nlp.pos(s[0])\n",
    "        tagged.append(n)\n",
    "        \n",
    "    total = []\n",
    "\n",
    "    for t in range(len(tagged)):\n",
    "        tag = []\n",
    "        for i in range(len(tagged[t])):\n",
    "            tag.append(tagged[t][i][0])\n",
    "        total.append(tag)\n",
    "        \n",
    "    result = {}\n",
    "    \n",
    "    for t in range(len(total)):\n",
    "        score = 0\n",
    "        for i in range(len(total[t])):\n",
    "            if total[t][i] in pos_words:\n",
    "                score += 1\n",
    "            if total[t][i] in neg_words:\n",
    "                score -= 1\n",
    "        result.update({text[t][0] : score})\n",
    "        \n",
    "    return result"
   ]
  },
  {
   "cell_type": "code",
   "execution_count": 316,
   "metadata": {},
   "outputs": [],
   "source": [
    "yankees_result = sentiment(pos_words, neg_words, yankees2)"
   ]
  },
  {
   "cell_type": "code",
   "execution_count": 317,
   "metadata": {},
   "outputs": [
    {
     "data": {
      "text/plain": [
       "{'rt  pcreighton   the  yankees scored           amp    runs in   games vs  astros at mmp   ': 0,\n",
       " ' ': 0,\n",
       " 'do tell me how nyy got cheated in those   games   th  ': -1,\n",
       " 'that time we played some clips of the cringe worthy  apologies  from the  astros organization  amp  the  yankees respon  https   t co frqdcamugm ': 0,\n",
       " 'rt   diannmal   nyyankees  yankees  bronx  chrischamblass  mld  bronxbombers  bronxnation  yankeestadium  baseball  autographedbaseball  au  ': 0,\n",
       " 'rt  rangerita  guys  yankee question  in this pic  there are   guys  babe ruth and      ': 0,\n",
       " ' yankees  baberuth https   t co qlp w sxv  ': 0,\n",
       " ' kristen marieny the  yankees       mlb season   from tampa  fl    springtraining   to  yankeestadium in the bronx  https   t co ayfql ucoy ': 0,\n",
       " ' yesnetwork from the player who said this   yankees  pinstripepride https   t co we  qhmzit ': 0,\n",
       " 'rt  yanksopeningday  number     mike tauchman helps remind us that we re    days away from yankees opening day  today s post is brought to  ': 0,\n",
       " ' yankees finalize minor league deal with former  rockies right hander ': 1,\n",
       " ' https   t co  fc lbax a    https   t co  fjd wasf  ': 0,\n",
       " 'rt  chrisjr nyyst  to the left is the picture being used to prove altuve had a tattoo that he was trying to hide in the alcs walk off game  ': 0,\n",
       " 'rt m marakovits  kenny is back   yesnetwork  mlb  yankees   george m  steinbrenner field https   t co t h qswzck  ': 0,\n",
       " 'rt  tbtimes sports  former  rays pitcher chris archer on the impact of the astros sign stealing scandal   i think the worst part is that pe  ': -3,\n",
       " 'the lovely miss steph ': 0,\n",
       " ' pinstripepride  gameday  yankees https   t co bm lvvupsu ': 0,\n",
       " 'rt  sigg     old days roberto clemente leads off  st  bill skowron holding him on and there s  not an empty seat in the house for the       ': 1,\n",
       " ' houston  astros  texas  losangeles  dodgers  california  newyork  yankees  mlb  sport https   t co rvpnuaahim ': 0,\n",
       " 'il digiuno dei  knicks lungo    anni  i    titoli degli  yankees e i  miraclemets del      storie newyorkesi  https   t co    zm ic   ': 0}"
      ]
     },
     "execution_count": 317,
     "metadata": {},
     "output_type": "execute_result"
    }
   ],
   "source": [
    "yankees_result"
   ]
  },
  {
   "cell_type": "code",
   "execution_count": 318,
   "metadata": {},
   "outputs": [],
   "source": [
    "yankees_counter = collections.Counter(list(yankees_result.values()))"
   ]
  },
  {
   "cell_type": "code",
   "execution_count": 319,
   "metadata": {},
   "outputs": [
    {
     "data": {
      "text/plain": [
       "Counter({0: 16, -1: 1, 1: 2, -3: 1})"
      ]
     },
     "execution_count": 319,
     "metadata": {},
     "output_type": "execute_result"
    }
   ],
   "source": [
    "yankees_counter"
   ]
  },
  {
   "cell_type": "code",
   "execution_count": 320,
   "metadata": {},
   "outputs": [
    {
     "data": {
      "text/plain": [
       "-0.1"
      ]
     },
     "execution_count": 320,
     "metadata": {},
     "output_type": "execute_result"
    }
   ],
   "source": [
    "np.mean(list(yankees_result.values()))"
   ]
  },
  {
   "cell_type": "code",
   "execution_count": 321,
   "metadata": {},
   "outputs": [],
   "source": [
    "from matplotlib import font_manager, rc #한글 깨짐 현상\n",
    "font_name = font_manager.FontProperties(fname=\"c:/Windows/Fonts/H2PORM.ttf\").get_name()\n",
    "rc('font', family=font_name)"
   ]
  },
  {
   "cell_type": "code",
   "execution_count": 322,
   "metadata": {},
   "outputs": [
    {
     "data": {
      "image/png": "[encoded data removed]",
      "text/plain": [
       "<Figure size 432x288 with 1 Axes>"
      ]
     },
     "metadata": {
      "needs_background": "light"
     },
     "output_type": "display_data"
    }
   ],
   "source": [
    "plt.bar(*zip(*yankees_counter.items()))\n",
    "plt.show()"
   ]
  },
  {
   "cell_type": "code",
   "execution_count": 347,
   "metadata": {},
   "outputs": [],
   "source": [
    "file = open(os.getcwd() + '/orioles.txt', mode='r', encoding='utf-8')\n",
    "\n",
    "orioles = file.readlines()\n",
    "\n",
    "sentence = []\n",
    "\n",
    "for line in orioles:\n",
    "    sentence.append(line)\n",
    "file.close()"
   ]
  },
  {
   "cell_type": "code",
   "execution_count": 348,
   "metadata": {},
   "outputs": [],
   "source": [
    "orioles = sentence"
   ]
  },
  {
   "cell_type": "code",
   "execution_count": 349,
   "metadata": {},
   "outputs": [],
   "source": [
    "new = []\n",
    "\n",
    "for i in orioles:\n",
    "    i = re.sub(\"\\n\", \"\", i)\n",
    "    i = re.sub(\";\", \"\", i)\n",
    "    i = re.sub(\"\\ufeff\", \"\", i)\n",
    "    new.append(i)"
   ]
  },
  {
   "cell_type": "code",
   "execution_count": 350,
   "metadata": {},
   "outputs": [],
   "source": [
    "orioles2 = []\n",
    "\n",
    "for s in range(len(orioles)):\n",
    "    orioles2.append([orioles[s]])"
   ]
  },
  {
   "cell_type": "code",
   "execution_count": 351,
   "metadata": {},
   "outputs": [],
   "source": [
    "def sentiment(pos_words, neg_words, text):\n",
    "    for i in range(len(text)):\n",
    "        text[i][0] = re.sub('[^a-zA-Z]', ' ', text[i][0])\n",
    "        text[i][0] = text[i][0].lower()\n",
    "    \n",
    "    nlp = Twitter()\n",
    "    tagged = []\n",
    "\n",
    "    for s in text:\n",
    "        n = nlp.pos(s[0])\n",
    "        tagged.append(n)\n",
    "        \n",
    "    total = []\n",
    "\n",
    "    for t in range(len(tagged)):\n",
    "        tag = []\n",
    "        for i in range(len(tagged[t])):\n",
    "            tag.append(tagged[t][i][0])\n",
    "        total.append(tag)\n",
    "        \n",
    "    result = {}\n",
    "    \n",
    "    for t in range(len(total)):\n",
    "        score = 0\n",
    "        for i in range(len(total[t])):\n",
    "            if total[t][i] in pos_words:\n",
    "                score += 1\n",
    "            if total[t][i] in neg_words:\n",
    "                score -= 1\n",
    "        result.update({text[t][0] : score})\n",
    "        \n",
    "    return result"
   ]
  },
  {
   "cell_type": "code",
   "execution_count": 352,
   "metadata": {},
   "outputs": [],
   "source": [
    "orioles_result = sentiment(pos_words, neg_words, orioles2)"
   ]
  },
  {
   "cell_type": "code",
   "execution_count": 353,
   "metadata": {},
   "outputs": [
    {
     "data": {
      "text/plain": [
       "{'rt     phlsports  usa today sports      mlb predictions  ': 0,\n",
       " ' ': 0,\n",
       " ' yankees        ': 0,\n",
       " ' rays       ': 0,\n",
       " ' redsox       ': 0,\n",
       " ' bluejays       ': 0,\n",
       " ' orioles        ': 0,\n",
       " ' mntwin  ': 0,\n",
       " ' os and bohs  lestermartin   richdubroffmlb  masnsports lawsuit v   nationals  will angelos family be able to withs  https   t co  mcmcysfkh ': 0,\n",
       " 'rt  joetrezz  here are rob manfred s full comments on the angelos family and the  orioles  future in baltimore  https   t co wm gio m   ': 0,\n",
       " 'rt  joetrezz  orioles evp gm mike elias was asked again today about the astros scandal and the houston connections he and several other cur  ': -1,\n",
       " 'rt  puffygatorart  throwback to little landscapes from brush experimentation ': 0,\n",
       " ' nightsky  galaxy  orioles  landscapeart https   t co qxcwxk   ': 0,\n",
       " 'rt  notbrandonhyde  alright orioles fans  like  retweet and follow me for a chance to win this signed jonathan schoop baseball  acquired by  ': 3,\n",
       " 'rt  masnroch  rob manfred said he s spent a considerable amount of time during offseason with angelos family  they re excited about mike el  ': 1,\n",
       " 'rt  joetrezz  on a lighter note  we re running a series of personality q amp as with  orioles prospects this spring   ': 1,\n",
       " 'in the first installment  ': 0,\n",
       " ' mlb      preview ': 0,\n",
       " ' orioles      projected bullpen ': 0,\n",
       " '     pitch quality ranking ': 0,\n",
       " 'bleier      qopa ': 0,\n",
       " 'harvey      qopa ': 0,\n",
       " 'p  https   t co   qjhqb em ': 0,\n",
       " 'accessing the  orioles pitching battles this spring https   t co z fzwxpxko via  orioleshangout ': 0,\n",
       " 'this is gonna be a wild baseball season     for everyone who says baseball is boring  just wait    yankees  dodgers  https   t co oqdyiteuva ': -2,\n",
       " 'rt  joetrezz  though his presser has been dominated by astros questions  rob manfred also said he spent time with the angelos family this w  ': 1,\n",
       " ' dyerphoto  jonathandyerphotography  usatodaysports  usatodaysports imagncontent  orioles  mlb   ed smith stadium https   t co  ptufvdhyj ': 0}"
      ]
     },
     "execution_count": 353,
     "metadata": {},
     "output_type": "execute_result"
    }
   ],
   "source": [
    "orioles_result"
   ]
  },
  {
   "cell_type": "code",
   "execution_count": 354,
   "metadata": {},
   "outputs": [],
   "source": [
    "orioles_counter = collections.Counter(list(orioles_result.values()))"
   ]
  },
  {
   "cell_type": "code",
   "execution_count": 355,
   "metadata": {},
   "outputs": [
    {
     "data": {
      "text/plain": [
       "Counter({0: 21, -1: 1, 3: 1, 1: 3, -2: 1})"
      ]
     },
     "execution_count": 355,
     "metadata": {},
     "output_type": "execute_result"
    }
   ],
   "source": [
    "orioles_counter"
   ]
  },
  {
   "cell_type": "code",
   "execution_count": 356,
   "metadata": {},
   "outputs": [
    {
     "data": {
      "text/plain": [
       "0.1111111111111111"
      ]
     },
     "execution_count": 356,
     "metadata": {},
     "output_type": "execute_result"
    }
   ],
   "source": [
    "np.mean(list(orioles_result.values()))"
   ]
  },
  {
   "cell_type": "code",
   "execution_count": 357,
   "metadata": {},
   "outputs": [],
   "source": [
    "from matplotlib import font_manager, rc #한글 깨짐 현상\n",
    "font_name = font_manager.FontProperties(fname=\"c:/Windows/Fonts/H2PORM.ttf\").get_name()\n",
    "rc('font', family=font_name)"
   ]
  },
  {
   "cell_type": "code",
   "execution_count": 358,
   "metadata": {},
   "outputs": [
    {
     "data": {
      "image/png": "[encoded data removed]",
      "text/plain": [
       "<Figure size 432x288 with 1 Axes>"
      ]
     },
     "metadata": {
      "needs_background": "light"
     },
     "output_type": "display_data"
    }
   ],
   "source": [
    "plt.bar(*zip(*orioles_counter.items()))\n",
    "plt.show()"
   ]
  },
  {
   "cell_type": "code",
   "execution_count": 359,
   "metadata": {},
   "outputs": [],
   "source": [
    "file = open(os.getcwd() + '/bluejays.txt', mode='r', encoding='utf-8')\n",
    "\n",
    "bluejays = file.readlines()\n",
    "\n",
    "sentence = []\n",
    "\n",
    "for line in bluejays:\n",
    "    sentence.append(line)\n",
    "file.close()"
   ]
  },
  {
   "cell_type": "code",
   "execution_count": 360,
   "metadata": {},
   "outputs": [],
   "source": [
    "bluejays = sentence"
   ]
  },
  {
   "cell_type": "code",
   "execution_count": 361,
   "metadata": {},
   "outputs": [],
   "source": [
    "new = []\n",
    "\n",
    "for i in bluejays:\n",
    "    i = re.sub(\"\\n\", \"\", i)\n",
    "    i = re.sub(\";\", \"\", i)\n",
    "    i = re.sub(\"\\ufeff\", \"\", i)\n",
    "    new.append(i)"
   ]
  },
  {
   "cell_type": "code",
   "execution_count": 362,
   "metadata": {},
   "outputs": [],
   "source": [
    "bluejays2 = []\n",
    "\n",
    "for s in range(len(bluejays)):\n",
    "    bluejays2.append([bluejays[s]])"
   ]
  },
  {
   "cell_type": "code",
   "execution_count": 363,
   "metadata": {},
   "outputs": [],
   "source": [
    "def sentiment(pos_words, neg_words, text):\n",
    "    for i in range(len(text)):\n",
    "        text[i][0] = re.sub('[^a-zA-Z]', ' ', text[i][0])\n",
    "        text[i][0] = text[i][0].lower()\n",
    "    \n",
    "    nlp = Twitter()\n",
    "    tagged = []\n",
    "\n",
    "    for s in text:\n",
    "        n = nlp.pos(s[0])\n",
    "        tagged.append(n)\n",
    "        \n",
    "    total = []\n",
    "\n",
    "    for t in range(len(tagged)):\n",
    "        tag = []\n",
    "        for i in range(len(tagged[t])):\n",
    "            tag.append(tagged[t][i][0])\n",
    "        total.append(tag)\n",
    "        \n",
    "    result = {}\n",
    "    \n",
    "    for t in range(len(total)):\n",
    "        score = 0\n",
    "        for i in range(len(total[t])):\n",
    "            if total[t][i] in pos_words:\n",
    "                score += 1\n",
    "            if total[t][i] in neg_words:\n",
    "                score -= 1\n",
    "        result.update({text[t][0] : score})\n",
    "        \n",
    "    return result"
   ]
  },
  {
   "cell_type": "code",
   "execution_count": 364,
   "metadata": {},
   "outputs": [],
   "source": [
    "bluejays_result = sentiment(pos_words, neg_words, bluejays2)"
   ]
  },
  {
   "cell_type": "code",
   "execution_count": 365,
   "metadata": {},
   "outputs": [
    {
     "data": {
      "text/plain": [
       "{'rt  bnicholsonsmith  rip tony fernandez   bluejays  all time leader in hits  amp  games played  four time gold glove winner was a fixture on to  ': 1,\n",
       " 'rt  thehazelmae   bluejays future player development complex   ': -1,\n",
       " ' ': 0,\n",
       " 'this is the      sq  ft major league clubhouse with space for    lockers  h  ': 0,\n",
       " 'sad to hear the passing of tony fernandez   hands down an icon in blue jays history   riptonyfernandez  bluejays ': -1,\n",
       " 'rt  bluejaysalways  tony fernandez all time  bluejays rankings  ': 0,\n",
       " '     war   st  ': 0,\n",
       " '     defensive war   st   ': -1,\n",
       " '      hits   st  ': 0,\n",
       " '      games   st  ': 0,\n",
       " 'rt  thehazelmae  former  bluejays manager buck martinez called tony fernandez a  good man  and a  special player  who could  cut down teamm  ': 1,\n",
       " 'rt  harry fosters  the last blue jay was going straight up to the feeder from the ground  this one is dropping straight down from a perch   ': 0,\n",
       " 'rt  purirv   qui n tiene ganas de que empiece el  b isbol    ': 0,\n",
       " ' mlb ': 0,\n",
       " ' lasmayores ': 0,\n",
       " ' bluejays https   t co  uiwt igle ': 0,\n",
       " ' qui n tiene ganas de que empiece el  b isbol    ': 0,\n",
       " 'sadly we are missing  fadoobobcat and his take on  jimcrane the houston  astros and the sign stealing scandal this  https   t co  vt qkjnfw ': -3}"
      ]
     },
     "execution_count": 365,
     "metadata": {},
     "output_type": "execute_result"
    }
   ],
   "source": [
    "bluejays_result"
   ]
  },
  {
   "cell_type": "code",
   "execution_count": 371,
   "metadata": {},
   "outputs": [],
   "source": [
    "bluejays_counter = collections.Counter(list(bluejays_result.values()))"
   ]
  },
  {
   "cell_type": "code",
   "execution_count": 372,
   "metadata": {},
   "outputs": [
    {
     "data": {
      "text/plain": [
       "Counter({1: 2, -1: 3, 0: 12, -3: 1})"
      ]
     },
     "execution_count": 372,
     "metadata": {},
     "output_type": "execute_result"
    }
   ],
   "source": [
    "bluejays_counter"
   ]
  },
  {
   "cell_type": "code",
   "execution_count": 373,
   "metadata": {},
   "outputs": [
    {
     "data": {
      "text/plain": [
       "-0.2222222222222222"
      ]
     },
     "execution_count": 373,
     "metadata": {},
     "output_type": "execute_result"
    }
   ],
   "source": [
    "np.mean(list(bluejays_result.values()))"
   ]
  },
  {
   "cell_type": "code",
   "execution_count": 374,
   "metadata": {},
   "outputs": [],
   "source": [
    "from matplotlib import font_manager, rc #한글 깨짐 현상\n",
    "font_name = font_manager.FontProperties(fname=\"c:/Windows/Fonts/H2PORM.ttf\").get_name()\n",
    "rc('font', family=font_name)"
   ]
  },
  {
   "cell_type": "code",
   "execution_count": null,
   "metadata": {},
   "outputs": [],
   "source": []
  },
  {
   "cell_type": "code",
   "execution_count": null,
   "metadata": {},
   "outputs": [],
   "source": []
  },
  {
   "cell_type": "code",
   "execution_count": null,
   "metadata": {},
   "outputs": [],
   "source": []
  },
  {
   "cell_type": "code",
   "execution_count": 425,
   "metadata": {},
   "outputs": [
    {
     "data": {
      "image/png": "[encoded data removed]",
      "text/plain": [
       "<Figure size 432x288 with 1 Axes>"
      ]
     },
     "metadata": {
      "needs_background": "light"
     },
     "output_type": "display_data"
    }
   ],
   "source": [
    "plt.bar(*zip(*rays_counter.items()))\n",
    "plt.show()"
   ]
  },
  {
   "cell_type": "code",
   "execution_count": 424,
   "metadata": {},
   "outputs": [
    {
     "data": {
      "image/png": "[encoded data removed]",
      "text/plain": [
       "<Figure size 432x288 with 1 Axes>"
      ]
     },
     "metadata": {
      "needs_background": "light"
     },
     "output_type": "display_data"
    }
   ],
   "source": [
    "plt.bar(*zip(*redsox_counter.items()))\n",
    "plt.show()"
   ]
  },
  {
   "cell_type": "code",
   "execution_count": 426,
   "metadata": {},
   "outputs": [
    {
     "data": {
      "image/png": "[encoded data removed]",
      "text/plain": [
       "<Figure size 432x288 with 1 Axes>"
      ]
     },
     "metadata": {
      "needs_background": "light"
     },
     "output_type": "display_data"
    }
   ],
   "source": [
    "plt.bar(*zip(*yankees_counter.items()))\n",
    "plt.show()"
   ]
  },
  {
   "cell_type": "code",
   "execution_count": 427,
   "metadata": {},
   "outputs": [
    {
     "data": {
      "image/png": "[encoded data removed]",
      "text/plain": [
       "<Figure size 432x288 with 1 Axes>"
      ]
     },
     "metadata": {
      "needs_background": "light"
     },
     "output_type": "display_data"
    }
   ],
   "source": [
    "plt.bar(*zip(*orioles_counter.items()))\n",
    "plt.show()"
   ]
  },
  {
   "cell_type": "code",
   "execution_count": 375,
   "metadata": {},
   "outputs": [
    {
     "data": {
      "image/png": "[encoded data removed]",
      "text/plain": [
       "<Figure size 432x288 with 1 Axes>"
      ]
     },
     "metadata": {
      "needs_background": "light"
     },
     "output_type": "display_data"
    }
   ],
   "source": [
    "plt.bar(*zip(*bluejays_counter.items()))\n",
    "plt.show()"
   ]
  },
  {
   "cell_type": "code",
   "execution_count": null,
   "metadata": {},
   "outputs": [],
   "source": []
  },
  {
   "cell_type": "code",
   "execution_count": null,
   "metadata": {},
   "outputs": [],
   "source": []
  },
  {
   "cell_type": "code",
   "execution_count": null,
   "metadata": {},
   "outputs": [],
   "source": []
  },
  {
   "cell_type": "code",
   "execution_count": null,
   "metadata": {},
   "outputs": [],
   "source": []
  },
  {
   "cell_type": "code",
   "execution_count": null,
   "metadata": {},
   "outputs": [],
   "source": []
  },
  {
   "cell_type": "code",
   "execution_count": null,
   "metadata": {},
   "outputs": [],
   "source": []
  },
  {
   "cell_type": "code",
   "execution_count": null,
   "metadata": {},
   "outputs": [],
   "source": []
  },
  {
   "cell_type": "code",
   "execution_count": null,
   "metadata": {},
   "outputs": [],
   "source": []
  },
  {
   "cell_type": "code",
   "execution_count": null,
   "metadata": {},
   "outputs": [],
   "source": []
  },
  {
   "cell_type": "code",
   "execution_count": null,
   "metadata": {},
   "outputs": [],
   "source": []
  },
  {
   "cell_type": "code",
   "execution_count": null,
   "metadata": {},
   "outputs": [],
   "source": []
  },
  {
   "cell_type": "code",
   "execution_count": null,
   "metadata": {},
   "outputs": [],
   "source": []
  }
 ],
 "metadata": {
  "kernelspec": {
   "display_name": "Python 3",
   "language": "python",
   "name": "python3"
  },
  "language_info": {
   "codemirror_mode": {
    "name": "ipython",
    "version": 3
   },
   "file_extension": ".py",
   "mimetype": "text/x-python",
   "name": "python",
   "nbconvert_exporter": "python",
   "pygments_lexer": "ipython3",
   "version": "3.7.4"
  }
 },
 "nbformat": 4,
 "nbformat_minor": 2
}
