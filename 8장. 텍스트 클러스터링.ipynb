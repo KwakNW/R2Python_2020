{
 "cells": [
  {
   "cell_type": "markdown",
   "metadata": {},
   "source": [
    "# 8.1"
   ]
  },
  {
   "cell_type": "code",
   "execution_count": 71,
   "metadata": {},
   "outputs": [],
   "source": [
    "from sklearn.feature_extraction.text import CountVectorizer"
   ]
  },
  {
   "cell_type": "code",
   "execution_count": 72,
   "metadata": {},
   "outputs": [],
   "source": [
    "import pandas as pd\n",
    "import re"
   ]
  },
  {
   "cell_type": "code",
   "execution_count": 73,
   "metadata": {},
   "outputs": [],
   "source": [
    "doc1 = \"The fox chases the rabbit\"\n",
    "doc2 = \"The rabbit ate the cabbage\"\n",
    "doc3 = \"The fox caught the rabbit\""
   ]
  },
  {
   "cell_type": "code",
   "execution_count": 74,
   "metadata": {},
   "outputs": [],
   "source": [
    "doc_list = []\n",
    "\n",
    "doc_list.append(doc1.lower())\n",
    "doc_list.append(doc2.lower())\n",
    "doc_list.append(doc3.lower())"
   ]
  },
  {
   "cell_type": "code",
   "execution_count": 75,
   "metadata": {},
   "outputs": [
    {
     "data": {
      "text/plain": [
       "['the fox chases the rabbit',\n",
       " 'the rabbit ate the cabbage',\n",
       " 'the fox caught the rabbit']"
      ]
     },
     "execution_count": 75,
     "metadata": {},
     "output_type": "execute_result"
    }
   ],
   "source": [
    "doc_list"
   ]
  },
  {
   "cell_type": "code",
   "execution_count": 76,
   "metadata": {},
   "outputs": [
    {
     "name": "stdout",
     "output_type": "stream",
     "text": [
      "[[0 0 0 1 1 1 2]\n",
      " [1 1 0 0 0 1 2]\n",
      " [0 0 1 0 1 1 2]]\n",
      "{'the': 6, 'fox': 4, 'chases': 3, 'rabbit': 5, 'ate': 0, 'cabbage': 1, 'caught': 2}\n"
     ]
    }
   ],
   "source": [
    "vector = CountVectorizer()\n",
    "print(vector.fit_transform(doc_list).toarray()) # 코퍼스로부터 각 단어의 빈도 수를 기록한다.\n",
    "print(vector.vocabulary_) # 각 단어의 인덱스가 어떻게 부여되었는지를 보여준다."
   ]
  },
  {
   "cell_type": "code",
   "execution_count": 77,
   "metadata": {},
   "outputs": [
    {
     "name": "stdout",
     "output_type": "stream",
     "text": [
      "[[0.         0.         0.         0.54861178 0.4172334  0.32401895\n",
      "  0.64803791]\n",
      " [0.51680194 0.51680194 0.         0.         0.         0.30523155\n",
      "  0.61046311]\n",
      " [0.         0.         0.54861178 0.         0.4172334  0.32401895\n",
      "  0.64803791]]\n",
      "{'the': 6, 'fox': 4, 'chases': 3, 'rabbit': 5, 'ate': 0, 'cabbage': 1, 'caught': 2}\n"
     ]
    }
   ],
   "source": [
    "from sklearn.feature_extraction.text import TfidfVectorizer\n",
    "\n",
    "tfidfv = TfidfVectorizer().fit(doc_list)\n",
    "print(tfidfv.transform(doc_list).toarray())\n",
    "print(tfidfv.vocabulary_)"
   ]
  },
  {
   "cell_type": "code",
   "execution_count": 78,
   "metadata": {},
   "outputs": [],
   "source": [
    "matrix = pd.DataFrame(tfidfv.transform(doc_list).toarray())"
   ]
  },
  {
   "cell_type": "code",
   "execution_count": 79,
   "metadata": {},
   "outputs": [],
   "source": [
    "for i in range(len(list(tfidfv.vocabulary_.values()))):\n",
    "    matrix.rename(columns = {list(tfidfv.vocabulary_.values())[i]:list(tfidfv.vocabulary_.keys())[i]}, inplace=True)"
   ]
  },
  {
   "cell_type": "code",
   "execution_count": 80,
   "metadata": {},
   "outputs": [
    {
     "data": {
      "text/html": [
       "<div>\n",
       "<style scoped>\n",
       "    .dataframe tbody tr th:only-of-type {\n",
       "        vertical-align: middle;\n",
       "    }\n",
       "\n",
       "    .dataframe tbody tr th {\n",
       "        vertical-align: top;\n",
       "    }\n",
       "\n",
       "    .dataframe thead th {\n",
       "        text-align: right;\n",
       "    }\n",
       "</style>\n",
       "<table border=\"1\" class=\"dataframe\">\n",
       "  <thead>\n",
       "    <tr style=\"text-align: right;\">\n",
       "      <th></th>\n",
       "      <th>ate</th>\n",
       "      <th>cabbage</th>\n",
       "      <th>caught</th>\n",
       "      <th>chases</th>\n",
       "      <th>fox</th>\n",
       "      <th>rabbit</th>\n",
       "      <th>the</th>\n",
       "    </tr>\n",
       "  </thead>\n",
       "  <tbody>\n",
       "    <tr>\n",
       "      <td>0</td>\n",
       "      <td>0.000000</td>\n",
       "      <td>0.000000</td>\n",
       "      <td>0.000000</td>\n",
       "      <td>0.548612</td>\n",
       "      <td>0.417233</td>\n",
       "      <td>0.324019</td>\n",
       "      <td>0.648038</td>\n",
       "    </tr>\n",
       "    <tr>\n",
       "      <td>1</td>\n",
       "      <td>0.516802</td>\n",
       "      <td>0.516802</td>\n",
       "      <td>0.000000</td>\n",
       "      <td>0.000000</td>\n",
       "      <td>0.000000</td>\n",
       "      <td>0.305232</td>\n",
       "      <td>0.610463</td>\n",
       "    </tr>\n",
       "    <tr>\n",
       "      <td>2</td>\n",
       "      <td>0.000000</td>\n",
       "      <td>0.000000</td>\n",
       "      <td>0.548612</td>\n",
       "      <td>0.000000</td>\n",
       "      <td>0.417233</td>\n",
       "      <td>0.324019</td>\n",
       "      <td>0.648038</td>\n",
       "    </tr>\n",
       "  </tbody>\n",
       "</table>\n",
       "</div>"
      ],
      "text/plain": [
       "        ate   cabbage    caught    chases       fox    rabbit       the\n",
       "0  0.000000  0.000000  0.000000  0.548612  0.417233  0.324019  0.648038\n",
       "1  0.516802  0.516802  0.000000  0.000000  0.000000  0.305232  0.610463\n",
       "2  0.000000  0.000000  0.548612  0.000000  0.417233  0.324019  0.648038"
      ]
     },
     "execution_count": 80,
     "metadata": {},
     "output_type": "execute_result"
    }
   ],
   "source": [
    "matrix"
   ]
  },
  {
   "cell_type": "markdown",
   "metadata": {},
   "source": [
    "# 8.3"
   ]
  },
  {
   "cell_type": "code",
   "execution_count": 81,
   "metadata": {},
   "outputs": [],
   "source": [
    "doc1 = \"The game of life is a game of everlasting learning\"\n",
    "doc2 = \"The unexamined life is not worth living\"\n",
    "doc3 = \"Never stop learning\""
   ]
  },
  {
   "cell_type": "code",
   "execution_count": 82,
   "metadata": {},
   "outputs": [],
   "source": [
    "doc_list = []\n",
    "\n",
    "doc_list.append(doc1.lower())\n",
    "doc_list.append(doc2.lower())\n",
    "doc_list.append(doc3.lower())"
   ]
  },
  {
   "cell_type": "code",
   "execution_count": 83,
   "metadata": {},
   "outputs": [
    {
     "name": "stdout",
     "output_type": "stream",
     "text": [
      "[[1 2 1 1 1 0 0 0 2 0 1 0 0]\n",
      " [0 0 1 0 1 1 0 1 0 0 1 1 1]\n",
      " [0 0 0 1 0 0 1 0 0 1 0 0 0]]\n",
      "{'the': 10, 'game': 1, 'of': 8, 'life': 4, 'is': 2, 'everlasting': 0, 'learning': 3, 'unexamined': 11, 'not': 7, 'worth': 12, 'living': 5, 'never': 6, 'stop': 9}\n"
     ]
    }
   ],
   "source": [
    "vector = CountVectorizer()\n",
    "print(vector.fit_transform(doc_list).toarray()) # 코퍼스로부터 각 단어의 빈도 수를 기록한다.\n",
    "print(vector.vocabulary_) # 각 단어의 인덱스가 어떻게 부여되었는지를 보여준다."
   ]
  },
  {
   "cell_type": "code",
   "execution_count": 84,
   "metadata": {},
   "outputs": [],
   "source": [
    "tfidfv = TfidfVectorizer().fit(doc_list)"
   ]
  },
  {
   "cell_type": "code",
   "execution_count": 85,
   "metadata": {},
   "outputs": [],
   "source": [
    "matrix = pd.DataFrame(tfidfv.transform(doc_list).toarray())"
   ]
  },
  {
   "cell_type": "code",
   "execution_count": 86,
   "metadata": {},
   "outputs": [],
   "source": [
    "for i in range(len(list(tfidfv.vocabulary_.values()))):\n",
    "    matrix.rename(columns = {list(tfidfv.vocabulary_.values())[i]:list(tfidfv.vocabulary_.keys())[i]}, inplace=True)"
   ]
  },
  {
   "cell_type": "code",
   "execution_count": 87,
   "metadata": {},
   "outputs": [
    {
     "data": {
      "text/html": [
       "<div>\n",
       "<style scoped>\n",
       "    .dataframe tbody tr th:only-of-type {\n",
       "        vertical-align: middle;\n",
       "    }\n",
       "\n",
       "    .dataframe tbody tr th {\n",
       "        vertical-align: top;\n",
       "    }\n",
       "\n",
       "    .dataframe thead th {\n",
       "        text-align: right;\n",
       "    }\n",
       "</style>\n",
       "<table border=\"1\" class=\"dataframe\">\n",
       "  <thead>\n",
       "    <tr style=\"text-align: right;\">\n",
       "      <th></th>\n",
       "      <th>everlasting</th>\n",
       "      <th>game</th>\n",
       "      <th>is</th>\n",
       "      <th>learning</th>\n",
       "      <th>life</th>\n",
       "      <th>living</th>\n",
       "      <th>never</th>\n",
       "      <th>not</th>\n",
       "      <th>of</th>\n",
       "      <th>stop</th>\n",
       "      <th>the</th>\n",
       "      <th>unexamined</th>\n",
       "      <th>worth</th>\n",
       "    </tr>\n",
       "  </thead>\n",
       "  <tbody>\n",
       "    <tr>\n",
       "      <td>0</td>\n",
       "      <td>0.297303</td>\n",
       "      <td>0.594606</td>\n",
       "      <td>0.226107</td>\n",
       "      <td>0.226107</td>\n",
       "      <td>0.226107</td>\n",
       "      <td>0.000000</td>\n",
       "      <td>0.000000</td>\n",
       "      <td>0.000000</td>\n",
       "      <td>0.594606</td>\n",
       "      <td>0.000000</td>\n",
       "      <td>0.226107</td>\n",
       "      <td>0.000000</td>\n",
       "      <td>0.000000</td>\n",
       "    </tr>\n",
       "    <tr>\n",
       "      <td>1</td>\n",
       "      <td>0.000000</td>\n",
       "      <td>0.000000</td>\n",
       "      <td>0.317570</td>\n",
       "      <td>0.000000</td>\n",
       "      <td>0.317570</td>\n",
       "      <td>0.417567</td>\n",
       "      <td>0.000000</td>\n",
       "      <td>0.417567</td>\n",
       "      <td>0.000000</td>\n",
       "      <td>0.000000</td>\n",
       "      <td>0.317570</td>\n",
       "      <td>0.417567</td>\n",
       "      <td>0.417567</td>\n",
       "    </tr>\n",
       "    <tr>\n",
       "      <td>2</td>\n",
       "      <td>0.000000</td>\n",
       "      <td>0.000000</td>\n",
       "      <td>0.000000</td>\n",
       "      <td>0.473630</td>\n",
       "      <td>0.000000</td>\n",
       "      <td>0.000000</td>\n",
       "      <td>0.622766</td>\n",
       "      <td>0.000000</td>\n",
       "      <td>0.000000</td>\n",
       "      <td>0.622766</td>\n",
       "      <td>0.000000</td>\n",
       "      <td>0.000000</td>\n",
       "      <td>0.000000</td>\n",
       "    </tr>\n",
       "  </tbody>\n",
       "</table>\n",
       "</div>"
      ],
      "text/plain": [
       "   everlasting      game        is  learning      life    living     never  \\\n",
       "0     0.297303  0.594606  0.226107  0.226107  0.226107  0.000000  0.000000   \n",
       "1     0.000000  0.000000  0.317570  0.000000  0.317570  0.417567  0.000000   \n",
       "2     0.000000  0.000000  0.000000  0.473630  0.000000  0.000000  0.622766   \n",
       "\n",
       "        not        of      stop       the  unexamined     worth  \n",
       "0  0.000000  0.594606  0.000000  0.226107    0.000000  0.000000  \n",
       "1  0.417567  0.000000  0.000000  0.317570    0.417567  0.417567  \n",
       "2  0.000000  0.000000  0.622766  0.000000    0.000000  0.000000  "
      ]
     },
     "execution_count": 87,
     "metadata": {},
     "output_type": "execute_result"
    }
   ],
   "source": [
    "matrix"
   ]
  },
  {
   "cell_type": "markdown",
   "metadata": {},
   "source": [
    "# 8.4.1 Euclidean similarity"
   ]
  },
  {
   "cell_type": "code",
   "execution_count": 88,
   "metadata": {},
   "outputs": [],
   "source": [
    "import math"
   ]
  },
  {
   "cell_type": "code",
   "execution_count": 89,
   "metadata": {},
   "outputs": [],
   "source": [
    "doc1 = [0.1, 0.2, 0.2, 0.1, 0.1, 0.1, 0.1, 0.1,  0,   0,  0,  0,  0,  0]\n",
    "doc2 = [0.14286,0,0,0.14286, 0.14286,0,0,0,0.14286,0.14286,0.14286, 0.14286,0, 0]\n",
    "doc3 = [0, 0, 0, 0,  0, 0,  0, 0.3333, 0,  0,  0,  0,  0.3333,  0.3333]"
   ]
  },
  {
   "cell_type": "code",
   "execution_count": 90,
   "metadata": {},
   "outputs": [],
   "source": [
    "def dist(doc1, doc2):\n",
    "    lst = []\n",
    "    for i in range(len(doc1)):\n",
    "        lst.append((doc1[i] - doc2[i]) ** 2)\n",
    "        \n",
    "    doc_sum = 0\n",
    "    for l in lst:\n",
    "        doc_sum += l\n",
    "    return math.sqrt(doc_sum)"
   ]
  },
  {
   "cell_type": "code",
   "execution_count": 91,
   "metadata": {},
   "outputs": [],
   "source": [
    "def cos(doc1, doc2):\n",
    "    lst = []\n",
    "    for i in range(len(doc1)):\n",
    "        lst.append(doc1[i]*doc2[i])\n",
    "\n",
    "    doc_sum = 0\n",
    "    for l in lst:\n",
    "        doc_sum += l\n",
    "    \n",
    "    doc1_sum = 0\n",
    "    for l in doc1:\n",
    "        doc1_sum += l ** 2\n",
    "    doc1_sq = math.sqrt(doc1_sum)\n",
    "    \n",
    "    doc2_sum = 0\n",
    "    for l in doc2:\n",
    "        doc2_sum += l ** 2\n",
    "    doc2_sq = math.sqrt(doc2_sum)\n",
    "    \n",
    "    return doc_sum / (doc1_sq * doc2_sq)"
   ]
  },
  {
   "cell_type": "code",
   "execution_count": 92,
   "metadata": {},
   "outputs": [],
   "source": [
    "d_12 = dist(doc1, doc2)\n",
    "d_13 = dist(doc1, doc3)\n",
    "d_23 = dist(doc2, doc3)"
   ]
  },
  {
   "cell_type": "code",
   "execution_count": 93,
   "metadata": {},
   "outputs": [],
   "source": [
    "cos_12 = cos(doc1, doc2)\n",
    "cos_13 = cos(doc1, doc3)\n",
    "cos_23 = cos(doc2, doc3)"
   ]
  },
  {
   "cell_type": "code",
   "execution_count": 94,
   "metadata": {},
   "outputs": [
    {
     "name": "stdout",
     "output_type": "stream",
     "text": [
      "0.4440122264082375 0.6376571727817386 0.6900213961900021\n"
     ]
    }
   ],
   "source": [
    "print(d_12, d_13, d_23)"
   ]
  },
  {
   "cell_type": "code",
   "execution_count": 95,
   "metadata": {},
   "outputs": [
    {
     "name": "stdout",
     "output_type": "stream",
     "text": [
      "0.30304576336566325 0.15430334996209188 0.0\n"
     ]
    }
   ],
   "source": [
    "print(cos_12, cos_13, cos_23)"
   ]
  },
  {
   "cell_type": "markdown",
   "metadata": {},
   "source": [
    "# 8.4.2 "
   ]
  },
  {
   "cell_type": "code",
   "execution_count": 96,
   "metadata": {},
   "outputs": [],
   "source": [
    "query = [0.5, 0.5]\n",
    "doc1 = [0.1, 0.1]\n",
    "doc2 = [0.14286, 0]\n",
    "doc3 = [0, 0.3333]"
   ]
  },
  {
   "cell_type": "code",
   "execution_count": 97,
   "metadata": {},
   "outputs": [],
   "source": [
    "d_query1 = dist(query, doc1)\n",
    "d_query2 = dist(query, doc2)\n",
    "d_query3 = dist(query, doc3)"
   ]
  },
  {
   "cell_type": "code",
   "execution_count": 98,
   "metadata": {},
   "outputs": [],
   "source": [
    "cos_q1 = cos(query, doc1)\n",
    "cos_q2 = cos(query, doc2)\n",
    "cos_q3 = cos(query, doc3)"
   ]
  },
  {
   "cell_type": "code",
   "execution_count": 99,
   "metadata": {},
   "outputs": [
    {
     "name": "stdout",
     "output_type": "stream",
     "text": [
      "0.5656854249492381 0.6144501441126041 0.5270568185689282\n"
     ]
    }
   ],
   "source": [
    "print(d_query1, d_query2, d_query3)"
   ]
  },
  {
   "cell_type": "code",
   "execution_count": 100,
   "metadata": {},
   "outputs": [
    {
     "name": "stdout",
     "output_type": "stream",
     "text": [
      "0.9999999999999999 0.7071067811865475 0.7071067811865475\n"
     ]
    }
   ],
   "source": [
    "print(cos_q1, cos_q2, cos_q3)"
   ]
  },
  {
   "cell_type": "markdown",
   "metadata": {},
   "source": [
    "# 8.5"
   ]
  },
  {
   "cell_type": "code",
   "execution_count": 101,
   "metadata": {},
   "outputs": [],
   "source": [
    "# SciPy에서 ward 군집 함수와 덴드로그램 함수를 임포트합니다\n",
    "from scipy.cluster.hierarchy import dendrogram, ward\n",
    "from scipy.cluster import hierarchy\n",
    "from sklearn.datasets import make_blobs\n",
    "import matplotlib.pyplot as plt\n",
    "import pandas as pd"
   ]
  },
  {
   "cell_type": "code",
   "execution_count": 102,
   "metadata": {},
   "outputs": [],
   "source": [
    "x1 = [4, 8, 15, 24, 24]\n",
    "x2 = [4, 4, 8, 4, 12]"
   ]
  },
  {
   "cell_type": "code",
   "execution_count": 103,
   "metadata": {},
   "outputs": [],
   "source": [
    "x1 = pd.DataFrame(x1)\n",
    "x2 = pd.DataFrame(x2)\n",
    "\n",
    "X = pd.concat([x1,x2], axis = 1)"
   ]
  },
  {
   "cell_type": "code",
   "execution_count": 104,
   "metadata": {},
   "outputs": [
    {
     "data": {
      "text/plain": [
       "{'icoord': [[5.0, 5.0, 15.0, 15.0],\n",
       "  [35.0, 35.0, 45.0, 45.0],\n",
       "  [25.0, 25.0, 40.0, 40.0],\n",
       "  [10.0, 10.0, 32.5, 32.5]],\n",
       " 'dcoord': [[0.0, 8.0, 8.0, 0.0],\n",
       "  [0.0, 4.0, 4.0, 0.0],\n",
       "  [0.0, 8.06225774829855, 8.06225774829855, 4.0],\n",
       "  [8.0, 9.848857801796104, 9.848857801796104, 8.06225774829855]],\n",
       " 'ivl': ['3', '4', '2', '0', '1'],\n",
       " 'leaves': [3, 4, 2, 0, 1],\n",
       " 'color_list': ['b', 'g', 'b', 'b']}"
      ]
     },
     "execution_count": 104,
     "metadata": {},
     "output_type": "execute_result"
    },
    {
     "data": {
      "image/png": "[encoded data removed]",
      "text/plain": [
       "<Figure size 432x288 with 1 Axes>"
      ]
     },
     "metadata": {
      "needs_background": "light"
     },
     "output_type": "display_data"
    }
   ],
   "source": [
    "Z = hierarchy.linkage(X, 'single')\n",
    "# linkage_array = ward(X)\n",
    "#dendrogram(linkage_array)\n",
    "dendrogram(Z)"
   ]
  },
  {
   "cell_type": "code",
   "execution_count": 105,
   "metadata": {},
   "outputs": [
    {
     "data": {
      "text/plain": [
       "{'icoord': [[5.0, 5.0, 15.0, 15.0],\n",
       "  [35.0, 35.0, 45.0, 45.0],\n",
       "  [25.0, 25.0, 40.0, 40.0],\n",
       "  [10.0, 10.0, 32.5, 32.5]],\n",
       " 'dcoord': [[0.0, 4.0, 4.0, 0.0],\n",
       "  [0.0, 8.0, 8.0, 0.0],\n",
       "  [0.0, 9.848857801796104, 9.848857801796104, 8.0],\n",
       "  [4.0, 21.540659228538015, 21.540659228538015, 9.848857801796104]],\n",
       " 'ivl': ['0', '1', '2', '3', '4'],\n",
       " 'leaves': [0, 1, 2, 3, 4],\n",
       " 'color_list': ['g', 'r', 'r', 'b']}"
      ]
     },
     "execution_count": 105,
     "metadata": {},
     "output_type": "execute_result"
    },
    {
     "data": {
      "image/png": "[encoded data removed]",
      "text/plain": [
       "<Figure size 432x288 with 1 Axes>"
      ]
     },
     "metadata": {
      "needs_background": "light"
     },
     "output_type": "display_data"
    }
   ],
   "source": [
    "Z = hierarchy.linkage(X, 'complete')\n",
    "# linkage_array = ward(X)\n",
    "#dendrogram(linkage_array)\n",
    "dendrogram(Z)"
   ]
  },
  {
   "cell_type": "code",
   "execution_count": 106,
   "metadata": {},
   "outputs": [
    {
     "data": {
      "text/plain": [
       "{'icoord': [[5.0, 5.0, 15.0, 15.0],\n",
       "  [35.0, 35.0, 45.0, 45.0],\n",
       "  [25.0, 25.0, 40.0, 40.0],\n",
       "  [10.0, 10.0, 32.5, 32.5]],\n",
       " 'dcoord': [[0.0, 4.0, 4.0, 0.0],\n",
       "  [0.0, 8.0, 8.0, 0.0],\n",
       "  [0.0, 9.848857801796104, 9.848857801796104, 8.0],\n",
       "  [4.0, 15.86602678459242, 15.86602678459242, 9.848857801796104]],\n",
       " 'ivl': ['0', '1', '2', '3', '4'],\n",
       " 'leaves': [0, 1, 2, 3, 4],\n",
       " 'color_list': ['g', 'r', 'r', 'b']}"
      ]
     },
     "execution_count": 106,
     "metadata": {},
     "output_type": "execute_result"
    },
    {
     "data": {
      "image/png": "[encoded data removed]",
      "text/plain": [
       "<Figure size 432x288 with 1 Axes>"
      ]
     },
     "metadata": {
      "needs_background": "light"
     },
     "output_type": "display_data"
    }
   ],
   "source": [
    "Z = hierarchy.linkage(X, 'average')\n",
    "# linkage_array = ward(X)\n",
    "#dendrogram(linkage_array)\n",
    "dendrogram(Z)"
   ]
  },
  {
   "cell_type": "code",
   "execution_count": 107,
   "metadata": {},
   "outputs": [
    {
     "data": {
      "text/plain": [
       "{'icoord': [[5.0, 5.0, 15.0, 15.0],\n",
       "  [35.0, 35.0, 45.0, 45.0],\n",
       "  [25.0, 25.0, 40.0, 40.0],\n",
       "  [10.0, 10.0, 32.5, 32.5]],\n",
       " 'dcoord': [[0.0, 4.0, 4.0, 0.0],\n",
       "  [0.0, 8.0, 8.0, 0.0],\n",
       "  [0.0, 10.392304845413262, 10.392304845413262, 8.0],\n",
       "  [4.0, 24.049948024891858, 24.049948024891858, 10.392304845413262]],\n",
       " 'ivl': ['0', '1', '2', '3', '4'],\n",
       " 'leaves': [0, 1, 2, 3, 4],\n",
       " 'color_list': ['g', 'r', 'r', 'b']}"
      ]
     },
     "execution_count": 107,
     "metadata": {},
     "output_type": "execute_result"
    },
    {
     "data": {
      "image/png": "[encoded data removed]",
      "text/plain": [
       "<Figure size 432x288 with 1 Axes>"
      ]
     },
     "metadata": {
      "needs_background": "light"
     },
     "output_type": "display_data"
    }
   ],
   "source": [
    "Z = hierarchy.linkage(X, 'ward')\n",
    "# linkage_array = ward(X)\n",
    "#dendrogram(linkage_array)\n",
    "dendrogram(Z)"
   ]
  },
  {
   "cell_type": "markdown",
   "metadata": {},
   "source": [
    "# 8.7 K-평균 클러스터링"
   ]
  },
  {
   "cell_type": "code",
   "execution_count": 108,
   "metadata": {},
   "outputs": [],
   "source": [
    "from sklearn.cluster import KMeans\n",
    "import numpy as np"
   ]
  },
  {
   "cell_type": "code",
   "execution_count": 109,
   "metadata": {},
   "outputs": [],
   "source": [
    "x1 = pd.DataFrame([4, 8, 15, 24, 24])\n",
    "x2 = pd.DataFrame([4, 4, 8, 4, 12])\n",
    "\n",
    "X = pd.concat([x1,x2], axis = 1)\n",
    "X.columns=[\"x1\",\"x2\"]"
   ]
  },
  {
   "cell_type": "code",
   "execution_count": 110,
   "metadata": {},
   "outputs": [
    {
     "data": {
      "text/html": [
       "<div>\n",
       "<style scoped>\n",
       "    .dataframe tbody tr th:only-of-type {\n",
       "        vertical-align: middle;\n",
       "    }\n",
       "\n",
       "    .dataframe tbody tr th {\n",
       "        vertical-align: top;\n",
       "    }\n",
       "\n",
       "    .dataframe thead th {\n",
       "        text-align: right;\n",
       "    }\n",
       "</style>\n",
       "<table border=\"1\" class=\"dataframe\">\n",
       "  <thead>\n",
       "    <tr style=\"text-align: right;\">\n",
       "      <th></th>\n",
       "      <th>x1</th>\n",
       "      <th>x2</th>\n",
       "    </tr>\n",
       "  </thead>\n",
       "  <tbody>\n",
       "    <tr>\n",
       "      <td>0</td>\n",
       "      <td>4</td>\n",
       "      <td>4</td>\n",
       "    </tr>\n",
       "    <tr>\n",
       "      <td>1</td>\n",
       "      <td>8</td>\n",
       "      <td>4</td>\n",
       "    </tr>\n",
       "    <tr>\n",
       "      <td>2</td>\n",
       "      <td>15</td>\n",
       "      <td>8</td>\n",
       "    </tr>\n",
       "    <tr>\n",
       "      <td>3</td>\n",
       "      <td>24</td>\n",
       "      <td>4</td>\n",
       "    </tr>\n",
       "    <tr>\n",
       "      <td>4</td>\n",
       "      <td>24</td>\n",
       "      <td>12</td>\n",
       "    </tr>\n",
       "  </tbody>\n",
       "</table>\n",
       "</div>"
      ],
      "text/plain": [
       "   x1  x2\n",
       "0   4   4\n",
       "1   8   4\n",
       "2  15   8\n",
       "3  24   4\n",
       "4  24  12"
      ]
     },
     "execution_count": 110,
     "metadata": {},
     "output_type": "execute_result"
    }
   ],
   "source": [
    "X"
   ]
  },
  {
   "cell_type": "code",
   "execution_count": 111,
   "metadata": {},
   "outputs": [],
   "source": [
    "kmeans = KMeans(n_clusters=2, algorithm='auto').fit(X)"
   ]
  },
  {
   "cell_type": "code",
   "execution_count": 112,
   "metadata": {},
   "outputs": [
    {
     "data": {
      "text/plain": [
       "array([1, 1, 0, 0, 0])"
      ]
     },
     "execution_count": 112,
     "metadata": {},
     "output_type": "execute_result"
    }
   ],
   "source": [
    "kmeans.labels_"
   ]
  },
  {
   "cell_type": "code",
   "execution_count": 113,
   "metadata": {},
   "outputs": [],
   "source": [
    "predict = pd.DataFrame(kmeans.predict(X))\n",
    "predict.columns=['predict']"
   ]
  },
  {
   "cell_type": "code",
   "execution_count": 114,
   "metadata": {},
   "outputs": [],
   "source": [
    "r = pd.concat([X,predict],axis=1)"
   ]
  },
  {
   "cell_type": "code",
   "execution_count": 115,
   "metadata": {},
   "outputs": [
    {
     "data": {
      "text/html": [
       "<div>\n",
       "<style scoped>\n",
       "    .dataframe tbody tr th:only-of-type {\n",
       "        vertical-align: middle;\n",
       "    }\n",
       "\n",
       "    .dataframe tbody tr th {\n",
       "        vertical-align: top;\n",
       "    }\n",
       "\n",
       "    .dataframe thead th {\n",
       "        text-align: right;\n",
       "    }\n",
       "</style>\n",
       "<table border=\"1\" class=\"dataframe\">\n",
       "  <thead>\n",
       "    <tr style=\"text-align: right;\">\n",
       "      <th></th>\n",
       "      <th>x1</th>\n",
       "      <th>x2</th>\n",
       "      <th>predict</th>\n",
       "    </tr>\n",
       "  </thead>\n",
       "  <tbody>\n",
       "    <tr>\n",
       "      <td>0</td>\n",
       "      <td>4</td>\n",
       "      <td>4</td>\n",
       "      <td>1</td>\n",
       "    </tr>\n",
       "    <tr>\n",
       "      <td>1</td>\n",
       "      <td>8</td>\n",
       "      <td>4</td>\n",
       "      <td>1</td>\n",
       "    </tr>\n",
       "    <tr>\n",
       "      <td>2</td>\n",
       "      <td>15</td>\n",
       "      <td>8</td>\n",
       "      <td>0</td>\n",
       "    </tr>\n",
       "    <tr>\n",
       "      <td>3</td>\n",
       "      <td>24</td>\n",
       "      <td>4</td>\n",
       "      <td>0</td>\n",
       "    </tr>\n",
       "    <tr>\n",
       "      <td>4</td>\n",
       "      <td>24</td>\n",
       "      <td>12</td>\n",
       "      <td>0</td>\n",
       "    </tr>\n",
       "  </tbody>\n",
       "</table>\n",
       "</div>"
      ],
      "text/plain": [
       "   x1  x2  predict\n",
       "0   4   4        1\n",
       "1   8   4        1\n",
       "2  15   8        0\n",
       "3  24   4        0\n",
       "4  24  12        0"
      ]
     },
     "execution_count": 115,
     "metadata": {},
     "output_type": "execute_result"
    }
   ],
   "source": [
    "r"
   ]
  },
  {
   "cell_type": "code",
   "execution_count": 116,
   "metadata": {},
   "outputs": [
    {
     "data": {
      "text/plain": [
       "<matplotlib.collections.PathCollection at 0x1a81cf94ac8>"
      ]
     },
     "execution_count": 116,
     "metadata": {},
     "output_type": "execute_result"
    },
    {
     "data": {
      "image/png": "[encoded data removed]",
      "text/plain": [
       "<Figure size 432x288 with 1 Axes>"
      ]
     },
     "metadata": {
      "needs_background": "light"
     },
     "output_type": "display_data"
    }
   ],
   "source": [
    "plt.scatter(r['x1'],r['x2'],c=r['predict'],alpha=0.5)"
   ]
  },
  {
   "cell_type": "markdown",
   "metadata": {},
   "source": [
    "# 8.8"
   ]
  },
  {
   "cell_type": "code",
   "execution_count": 117,
   "metadata": {},
   "outputs": [],
   "source": [
    "doc1 = \"Stray cats are running all over the place. I see 10 a day!\" \n",
    "doc2 = \"Cats are killers. They kill billions of animals a year.\" \n",
    "doc3 = \"The best food in Columbus, OH is   the North Market.\" \n",
    "doc4 = \"Brand A is the best tasting cat food around. Your cat will love it.\" \n",
    "doc5 = \"Buy Brand C cat food for your cat. Brand C makes healthy and happy cats.\" \n",
    "doc6 = \"The Arnold Classic came to town this weekend. It reminds us to be healthy.\" \n",
    "doc7 = \"I have nothing to say. In summary, I have told you nothing.\" \n",
    "\n",
    "doc_list = []\n",
    "doc_list.append(doc1)\n",
    "doc_list.append(doc2)\n",
    "doc_list.append(doc3)\n",
    "doc_list.append(doc4)\n",
    "doc_list.append(doc5)\n",
    "doc_list.append(doc6)\n",
    "doc_list.append(doc7) \n",
    "\n",
    "query = \"Healthy cat food\" "
   ]
  },
  {
   "cell_type": "code",
   "execution_count": 118,
   "metadata": {},
   "outputs": [],
   "source": [
    "new = []\n",
    "for i in doc_list:\n",
    "    new.append(re.sub(\"[^a-zA-Z]\", \" \", i))\n",
    "new.append(query)"
   ]
  },
  {
   "cell_type": "code",
   "execution_count": 119,
   "metadata": {},
   "outputs": [
    {
     "data": {
      "text/plain": [
       "['Stray cats are running all over the place  I see    a day ',\n",
       " 'Cats are killers  They kill billions of animals a year ',\n",
       " 'The best food in Columbus  OH is   the North Market ',\n",
       " 'Brand A is the best tasting cat food around  Your cat will love it ',\n",
       " 'Buy Brand C cat food for your cat  Brand C makes healthy and happy cats ',\n",
       " 'The Arnold Classic came to town this weekend  It reminds us to be healthy ',\n",
       " 'I have nothing to say  In summary  I have told you nothing ',\n",
       " 'Healthy cat food']"
      ]
     },
     "execution_count": 119,
     "metadata": {},
     "output_type": "execute_result"
    }
   ],
   "source": [
    "new"
   ]
  },
  {
   "cell_type": "code",
   "execution_count": 120,
   "metadata": {},
   "outputs": [
    {
     "name": "stdout",
     "output_type": "stream",
     "text": [
      "[[1 0 0 1 0 0 0 0 0 0 0 0 0 1 0 0 1 0 0 0 0 0 0 0 0 0 0 0 0 0 0 0 0 0 1 1\n",
      "  0 1 0 1 1 0 0 1 0 0 0 0 0 0 0 0 0 0 0]\n",
      " [0 0 1 1 0 0 0 0 1 0 0 0 0 1 0 0 0 0 0 0 0 0 0 0 0 1 1 0 0 0 0 0 1 0 0 0\n",
      "  0 0 0 0 0 0 0 0 1 0 0 0 0 0 0 0 1 0 0]\n",
      " [0 0 0 0 0 0 0 1 0 0 0 0 0 0 0 1 0 1 0 0 0 0 1 1 0 0 0 0 0 1 1 0 0 1 0 0\n",
      "  0 0 0 0 0 0 0 2 0 0 0 0 0 0 0 0 0 0 0]\n",
      " [0 0 0 0 0 1 0 1 0 1 0 0 2 0 0 0 0 1 0 0 0 0 0 1 1 0 0 1 0 0 0 0 0 0 0 0\n",
      "  0 0 0 0 0 0 1 1 0 0 0 0 0 0 0 1 0 0 1]\n",
      " [0 1 0 0 0 0 0 0 0 2 1 0 2 1 0 0 0 1 1 1 0 1 0 0 0 0 0 0 1 0 0 0 0 0 0 0\n",
      "  0 0 0 0 0 0 0 0 0 0 0 0 0 0 0 0 0 0 1]\n",
      " [0 0 0 0 1 0 1 0 0 0 0 1 0 0 1 0 0 0 0 0 0 1 0 0 1 0 0 0 0 0 0 0 0 0 0 0\n",
      "  1 0 0 0 0 0 0 1 0 1 2 0 1 1 1 0 0 0 0]\n",
      " [0 0 0 0 0 0 0 0 0 0 0 0 0 0 0 0 0 0 0 0 2 0 1 0 0 0 0 0 0 0 0 2 0 0 0 0\n",
      "  0 0 1 0 0 1 0 0 0 0 1 1 0 0 0 0 0 1 0]\n",
      " [0 0 0 0 0 0 0 0 0 0 0 0 1 0 0 0 0 1 0 0 0 1 0 0 0 0 0 0 0 0 0 0 0 0 0 0\n",
      "  0 0 0 0 0 0 0 0 0 0 0 0 0 0 0 0 0 0 0]]\n",
      "{'stray': 40, 'cats': 13, 'are': 3, 'running': 37, 'all': 0, 'over': 34, 'the': 43, 'place': 35, 'see': 39, 'day': 16, 'killers': 26, 'they': 44, 'kill': 25, 'billions': 8, 'of': 32, 'animals': 2, 'year': 52, 'best': 7, 'food': 17, 'in': 22, 'columbus': 15, 'oh': 33, 'is': 23, 'north': 30, 'market': 29, 'brand': 9, 'tasting': 42, 'cat': 12, 'around': 5, 'your': 54, 'will': 51, 'love': 27, 'it': 24, 'buy': 10, 'for': 18, 'makes': 28, 'healthy': 21, 'and': 1, 'happy': 19, 'arnold': 4, 'classic': 14, 'came': 11, 'to': 46, 'town': 48, 'this': 45, 'weekend': 50, 'reminds': 36, 'us': 49, 'be': 6, 'have': 20, 'nothing': 31, 'say': 38, 'summary': 41, 'told': 47, 'you': 53}\n"
     ]
    }
   ],
   "source": [
    "vector = CountVectorizer()\n",
    "print(vector.fit_transform(new).toarray()) # 코퍼스로부터 각 단어의 빈도 수를 기록한다.\n",
    "print(vector.vocabulary_) # 각 단어의 인덱스가 어떻게 부여되었는지를 보여준다."
   ]
  },
  {
   "cell_type": "code",
   "execution_count": 121,
   "metadata": {},
   "outputs": [],
   "source": [
    "tfidfv = TfidfVectorizer().fit(vector.vocabulary_.keys())"
   ]
  },
  {
   "cell_type": "code",
   "execution_count": 122,
   "metadata": {},
   "outputs": [],
   "source": [
    "matrix = pd.DataFrame(tfidfv.transform(new).toarray())"
   ]
  },
  {
   "cell_type": "code",
   "execution_count": 123,
   "metadata": {},
   "outputs": [],
   "source": [
    "for i in range(len(list(tfidfv.vocabulary_.values()))):\n",
    "    matrix.rename(columns = {list(tfidfv.vocabulary_.values())[i]:list(tfidfv.vocabulary_.keys())[i]}, inplace=True)"
   ]
  },
  {
   "cell_type": "code",
   "execution_count": 125,
   "metadata": {},
   "outputs": [
    {
     "data": {
      "text/html": [
       "<div>\n",
       "<style scoped>\n",
       "    .dataframe tbody tr th:only-of-type {\n",
       "        vertical-align: middle;\n",
       "    }\n",
       "\n",
       "    .dataframe tbody tr th {\n",
       "        vertical-align: top;\n",
       "    }\n",
       "\n",
       "    .dataframe thead th {\n",
       "        text-align: right;\n",
       "    }\n",
       "</style>\n",
       "<table border=\"1\" class=\"dataframe\">\n",
       "  <thead>\n",
       "    <tr style=\"text-align: right;\">\n",
       "      <th></th>\n",
       "      <th>all</th>\n",
       "      <th>and</th>\n",
       "      <th>animals</th>\n",
       "      <th>are</th>\n",
       "      <th>arnold</th>\n",
       "      <th>around</th>\n",
       "      <th>be</th>\n",
       "      <th>best</th>\n",
       "      <th>billions</th>\n",
       "      <th>brand</th>\n",
       "      <th>...</th>\n",
       "      <th>this</th>\n",
       "      <th>to</th>\n",
       "      <th>told</th>\n",
       "      <th>town</th>\n",
       "      <th>us</th>\n",
       "      <th>weekend</th>\n",
       "      <th>will</th>\n",
       "      <th>year</th>\n",
       "      <th>you</th>\n",
       "      <th>your</th>\n",
       "    </tr>\n",
       "  </thead>\n",
       "  <tbody>\n",
       "    <tr>\n",
       "      <td>0</td>\n",
       "      <td>0.316228</td>\n",
       "      <td>0.000000</td>\n",
       "      <td>0.000000</td>\n",
       "      <td>0.316228</td>\n",
       "      <td>0.00</td>\n",
       "      <td>0.000000</td>\n",
       "      <td>0.00</td>\n",
       "      <td>0.000000</td>\n",
       "      <td>0.000000</td>\n",
       "      <td>0.000000</td>\n",
       "      <td>...</td>\n",
       "      <td>0.00</td>\n",
       "      <td>0.000000</td>\n",
       "      <td>0.000000</td>\n",
       "      <td>0.00</td>\n",
       "      <td>0.00</td>\n",
       "      <td>0.00</td>\n",
       "      <td>0.000000</td>\n",
       "      <td>0.000000</td>\n",
       "      <td>0.000000</td>\n",
       "      <td>0.000000</td>\n",
       "    </tr>\n",
       "    <tr>\n",
       "      <td>1</td>\n",
       "      <td>0.000000</td>\n",
       "      <td>0.000000</td>\n",
       "      <td>0.333333</td>\n",
       "      <td>0.333333</td>\n",
       "      <td>0.00</td>\n",
       "      <td>0.000000</td>\n",
       "      <td>0.00</td>\n",
       "      <td>0.000000</td>\n",
       "      <td>0.333333</td>\n",
       "      <td>0.000000</td>\n",
       "      <td>...</td>\n",
       "      <td>0.00</td>\n",
       "      <td>0.000000</td>\n",
       "      <td>0.000000</td>\n",
       "      <td>0.00</td>\n",
       "      <td>0.00</td>\n",
       "      <td>0.00</td>\n",
       "      <td>0.000000</td>\n",
       "      <td>0.333333</td>\n",
       "      <td>0.000000</td>\n",
       "      <td>0.000000</td>\n",
       "    </tr>\n",
       "    <tr>\n",
       "      <td>2</td>\n",
       "      <td>0.000000</td>\n",
       "      <td>0.000000</td>\n",
       "      <td>0.000000</td>\n",
       "      <td>0.000000</td>\n",
       "      <td>0.00</td>\n",
       "      <td>0.000000</td>\n",
       "      <td>0.00</td>\n",
       "      <td>0.288675</td>\n",
       "      <td>0.000000</td>\n",
       "      <td>0.000000</td>\n",
       "      <td>...</td>\n",
       "      <td>0.00</td>\n",
       "      <td>0.000000</td>\n",
       "      <td>0.000000</td>\n",
       "      <td>0.00</td>\n",
       "      <td>0.00</td>\n",
       "      <td>0.00</td>\n",
       "      <td>0.000000</td>\n",
       "      <td>0.000000</td>\n",
       "      <td>0.000000</td>\n",
       "      <td>0.000000</td>\n",
       "    </tr>\n",
       "    <tr>\n",
       "      <td>3</td>\n",
       "      <td>0.000000</td>\n",
       "      <td>0.000000</td>\n",
       "      <td>0.000000</td>\n",
       "      <td>0.000000</td>\n",
       "      <td>0.00</td>\n",
       "      <td>0.258199</td>\n",
       "      <td>0.00</td>\n",
       "      <td>0.258199</td>\n",
       "      <td>0.000000</td>\n",
       "      <td>0.258199</td>\n",
       "      <td>...</td>\n",
       "      <td>0.00</td>\n",
       "      <td>0.000000</td>\n",
       "      <td>0.000000</td>\n",
       "      <td>0.00</td>\n",
       "      <td>0.00</td>\n",
       "      <td>0.00</td>\n",
       "      <td>0.258199</td>\n",
       "      <td>0.000000</td>\n",
       "      <td>0.000000</td>\n",
       "      <td>0.258199</td>\n",
       "    </tr>\n",
       "    <tr>\n",
       "      <td>4</td>\n",
       "      <td>0.000000</td>\n",
       "      <td>0.242536</td>\n",
       "      <td>0.000000</td>\n",
       "      <td>0.000000</td>\n",
       "      <td>0.00</td>\n",
       "      <td>0.000000</td>\n",
       "      <td>0.00</td>\n",
       "      <td>0.000000</td>\n",
       "      <td>0.000000</td>\n",
       "      <td>0.485071</td>\n",
       "      <td>...</td>\n",
       "      <td>0.00</td>\n",
       "      <td>0.000000</td>\n",
       "      <td>0.000000</td>\n",
       "      <td>0.00</td>\n",
       "      <td>0.00</td>\n",
       "      <td>0.00</td>\n",
       "      <td>0.000000</td>\n",
       "      <td>0.000000</td>\n",
       "      <td>0.000000</td>\n",
       "      <td>0.242536</td>\n",
       "    </tr>\n",
       "    <tr>\n",
       "      <td>5</td>\n",
       "      <td>0.000000</td>\n",
       "      <td>0.000000</td>\n",
       "      <td>0.000000</td>\n",
       "      <td>0.000000</td>\n",
       "      <td>0.25</td>\n",
       "      <td>0.000000</td>\n",
       "      <td>0.25</td>\n",
       "      <td>0.000000</td>\n",
       "      <td>0.000000</td>\n",
       "      <td>0.000000</td>\n",
       "      <td>...</td>\n",
       "      <td>0.25</td>\n",
       "      <td>0.500000</td>\n",
       "      <td>0.000000</td>\n",
       "      <td>0.25</td>\n",
       "      <td>0.25</td>\n",
       "      <td>0.25</td>\n",
       "      <td>0.000000</td>\n",
       "      <td>0.000000</td>\n",
       "      <td>0.000000</td>\n",
       "      <td>0.000000</td>\n",
       "    </tr>\n",
       "    <tr>\n",
       "      <td>6</td>\n",
       "      <td>0.000000</td>\n",
       "      <td>0.000000</td>\n",
       "      <td>0.000000</td>\n",
       "      <td>0.000000</td>\n",
       "      <td>0.00</td>\n",
       "      <td>0.000000</td>\n",
       "      <td>0.00</td>\n",
       "      <td>0.000000</td>\n",
       "      <td>0.000000</td>\n",
       "      <td>0.000000</td>\n",
       "      <td>...</td>\n",
       "      <td>0.00</td>\n",
       "      <td>0.267261</td>\n",
       "      <td>0.267261</td>\n",
       "      <td>0.00</td>\n",
       "      <td>0.00</td>\n",
       "      <td>0.00</td>\n",
       "      <td>0.000000</td>\n",
       "      <td>0.000000</td>\n",
       "      <td>0.267261</td>\n",
       "      <td>0.000000</td>\n",
       "    </tr>\n",
       "    <tr>\n",
       "      <td>7</td>\n",
       "      <td>0.000000</td>\n",
       "      <td>0.000000</td>\n",
       "      <td>0.000000</td>\n",
       "      <td>0.000000</td>\n",
       "      <td>0.00</td>\n",
       "      <td>0.000000</td>\n",
       "      <td>0.00</td>\n",
       "      <td>0.000000</td>\n",
       "      <td>0.000000</td>\n",
       "      <td>0.000000</td>\n",
       "      <td>...</td>\n",
       "      <td>0.00</td>\n",
       "      <td>0.000000</td>\n",
       "      <td>0.000000</td>\n",
       "      <td>0.00</td>\n",
       "      <td>0.00</td>\n",
       "      <td>0.00</td>\n",
       "      <td>0.000000</td>\n",
       "      <td>0.000000</td>\n",
       "      <td>0.000000</td>\n",
       "      <td>0.000000</td>\n",
       "    </tr>\n",
       "  </tbody>\n",
       "</table>\n",
       "<p>8 rows × 55 columns</p>\n",
       "</div>"
      ],
      "text/plain": [
       "        all       and   animals       are  arnold    around    be      best  \\\n",
       "0  0.316228  0.000000  0.000000  0.316228    0.00  0.000000  0.00  0.000000   \n",
       "1  0.000000  0.000000  0.333333  0.333333    0.00  0.000000  0.00  0.000000   \n",
       "2  0.000000  0.000000  0.000000  0.000000    0.00  0.000000  0.00  0.288675   \n",
       "3  0.000000  0.000000  0.000000  0.000000    0.00  0.258199  0.00  0.258199   \n",
       "4  0.000000  0.242536  0.000000  0.000000    0.00  0.000000  0.00  0.000000   \n",
       "5  0.000000  0.000000  0.000000  0.000000    0.25  0.000000  0.25  0.000000   \n",
       "6  0.000000  0.000000  0.000000  0.000000    0.00  0.000000  0.00  0.000000   \n",
       "7  0.000000  0.000000  0.000000  0.000000    0.00  0.000000  0.00  0.000000   \n",
       "\n",
       "   billions     brand  ...  this        to      told  town    us  weekend  \\\n",
       "0  0.000000  0.000000  ...  0.00  0.000000  0.000000  0.00  0.00     0.00   \n",
       "1  0.333333  0.000000  ...  0.00  0.000000  0.000000  0.00  0.00     0.00   \n",
       "2  0.000000  0.000000  ...  0.00  0.000000  0.000000  0.00  0.00     0.00   \n",
       "3  0.000000  0.258199  ...  0.00  0.000000  0.000000  0.00  0.00     0.00   \n",
       "4  0.000000  0.485071  ...  0.00  0.000000  0.000000  0.00  0.00     0.00   \n",
       "5  0.000000  0.000000  ...  0.25  0.500000  0.000000  0.25  0.25     0.25   \n",
       "6  0.000000  0.000000  ...  0.00  0.267261  0.267261  0.00  0.00     0.00   \n",
       "7  0.000000  0.000000  ...  0.00  0.000000  0.000000  0.00  0.00     0.00   \n",
       "\n",
       "       will      year       you      your  \n",
       "0  0.000000  0.000000  0.000000  0.000000  \n",
       "1  0.000000  0.333333  0.000000  0.000000  \n",
       "2  0.000000  0.000000  0.000000  0.000000  \n",
       "3  0.258199  0.000000  0.000000  0.258199  \n",
       "4  0.000000  0.000000  0.000000  0.242536  \n",
       "5  0.000000  0.000000  0.000000  0.000000  \n",
       "6  0.000000  0.000000  0.267261  0.000000  \n",
       "7  0.000000  0.000000  0.000000  0.000000  \n",
       "\n",
       "[8 rows x 55 columns]"
      ]
     },
     "execution_count": 125,
     "metadata": {},
     "output_type": "execute_result"
    }
   ],
   "source": [
    "matrix"
   ]
  },
  {
   "cell_type": "code",
   "execution_count": 126,
   "metadata": {},
   "outputs": [
    {
     "data": {
      "text/plain": [
       "{'icoord': [[15.0, 15.0, 25.0, 25.0],\n",
       "  [5.0, 5.0, 20.0, 20.0],\n",
       "  [35.0, 35.0, 45.0, 45.0],\n",
       "  [65.0, 65.0, 75.0, 75.0],\n",
       "  [55.0, 55.0, 70.0, 70.0],\n",
       "  [40.0, 40.0, 62.5, 62.5],\n",
       "  [12.5, 12.5, 51.25, 51.25]],\n",
       " 'dcoord': [[0.0, 0.937963716130636, 0.937963716130636, 0.0],\n",
       "  [0.0, 1.05316221506947, 1.05316221506947, 0.937963716130636],\n",
       "  [0.0, 1.2563291681101003, 1.2563291681101003, 0.0],\n",
       "  [0.0, 1.308176159928466, 1.308176159928466, 0.0],\n",
       "  [0.0, 1.347286897292206, 1.347286897292206, 1.308176159928466],\n",
       "  [1.2563291681101003,\n",
       "   1.4943475403445745,\n",
       "   1.4943475403445745,\n",
       "   1.347286897292206],\n",
       "  [1.05316221506947,\n",
       "   1.7070094492775227,\n",
       "   1.7070094492775227,\n",
       "   1.4943475403445745]],\n",
       " 'ivl': ['3', '4', '7', '0', '1', '6', '2', '5'],\n",
       " 'leaves': [3, 4, 7, 0, 1, 6, 2, 5],\n",
       " 'color_list': ['g', 'g', 'b', 'b', 'b', 'b', 'b']}"
      ]
     },
     "execution_count": 126,
     "metadata": {},
     "output_type": "execute_result"
    },
    {
     "data": {
      "image/png": "[encoded data removed]",
      "text/plain": [
       "<Figure size 432x288 with 1 Axes>"
      ]
     },
     "metadata": {
      "needs_background": "light"
     },
     "output_type": "display_data"
    }
   ],
   "source": [
    "Z = hierarchy.linkage(matrix, 'ward')\n",
    "dendrogram(Z)"
   ]
  },
  {
   "cell_type": "markdown",
   "metadata": {},
   "source": [
    "# 8.9"
   ]
  },
  {
   "cell_type": "code",
   "execution_count": 127,
   "metadata": {},
   "outputs": [
    {
     "name": "stdout",
     "output_type": "stream",
     "text": [
      "pygame 1.9.4\n",
      "Hello from the pygame community. https://www.pygame.org/contribute.html\n"
     ]
    }
   ],
   "source": [
    "from collections import Counter\n",
    "from konlpy.tag import Twitter\n",
    "from konlpy.tag import Kkma\n",
    "import pytagcloud\n",
    "import matplotlib.pyplot as plt\n",
    "from wordcloud import WordCloud, STOPWORDS"
   ]
  },
  {
   "cell_type": "code",
   "execution_count": 195,
   "metadata": {},
   "outputs": [],
   "source": [
    "doc1 = \"나에게 술 한 잔 사주지인생은  않았다. 겨울밤 막다른 골목 끝 포장마차에서 빈 호주머니를 털 털 털 털어 나는 볓 번이나 인생에게 술을 사주었으나 인생은 나를 위하여 단 한 번도 술 한 잔 사주지 않았다.\"\n",
    "doc2 = \"우리가 어느 별에서 만났기에 이토록 서로 그리워하느냐. 우리가 어느 별에서 그리워하였기에 이토록 서로 사랑하고 있느냐.\"\n",
    "doc3 = \"나는 그늘이 없는 사람을 사랑하지 않는다. 나는 그늘을 사랑하지 않는 사람을 사랑하지 않는다. 나는 한 그루 나무의 그늘이 된 사람을 사랑한다. 햇빛도 그늘이 있어야 맑고 눈이 부시다.\"\n",
    "doc4 = \"길이 끝나는 곳에서도 길이 있다. 길이 끝나는 곳에서도 길이 되는 사람이 있다. 스스로 봄 길이 되어 끝없이 걸어가는 사람이 있다.\"\n",
    "\n",
    "query = \"술 한 잔\"\n",
    "# query = \"우리가 어느 별에서\"\n",
    "# query = \"내가 사랑하는 사람\"\n",
    "# query = \"봄 길\""
   ]
  },
  {
   "cell_type": "code",
   "execution_count": 196,
   "metadata": {},
   "outputs": [],
   "source": [
    "doc = []\n",
    "\n",
    "doc.append(doc1)\n",
    "doc.append(doc2)\n",
    "doc.append(doc3)\n",
    "doc.append(doc4)\n",
    "doc.append(query)"
   ]
  },
  {
   "cell_type": "code",
   "execution_count": 197,
   "metadata": {},
   "outputs": [
    {
     "name": "stderr",
     "output_type": "stream",
     "text": [
      "C:\\Users\\K.N.W\\Anaconda3\\lib\\site-packages\\konlpy\\tag\\_okt.py:16: UserWarning: \"Twitter\" has changed to \"Okt\" since KoNLPy v0.4.5.\n",
      "  warn('\"Twitter\" has changed to \"Okt\" since KoNLPy v0.4.5.')\n"
     ]
    }
   ],
   "source": [
    "nlp = Twitter()  \n",
    "nouns = []\n",
    "\n",
    "for d in doc:\n",
    "    nouns.append(nlp.nouns(d))"
   ]
  },
  {
   "cell_type": "code",
   "execution_count": 198,
   "metadata": {
    "scrolled": true
   },
   "outputs": [
    {
     "data": {
      "text/plain": [
       "[['나',\n",
       "  '술',\n",
       "  '잔',\n",
       "  '사주지',\n",
       "  '인생',\n",
       "  '겨울',\n",
       "  '밤',\n",
       "  '막',\n",
       "  '다른',\n",
       "  '골목',\n",
       "  '끝',\n",
       "  '포장마차',\n",
       "  '빈',\n",
       "  '호주머니',\n",
       "  '털',\n",
       "  '털',\n",
       "  '털',\n",
       "  '나',\n",
       "  '볓',\n",
       "  '번',\n",
       "  '인생',\n",
       "  '술',\n",
       "  '인생',\n",
       "  '위',\n",
       "  '단',\n",
       "  '번',\n",
       "  '술',\n",
       "  '잔',\n",
       "  '사주지'],\n",
       " ['우리', '별', '이', '서로', '우리', '별', '이', '서로', '사랑'],\n",
       " ['나',\n",
       "  '그늘',\n",
       "  '사람',\n",
       "  '사랑',\n",
       "  '나',\n",
       "  '그늘',\n",
       "  '사랑',\n",
       "  '사람',\n",
       "  '사랑',\n",
       "  '나',\n",
       "  '그루',\n",
       "  '나무',\n",
       "  '그늘',\n",
       "  '사람',\n",
       "  '사랑',\n",
       "  '햇빛',\n",
       "  '그늘',\n",
       "  '눈',\n",
       "  '부시'],\n",
       " ['길이', '곳', '길이', '길이', '곳', '길이', '사람', '스스로', '봄', '길이', '사람'],\n",
       " ['술', '잔']]"
      ]
     },
     "execution_count": 198,
     "metadata": {},
     "output_type": "execute_result"
    }
   ],
   "source": [
    "nouns"
   ]
  },
  {
   "cell_type": "code",
   "execution_count": 199,
   "metadata": {},
   "outputs": [],
   "source": [
    "new = []\n",
    "\n",
    "for i in range(len(nouns)):\n",
    "    word = \" \"\n",
    "    for n in nouns[i]:\n",
    "        word = word + str(n.split(\",\")[0]) + \" \"\n",
    "    new.append(word)"
   ]
  },
  {
   "cell_type": "code",
   "execution_count": 200,
   "metadata": {},
   "outputs": [
    {
     "data": {
      "text/plain": [
       "[' 나 술 잔 사주지 인생 겨울 밤 막 다른 골목 끝 포장마차 빈 호주머니 털 털 털 나 볓 번 인생 술 인생 위 단 번 술 잔 사주지 ',\n",
       " ' 우리 별 이 서로 우리 별 이 서로 사랑 ',\n",
       " ' 나 그늘 사람 사랑 나 그늘 사랑 사람 사랑 나 그루 나무 그늘 사람 사랑 햇빛 그늘 눈 부시 ',\n",
       " ' 길이 곳 길이 길이 곳 길이 사람 스스로 봄 길이 사람 ',\n",
       " ' 술 잔 ']"
      ]
     },
     "execution_count": 200,
     "metadata": {},
     "output_type": "execute_result"
    }
   ],
   "source": [
    "new"
   ]
  },
  {
   "cell_type": "code",
   "execution_count": 201,
   "metadata": {},
   "outputs": [
    {
     "name": "stdout",
     "output_type": "stream",
     "text": [
      "[[1 1 0 0 0 0 1 0 0 0 2 0 0 0 3 1 0 1]\n",
      " [0 0 0 0 0 0 0 0 0 1 0 2 0 2 0 0 0 0]\n",
      " [0 0 4 1 0 1 0 1 3 4 0 0 0 0 0 0 1 0]\n",
      " [0 0 0 0 5 0 0 0 2 0 0 0 1 0 0 0 0 0]\n",
      " [0 0 0 0 0 0 0 0 0 0 0 0 0 0 0 0 0 0]]\n",
      "{'사주지': 10, '인생': 14, '겨울': 0, '다른': 6, '골목': 1, '포장마차': 15, '호주머니': 17, '우리': 13, '서로': 11, '사랑': 9, '그늘': 2, '사람': 8, '그루': 3, '나무': 5, '햇빛': 16, '부시': 7, '길이': 4, '스스로': 12}\n"
     ]
    }
   ],
   "source": [
    "vector = CountVectorizer()\n",
    "print(vector.fit_transform(new).toarray()) # 코퍼스로부터 각 단어의 빈도 수를 기록한다.\n",
    "print(vector.vocabulary_) # 각 단어의 인덱스가 어떻게 부여되었는지를 보여준다."
   ]
  },
  {
   "cell_type": "code",
   "execution_count": 202,
   "metadata": {},
   "outputs": [],
   "source": [
    "tfidfv = TfidfVectorizer().fit(doc)"
   ]
  },
  {
   "cell_type": "code",
   "execution_count": 203,
   "metadata": {},
   "outputs": [],
   "source": [
    "matrix = pd.DataFrame(tfidfv.transform(new).toarray())"
   ]
  },
  {
   "cell_type": "code",
   "execution_count": 204,
   "metadata": {},
   "outputs": [],
   "source": [
    "for i in range(len(list(tfidfv.vocabulary_.values()))):\n",
    "    matrix.rename(columns = {list(tfidfv.vocabulary_.values())[i]:list(tfidfv.vocabulary_.keys())[i]}, inplace=True)"
   ]
  },
  {
   "cell_type": "code",
   "execution_count": 264,
   "metadata": {},
   "outputs": [
    {
     "data": {
      "text/html": [
       "<div>\n",
       "<style scoped>\n",
       "    .dataframe tbody tr th:only-of-type {\n",
       "        vertical-align: middle;\n",
       "    }\n",
       "\n",
       "    .dataframe tbody tr th {\n",
       "        vertical-align: top;\n",
       "    }\n",
       "\n",
       "    .dataframe thead th {\n",
       "        text-align: right;\n",
       "    }\n",
       "</style>\n",
       "<table border=\"1\" class=\"dataframe\">\n",
       "  <thead>\n",
       "    <tr style=\"text-align: right;\">\n",
       "      <th></th>\n",
       "      <th>걸어가는</th>\n",
       "      <th>겨울밤</th>\n",
       "      <th>골목</th>\n",
       "      <th>곳에서도</th>\n",
       "      <th>그늘을</th>\n",
       "      <th>그늘이</th>\n",
       "      <th>그루</th>\n",
       "      <th>그리워하느냐</th>\n",
       "      <th>그리워하였기에</th>\n",
       "      <th>길이</th>\n",
       "      <th>...</th>\n",
       "      <th>이토록</th>\n",
       "      <th>인생에게</th>\n",
       "      <th>인생은</th>\n",
       "      <th>있느냐</th>\n",
       "      <th>있다</th>\n",
       "      <th>있어야</th>\n",
       "      <th>털어</th>\n",
       "      <th>포장마차에서</th>\n",
       "      <th>햇빛도</th>\n",
       "      <th>호주머니를</th>\n",
       "    </tr>\n",
       "  </thead>\n",
       "  <tbody>\n",
       "    <tr>\n",
       "      <td>0</td>\n",
       "      <td>0.0</td>\n",
       "      <td>0.0</td>\n",
       "      <td>0.447214</td>\n",
       "      <td>0.0</td>\n",
       "      <td>0.0</td>\n",
       "      <td>0.0</td>\n",
       "      <td>0.0</td>\n",
       "      <td>0.0</td>\n",
       "      <td>0.0</td>\n",
       "      <td>0.000000</td>\n",
       "      <td>...</td>\n",
       "      <td>0.0</td>\n",
       "      <td>0.0</td>\n",
       "      <td>0.0</td>\n",
       "      <td>0.0</td>\n",
       "      <td>0.0</td>\n",
       "      <td>0.0</td>\n",
       "      <td>0.0</td>\n",
       "      <td>0.0</td>\n",
       "      <td>0.0</td>\n",
       "      <td>0.0</td>\n",
       "    </tr>\n",
       "    <tr>\n",
       "      <td>1</td>\n",
       "      <td>0.0</td>\n",
       "      <td>0.0</td>\n",
       "      <td>0.000000</td>\n",
       "      <td>0.0</td>\n",
       "      <td>0.0</td>\n",
       "      <td>0.0</td>\n",
       "      <td>0.0</td>\n",
       "      <td>0.0</td>\n",
       "      <td>0.0</td>\n",
       "      <td>0.000000</td>\n",
       "      <td>...</td>\n",
       "      <td>0.0</td>\n",
       "      <td>0.0</td>\n",
       "      <td>0.0</td>\n",
       "      <td>0.0</td>\n",
       "      <td>0.0</td>\n",
       "      <td>0.0</td>\n",
       "      <td>0.0</td>\n",
       "      <td>0.0</td>\n",
       "      <td>0.0</td>\n",
       "      <td>0.0</td>\n",
       "    </tr>\n",
       "    <tr>\n",
       "      <td>2</td>\n",
       "      <td>0.0</td>\n",
       "      <td>0.0</td>\n",
       "      <td>0.000000</td>\n",
       "      <td>0.0</td>\n",
       "      <td>0.0</td>\n",
       "      <td>0.0</td>\n",
       "      <td>1.0</td>\n",
       "      <td>0.0</td>\n",
       "      <td>0.0</td>\n",
       "      <td>0.000000</td>\n",
       "      <td>...</td>\n",
       "      <td>0.0</td>\n",
       "      <td>0.0</td>\n",
       "      <td>0.0</td>\n",
       "      <td>0.0</td>\n",
       "      <td>0.0</td>\n",
       "      <td>0.0</td>\n",
       "      <td>0.0</td>\n",
       "      <td>0.0</td>\n",
       "      <td>0.0</td>\n",
       "      <td>0.0</td>\n",
       "    </tr>\n",
       "    <tr>\n",
       "      <td>3</td>\n",
       "      <td>0.0</td>\n",
       "      <td>0.0</td>\n",
       "      <td>0.000000</td>\n",
       "      <td>0.0</td>\n",
       "      <td>0.0</td>\n",
       "      <td>0.0</td>\n",
       "      <td>0.0</td>\n",
       "      <td>0.0</td>\n",
       "      <td>0.0</td>\n",
       "      <td>0.980581</td>\n",
       "      <td>...</td>\n",
       "      <td>0.0</td>\n",
       "      <td>0.0</td>\n",
       "      <td>0.0</td>\n",
       "      <td>0.0</td>\n",
       "      <td>0.0</td>\n",
       "      <td>0.0</td>\n",
       "      <td>0.0</td>\n",
       "      <td>0.0</td>\n",
       "      <td>0.0</td>\n",
       "      <td>0.0</td>\n",
       "    </tr>\n",
       "    <tr>\n",
       "      <td>4</td>\n",
       "      <td>0.0</td>\n",
       "      <td>0.0</td>\n",
       "      <td>0.000000</td>\n",
       "      <td>0.0</td>\n",
       "      <td>0.0</td>\n",
       "      <td>0.0</td>\n",
       "      <td>0.0</td>\n",
       "      <td>0.0</td>\n",
       "      <td>0.0</td>\n",
       "      <td>0.000000</td>\n",
       "      <td>...</td>\n",
       "      <td>0.0</td>\n",
       "      <td>0.0</td>\n",
       "      <td>0.0</td>\n",
       "      <td>0.0</td>\n",
       "      <td>0.0</td>\n",
       "      <td>0.0</td>\n",
       "      <td>0.0</td>\n",
       "      <td>0.0</td>\n",
       "      <td>0.0</td>\n",
       "      <td>0.0</td>\n",
       "    </tr>\n",
       "  </tbody>\n",
       "</table>\n",
       "<p>5 rows × 54 columns</p>\n",
       "</div>"
      ],
      "text/plain": [
       "   걸어가는  겨울밤        골목  곳에서도  그늘을  그늘이   그루  그리워하느냐  그리워하였기에        길이  ...  \\\n",
       "0   0.0  0.0  0.447214   0.0  0.0  0.0  0.0     0.0      0.0  0.000000  ...   \n",
       "1   0.0  0.0  0.000000   0.0  0.0  0.0  0.0     0.0      0.0  0.000000  ...   \n",
       "2   0.0  0.0  0.000000   0.0  0.0  0.0  1.0     0.0      0.0  0.000000  ...   \n",
       "3   0.0  0.0  0.000000   0.0  0.0  0.0  0.0     0.0      0.0  0.980581  ...   \n",
       "4   0.0  0.0  0.000000   0.0  0.0  0.0  0.0     0.0      0.0  0.000000  ...   \n",
       "\n",
       "   이토록  인생에게  인생은  있느냐   있다  있어야   털어  포장마차에서  햇빛도  호주머니를  \n",
       "0  0.0   0.0  0.0  0.0  0.0  0.0  0.0     0.0  0.0    0.0  \n",
       "1  0.0   0.0  0.0  0.0  0.0  0.0  0.0     0.0  0.0    0.0  \n",
       "2  0.0   0.0  0.0  0.0  0.0  0.0  0.0     0.0  0.0    0.0  \n",
       "3  0.0   0.0  0.0  0.0  0.0  0.0  0.0     0.0  0.0    0.0  \n",
       "4  0.0   0.0  0.0  0.0  0.0  0.0  0.0     0.0  0.0    0.0  \n",
       "\n",
       "[5 rows x 54 columns]"
      ]
     },
     "execution_count": 264,
     "metadata": {},
     "output_type": "execute_result"
    }
   ],
   "source": [
    "matrix"
   ]
  },
  {
   "cell_type": "code",
   "execution_count": 272,
   "metadata": {},
   "outputs": [
    {
     "data": {
      "text/plain": [
       "{'icoord': [[35.0, 35.0, 45.0, 45.0],\n",
       "  [25.0, 25.0, 40.0, 40.0],\n",
       "  [15.0, 15.0, 32.5, 32.5],\n",
       "  [5.0, 5.0, 23.75, 23.75]],\n",
       " 'dcoord': [[0.0, 0.9999999999999999, 0.9999999999999999, 0.0],\n",
       "  [0.0, 1.0, 1.0, 0.9999999999999999],\n",
       "  [0.0, 1.0, 1.0, 1.0],\n",
       "  [0.0, 1.0, 1.0, 1.0]],\n",
       " 'ivl': ['3', '2', '1', '0', '4'],\n",
       " 'leaves': [3, 2, 1, 0, 4],\n",
       " 'color_list': ['b', 'b', 'b', 'b']}"
      ]
     },
     "execution_count": 272,
     "metadata": {},
     "output_type": "execute_result"
    },
    {
     "data": {
      "image/png": "[encoded data removed]",
      "text/plain": [
       "<Figure size 432x288 with 1 Axes>"
      ]
     },
     "metadata": {
      "needs_background": "light"
     },
     "output_type": "display_data"
    }
   ],
   "source": [
    "X = \n",
    "Z = hierarchy.linkage(matrix, method = 'single') #, metric = 'cosine'가 안먹힘\n",
    "dendrogram(Z)"
   ]
  },
  {
   "cell_type": "code",
   "execution_count": null,
   "metadata": {},
   "outputs": [],
   "source": []
  },
  {
   "cell_type": "code",
   "execution_count": null,
   "metadata": {},
   "outputs": [],
   "source": []
  },
  {
   "cell_type": "code",
   "execution_count": null,
   "metadata": {},
   "outputs": [],
   "source": []
  },
  {
   "cell_type": "code",
   "execution_count": null,
   "metadata": {},
   "outputs": [],
   "source": []
  },
  {
   "cell_type": "code",
   "execution_count": null,
   "metadata": {},
   "outputs": [],
   "source": []
  },
  {
   "cell_type": "markdown",
   "metadata": {},
   "source": [
    "# 8.10 LDA"
   ]
  },
  {
   "cell_type": "code",
   "execution_count": 36,
   "metadata": {},
   "outputs": [
    {
     "name": "stderr",
     "output_type": "stream",
     "text": [
      "[nltk_data] Downloading package stopwords to\n",
      "[nltk_data]     C:\\Users\\K.N.W\\AppData\\Roaming\\nltk_data...\n",
      "[nltk_data]   Package stopwords is already up-to-date!\n",
      "[nltk_data] Downloading package punkt to\n",
      "[nltk_data]     C:\\Users\\K.N.W\\AppData\\Roaming\\nltk_data...\n",
      "[nltk_data]   Unzipping tokenizers\\punkt.zip.\n"
     ]
    }
   ],
   "source": [
    "import nltk; nltk.download('stopwords')\n",
    "nltk.download('punkt')\n",
    "import nltk\n",
    "import re"
   ]
  },
  {
   "cell_type": "code",
   "execution_count": 46,
   "metadata": {},
   "outputs": [],
   "source": [
    "file = open('D:/4학년 1학기/R2Python/topic.txt', mode='r', encoding='utf-8')"
   ]
  },
  {
   "cell_type": "code",
   "execution_count": 47,
   "metadata": {},
   "outputs": [],
   "source": [
    "document = file.readlines()"
   ]
  },
  {
   "cell_type": "code",
   "execution_count": 49,
   "metadata": {},
   "outputs": [],
   "source": [
    "new = []\n",
    "for d in document:\n",
    "    new.append(re.sub(\"\\n\", \"\", d))"
   ]
  },
  {
   "cell_type": "code",
   "execution_count": 50,
   "metadata": {},
   "outputs": [
    {
     "data": {
      "text/plain": [
       "['I like to eat oranges, apples, and bananas.',\n",
       " 'I ate apples and bananas for breakfast.',\n",
       " 'Poodles and teeth are cute.',\n",
       " 'I adopted a poodle yesterday.',\n",
       " 'Look at the cute poodle that eats apples.']"
      ]
     },
     "execution_count": 50,
     "metadata": {},
     "output_type": "execute_result"
    }
   ],
   "source": [
    "new"
   ]
  },
  {
   "cell_type": "code",
   "execution_count": 51,
   "metadata": {},
   "outputs": [],
   "source": [
    "import pandas as pd\n",
    "text = pd.DataFrame(new)\n",
    "text.columns = [\"document\"]"
   ]
  },
  {
   "cell_type": "code",
   "execution_count": 52,
   "metadata": {},
   "outputs": [
    {
     "data": {
      "text/html": [
       "<div>\n",
       "<style scoped>\n",
       "    .dataframe tbody tr th:only-of-type {\n",
       "        vertical-align: middle;\n",
       "    }\n",
       "\n",
       "    .dataframe tbody tr th {\n",
       "        vertical-align: top;\n",
       "    }\n",
       "\n",
       "    .dataframe thead th {\n",
       "        text-align: right;\n",
       "    }\n",
       "</style>\n",
       "<table border=\"1\" class=\"dataframe\">\n",
       "  <thead>\n",
       "    <tr style=\"text-align: right;\">\n",
       "      <th></th>\n",
       "      <th>document</th>\n",
       "    </tr>\n",
       "  </thead>\n",
       "  <tbody>\n",
       "    <tr>\n",
       "      <td>0</td>\n",
       "      <td>I like to eat oranges, apples, and bananas.</td>\n",
       "    </tr>\n",
       "    <tr>\n",
       "      <td>1</td>\n",
       "      <td>I ate apples and bananas for breakfast.</td>\n",
       "    </tr>\n",
       "    <tr>\n",
       "      <td>2</td>\n",
       "      <td>Poodles and teeth are cute.</td>\n",
       "    </tr>\n",
       "    <tr>\n",
       "      <td>3</td>\n",
       "      <td>I adopted a poodle yesterday.</td>\n",
       "    </tr>\n",
       "    <tr>\n",
       "      <td>4</td>\n",
       "      <td>Look at the cute poodle that eats apples.</td>\n",
       "    </tr>\n",
       "  </tbody>\n",
       "</table>\n",
       "</div>"
      ],
      "text/plain": [
       "                                      document\n",
       "0  I like to eat oranges, apples, and bananas.\n",
       "1      I ate apples and bananas for breakfast.\n",
       "2                  Poodles and teeth are cute.\n",
       "3                I adopted a poodle yesterday.\n",
       "4    Look at the cute poodle that eats apples."
      ]
     },
     "execution_count": 52,
     "metadata": {},
     "output_type": "execute_result"
    }
   ],
   "source": [
    "text"
   ]
  },
  {
   "cell_type": "code",
   "execution_count": 53,
   "metadata": {},
   "outputs": [
    {
     "data": {
      "text/html": [
       "<div>\n",
       "<style scoped>\n",
       "    .dataframe tbody tr th:only-of-type {\n",
       "        vertical-align: middle;\n",
       "    }\n",
       "\n",
       "    .dataframe tbody tr th {\n",
       "        vertical-align: top;\n",
       "    }\n",
       "\n",
       "    .dataframe thead th {\n",
       "        text-align: right;\n",
       "    }\n",
       "</style>\n",
       "<table border=\"1\" class=\"dataframe\">\n",
       "  <thead>\n",
       "    <tr style=\"text-align: right;\">\n",
       "      <th></th>\n",
       "      <th>document</th>\n",
       "    </tr>\n",
       "  </thead>\n",
       "  <tbody>\n",
       "    <tr>\n",
       "      <td>0</td>\n",
       "      <td>[I, like, to, eat, oranges, ,, apples, ,, and,...</td>\n",
       "    </tr>\n",
       "    <tr>\n",
       "      <td>1</td>\n",
       "      <td>[I, ate, apples, and, bananas, for, breakfast, .]</td>\n",
       "    </tr>\n",
       "    <tr>\n",
       "      <td>2</td>\n",
       "      <td>[Poodles, and, teeth, are, cute, .]</td>\n",
       "    </tr>\n",
       "    <tr>\n",
       "      <td>3</td>\n",
       "      <td>[I, adopted, a, poodle, yesterday, .]</td>\n",
       "    </tr>\n",
       "    <tr>\n",
       "      <td>4</td>\n",
       "      <td>[Look, at, the, cute, poodle, that, eats, appl...</td>\n",
       "    </tr>\n",
       "  </tbody>\n",
       "</table>\n",
       "</div>"
      ],
      "text/plain": [
       "                                            document\n",
       "0  [I, like, to, eat, oranges, ,, apples, ,, and,...\n",
       "1  [I, ate, apples, and, bananas, for, breakfast, .]\n",
       "2                [Poodles, and, teeth, are, cute, .]\n",
       "3              [I, adopted, a, poodle, yesterday, .]\n",
       "4  [Look, at, the, cute, poodle, that, eats, appl..."
      ]
     },
     "execution_count": 53,
     "metadata": {},
     "output_type": "execute_result"
    }
   ],
   "source": [
    "text['document'] = text.apply(lambda row: nltk.word_tokenize(row['document']), axis=1)\n",
    "text.head()"
   ]
  },
  {
   "cell_type": "code",
   "execution_count": 54,
   "metadata": {},
   "outputs": [
    {
     "data": {
      "text/html": [
       "<div>\n",
       "<style scoped>\n",
       "    .dataframe tbody tr th:only-of-type {\n",
       "        vertical-align: middle;\n",
       "    }\n",
       "\n",
       "    .dataframe tbody tr th {\n",
       "        vertical-align: top;\n",
       "    }\n",
       "\n",
       "    .dataframe thead th {\n",
       "        text-align: right;\n",
       "    }\n",
       "</style>\n",
       "<table border=\"1\" class=\"dataframe\">\n",
       "  <thead>\n",
       "    <tr style=\"text-align: right;\">\n",
       "      <th></th>\n",
       "      <th>document</th>\n",
       "    </tr>\n",
       "  </thead>\n",
       "  <tbody>\n",
       "    <tr>\n",
       "      <td>0</td>\n",
       "      <td>[I, like, eat, oranges, ,, apples, ,, bananas, .]</td>\n",
       "    </tr>\n",
       "    <tr>\n",
       "      <td>1</td>\n",
       "      <td>[I, ate, apples, bananas, breakfast, .]</td>\n",
       "    </tr>\n",
       "    <tr>\n",
       "      <td>2</td>\n",
       "      <td>[Poodles, teeth, cute, .]</td>\n",
       "    </tr>\n",
       "    <tr>\n",
       "      <td>3</td>\n",
       "      <td>[I, adopted, poodle, yesterday, .]</td>\n",
       "    </tr>\n",
       "    <tr>\n",
       "      <td>4</td>\n",
       "      <td>[Look, cute, poodle, eats, apples, .]</td>\n",
       "    </tr>\n",
       "  </tbody>\n",
       "</table>\n",
       "</div>"
      ],
      "text/plain": [
       "                                            document\n",
       "0  [I, like, eat, oranges, ,, apples, ,, bananas, .]\n",
       "1            [I, ate, apples, bananas, breakfast, .]\n",
       "2                          [Poodles, teeth, cute, .]\n",
       "3                 [I, adopted, poodle, yesterday, .]\n",
       "4              [Look, cute, poodle, eats, apples, .]"
      ]
     },
     "execution_count": 54,
     "metadata": {},
     "output_type": "execute_result"
    }
   ],
   "source": [
    "# 불용어 처리\n",
    "from nltk.corpus import stopwords\n",
    "stop = stopwords.words('english')\n",
    "text['document'] = text['document'].apply(lambda x: [word for word in x if word not in (stop)])\n",
    "text.head()"
   ]
  },
  {
   "cell_type": "code",
   "execution_count": 56,
   "metadata": {},
   "outputs": [
    {
     "name": "stderr",
     "output_type": "stream",
     "text": [
      "[nltk_data] Downloading package wordnet to\n",
      "[nltk_data]     C:\\Users\\K.N.W\\AppData\\Roaming\\nltk_data...\n",
      "[nltk_data]   Unzipping corpora\\wordnet.zip.\n"
     ]
    },
    {
     "data": {
      "text/html": [
       "<div>\n",
       "<style scoped>\n",
       "    .dataframe tbody tr th:only-of-type {\n",
       "        vertical-align: middle;\n",
       "    }\n",
       "\n",
       "    .dataframe tbody tr th {\n",
       "        vertical-align: top;\n",
       "    }\n",
       "\n",
       "    .dataframe thead th {\n",
       "        text-align: right;\n",
       "    }\n",
       "</style>\n",
       "<table border=\"1\" class=\"dataframe\">\n",
       "  <thead>\n",
       "    <tr style=\"text-align: right;\">\n",
       "      <th></th>\n",
       "      <th>document</th>\n",
       "    </tr>\n",
       "  </thead>\n",
       "  <tbody>\n",
       "    <tr>\n",
       "      <td>0</td>\n",
       "      <td>[I, like, eat, oranges, ,, apples, ,, bananas, .]</td>\n",
       "    </tr>\n",
       "    <tr>\n",
       "      <td>1</td>\n",
       "      <td>[I, eat, apples, bananas, breakfast, .]</td>\n",
       "    </tr>\n",
       "    <tr>\n",
       "      <td>2</td>\n",
       "      <td>[Poodles, teeth, cute, .]</td>\n",
       "    </tr>\n",
       "    <tr>\n",
       "      <td>3</td>\n",
       "      <td>[I, adopt, poodle, yesterday, .]</td>\n",
       "    </tr>\n",
       "    <tr>\n",
       "      <td>4</td>\n",
       "      <td>[Look, cute, poodle, eat, apples, .]</td>\n",
       "    </tr>\n",
       "  </tbody>\n",
       "</table>\n",
       "</div>"
      ],
      "text/plain": [
       "                                            document\n",
       "0  [I, like, eat, oranges, ,, apples, ,, bananas, .]\n",
       "1            [I, eat, apples, bananas, breakfast, .]\n",
       "2                          [Poodles, teeth, cute, .]\n",
       "3                   [I, adopt, poodle, yesterday, .]\n",
       "4               [Look, cute, poodle, eat, apples, .]"
      ]
     },
     "execution_count": 56,
     "metadata": {},
     "output_type": "execute_result"
    }
   ],
   "source": [
    "# 표제어 추출\n",
    "nltk.download('wordnet')\n",
    "from nltk.stem import WordNetLemmatizer\n",
    "text['document'] = text['document'].apply(lambda x : [WordNetLemmatizer().lemmatize(word, pos='v') for word in x])\n",
    "text.head()"
   ]
  },
  {
   "cell_type": "code",
   "execution_count": 58,
   "metadata": {},
   "outputs": [
    {
     "data": {
      "text/plain": [
       "0    [like, oranges, apples, bananas]\n",
       "1        [apples, bananas, breakfast]\n",
       "2              [Poodles, teeth, cute]\n",
       "3          [adopt, poodle, yesterday]\n",
       "4        [Look, cute, poodle, apples]\n",
       "Name: document, dtype: object"
      ]
     },
     "execution_count": 58,
     "metadata": {},
     "output_type": "execute_result"
    }
   ],
   "source": [
    "tokenized_doc = text['document'].apply(lambda x : [word for word in x if len(word) > 3])\n",
    "tokenized_doc[:5]"
   ]
  },
  {
   "cell_type": "code",
   "execution_count": 59,
   "metadata": {},
   "outputs": [
    {
     "data": {
      "text/html": [
       "<div>\n",
       "<style scoped>\n",
       "    .dataframe tbody tr th:only-of-type {\n",
       "        vertical-align: middle;\n",
       "    }\n",
       "\n",
       "    .dataframe tbody tr th {\n",
       "        vertical-align: top;\n",
       "    }\n",
       "\n",
       "    .dataframe thead th {\n",
       "        text-align: right;\n",
       "    }\n",
       "</style>\n",
       "<table border=\"1\" class=\"dataframe\">\n",
       "  <thead>\n",
       "    <tr style=\"text-align: right;\">\n",
       "      <th></th>\n",
       "      <th>document</th>\n",
       "    </tr>\n",
       "  </thead>\n",
       "  <tbody>\n",
       "    <tr>\n",
       "      <td>0</td>\n",
       "      <td>like oranges apples bananas</td>\n",
       "    </tr>\n",
       "    <tr>\n",
       "      <td>1</td>\n",
       "      <td>apples bananas breakfast</td>\n",
       "    </tr>\n",
       "    <tr>\n",
       "      <td>2</td>\n",
       "      <td>Poodles teeth cute</td>\n",
       "    </tr>\n",
       "    <tr>\n",
       "      <td>3</td>\n",
       "      <td>adopt poodle yesterday</td>\n",
       "    </tr>\n",
       "    <tr>\n",
       "      <td>4</td>\n",
       "      <td>Look cute poodle apples</td>\n",
       "    </tr>\n",
       "  </tbody>\n",
       "</table>\n",
       "</div>"
      ],
      "text/plain": [
       "                      document\n",
       "0  like oranges apples bananas\n",
       "1     apples bananas breakfast\n",
       "2           Poodles teeth cute\n",
       "3       adopt poodle yesterday\n",
       "4      Look cute poodle apples"
      ]
     },
     "execution_count": 59,
     "metadata": {},
     "output_type": "execute_result"
    }
   ],
   "source": [
    "# 역토큰화\n",
    "detokenized_doc = []\n",
    "for i in range(len(text)):\n",
    "    t = ' '.join(tokenized_doc[i])\n",
    "    detokenized_doc.append(t)\n",
    "text['document'] = detokenized_doc\n",
    "# 다시 text['headline_text'] 에 저장\n",
    "text.head()"
   ]
  },
  {
   "cell_type": "code",
   "execution_count": 64,
   "metadata": {},
   "outputs": [
    {
     "data": {
      "text/plain": [
       "(5, 12)"
      ]
     },
     "execution_count": 64,
     "metadata": {},
     "output_type": "execute_result"
    }
   ],
   "source": [
    "from sklearn.feature_extraction.text import TfidfVectorizer\n",
    "vectorizer = TfidfVectorizer(stop_words='english', max_features=1000)\n",
    "X = vectorizer.fit_transform(text['document'])\n",
    "X.shape"
   ]
  },
  {
   "cell_type": "code",
   "execution_count": 65,
   "metadata": {},
   "outputs": [
    {
     "name": "stdout",
     "output_type": "stream",
     "text": [
      "[[0.79188024 0.83530316 0.99067392 0.8931315  0.69517349 1.01946244\n",
      "  0.8743554  1.09913965 0.77902876 0.78476838 0.90587945 0.8510195 ]\n",
      " [0.86690879 0.79242022 1.04775937 0.86697403 1.00232472 0.83406467\n",
      "  0.89954636 0.71110747 0.77578323 0.99264342 1.06786299 0.81812002]\n",
      " [0.72056774 0.81893649 0.9963092  0.9458092  0.67561085 0.85642736\n",
      "  0.8530633  0.78106734 0.84217403 0.92849392 0.89137852 0.80426606]\n",
      " [0.86645013 0.86295462 0.82268655 0.79853147 0.87230871 0.86253113\n",
      "  0.88290049 0.80713838 0.79890451 0.99984221 0.91163153 0.8905903 ]\n",
      " [0.87505858 0.76487514 0.75792189 0.71628513 0.8110899  0.76003468\n",
      "  0.83427813 0.92840432 0.87345084 0.87425309 0.80783097 0.79699048]\n",
      " [0.81114205 0.78039023 0.95050255 0.92524053 0.88296352 0.87037883\n",
      "  0.90518729 0.91576691 0.82165568 0.84537381 0.8595161  0.63961506]\n",
      " [0.94314431 0.78613639 0.79602348 0.85585815 0.81473888 0.8299778\n",
      "  0.79425353 0.92116315 1.04647113 0.74992552 0.97743847 1.00218101]\n",
      " [0.79619561 0.78828698 0.87036072 0.86636876 0.78126406 0.86895447\n",
      "  0.82160534 0.73431273 0.82744079 0.76641939 0.79096653 0.76651795]\n",
      " [0.85485962 0.65247801 0.87320618 0.88179309 0.90130835 0.66998857\n",
      "  0.7916811  0.78916248 0.92466627 0.74110513 0.75305478 0.82962437]\n",
      " [0.84663953 1.02011658 0.81754546 0.75842439 1.02376269 0.73418264\n",
      "  0.86515785 0.82293302 0.9151261  0.82638838 0.83507772 0.81583474]]\n",
      "(10, 12)\n"
     ]
    }
   ],
   "source": [
    "from sklearn.decomposition import LatentDirichletAllocation\n",
    "lda_model = LatentDirichletAllocation(n_components=10, learning_method='online', random_state=777, max_iter=1)\n",
    "lda_top = lda_model.fit_transform(X)\n",
    "print(lda_model.components_)\n",
    "print(lda_model.components_.shape)"
   ]
  },
  {
   "cell_type": "code",
   "execution_count": 66,
   "metadata": {},
   "outputs": [
    {
     "name": "stdout",
     "output_type": "stream",
     "text": [
      "Topic 1 : [('oranges', 1.1), ('like', 1.02), ('bananas', 0.99), ('teeth', 0.91), ('breakfast', 0.89)]\n",
      "Topic 2 : [('teeth', 1.07), ('bananas', 1.05), ('cute', 1.0), ('poodles', 0.99), ('look', 0.9)]\n",
      "Topic 3 : [('bananas', 1.0), ('breakfast', 0.95), ('poodles', 0.93), ('teeth', 0.89), ('like', 0.86)]\n",
      "Topic 4 : [('poodles', 1.0), ('teeth', 0.91), ('yesterday', 0.89), ('look', 0.88), ('cute', 0.87)]\n",
      "Topic 5 : [('oranges', 0.93), ('adopt', 0.88), ('poodles', 0.87), ('poodle', 0.87), ('look', 0.83)]\n",
      "Topic 6 : [('bananas', 0.95), ('breakfast', 0.93), ('oranges', 0.92), ('look', 0.91), ('cute', 0.88)]\n",
      "Topic 7 : [('poodle', 1.05), ('yesterday', 1.0), ('teeth', 0.98), ('adopt', 0.94), ('oranges', 0.92)]\n",
      "Topic 8 : [('bananas', 0.87), ('like', 0.87), ('breakfast', 0.87), ('poodle', 0.83), ('look', 0.82)]\n",
      "Topic 9 : [('poodle', 0.92), ('cute', 0.9), ('breakfast', 0.88), ('bananas', 0.87), ('adopt', 0.85)]\n",
      "Topic 10 : [('cute', 1.02), ('apples', 1.02), ('poodle', 0.92), ('look', 0.87), ('adopt', 0.85)]\n"
     ]
    }
   ],
   "source": [
    "terms = vectorizer.get_feature_names() \n",
    "# 단어 집합. 1,000개의 단어가 저장되어있음.\n",
    "def get_topics(components, feature_names, n=5):\n",
    "    for idx, topic in enumerate(components):\n",
    "        print(\"Topic %d :\" % (idx+1), [(feature_names[i], topic[i].round(2)) for i in topic.argsort()[:-n -1:-1]])\n",
    "get_topics(lda_model.components_, terms)"
   ]
  }
 ],
 "metadata": {
  "kernelspec": {
   "display_name": "Python 3",
   "language": "python",
   "name": "python3"
  },
  "language_info": {
   "codemirror_mode": {
    "name": "ipython",
    "version": 3
   },
   "file_extension": ".py",
   "mimetype": "text/x-python",
   "name": "python",
   "nbconvert_exporter": "python",
   "pygments_lexer": "ipython3",
   "version": "3.7.4"
  }
 },
 "nbformat": 4,
 "nbformat_minor": 2
}
